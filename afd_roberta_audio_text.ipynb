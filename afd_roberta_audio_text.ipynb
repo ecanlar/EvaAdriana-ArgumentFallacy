{
 "cells": [
  {
   "cell_type": "markdown",
   "id": "6825ee60",
   "metadata": {},
   "source": [
    "# Fallacy detection"
   ]
  },
  {
   "cell_type": "code",
   "execution_count": 1,
   "id": "93eee1f3",
   "metadata": {},
   "outputs": [],
   "source": [
    "import pandas as pd\n",
    "from sklearn.model_selection import train_test_split\n",
    "\n",
    "df = pd.read_csv('/mnt/c/users/evacantin/desktop/MASTER/HAIA/Trabajo/afd_text_audio_train.csv')\n",
    "df['Etiqueta'] = df['Etiqueta'].astype(int)\n",
    "train_df, val_df = train_test_split(df, test_size=0.2, stratify=df['Etiqueta'], random_state=42)"
   ]
  },
  {
   "cell_type": "code",
   "execution_count": 2,
   "id": "cc6ed85f",
   "metadata": {},
   "outputs": [],
   "source": [
    "import torch\n",
    "from torch.utils.data import Dataset\n",
    "import torchaudio\n",
    "from transformers import RobertaTokenizer, Wav2Vec2Processor\n",
    "\n",
    "text_tokenizer = RobertaTokenizer.from_pretrained(\"roberta-base\")\n",
    "audio_processor = Wav2Vec2Processor.from_pretrained(\"facebook/wav2vec2-base-960h\")\n",
    "\n",
    "MAX_AUDIO_LEN = 160000  # recorte opcional (~10 seg a 16kHz)\n",
    "\n",
    "class MultiModalDataset(Dataset):\n",
    "    def __init__(self, df, text_tokenizer, audio_processor):\n",
    "        self.df = df.reset_index(drop=True)\n",
    "        self.text_tokenizer = text_tokenizer\n",
    "        self.audio_processor = audio_processor\n",
    "\n",
    "    def __len__(self):\n",
    "        return len(self.df)\n",
    "\n",
    "    def __getitem__(self, idx):\n",
    "        row = self.df.iloc[idx]\n",
    "        texto = row['Texto']\n",
    "        ruta_audio = row['Ruta']\n",
    "        etiqueta = row['Etiqueta']\n",
    "\n",
    "        # Tokenizar texto\n",
    "        text_enc = self.text_tokenizer(\n",
    "            texto,\n",
    "            padding='max_length',\n",
    "            truncation=True,\n",
    "            max_length=128,\n",
    "            return_tensors=\"pt\"\n",
    "        )\n",
    "\n",
    "        # Cargar audio\n",
    "        waveform, sample_rate = torchaudio.load(ruta_audio)\n",
    "        waveform = waveform[:, :MAX_AUDIO_LEN]  # recorte opcional\n",
    "\n",
    "        audio_enc = audio_processor(\n",
    "            waveform.squeeze().numpy(),\n",
    "            sampling_rate=sample_rate,\n",
    "            return_tensors=\"pt\"\n",
    "        )\n",
    "\n",
    "        return {\n",
    "            \"input_ids\": text_enc[\"input_ids\"].squeeze(0),\n",
    "            \"attention_mask\": text_enc[\"attention_mask\"].squeeze(0),\n",
    "            \"audio_input_values\": audio_enc[\"input_values\"].squeeze(0),\n",
    "            \"label\": torch.tensor(etiqueta, dtype=torch.long)\n",
    "        }"
   ]
  },
  {
   "cell_type": "code",
   "execution_count": 3,
   "id": "b4297d7c",
   "metadata": {},
   "outputs": [],
   "source": [
    "from torch.nn.utils.rnn import pad_sequence\n",
    "\n",
    "def collate_fn(batch):\n",
    "    input_ids = [item['input_ids'] for item in batch]\n",
    "    attention_mask = [item['attention_mask'] for item in batch]\n",
    "    audio_input_values = [item['audio_input_values'] for item in batch]\n",
    "    labels = [item['label'] for item in batch]\n",
    "\n",
    "    input_ids = torch.stack(input_ids)\n",
    "    attention_mask = torch.stack(attention_mask)\n",
    "    labels = torch.stack(labels)\n",
    "\n",
    "    audio_input_values = pad_sequence(audio_input_values, batch_first=True)\n",
    "\n",
    "    return {\n",
    "        \"input_ids\": input_ids,\n",
    "        \"attention_mask\": attention_mask,\n",
    "        \"audio_input_values\": audio_input_values,\n",
    "        \"label\": labels\n",
    "    }"
   ]
  },
  {
   "cell_type": "code",
   "execution_count": 4,
   "id": "32f1c87a",
   "metadata": {},
   "outputs": [],
   "source": [
    "import torch.nn as nn\n",
    "from transformers import RobertaModel, Wav2Vec2Model\n",
    "\n",
    "class MultiModalClassifier(nn.Module):\n",
    "    def __init__(self):\n",
    "        super().__init__()\n",
    "        self.text_encoder = RobertaModel.from_pretrained(\"roberta-base\")\n",
    "        self.audio_encoder = Wav2Vec2Model.from_pretrained(\"facebook/wav2vec2-base-960h\")\n",
    "\n",
    "        self.classifier = nn.Sequential(\n",
    "            nn.Linear(self.text_encoder.config.hidden_size + self.audio_encoder.config.hidden_size, 256),\n",
    "            nn.ReLU(),\n",
    "            nn.Dropout(0.3),\n",
    "            nn.Linear(256, 2)\n",
    "        )\n",
    "        \n",
    "        # 🔒 Congelamos los encoders al inicio\n",
    "        for param in self.text_encoder.parameters():\n",
    "            param.requires_grad = False\n",
    "\n",
    "        for param in self.audio_encoder.parameters():\n",
    "            param.requires_grad = False\n",
    "\n",
    "    def forward(self, input_ids, attention_mask, audio_input_values):\n",
    "        text_out = self.text_encoder(input_ids=input_ids, attention_mask=attention_mask).pooler_output\n",
    "        audio_out = self.audio_encoder(audio_input_values).last_hidden_state.mean(dim=1)\n",
    "\n",
    "        combined = torch.cat((text_out, audio_out), dim=1)\n",
    "        logits = self.classifier(combined)\n",
    "        return logits"
   ]
  },
  {
   "cell_type": "code",
   "execution_count": 10,
   "id": "4e3ca0fd",
   "metadata": {},
   "outputs": [
    {
     "name": "stderr",
     "output_type": "stream",
     "text": [
      "Some weights of RobertaModel were not initialized from the model checkpoint at roberta-base and are newly initialized: ['roberta.pooler.dense.bias', 'roberta.pooler.dense.weight']\n",
      "You should probably TRAIN this model on a down-stream task to be able to use it for predictions and inference.\n",
      "Some weights of Wav2Vec2Model were not initialized from the model checkpoint at facebook/wav2vec2-base-960h and are newly initialized: ['wav2vec2.masked_spec_embed']\n",
      "You should probably TRAIN this model on a down-stream task to be able to use it for predictions and inference.\n"
     ]
    },
    {
     "name": "stdout",
     "output_type": "stream",
     "text": [
      "\n",
      "======== Epoch 1/10 ========\n"
     ]
    },
    {
     "name": "stderr",
     "output_type": "stream",
     "text": [
      "Training Epoch 1:   0%|          | 6/1712 [00:03<15:44,  1.81it/s]/home/evacantin/.local/lib/python3.10/site-packages/torch/nn/modules/conv.py:306: UserWarning: Plan failed with a cudnnException: CUDNN_BACKEND_EXECUTION_PLAN_DESCRIPTOR: cudnnFinalize Descriptor Failed cudnn_status: CUDNN_STATUS_NOT_SUPPORTED (Triggered internally at ../aten/src/ATen/native/cudnn/Conv_v8.cpp:919.)\n",
      "  return F.conv1d(input, weight, bias, self.stride,\n",
      "Training Epoch 1: 100%|██████████| 1712/1712 [17:05<00:00,  1.67it/s]\n"
     ]
    },
    {
     "name": "stdout",
     "output_type": "stream",
     "text": [
      "Train Loss: 0.6972\n",
      "Val Loss: 0.6911\n",
      "Val Accuracy: 0.6060\n",
      "Val F1 (weighted): 0.6893\n",
      "Val F1 (label 0): 0.7415\n",
      "Val F1 (label 1): 0.1719\n",
      "🔥 Nuevo mejor modelo guardado.\n",
      "Current Learning Rate: 0.000020\n",
      "\n",
      "======== Epoch 2/10 ========\n"
     ]
    },
    {
     "name": "stderr",
     "output_type": "stream",
     "text": [
      "Training Epoch 2:   0%|          | 1/1712 [00:00<17:55,  1.59it/s]/home/evacantin/.local/lib/python3.10/site-packages/torch/nn/modules/conv.py:306: UserWarning: Plan failed with a cudnnException: CUDNN_BACKEND_EXECUTION_PLAN_DESCRIPTOR: cudnnFinalize Descriptor Failed cudnn_status: CUDNN_STATUS_NOT_SUPPORTED (Triggered internally at ../aten/src/ATen/native/cudnn/Conv_v8.cpp:919.)\n",
      "  return F.conv1d(input, weight, bias, self.stride,\n",
      "Training Epoch 2: 100%|██████████| 1712/1712 [24:01<00:00,  1.19it/s]\n"
     ]
    },
    {
     "name": "stdout",
     "output_type": "stream",
     "text": [
      "Train Loss: 0.6935\n",
      "Val Loss: 0.6935\n",
      "Val Accuracy: 0.1145\n",
      "Val F1 (weighted): 0.0632\n",
      "Val F1 (label 0): 0.0525\n",
      "Val F1 (label 1): 0.1689\n",
      "Current Learning Rate: 0.000020\n",
      "\n",
      "======== Epoch 3/10 ========\n"
     ]
    },
    {
     "name": "stderr",
     "output_type": "stream",
     "text": [
      "Training Epoch 3:   0%|          | 7/1712 [00:03<14:14,  2.00it/s]/home/evacantin/.local/lib/python3.10/site-packages/torch/nn/modules/conv.py:306: UserWarning: Plan failed with a cudnnException: CUDNN_BACKEND_EXECUTION_PLAN_DESCRIPTOR: cudnnFinalize Descriptor Failed cudnn_status: CUDNN_STATUS_NOT_SUPPORTED (Triggered internally at ../aten/src/ATen/native/cudnn/Conv_v8.cpp:919.)\n",
      "  return F.conv1d(input, weight, bias, self.stride,\n",
      "Training Epoch 3: 100%|██████████| 1712/1712 [15:27<00:00,  1.85it/s]\n"
     ]
    },
    {
     "name": "stdout",
     "output_type": "stream",
     "text": [
      "Train Loss: 0.6941\n",
      "Val Loss: 0.6913\n",
      "Val Accuracy: 0.8671\n",
      "Val F1 (weighted): 0.8546\n",
      "Val F1 (label 0): 0.9281\n",
      "Val F1 (label 1): 0.1267\n",
      "Current Learning Rate: 0.000020\n",
      "\n",
      "======== Epoch 4/10 ========\n"
     ]
    },
    {
     "name": "stderr",
     "output_type": "stream",
     "text": [
      "Training Epoch 4:   1%|          | 12/1712 [00:05<13:09,  2.15it/s]/home/evacantin/.local/lib/python3.10/site-packages/torch/nn/modules/conv.py:306: UserWarning: Plan failed with a cudnnException: CUDNN_BACKEND_EXECUTION_PLAN_DESCRIPTOR: cudnnFinalize Descriptor Failed cudnn_status: CUDNN_STATUS_NOT_SUPPORTED (Triggered internally at ../aten/src/ATen/native/cudnn/Conv_v8.cpp:919.)\n",
      "  return F.conv1d(input, weight, bias, self.stride,\n",
      "Training Epoch 4: 100%|██████████| 1712/1712 [14:47<00:00,  1.93it/s]\n"
     ]
    },
    {
     "name": "stdout",
     "output_type": "stream",
     "text": [
      "Train Loss: 0.6926\n",
      "Val Loss: 0.6901\n",
      "Val Accuracy: 0.6025\n",
      "Val F1 (weighted): 0.6865\n",
      "Val F1 (label 0): 0.7380\n",
      "Val F1 (label 1): 0.1766\n",
      "🔥 Nuevo mejor modelo guardado.\n",
      "Current Learning Rate: 0.000020\n",
      "\n",
      "======== Epoch 5/10 ========\n"
     ]
    },
    {
     "name": "stderr",
     "output_type": "stream",
     "text": [
      "Training Epoch 5:   0%|          | 8/1712 [00:04<15:55,  1.78it/s]/home/evacantin/.local/lib/python3.10/site-packages/torch/nn/modules/conv.py:306: UserWarning: Plan failed with a cudnnException: CUDNN_BACKEND_EXECUTION_PLAN_DESCRIPTOR: cudnnFinalize Descriptor Failed cudnn_status: CUDNN_STATUS_NOT_SUPPORTED (Triggered internally at ../aten/src/ATen/native/cudnn/Conv_v8.cpp:919.)\n",
      "  return F.conv1d(input, weight, bias, self.stride,\n",
      "Training Epoch 5: 100%|██████████| 1712/1712 [15:29<00:00,  1.84it/s]\n"
     ]
    },
    {
     "name": "stdout",
     "output_type": "stream",
     "text": [
      "Train Loss: 0.6917\n",
      "Val Loss: 0.6924\n",
      "Val Accuracy: 0.8870\n",
      "Val F1 (weighted): 0.8625\n",
      "Val F1 (label 0): 0.9397\n",
      "Val F1 (label 1): 0.0979\n",
      "Current Learning Rate: 0.000020\n",
      "\n",
      "======== Epoch 6/10 ========\n"
     ]
    },
    {
     "name": "stderr",
     "output_type": "stream",
     "text": [
      "Training Epoch 6:   0%|          | 2/1712 [00:01<14:15,  2.00it/s]/home/evacantin/.local/lib/python3.10/site-packages/torch/nn/modules/conv.py:306: UserWarning: Plan failed with a cudnnException: CUDNN_BACKEND_EXECUTION_PLAN_DESCRIPTOR: cudnnFinalize Descriptor Failed cudnn_status: CUDNN_STATUS_NOT_SUPPORTED (Triggered internally at ../aten/src/ATen/native/cudnn/Conv_v8.cpp:919.)\n",
      "  return F.conv1d(input, weight, bias, self.stride,\n",
      "Training Epoch 6: 100%|██████████| 1712/1712 [15:35<00:00,  1.83it/s]\n"
     ]
    },
    {
     "name": "stdout",
     "output_type": "stream",
     "text": [
      "Train Loss: 0.6902\n",
      "Val Loss: 0.6894\n",
      "Val Accuracy: 0.6746\n",
      "Val F1 (weighted): 0.7403\n",
      "Val F1 (label 0): 0.7974\n",
      "Val F1 (label 1): 0.1748\n",
      "🔥 Nuevo mejor modelo guardado.\n",
      "Current Learning Rate: 0.000020\n",
      "\n",
      "======== Epoch 7/10 ========\n"
     ]
    },
    {
     "name": "stderr",
     "output_type": "stream",
     "text": [
      "Training Epoch 7:   4%|▍         | 75/1712 [00:41<14:02,  1.94it/s]/home/evacantin/.local/lib/python3.10/site-packages/torch/nn/modules/conv.py:306: UserWarning: Plan failed with a cudnnException: CUDNN_BACKEND_EXECUTION_PLAN_DESCRIPTOR: cudnnFinalize Descriptor Failed cudnn_status: CUDNN_STATUS_NOT_SUPPORTED (Triggered internally at ../aten/src/ATen/native/cudnn/Conv_v8.cpp:919.)\n",
      "  return F.conv1d(input, weight, bias, self.stride,\n",
      "Training Epoch 7: 100%|██████████| 1712/1712 [14:48<00:00,  1.93it/s]\n"
     ]
    },
    {
     "name": "stdout",
     "output_type": "stream",
     "text": [
      "Train Loss: 0.6903\n",
      "Val Loss: 0.6894\n",
      "Val Accuracy: 0.7439\n",
      "Val F1 (weighted): 0.7862\n",
      "Val F1 (label 0): 0.8487\n",
      "Val F1 (label 1): 0.1671\n",
      "Current Learning Rate: 0.000020\n",
      "\n",
      "======== Epoch 8/10 ========\n"
     ]
    },
    {
     "name": "stderr",
     "output_type": "stream",
     "text": [
      "Training Epoch 8:   4%|▍         | 70/1712 [00:35<13:08,  2.08it/s]/home/evacantin/.local/lib/python3.10/site-packages/torch/nn/modules/conv.py:306: UserWarning: Plan failed with a cudnnException: CUDNN_BACKEND_EXECUTION_PLAN_DESCRIPTOR: cudnnFinalize Descriptor Failed cudnn_status: CUDNN_STATUS_NOT_SUPPORTED (Triggered internally at ../aten/src/ATen/native/cudnn/Conv_v8.cpp:919.)\n",
      "  return F.conv1d(input, weight, bias, self.stride,\n",
      "Training Epoch 8: 100%|██████████| 1712/1712 [14:27<00:00,  1.97it/s]\n"
     ]
    },
    {
     "name": "stdout",
     "output_type": "stream",
     "text": [
      "Train Loss: 0.6913\n",
      "Val Loss: 0.6888\n",
      "Val Accuracy: 0.6706\n",
      "Val F1 (weighted): 0.7373\n",
      "Val F1 (label 0): 0.7943\n",
      "Val F1 (label 1): 0.1730\n",
      "🔥 Nuevo mejor modelo guardado.\n",
      "Current Learning Rate: 0.000020\n",
      "\n",
      "======== Epoch 9/10 ========\n"
     ]
    },
    {
     "name": "stderr",
     "output_type": "stream",
     "text": [
      "Training Epoch 9:   2%|▏         | 27/1712 [00:15<14:45,  1.90it/s]/home/evacantin/.local/lib/python3.10/site-packages/torch/nn/modules/conv.py:306: UserWarning: Plan failed with a cudnnException: CUDNN_BACKEND_EXECUTION_PLAN_DESCRIPTOR: cudnnFinalize Descriptor Failed cudnn_status: CUDNN_STATUS_NOT_SUPPORTED (Triggered internally at ../aten/src/ATen/native/cudnn/Conv_v8.cpp:919.)\n",
      "  return F.conv1d(input, weight, bias, self.stride,\n",
      "Training Epoch 9: 100%|██████████| 1712/1712 [14:10<00:00,  2.01it/s]\n"
     ]
    },
    {
     "name": "stdout",
     "output_type": "stream",
     "text": [
      "Train Loss: 0.6869\n",
      "Val Loss: 0.6892\n",
      "Val Accuracy: 0.4866\n",
      "Val F1 (weighted): 0.5851\n",
      "Val F1 (label 0): 0.6256\n",
      "Val F1 (label 1): 0.1831\n",
      "Current Learning Rate: 0.000020\n",
      "\n",
      "======== Epoch 10/10 ========\n"
     ]
    },
    {
     "name": "stderr",
     "output_type": "stream",
     "text": [
      "Training Epoch 10:   1%|▏         | 23/1712 [00:09<11:46,  2.39it/s]/home/evacantin/.local/lib/python3.10/site-packages/torch/nn/modules/conv.py:306: UserWarning: Plan failed with a cudnnException: CUDNN_BACKEND_EXECUTION_PLAN_DESCRIPTOR: cudnnFinalize Descriptor Failed cudnn_status: CUDNN_STATUS_NOT_SUPPORTED (Triggered internally at ../aten/src/ATen/native/cudnn/Conv_v8.cpp:919.)\n",
      "  return F.conv1d(input, weight, bias, self.stride,\n",
      "Training Epoch 10: 100%|██████████| 1712/1712 [14:05<00:00,  2.02it/s]\n"
     ]
    },
    {
     "name": "stdout",
     "output_type": "stream",
     "text": [
      "Train Loss: 0.6910\n",
      "Val Loss: 0.6936\n",
      "Val Accuracy: 0.8718\n",
      "Val F1 (weighted): 0.8571\n",
      "Val F1 (label 0): 0.9308\n",
      "Val F1 (label 1): 0.1272\n",
      "Current Learning Rate: 0.000020\n",
      "✅ Best model loaded for evaluation or saving.\n"
     ]
    }
   ],
   "source": [
    "import torch\n",
    "import torch.nn as nn\n",
    "import torch.optim as optim\n",
    "from torch.utils.data import DataLoader\n",
    "from sklearn.metrics import accuracy_score, f1_score, confusion_matrix\n",
    "import matplotlib.pyplot as plt\n",
    "from tqdm import tqdm\n",
    "import copy\n",
    "\n",
    "device = torch.device(\"cuda\" if torch.cuda.is_available() else \"cpu\")\n",
    "\n",
    "# Datasets and Loaders\n",
    "train_dataset = MultiModalDataset(train_df, text_tokenizer, audio_processor)\n",
    "val_dataset = MultiModalDataset(val_df, text_tokenizer, audio_processor)\n",
    "\n",
    "train_loader = DataLoader(train_dataset, batch_size=8, shuffle=True, collate_fn=collate_fn)\n",
    "val_loader = DataLoader(val_dataset, batch_size=8, collate_fn=collate_fn)\n",
    "\n",
    "# Model, Loss, Optimizer\n",
    "model = MultiModalClassifier().to(device)\n",
    "\n",
    "# Stronger class weights\n",
    "class_weights = torch.tensor([1.0, 50.0])  # Adjust this if necessary\n",
    "criterion = nn.CrossEntropyLoss(weight=class_weights.to(device))\n",
    "optimizer = optim.AdamW(model.parameters(), lr=2e-5)\n",
    "\n",
    "# Learning rate scheduler\n",
    "from torch.optim.lr_scheduler import ReduceLROnPlateau\n",
    "scheduler = ReduceLROnPlateau(optimizer, mode='min', factor=0.5, patience=2, verbose=True)\n",
    "\n",
    "# Training loop\n",
    "EPOCHS = 10\n",
    "best_model_state = None\n",
    "best_val_loss = float('inf')\n",
    "\n",
    "for epoch in range(EPOCHS):\n",
    "    print(f\"\\n======== Epoch {epoch+1}/{EPOCHS} ========\")\n",
    "    \n",
    "    model.train()\n",
    "    total_loss = 0\n",
    "    \n",
    "    for batch in tqdm(train_loader, desc=f\"Training Epoch {epoch+1}\"):\n",
    "        input_ids = batch['input_ids'].to(device)\n",
    "        attention_mask = batch['attention_mask'].to(device)\n",
    "        audio_input_values = batch['audio_input_values'].to(device)\n",
    "        labels = batch['label'].to(device)\n",
    "\n",
    "        optimizer.zero_grad()\n",
    "        outputs = model(input_ids, attention_mask, audio_input_values)\n",
    "        loss = criterion(outputs, labels)\n",
    "        loss.backward()\n",
    "        optimizer.step()\n",
    "\n",
    "        total_loss += loss.item()\n",
    "\n",
    "    avg_train_loss = total_loss / len(train_loader)\n",
    "    print(f\"Train Loss: {avg_train_loss:.4f}\")\n",
    "\n",
    "    # Validation\n",
    "    model.eval()\n",
    "    val_loss = 0\n",
    "    all_preds = []\n",
    "    all_labels = []\n",
    "\n",
    "    with torch.no_grad():\n",
    "        for batch in val_loader:\n",
    "            input_ids = batch['input_ids'].to(device)\n",
    "            attention_mask = batch['attention_mask'].to(device)\n",
    "            audio_input_values = batch['audio_input_values'].to(device)\n",
    "            labels = batch['label'].to(device)\n",
    "\n",
    "            outputs = model(input_ids, attention_mask, audio_input_values)\n",
    "            loss = criterion(outputs, labels)\n",
    "            val_loss += loss.item()\n",
    "\n",
    "            preds = torch.argmax(outputs, dim=1)\n",
    "            all_preds.extend(preds.cpu().numpy())\n",
    "            all_labels.extend(labels.cpu().numpy())\n",
    "\n",
    "    avg_val_loss = val_loss / len(val_loader)\n",
    "    print(f\"Val Loss: {avg_val_loss:.4f}\")\n",
    "\n",
    "    val_accuracy = accuracy_score(all_labels, all_preds)\n",
    "    val_f1_weighted = f1_score(all_labels, all_preds, average='weighted')\n",
    "    val_f1_label_0 = f1_score(all_labels, all_preds, pos_label=0, average='binary')\n",
    "    val_f1_label_1 = f1_score(all_labels, all_preds, pos_label=1, average='binary')\n",
    "\n",
    "    print(f\"Val Accuracy: {val_accuracy:.4f}\")\n",
    "    print(f\"Val F1 (weighted): {val_f1_weighted:.4f}\")\n",
    "    print(f\"Val F1 (label 0): {val_f1_label_0:.4f}\")\n",
    "    print(f\"Val F1 (label 1): {val_f1_label_1:.4f}\")\n",
    "\n",
    "    # Update learning rate\n",
    "    scheduler.step(avg_val_loss)\n",
    "\n",
    "    # Save best model\n",
    "    if avg_val_loss < best_val_loss:\n",
    "        best_val_loss = avg_val_loss\n",
    "        best_model_state = copy.deepcopy(model.state_dict())\n",
    "        print(\"🔥 Nuevo mejor modelo guardado.\")\n",
    "\n",
    "    # Print current learning rate\n",
    "    for param_group in optimizer.param_groups:\n",
    "        print(f\"Current Learning Rate: {param_group['lr']:.6f}\")\n",
    "\n",
    "\n",
    "if best_model_state is not None:\n",
    "    model.load_state_dict(best_model_state)\n",
    "    print(\"✅ Best model loaded for evaluation or saving.\")"
   ]
  },
  {
   "cell_type": "code",
   "execution_count": 11,
   "id": "cb2e4317",
   "metadata": {},
   "outputs": [
    {
     "name": "stderr",
     "output_type": "stream",
     "text": [
      "Some weights of RobertaModel were not initialized from the model checkpoint at roberta-base and are newly initialized: ['roberta.pooler.dense.bias', 'roberta.pooler.dense.weight']\n",
      "You should probably TRAIN this model on a down-stream task to be able to use it for predictions and inference.\n",
      "Some weights of Wav2Vec2Model were not initialized from the model checkpoint at facebook/wav2vec2-base-960h and are newly initialized: ['wav2vec2.masked_spec_embed']\n",
      "You should probably TRAIN this model on a down-stream task to be able to use it for predictions and inference.\n",
      "Full Train Epoch 1:   1%|▏         | 28/2140 [00:16<17:08,  2.05it/s]/home/evacantin/.local/lib/python3.10/site-packages/torch/nn/modules/conv.py:306: UserWarning: Plan failed with a cudnnException: CUDNN_BACKEND_EXECUTION_PLAN_DESCRIPTOR: cudnnFinalize Descriptor Failed cudnn_status: CUDNN_STATUS_NOT_SUPPORTED (Triggered internally at ../aten/src/ATen/native/cudnn/Conv_v8.cpp:919.)\n",
      "  return F.conv1d(input, weight, bias, self.stride,\n",
      "Full Train Epoch 1: 100%|██████████| 2140/2140 [20:42<00:00,  1.72it/s]\n"
     ]
    },
    {
     "name": "stdout",
     "output_type": "stream",
     "text": [
      "Full Train Epoch 1 - Loss: 0.6883\n"
     ]
    },
    {
     "name": "stderr",
     "output_type": "stream",
     "text": [
      "Full Train Epoch 2: 100%|██████████| 2140/2140 [20:14<00:00,  1.76it/s]\n"
     ]
    },
    {
     "name": "stdout",
     "output_type": "stream",
     "text": [
      "Full Train Epoch 2 - Loss: 0.6891\n"
     ]
    },
    {
     "name": "stderr",
     "output_type": "stream",
     "text": [
      "Full Train Epoch 3: 100%|██████████| 2140/2140 [20:45<00:00,  1.72it/s]\n"
     ]
    },
    {
     "name": "stdout",
     "output_type": "stream",
     "text": [
      "Full Train Epoch 3 - Loss: 0.6889\n"
     ]
    },
    {
     "name": "stderr",
     "output_type": "stream",
     "text": [
      "Full Train Epoch 4: 100%|██████████| 2140/2140 [23:38<00:00,  1.51it/s]\n"
     ]
    },
    {
     "name": "stdout",
     "output_type": "stream",
     "text": [
      "Full Train Epoch 4 - Loss: 0.6892\n"
     ]
    },
    {
     "name": "stderr",
     "output_type": "stream",
     "text": [
      "Full Train Epoch 5: 100%|██████████| 2140/2140 [20:08<00:00,  1.77it/s]\n"
     ]
    },
    {
     "name": "stdout",
     "output_type": "stream",
     "text": [
      "Full Train Epoch 5 - Loss: 0.6870\n"
     ]
    },
    {
     "name": "stderr",
     "output_type": "stream",
     "text": [
      "Full Train Epoch 6: 100%|██████████| 2140/2140 [19:26<00:00,  1.83it/s]\n"
     ]
    },
    {
     "name": "stdout",
     "output_type": "stream",
     "text": [
      "Full Train Epoch 6 - Loss: 0.6897\n"
     ]
    },
    {
     "name": "stderr",
     "output_type": "stream",
     "text": [
      "Full Train Epoch 7: 100%|██████████| 2140/2140 [18:57<00:00,  1.88it/s]\n"
     ]
    },
    {
     "name": "stdout",
     "output_type": "stream",
     "text": [
      "Full Train Epoch 7 - Loss: 0.6905\n"
     ]
    },
    {
     "name": "stderr",
     "output_type": "stream",
     "text": [
      "Full Train Epoch 8: 100%|██████████| 2140/2140 [20:01<00:00,  1.78it/s]\n"
     ]
    },
    {
     "name": "stdout",
     "output_type": "stream",
     "text": [
      "Full Train Epoch 8 - Loss: 0.6870\n"
     ]
    },
    {
     "name": "stderr",
     "output_type": "stream",
     "text": [
      "Full Train Epoch 9: 100%|██████████| 2140/2140 [19:54<00:00,  1.79it/s]\n"
     ]
    },
    {
     "name": "stdout",
     "output_type": "stream",
     "text": [
      "Full Train Epoch 9 - Loss: 0.6855\n"
     ]
    },
    {
     "name": "stderr",
     "output_type": "stream",
     "text": [
      "Full Train Epoch 10: 100%|██████████| 2140/2140 [19:21<00:00,  1.84it/s]"
     ]
    },
    {
     "name": "stdout",
     "output_type": "stream",
     "text": [
      "Full Train Epoch 10 - Loss: 0.6880\n"
     ]
    },
    {
     "name": "stderr",
     "output_type": "stream",
     "text": [
      "\n"
     ]
    }
   ],
   "source": [
    "# Fusionar ambos datasets\n",
    "full_df = pd.concat([train_df, val_df]).reset_index(drop=True)\n",
    "full_dataset = MultiModalDataset(full_df, text_tokenizer, audio_processor)\n",
    "full_loader = DataLoader(full_dataset, batch_size=8, shuffle=True, collate_fn=collate_fn)\n",
    "\n",
    "# Inicializar de nuevo\n",
    "model = MultiModalClassifier().to(device)\n",
    "model.load_state_dict(best_model_state)  # arrancar desde el mejor estado encontrado\n",
    "\n",
    "optimizer = optim.AdamW(model.parameters(), lr=2e-5)\n",
    "\n",
    "# Reentrenar\n",
    "for epoch in range(EPOCHS):\n",
    "    model.train()\n",
    "    total_loss = 0\n",
    "    for batch in tqdm(full_loader, desc=f\"Full Train Epoch {epoch+1}\"):\n",
    "        input_ids = batch['input_ids'].to(device)\n",
    "        attention_mask = batch['attention_mask'].to(device)\n",
    "        audio_input_values = batch['audio_input_values'].to(device)\n",
    "        labels = batch['label'].to(device)\n",
    "\n",
    "        optimizer.zero_grad()\n",
    "        outputs = model(input_ids, attention_mask, audio_input_values)\n",
    "        loss = criterion(outputs, labels)\n",
    "        loss.backward()\n",
    "        optimizer.step()\n",
    "\n",
    "        total_loss += loss.item()\n",
    "\n",
    "    print(f\"Full Train Epoch {epoch+1} - Loss: {total_loss / len(full_loader):.4f}\")"
   ]
  },
  {
   "cell_type": "code",
   "execution_count": 12,
   "id": "4f33e726",
   "metadata": {},
   "outputs": [],
   "source": [
    "import os\n",
    "class MultiModalDataset(torch.utils.data.Dataset):\n",
    "    def __init__(self, dataframe, text_tokenizer, audio_processor, is_test=True):\n",
    "        self.dataframe = dataframe.reset_index(drop=True)\n",
    "        self.text_tokenizer = text_tokenizer\n",
    "        self.audio_processor = audio_processor\n",
    "        self.is_test = is_test\n",
    "\n",
    "    def __getitem__(self, idx):\n",
    "        row = self.dataframe.iloc[idx]\n",
    "        text = row['Texto']\n",
    "        audio_path = row['Ruta']\n",
    "\n",
    "        text_enc = self.text_tokenizer(text, padding='max_length', truncation=True, return_tensors='pt')\n",
    "\n",
    "        try:\n",
    "            if not os.path.exists(audio_path) or os.path.getsize(audio_path) <= 44:\n",
    "                raise ValueError(f\"Invalid audio file: {audio_path}\")\n",
    "\n",
    "            audio_input, _ = torchaudio.load(audio_path)\n",
    "            audio_enc = self.audio_processor(audio_input.squeeze(0), sampling_rate=16000, return_tensors='pt')\n",
    "            audio_input_values = audio_enc[\"input_values\"].squeeze(0)\n",
    "            audio_valid = True\n",
    "\n",
    "        except Exception as e:\n",
    "            print(f\"Warning: Corrupt or missing audio at index {idx}: {audio_path}. Setting default.\")\n",
    "            audio_input_values = torch.zeros(16000)  # Por ejemplo: 1 segundo de silencio\n",
    "            audio_valid = False\n",
    "\n",
    "        return {\n",
    "            \"input_ids\": text_enc[\"input_ids\"].squeeze(0),\n",
    "            \"attention_mask\": text_enc[\"attention_mask\"].squeeze(0),\n",
    "            \"audio_input_values\": audio_input_values,\n",
    "            \"audio_valid\": audio_valid  # indicamos si el audio es válido\n",
    "        }\n",
    "\n",
    "    def __len__(self):\n",
    "        return len(self.dataframe)"
   ]
  },
  {
   "cell_type": "code",
   "execution_count": 13,
   "id": "e32d9d3d",
   "metadata": {},
   "outputs": [],
   "source": [
    "def collate_fn_test(batch):\n",
    "    input_ids = [item['input_ids'] for item in batch]\n",
    "    attention_mask = [item['attention_mask'] for item in batch]\n",
    "    audio_input_values = [item['audio_input_values'] for item in batch]\n",
    "\n",
    "    input_ids = torch.stack(input_ids)\n",
    "    attention_mask = torch.stack(attention_mask)\n",
    "\n",
    "    audio_input_values = pad_sequence(audio_input_values, batch_first=True)\n",
    "\n",
    "    return {\n",
    "        \"input_ids\": input_ids,\n",
    "        \"attention_mask\": attention_mask,\n",
    "        \"audio_input_values\": audio_input_values,\n",
    "    }\n"
   ]
  },
  {
   "cell_type": "code",
   "execution_count": 14,
   "id": "569cf215",
   "metadata": {},
   "outputs": [
    {
     "name": "stderr",
     "output_type": "stream",
     "text": [
      "Predicting on Test:   0%|          | 0/272 [00:00<?, ?it/s]/home/evacantin/.local/lib/python3.10/site-packages/torch/nn/modules/conv.py:306: UserWarning: Plan failed with a cudnnException: CUDNN_BACKEND_EXECUTION_PLAN_DESCRIPTOR: cudnnFinalize Descriptor Failed cudnn_status: CUDNN_STATUS_NOT_SUPPORTED (Triggered internally at ../aten/src/ATen/native/cudnn/Conv_v8.cpp:919.)\n",
      "  return F.conv1d(input, weight, bias, self.stride,\n",
      "Predicting on Test:  41%|████      | 112/272 [03:46<11:21,  4.26s/it]"
     ]
    },
    {
     "name": "stdout",
     "output_type": "stream",
     "text": [
      "Warning: Corrupt or missing audio at index 903: /mnt/c/users/evacantin/desktop/MASTER/HAIA/Trabajo/MMUSED-fallacy/audio_clips/47_2024/903.wav. Setting default.\n"
     ]
    },
    {
     "name": "stderr",
     "output_type": "stream",
     "text": [
      "Predicting on Test:  42%|████▏     | 113/272 [03:48<09:21,  3.53s/it]"
     ]
    },
    {
     "name": "stdout",
     "output_type": "stream",
     "text": [
      "Warning: Corrupt or missing audio at index 904: /mnt/c/users/evacantin/desktop/MASTER/HAIA/Trabajo/MMUSED-fallacy/audio_clips/47_2024/904.wav. Setting default.\n",
      "Warning: Corrupt or missing audio at index 905: /mnt/c/users/evacantin/desktop/MASTER/HAIA/Trabajo/MMUSED-fallacy/audio_clips/47_2024/905.wav. Setting default.\n",
      "Warning: Corrupt or missing audio at index 906: /mnt/c/users/evacantin/desktop/MASTER/HAIA/Trabajo/MMUSED-fallacy/audio_clips/47_2024/906.wav. Setting default.\n",
      "Warning: Corrupt or missing audio at index 907: /mnt/c/users/evacantin/desktop/MASTER/HAIA/Trabajo/MMUSED-fallacy/audio_clips/47_2024/907.wav. Setting default.\n",
      "Warning: Corrupt or missing audio at index 908: /mnt/c/users/evacantin/desktop/MASTER/HAIA/Trabajo/MMUSED-fallacy/audio_clips/47_2024/908.wav. Setting default.\n",
      "Warning: Corrupt or missing audio at index 909: /mnt/c/users/evacantin/desktop/MASTER/HAIA/Trabajo/MMUSED-fallacy/audio_clips/47_2024/909.wav. Setting default.\n",
      "Warning: Corrupt or missing audio at index 910: /mnt/c/users/evacantin/desktop/MASTER/HAIA/Trabajo/MMUSED-fallacy/audio_clips/47_2024/910.wav. Setting default.\n",
      "Warning: Corrupt or missing audio at index 911: /mnt/c/users/evacantin/desktop/MASTER/HAIA/Trabajo/MMUSED-fallacy/audio_clips/47_2024/911.wav. Setting default.\n"
     ]
    },
    {
     "name": "stderr",
     "output_type": "stream",
     "text": [
      "Predicting on Test:  42%|████▏     | 114/272 [03:49<07:09,  2.72s/it]"
     ]
    },
    {
     "name": "stdout",
     "output_type": "stream",
     "text": [
      "Warning: Corrupt or missing audio at index 912: /mnt/c/users/evacantin/desktop/MASTER/HAIA/Trabajo/MMUSED-fallacy/audio_clips/47_2024/912.wav. Setting default.\n",
      "Warning: Corrupt or missing audio at index 913: /mnt/c/users/evacantin/desktop/MASTER/HAIA/Trabajo/MMUSED-fallacy/audio_clips/47_2024/913.wav. Setting default.\n",
      "Warning: Corrupt or missing audio at index 914: /mnt/c/users/evacantin/desktop/MASTER/HAIA/Trabajo/MMUSED-fallacy/audio_clips/47_2024/914.wav. Setting default.\n",
      "Warning: Corrupt or missing audio at index 915: /mnt/c/users/evacantin/desktop/MASTER/HAIA/Trabajo/MMUSED-fallacy/audio_clips/47_2024/915.wav. Setting default.\n",
      "Warning: Corrupt or missing audio at index 916: /mnt/c/users/evacantin/desktop/MASTER/HAIA/Trabajo/MMUSED-fallacy/audio_clips/47_2024/916.wav. Setting default.\n",
      "Warning: Corrupt or missing audio at index 917: /mnt/c/users/evacantin/desktop/MASTER/HAIA/Trabajo/MMUSED-fallacy/audio_clips/47_2024/917.wav. Setting default.\n",
      "Warning: Corrupt or missing audio at index 918: /mnt/c/users/evacantin/desktop/MASTER/HAIA/Trabajo/MMUSED-fallacy/audio_clips/47_2024/918.wav. Setting default.\n",
      "Warning: Corrupt or missing audio at index 919: /mnt/c/users/evacantin/desktop/MASTER/HAIA/Trabajo/MMUSED-fallacy/audio_clips/47_2024/919.wav. Setting default.\n"
     ]
    },
    {
     "name": "stderr",
     "output_type": "stream",
     "text": [
      "Predicting on Test:  42%|████▏     | 115/272 [03:50<05:38,  2.16s/it]"
     ]
    },
    {
     "name": "stdout",
     "output_type": "stream",
     "text": [
      "Warning: Corrupt or missing audio at index 920: /mnt/c/users/evacantin/desktop/MASTER/HAIA/Trabajo/MMUSED-fallacy/audio_clips/47_2024/920.wav. Setting default.\n",
      "Warning: Corrupt or missing audio at index 921: /mnt/c/users/evacantin/desktop/MASTER/HAIA/Trabajo/MMUSED-fallacy/audio_clips/47_2024/921.wav. Setting default.\n",
      "Warning: Corrupt or missing audio at index 922: /mnt/c/users/evacantin/desktop/MASTER/HAIA/Trabajo/MMUSED-fallacy/audio_clips/47_2024/922.wav. Setting default.\n",
      "Warning: Corrupt or missing audio at index 923: /mnt/c/users/evacantin/desktop/MASTER/HAIA/Trabajo/MMUSED-fallacy/audio_clips/47_2024/923.wav. Setting default.\n",
      "Warning: Corrupt or missing audio at index 924: /mnt/c/users/evacantin/desktop/MASTER/HAIA/Trabajo/MMUSED-fallacy/audio_clips/47_2024/924.wav. Setting default.\n",
      "Warning: Corrupt or missing audio at index 925: /mnt/c/users/evacantin/desktop/MASTER/HAIA/Trabajo/MMUSED-fallacy/audio_clips/47_2024/925.wav. Setting default.\n",
      "Warning: Corrupt or missing audio at index 926: /mnt/c/users/evacantin/desktop/MASTER/HAIA/Trabajo/MMUSED-fallacy/audio_clips/47_2024/926.wav. Setting default.\n",
      "Warning: Corrupt or missing audio at index 927: /mnt/c/users/evacantin/desktop/MASTER/HAIA/Trabajo/MMUSED-fallacy/audio_clips/47_2024/927.wav. Setting default.\n"
     ]
    },
    {
     "name": "stderr",
     "output_type": "stream",
     "text": [
      "Predicting on Test:  43%|████▎     | 116/272 [03:50<04:41,  1.81s/it]"
     ]
    },
    {
     "name": "stdout",
     "output_type": "stream",
     "text": [
      "Warning: Corrupt or missing audio at index 928: /mnt/c/users/evacantin/desktop/MASTER/HAIA/Trabajo/MMUSED-fallacy/audio_clips/47_2024/928.wav. Setting default.\n",
      "Warning: Corrupt or missing audio at index 929: /mnt/c/users/evacantin/desktop/MASTER/HAIA/Trabajo/MMUSED-fallacy/audio_clips/47_2024/929.wav. Setting default.\n",
      "Warning: Corrupt or missing audio at index 930: /mnt/c/users/evacantin/desktop/MASTER/HAIA/Trabajo/MMUSED-fallacy/audio_clips/47_2024/930.wav. Setting default.\n",
      "Warning: Corrupt or missing audio at index 931: /mnt/c/users/evacantin/desktop/MASTER/HAIA/Trabajo/MMUSED-fallacy/audio_clips/47_2024/931.wav. Setting default.\n",
      "Warning: Corrupt or missing audio at index 932: /mnt/c/users/evacantin/desktop/MASTER/HAIA/Trabajo/MMUSED-fallacy/audio_clips/47_2024/932.wav. Setting default.\n",
      "Warning: Corrupt or missing audio at index 933: /mnt/c/users/evacantin/desktop/MASTER/HAIA/Trabajo/MMUSED-fallacy/audio_clips/47_2024/933.wav. Setting default.\n",
      "Warning: Corrupt or missing audio at index 934: /mnt/c/users/evacantin/desktop/MASTER/HAIA/Trabajo/MMUSED-fallacy/audio_clips/47_2024/934.wav. Setting default.\n",
      "Warning: Corrupt or missing audio at index 935: /mnt/c/users/evacantin/desktop/MASTER/HAIA/Trabajo/MMUSED-fallacy/audio_clips/47_2024/935.wav. Setting default.\n"
     ]
    },
    {
     "name": "stderr",
     "output_type": "stream",
     "text": [
      "Predicting on Test:  43%|████▎     | 117/272 [03:51<03:54,  1.51s/it]"
     ]
    },
    {
     "name": "stdout",
     "output_type": "stream",
     "text": [
      "Warning: Corrupt or missing audio at index 936: /mnt/c/users/evacantin/desktop/MASTER/HAIA/Trabajo/MMUSED-fallacy/audio_clips/47_2024/936.wav. Setting default.\n",
      "Warning: Corrupt or missing audio at index 937: /mnt/c/users/evacantin/desktop/MASTER/HAIA/Trabajo/MMUSED-fallacy/audio_clips/47_2024/937.wav. Setting default.\n",
      "Warning: Corrupt or missing audio at index 938: /mnt/c/users/evacantin/desktop/MASTER/HAIA/Trabajo/MMUSED-fallacy/audio_clips/47_2024/938.wav. Setting default.\n",
      "Warning: Corrupt or missing audio at index 939: /mnt/c/users/evacantin/desktop/MASTER/HAIA/Trabajo/MMUSED-fallacy/audio_clips/47_2024/939.wav. Setting default.\n",
      "Warning: Corrupt or missing audio at index 940: /mnt/c/users/evacantin/desktop/MASTER/HAIA/Trabajo/MMUSED-fallacy/audio_clips/47_2024/940.wav. Setting default.\n",
      "Warning: Corrupt or missing audio at index 941: /mnt/c/users/evacantin/desktop/MASTER/HAIA/Trabajo/MMUSED-fallacy/audio_clips/47_2024/941.wav. Setting default.\n",
      "Warning: Corrupt or missing audio at index 942: /mnt/c/users/evacantin/desktop/MASTER/HAIA/Trabajo/MMUSED-fallacy/audio_clips/47_2024/942.wav. Setting default.\n",
      "Warning: Corrupt or missing audio at index 943: /mnt/c/users/evacantin/desktop/MASTER/HAIA/Trabajo/MMUSED-fallacy/audio_clips/47_2024/943.wav. Setting default.\n"
     ]
    },
    {
     "name": "stderr",
     "output_type": "stream",
     "text": [
      "Predicting on Test:  43%|████▎     | 118/272 [03:52<03:30,  1.37s/it]"
     ]
    },
    {
     "name": "stdout",
     "output_type": "stream",
     "text": [
      "Warning: Corrupt or missing audio at index 944: /mnt/c/users/evacantin/desktop/MASTER/HAIA/Trabajo/MMUSED-fallacy/audio_clips/47_2024/944.wav. Setting default.\n",
      "Warning: Corrupt or missing audio at index 945: /mnt/c/users/evacantin/desktop/MASTER/HAIA/Trabajo/MMUSED-fallacy/audio_clips/47_2024/945.wav. Setting default.\n",
      "Warning: Corrupt or missing audio at index 946: /mnt/c/users/evacantin/desktop/MASTER/HAIA/Trabajo/MMUSED-fallacy/audio_clips/47_2024/946.wav. Setting default.\n",
      "Warning: Corrupt or missing audio at index 947: /mnt/c/users/evacantin/desktop/MASTER/HAIA/Trabajo/MMUSED-fallacy/audio_clips/47_2024/947.wav. Setting default.\n",
      "Warning: Corrupt or missing audio at index 948: /mnt/c/users/evacantin/desktop/MASTER/HAIA/Trabajo/MMUSED-fallacy/audio_clips/47_2024/948.wav. Setting default.\n",
      "Warning: Corrupt or missing audio at index 949: /mnt/c/users/evacantin/desktop/MASTER/HAIA/Trabajo/MMUSED-fallacy/audio_clips/47_2024/949.wav. Setting default.\n",
      "Warning: Corrupt or missing audio at index 950: /mnt/c/users/evacantin/desktop/MASTER/HAIA/Trabajo/MMUSED-fallacy/audio_clips/47_2024/950.wav. Setting default.\n",
      "Warning: Corrupt or missing audio at index 951: /mnt/c/users/evacantin/desktop/MASTER/HAIA/Trabajo/MMUSED-fallacy/audio_clips/47_2024/951.wav. Setting default.\n"
     ]
    },
    {
     "name": "stderr",
     "output_type": "stream",
     "text": [
      "Predicting on Test:  44%|████▍     | 119/272 [03:53<03:10,  1.24s/it]"
     ]
    },
    {
     "name": "stdout",
     "output_type": "stream",
     "text": [
      "Warning: Corrupt or missing audio at index 952: /mnt/c/users/evacantin/desktop/MASTER/HAIA/Trabajo/MMUSED-fallacy/audio_clips/47_2024/952.wav. Setting default.\n",
      "Warning: Corrupt or missing audio at index 953: /mnt/c/users/evacantin/desktop/MASTER/HAIA/Trabajo/MMUSED-fallacy/audio_clips/47_2024/953.wav. Setting default.\n",
      "Warning: Corrupt or missing audio at index 954: /mnt/c/users/evacantin/desktop/MASTER/HAIA/Trabajo/MMUSED-fallacy/audio_clips/47_2024/954.wav. Setting default.\n",
      "Warning: Corrupt or missing audio at index 955: /mnt/c/users/evacantin/desktop/MASTER/HAIA/Trabajo/MMUSED-fallacy/audio_clips/47_2024/955.wav. Setting default.\n",
      "Warning: Corrupt or missing audio at index 956: /mnt/c/users/evacantin/desktop/MASTER/HAIA/Trabajo/MMUSED-fallacy/audio_clips/47_2024/956.wav. Setting default.\n",
      "Warning: Corrupt or missing audio at index 957: /mnt/c/users/evacantin/desktop/MASTER/HAIA/Trabajo/MMUSED-fallacy/audio_clips/47_2024/957.wav. Setting default.\n",
      "Warning: Corrupt or missing audio at index 958: /mnt/c/users/evacantin/desktop/MASTER/HAIA/Trabajo/MMUSED-fallacy/audio_clips/47_2024/958.wav. Setting default.\n",
      "Warning: Corrupt or missing audio at index 959: /mnt/c/users/evacantin/desktop/MASTER/HAIA/Trabajo/MMUSED-fallacy/audio_clips/47_2024/959.wav. Setting default.\n"
     ]
    },
    {
     "name": "stderr",
     "output_type": "stream",
     "text": [
      "Predicting on Test:  44%|████▍     | 120/272 [03:54<02:50,  1.12s/it]"
     ]
    },
    {
     "name": "stdout",
     "output_type": "stream",
     "text": [
      "Warning: Corrupt or missing audio at index 960: /mnt/c/users/evacantin/desktop/MASTER/HAIA/Trabajo/MMUSED-fallacy/audio_clips/47_2024/960.wav. Setting default.\n",
      "Warning: Corrupt or missing audio at index 961: /mnt/c/users/evacantin/desktop/MASTER/HAIA/Trabajo/MMUSED-fallacy/audio_clips/47_2024/961.wav. Setting default.\n",
      "Warning: Corrupt or missing audio at index 962: /mnt/c/users/evacantin/desktop/MASTER/HAIA/Trabajo/MMUSED-fallacy/audio_clips/47_2024/962.wav. Setting default.\n",
      "Warning: Corrupt or missing audio at index 963: /mnt/c/users/evacantin/desktop/MASTER/HAIA/Trabajo/MMUSED-fallacy/audio_clips/47_2024/963.wav. Setting default.\n",
      "Warning: Corrupt or missing audio at index 964: /mnt/c/users/evacantin/desktop/MASTER/HAIA/Trabajo/MMUSED-fallacy/audio_clips/47_2024/964.wav. Setting default.\n",
      "Warning: Corrupt or missing audio at index 965: /mnt/c/users/evacantin/desktop/MASTER/HAIA/Trabajo/MMUSED-fallacy/audio_clips/47_2024/965.wav. Setting default.\n",
      "Warning: Corrupt or missing audio at index 966: /mnt/c/users/evacantin/desktop/MASTER/HAIA/Trabajo/MMUSED-fallacy/audio_clips/47_2024/966.wav. Setting default.\n",
      "Warning: Corrupt or missing audio at index 967: /mnt/c/users/evacantin/desktop/MASTER/HAIA/Trabajo/MMUSED-fallacy/audio_clips/47_2024/967.wav. Setting default.\n"
     ]
    },
    {
     "name": "stderr",
     "output_type": "stream",
     "text": [
      "Predicting on Test:  44%|████▍     | 121/272 [03:55<02:39,  1.06s/it]"
     ]
    },
    {
     "name": "stdout",
     "output_type": "stream",
     "text": [
      "Warning: Corrupt or missing audio at index 968: /mnt/c/users/evacantin/desktop/MASTER/HAIA/Trabajo/MMUSED-fallacy/audio_clips/47_2024/968.wav. Setting default.\n",
      "Warning: Corrupt or missing audio at index 969: /mnt/c/users/evacantin/desktop/MASTER/HAIA/Trabajo/MMUSED-fallacy/audio_clips/47_2024/969.wav. Setting default.\n",
      "Warning: Corrupt or missing audio at index 970: /mnt/c/users/evacantin/desktop/MASTER/HAIA/Trabajo/MMUSED-fallacy/audio_clips/47_2024/970.wav. Setting default.\n",
      "Warning: Corrupt or missing audio at index 971: /mnt/c/users/evacantin/desktop/MASTER/HAIA/Trabajo/MMUSED-fallacy/audio_clips/47_2024/971.wav. Setting default.\n",
      "Warning: Corrupt or missing audio at index 972: /mnt/c/users/evacantin/desktop/MASTER/HAIA/Trabajo/MMUSED-fallacy/audio_clips/47_2024/972.wav. Setting default.\n",
      "Warning: Corrupt or missing audio at index 973: /mnt/c/users/evacantin/desktop/MASTER/HAIA/Trabajo/MMUSED-fallacy/audio_clips/47_2024/973.wav. Setting default.\n",
      "Warning: Corrupt or missing audio at index 974: /mnt/c/users/evacantin/desktop/MASTER/HAIA/Trabajo/MMUSED-fallacy/audio_clips/47_2024/974.wav. Setting default.\n",
      "Warning: Corrupt or missing audio at index 975: /mnt/c/users/evacantin/desktop/MASTER/HAIA/Trabajo/MMUSED-fallacy/audio_clips/47_2024/975.wav. Setting default.\n"
     ]
    },
    {
     "name": "stderr",
     "output_type": "stream",
     "text": [
      "Predicting on Test:  45%|████▍     | 122/272 [03:56<02:28,  1.01it/s]"
     ]
    },
    {
     "name": "stdout",
     "output_type": "stream",
     "text": [
      "Warning: Corrupt or missing audio at index 976: /mnt/c/users/evacantin/desktop/MASTER/HAIA/Trabajo/MMUSED-fallacy/audio_clips/47_2024/976.wav. Setting default.\n",
      "Warning: Corrupt or missing audio at index 977: /mnt/c/users/evacantin/desktop/MASTER/HAIA/Trabajo/MMUSED-fallacy/audio_clips/47_2024/977.wav. Setting default.\n",
      "Warning: Corrupt or missing audio at index 978: /mnt/c/users/evacantin/desktop/MASTER/HAIA/Trabajo/MMUSED-fallacy/audio_clips/47_2024/978.wav. Setting default.\n",
      "Warning: Corrupt or missing audio at index 979: /mnt/c/users/evacantin/desktop/MASTER/HAIA/Trabajo/MMUSED-fallacy/audio_clips/47_2024/979.wav. Setting default.\n",
      "Warning: Corrupt or missing audio at index 980: /mnt/c/users/evacantin/desktop/MASTER/HAIA/Trabajo/MMUSED-fallacy/audio_clips/47_2024/980.wav. Setting default.\n",
      "Warning: Corrupt or missing audio at index 981: /mnt/c/users/evacantin/desktop/MASTER/HAIA/Trabajo/MMUSED-fallacy/audio_clips/47_2024/981.wav. Setting default.\n",
      "Warning: Corrupt or missing audio at index 982: /mnt/c/users/evacantin/desktop/MASTER/HAIA/Trabajo/MMUSED-fallacy/audio_clips/47_2024/982.wav. Setting default.\n",
      "Warning: Corrupt or missing audio at index 983: /mnt/c/users/evacantin/desktop/MASTER/HAIA/Trabajo/MMUSED-fallacy/audio_clips/47_2024/983.wav. Setting default.\n"
     ]
    },
    {
     "name": "stderr",
     "output_type": "stream",
     "text": [
      "Predicting on Test:  45%|████▌     | 123/272 [03:57<02:20,  1.06it/s]"
     ]
    },
    {
     "name": "stdout",
     "output_type": "stream",
     "text": [
      "Warning: Corrupt or missing audio at index 984: /mnt/c/users/evacantin/desktop/MASTER/HAIA/Trabajo/MMUSED-fallacy/audio_clips/47_2024/984.wav. Setting default.\n",
      "Warning: Corrupt or missing audio at index 985: /mnt/c/users/evacantin/desktop/MASTER/HAIA/Trabajo/MMUSED-fallacy/audio_clips/47_2024/985.wav. Setting default.\n",
      "Warning: Corrupt or missing audio at index 986: /mnt/c/users/evacantin/desktop/MASTER/HAIA/Trabajo/MMUSED-fallacy/audio_clips/47_2024/986.wav. Setting default.\n",
      "Warning: Corrupt or missing audio at index 987: /mnt/c/users/evacantin/desktop/MASTER/HAIA/Trabajo/MMUSED-fallacy/audio_clips/47_2024/987.wav. Setting default.\n",
      "Warning: Corrupt or missing audio at index 988: /mnt/c/users/evacantin/desktop/MASTER/HAIA/Trabajo/MMUSED-fallacy/audio_clips/47_2024/988.wav. Setting default.\n",
      "Warning: Corrupt or missing audio at index 989: /mnt/c/users/evacantin/desktop/MASTER/HAIA/Trabajo/MMUSED-fallacy/audio_clips/47_2024/989.wav. Setting default.\n",
      "Warning: Corrupt or missing audio at index 990: /mnt/c/users/evacantin/desktop/MASTER/HAIA/Trabajo/MMUSED-fallacy/audio_clips/47_2024/990.wav. Setting default.\n",
      "Warning: Corrupt or missing audio at index 991: /mnt/c/users/evacantin/desktop/MASTER/HAIA/Trabajo/MMUSED-fallacy/audio_clips/47_2024/991.wav. Setting default.\n"
     ]
    },
    {
     "name": "stderr",
     "output_type": "stream",
     "text": [
      "Predicting on Test:  46%|████▌     | 124/272 [03:58<02:14,  1.10it/s]"
     ]
    },
    {
     "name": "stdout",
     "output_type": "stream",
     "text": [
      "Warning: Corrupt or missing audio at index 992: /mnt/c/users/evacantin/desktop/MASTER/HAIA/Trabajo/MMUSED-fallacy/audio_clips/47_2024/992.wav. Setting default.\n",
      "Warning: Corrupt or missing audio at index 993: /mnt/c/users/evacantin/desktop/MASTER/HAIA/Trabajo/MMUSED-fallacy/audio_clips/47_2024/993.wav. Setting default.\n",
      "Warning: Corrupt or missing audio at index 994: /mnt/c/users/evacantin/desktop/MASTER/HAIA/Trabajo/MMUSED-fallacy/audio_clips/47_2024/994.wav. Setting default.\n",
      "Warning: Corrupt or missing audio at index 995: /mnt/c/users/evacantin/desktop/MASTER/HAIA/Trabajo/MMUSED-fallacy/audio_clips/47_2024/995.wav. Setting default.\n",
      "Warning: Corrupt or missing audio at index 996: /mnt/c/users/evacantin/desktop/MASTER/HAIA/Trabajo/MMUSED-fallacy/audio_clips/47_2024/996.wav. Setting default.\n",
      "Warning: Corrupt or missing audio at index 997: /mnt/c/users/evacantin/desktop/MASTER/HAIA/Trabajo/MMUSED-fallacy/audio_clips/47_2024/997.wav. Setting default.\n",
      "Warning: Corrupt or missing audio at index 998: /mnt/c/users/evacantin/desktop/MASTER/HAIA/Trabajo/MMUSED-fallacy/audio_clips/47_2024/998.wav. Setting default.\n",
      "Warning: Corrupt or missing audio at index 999: /mnt/c/users/evacantin/desktop/MASTER/HAIA/Trabajo/MMUSED-fallacy/audio_clips/47_2024/999.wav. Setting default.\n"
     ]
    },
    {
     "name": "stderr",
     "output_type": "stream",
     "text": [
      "Predicting on Test:  46%|████▌     | 125/272 [03:58<02:11,  1.12it/s]"
     ]
    },
    {
     "name": "stdout",
     "output_type": "stream",
     "text": [
      "Warning: Corrupt or missing audio at index 1000: /mnt/c/users/evacantin/desktop/MASTER/HAIA/Trabajo/MMUSED-fallacy/audio_clips/47_2024/1000.wav. Setting default.\n",
      "Warning: Corrupt or missing audio at index 1001: /mnt/c/users/evacantin/desktop/MASTER/HAIA/Trabajo/MMUSED-fallacy/audio_clips/47_2024/1001.wav. Setting default.\n",
      "Warning: Corrupt or missing audio at index 1002: /mnt/c/users/evacantin/desktop/MASTER/HAIA/Trabajo/MMUSED-fallacy/audio_clips/47_2024/1002.wav. Setting default.\n",
      "Warning: Corrupt or missing audio at index 1003: /mnt/c/users/evacantin/desktop/MASTER/HAIA/Trabajo/MMUSED-fallacy/audio_clips/47_2024/1003.wav. Setting default.\n",
      "Warning: Corrupt or missing audio at index 1004: /mnt/c/users/evacantin/desktop/MASTER/HAIA/Trabajo/MMUSED-fallacy/audio_clips/47_2024/1004.wav. Setting default.\n",
      "Warning: Corrupt or missing audio at index 1005: /mnt/c/users/evacantin/desktop/MASTER/HAIA/Trabajo/MMUSED-fallacy/audio_clips/47_2024/1005.wav. Setting default.\n",
      "Warning: Corrupt or missing audio at index 1006: /mnt/c/users/evacantin/desktop/MASTER/HAIA/Trabajo/MMUSED-fallacy/audio_clips/47_2024/1006.wav. Setting default.\n",
      "Warning: Corrupt or missing audio at index 1007: /mnt/c/users/evacantin/desktop/MASTER/HAIA/Trabajo/MMUSED-fallacy/audio_clips/47_2024/1007.wav. Setting default.\n"
     ]
    },
    {
     "name": "stderr",
     "output_type": "stream",
     "text": [
      "Predicting on Test:  46%|████▋     | 126/272 [03:59<02:08,  1.14it/s]"
     ]
    },
    {
     "name": "stdout",
     "output_type": "stream",
     "text": [
      "Warning: Corrupt or missing audio at index 1008: /mnt/c/users/evacantin/desktop/MASTER/HAIA/Trabajo/MMUSED-fallacy/audio_clips/47_2024/1008.wav. Setting default.\n",
      "Warning: Corrupt or missing audio at index 1009: /mnt/c/users/evacantin/desktop/MASTER/HAIA/Trabajo/MMUSED-fallacy/audio_clips/47_2024/1009.wav. Setting default.\n",
      "Warning: Corrupt or missing audio at index 1010: /mnt/c/users/evacantin/desktop/MASTER/HAIA/Trabajo/MMUSED-fallacy/audio_clips/47_2024/1010.wav. Setting default.\n",
      "Warning: Corrupt or missing audio at index 1011: /mnt/c/users/evacantin/desktop/MASTER/HAIA/Trabajo/MMUSED-fallacy/audio_clips/47_2024/1011.wav. Setting default.\n",
      "Warning: Corrupt or missing audio at index 1012: /mnt/c/users/evacantin/desktop/MASTER/HAIA/Trabajo/MMUSED-fallacy/audio_clips/47_2024/1012.wav. Setting default.\n",
      "Warning: Corrupt or missing audio at index 1013: /mnt/c/users/evacantin/desktop/MASTER/HAIA/Trabajo/MMUSED-fallacy/audio_clips/47_2024/1013.wav. Setting default.\n",
      "Warning: Corrupt or missing audio at index 1014: /mnt/c/users/evacantin/desktop/MASTER/HAIA/Trabajo/MMUSED-fallacy/audio_clips/47_2024/1014.wav. Setting default.\n",
      "Warning: Corrupt or missing audio at index 1015: /mnt/c/users/evacantin/desktop/MASTER/HAIA/Trabajo/MMUSED-fallacy/audio_clips/47_2024/1015.wav. Setting default.\n"
     ]
    },
    {
     "name": "stderr",
     "output_type": "stream",
     "text": [
      "Predicting on Test:  47%|████▋     | 127/272 [04:00<02:05,  1.15it/s]"
     ]
    },
    {
     "name": "stdout",
     "output_type": "stream",
     "text": [
      "Warning: Corrupt or missing audio at index 1016: /mnt/c/users/evacantin/desktop/MASTER/HAIA/Trabajo/MMUSED-fallacy/audio_clips/47_2024/1016.wav. Setting default.\n",
      "Warning: Corrupt or missing audio at index 1017: /mnt/c/users/evacantin/desktop/MASTER/HAIA/Trabajo/MMUSED-fallacy/audio_clips/47_2024/1017.wav. Setting default.\n",
      "Warning: Corrupt or missing audio at index 1018: /mnt/c/users/evacantin/desktop/MASTER/HAIA/Trabajo/MMUSED-fallacy/audio_clips/47_2024/1018.wav. Setting default.\n",
      "Warning: Corrupt or missing audio at index 1019: /mnt/c/users/evacantin/desktop/MASTER/HAIA/Trabajo/MMUSED-fallacy/audio_clips/47_2024/1019.wav. Setting default.\n",
      "Warning: Corrupt or missing audio at index 1020: /mnt/c/users/evacantin/desktop/MASTER/HAIA/Trabajo/MMUSED-fallacy/audio_clips/47_2024/1020.wav. Setting default.\n",
      "Warning: Corrupt or missing audio at index 1021: /mnt/c/users/evacantin/desktop/MASTER/HAIA/Trabajo/MMUSED-fallacy/audio_clips/47_2024/1021.wav. Setting default.\n",
      "Warning: Corrupt or missing audio at index 1022: /mnt/c/users/evacantin/desktop/MASTER/HAIA/Trabajo/MMUSED-fallacy/audio_clips/47_2024/1022.wav. Setting default.\n",
      "Warning: Corrupt or missing audio at index 1023: /mnt/c/users/evacantin/desktop/MASTER/HAIA/Trabajo/MMUSED-fallacy/audio_clips/47_2024/1023.wav. Setting default.\n"
     ]
    },
    {
     "name": "stderr",
     "output_type": "stream",
     "text": [
      "Predicting on Test:  47%|████▋     | 128/272 [04:01<02:06,  1.14it/s]"
     ]
    },
    {
     "name": "stdout",
     "output_type": "stream",
     "text": [
      "Warning: Corrupt or missing audio at index 1024: /mnt/c/users/evacantin/desktop/MASTER/HAIA/Trabajo/MMUSED-fallacy/audio_clips/47_2024/1024.wav. Setting default.\n",
      "Warning: Corrupt or missing audio at index 1025: /mnt/c/users/evacantin/desktop/MASTER/HAIA/Trabajo/MMUSED-fallacy/audio_clips/47_2024/1025.wav. Setting default.\n",
      "Warning: Corrupt or missing audio at index 1026: /mnt/c/users/evacantin/desktop/MASTER/HAIA/Trabajo/MMUSED-fallacy/audio_clips/47_2024/1026.wav. Setting default.\n",
      "Warning: Corrupt or missing audio at index 1027: /mnt/c/users/evacantin/desktop/MASTER/HAIA/Trabajo/MMUSED-fallacy/audio_clips/47_2024/1027.wav. Setting default.\n",
      "Warning: Corrupt or missing audio at index 1028: /mnt/c/users/evacantin/desktop/MASTER/HAIA/Trabajo/MMUSED-fallacy/audio_clips/47_2024/1028.wav. Setting default.\n",
      "Warning: Corrupt or missing audio at index 1029: /mnt/c/users/evacantin/desktop/MASTER/HAIA/Trabajo/MMUSED-fallacy/audio_clips/47_2024/1029.wav. Setting default.\n",
      "Warning: Corrupt or missing audio at index 1030: /mnt/c/users/evacantin/desktop/MASTER/HAIA/Trabajo/MMUSED-fallacy/audio_clips/47_2024/1030.wav. Setting default.\n",
      "Warning: Corrupt or missing audio at index 1031: /mnt/c/users/evacantin/desktop/MASTER/HAIA/Trabajo/MMUSED-fallacy/audio_clips/47_2024/1031.wav. Setting default.\n"
     ]
    },
    {
     "name": "stderr",
     "output_type": "stream",
     "text": [
      "Predicting on Test:  47%|████▋     | 129/272 [04:02<02:03,  1.16it/s]"
     ]
    },
    {
     "name": "stdout",
     "output_type": "stream",
     "text": [
      "Warning: Corrupt or missing audio at index 1032: /mnt/c/users/evacantin/desktop/MASTER/HAIA/Trabajo/MMUSED-fallacy/audio_clips/47_2024/1032.wav. Setting default.\n",
      "Warning: Corrupt or missing audio at index 1033: /mnt/c/users/evacantin/desktop/MASTER/HAIA/Trabajo/MMUSED-fallacy/audio_clips/47_2024/1033.wav. Setting default.\n",
      "Warning: Corrupt or missing audio at index 1034: /mnt/c/users/evacantin/desktop/MASTER/HAIA/Trabajo/MMUSED-fallacy/audio_clips/47_2024/1034.wav. Setting default.\n",
      "Warning: Corrupt or missing audio at index 1035: /mnt/c/users/evacantin/desktop/MASTER/HAIA/Trabajo/MMUSED-fallacy/audio_clips/47_2024/1035.wav. Setting default.\n",
      "Warning: Corrupt or missing audio at index 1036: /mnt/c/users/evacantin/desktop/MASTER/HAIA/Trabajo/MMUSED-fallacy/audio_clips/47_2024/1036.wav. Setting default.\n",
      "Warning: Corrupt or missing audio at index 1037: /mnt/c/users/evacantin/desktop/MASTER/HAIA/Trabajo/MMUSED-fallacy/audio_clips/47_2024/1037.wav. Setting default.\n",
      "Warning: Corrupt or missing audio at index 1038: /mnt/c/users/evacantin/desktop/MASTER/HAIA/Trabajo/MMUSED-fallacy/audio_clips/47_2024/1038.wav. Setting default.\n",
      "Warning: Corrupt or missing audio at index 1039: /mnt/c/users/evacantin/desktop/MASTER/HAIA/Trabajo/MMUSED-fallacy/audio_clips/47_2024/1039.wav. Setting default.\n"
     ]
    },
    {
     "name": "stderr",
     "output_type": "stream",
     "text": [
      "Predicting on Test:  48%|████▊     | 130/272 [04:03<02:01,  1.17it/s]"
     ]
    },
    {
     "name": "stdout",
     "output_type": "stream",
     "text": [
      "Warning: Corrupt or missing audio at index 1040: /mnt/c/users/evacantin/desktop/MASTER/HAIA/Trabajo/MMUSED-fallacy/audio_clips/47_2024/1040.wav. Setting default.\n",
      "Warning: Corrupt or missing audio at index 1041: /mnt/c/users/evacantin/desktop/MASTER/HAIA/Trabajo/MMUSED-fallacy/audio_clips/47_2024/1041.wav. Setting default.\n",
      "Warning: Corrupt or missing audio at index 1042: /mnt/c/users/evacantin/desktop/MASTER/HAIA/Trabajo/MMUSED-fallacy/audio_clips/47_2024/1042.wav. Setting default.\n",
      "Warning: Corrupt or missing audio at index 1043: /mnt/c/users/evacantin/desktop/MASTER/HAIA/Trabajo/MMUSED-fallacy/audio_clips/47_2024/1043.wav. Setting default.\n",
      "Warning: Corrupt or missing audio at index 1044: /mnt/c/users/evacantin/desktop/MASTER/HAIA/Trabajo/MMUSED-fallacy/audio_clips/47_2024/1044.wav. Setting default.\n",
      "Warning: Corrupt or missing audio at index 1045: /mnt/c/users/evacantin/desktop/MASTER/HAIA/Trabajo/MMUSED-fallacy/audio_clips/47_2024/1045.wav. Setting default.\n",
      "Warning: Corrupt or missing audio at index 1046: /mnt/c/users/evacantin/desktop/MASTER/HAIA/Trabajo/MMUSED-fallacy/audio_clips/47_2024/1046.wav. Setting default.\n",
      "Warning: Corrupt or missing audio at index 1047: /mnt/c/users/evacantin/desktop/MASTER/HAIA/Trabajo/MMUSED-fallacy/audio_clips/47_2024/1047.wav. Setting default.\n"
     ]
    },
    {
     "name": "stderr",
     "output_type": "stream",
     "text": [
      "Predicting on Test:  48%|████▊     | 131/272 [04:04<02:00,  1.17it/s]"
     ]
    },
    {
     "name": "stdout",
     "output_type": "stream",
     "text": [
      "Warning: Corrupt or missing audio at index 1048: /mnt/c/users/evacantin/desktop/MASTER/HAIA/Trabajo/MMUSED-fallacy/audio_clips/47_2024/1048.wav. Setting default.\n",
      "Warning: Corrupt or missing audio at index 1049: /mnt/c/users/evacantin/desktop/MASTER/HAIA/Trabajo/MMUSED-fallacy/audio_clips/47_2024/1049.wav. Setting default.\n",
      "Warning: Corrupt or missing audio at index 1050: /mnt/c/users/evacantin/desktop/MASTER/HAIA/Trabajo/MMUSED-fallacy/audio_clips/47_2024/1050.wav. Setting default.\n",
      "Warning: Corrupt or missing audio at index 1051: /mnt/c/users/evacantin/desktop/MASTER/HAIA/Trabajo/MMUSED-fallacy/audio_clips/47_2024/1051.wav. Setting default.\n",
      "Warning: Corrupt or missing audio at index 1052: /mnt/c/users/evacantin/desktop/MASTER/HAIA/Trabajo/MMUSED-fallacy/audio_clips/47_2024/1052.wav. Setting default.\n",
      "Warning: Corrupt or missing audio at index 1053: /mnt/c/users/evacantin/desktop/MASTER/HAIA/Trabajo/MMUSED-fallacy/audio_clips/47_2024/1053.wav. Setting default.\n",
      "Warning: Corrupt or missing audio at index 1054: /mnt/c/users/evacantin/desktop/MASTER/HAIA/Trabajo/MMUSED-fallacy/audio_clips/47_2024/1054.wav. Setting default.\n",
      "Warning: Corrupt or missing audio at index 1055: /mnt/c/users/evacantin/desktop/MASTER/HAIA/Trabajo/MMUSED-fallacy/audio_clips/47_2024/1055.wav. Setting default.\n"
     ]
    },
    {
     "name": "stderr",
     "output_type": "stream",
     "text": [
      "Predicting on Test:  49%|████▊     | 132/272 [04:04<01:58,  1.18it/s]"
     ]
    },
    {
     "name": "stdout",
     "output_type": "stream",
     "text": [
      "Warning: Corrupt or missing audio at index 1056: /mnt/c/users/evacantin/desktop/MASTER/HAIA/Trabajo/MMUSED-fallacy/audio_clips/47_2024/1056.wav. Setting default.\n",
      "Warning: Corrupt or missing audio at index 1057: /mnt/c/users/evacantin/desktop/MASTER/HAIA/Trabajo/MMUSED-fallacy/audio_clips/47_2024/1057.wav. Setting default.\n",
      "Warning: Corrupt or missing audio at index 1058: /mnt/c/users/evacantin/desktop/MASTER/HAIA/Trabajo/MMUSED-fallacy/audio_clips/47_2024/1058.wav. Setting default.\n",
      "Warning: Corrupt or missing audio at index 1059: /mnt/c/users/evacantin/desktop/MASTER/HAIA/Trabajo/MMUSED-fallacy/audio_clips/47_2024/1059.wav. Setting default.\n",
      "Warning: Corrupt or missing audio at index 1060: /mnt/c/users/evacantin/desktop/MASTER/HAIA/Trabajo/MMUSED-fallacy/audio_clips/47_2024/1060.wav. Setting default.\n",
      "Warning: Corrupt or missing audio at index 1061: /mnt/c/users/evacantin/desktop/MASTER/HAIA/Trabajo/MMUSED-fallacy/audio_clips/47_2024/1061.wav. Setting default.\n",
      "Warning: Corrupt or missing audio at index 1062: /mnt/c/users/evacantin/desktop/MASTER/HAIA/Trabajo/MMUSED-fallacy/audio_clips/47_2024/1062.wav. Setting default.\n",
      "Warning: Corrupt or missing audio at index 1063: /mnt/c/users/evacantin/desktop/MASTER/HAIA/Trabajo/MMUSED-fallacy/audio_clips/47_2024/1063.wav. Setting default.\n"
     ]
    },
    {
     "name": "stderr",
     "output_type": "stream",
     "text": [
      "Predicting on Test:  49%|████▉     | 133/272 [04:05<01:58,  1.18it/s]"
     ]
    },
    {
     "name": "stdout",
     "output_type": "stream",
     "text": [
      "Warning: Corrupt or missing audio at index 1064: /mnt/c/users/evacantin/desktop/MASTER/HAIA/Trabajo/MMUSED-fallacy/audio_clips/47_2024/1064.wav. Setting default.\n",
      "Warning: Corrupt or missing audio at index 1065: /mnt/c/users/evacantin/desktop/MASTER/HAIA/Trabajo/MMUSED-fallacy/audio_clips/47_2024/1065.wav. Setting default.\n",
      "Warning: Corrupt or missing audio at index 1066: /mnt/c/users/evacantin/desktop/MASTER/HAIA/Trabajo/MMUSED-fallacy/audio_clips/47_2024/1066.wav. Setting default.\n",
      "Warning: Corrupt or missing audio at index 1067: /mnt/c/users/evacantin/desktop/MASTER/HAIA/Trabajo/MMUSED-fallacy/audio_clips/47_2024/1067.wav. Setting default.\n",
      "Warning: Corrupt or missing audio at index 1068: /mnt/c/users/evacantin/desktop/MASTER/HAIA/Trabajo/MMUSED-fallacy/audio_clips/47_2024/1068.wav. Setting default.\n",
      "Warning: Corrupt or missing audio at index 1069: /mnt/c/users/evacantin/desktop/MASTER/HAIA/Trabajo/MMUSED-fallacy/audio_clips/47_2024/1069.wav. Setting default.\n",
      "Warning: Corrupt or missing audio at index 1070: /mnt/c/users/evacantin/desktop/MASTER/HAIA/Trabajo/MMUSED-fallacy/audio_clips/47_2024/1070.wav. Setting default.\n",
      "Warning: Corrupt or missing audio at index 1071: /mnt/c/users/evacantin/desktop/MASTER/HAIA/Trabajo/MMUSED-fallacy/audio_clips/47_2024/1071.wav. Setting default.\n"
     ]
    },
    {
     "name": "stderr",
     "output_type": "stream",
     "text": [
      "Predicting on Test:  49%|████▉     | 134/272 [04:06<01:57,  1.18it/s]"
     ]
    },
    {
     "name": "stdout",
     "output_type": "stream",
     "text": [
      "Warning: Corrupt or missing audio at index 1072: /mnt/c/users/evacantin/desktop/MASTER/HAIA/Trabajo/MMUSED-fallacy/audio_clips/47_2024/1072.wav. Setting default.\n",
      "Warning: Corrupt or missing audio at index 1073: /mnt/c/users/evacantin/desktop/MASTER/HAIA/Trabajo/MMUSED-fallacy/audio_clips/47_2024/1073.wav. Setting default.\n",
      "Warning: Corrupt or missing audio at index 1074: /mnt/c/users/evacantin/desktop/MASTER/HAIA/Trabajo/MMUSED-fallacy/audio_clips/47_2024/1074.wav. Setting default.\n",
      "Warning: Corrupt or missing audio at index 1075: /mnt/c/users/evacantin/desktop/MASTER/HAIA/Trabajo/MMUSED-fallacy/audio_clips/47_2024/1075.wav. Setting default.\n",
      "Warning: Corrupt or missing audio at index 1076: /mnt/c/users/evacantin/desktop/MASTER/HAIA/Trabajo/MMUSED-fallacy/audio_clips/47_2024/1076.wav. Setting default.\n",
      "Warning: Corrupt or missing audio at index 1077: /mnt/c/users/evacantin/desktop/MASTER/HAIA/Trabajo/MMUSED-fallacy/audio_clips/47_2024/1077.wav. Setting default.\n",
      "Warning: Corrupt or missing audio at index 1078: /mnt/c/users/evacantin/desktop/MASTER/HAIA/Trabajo/MMUSED-fallacy/audio_clips/47_2024/1078.wav. Setting default.\n",
      "Warning: Corrupt or missing audio at index 1079: /mnt/c/users/evacantin/desktop/MASTER/HAIA/Trabajo/MMUSED-fallacy/audio_clips/47_2024/1079.wav. Setting default.\n"
     ]
    },
    {
     "name": "stderr",
     "output_type": "stream",
     "text": [
      "Predicting on Test:  50%|████▉     | 135/272 [04:07<01:57,  1.17it/s]"
     ]
    },
    {
     "name": "stdout",
     "output_type": "stream",
     "text": [
      "Warning: Corrupt or missing audio at index 1080: /mnt/c/users/evacantin/desktop/MASTER/HAIA/Trabajo/MMUSED-fallacy/audio_clips/47_2024/1080.wav. Setting default.\n",
      "Warning: Corrupt or missing audio at index 1081: /mnt/c/users/evacantin/desktop/MASTER/HAIA/Trabajo/MMUSED-fallacy/audio_clips/47_2024/1081.wav. Setting default.\n",
      "Warning: Corrupt or missing audio at index 1082: /mnt/c/users/evacantin/desktop/MASTER/HAIA/Trabajo/MMUSED-fallacy/audio_clips/47_2024/1082.wav. Setting default.\n",
      "Warning: Corrupt or missing audio at index 1083: /mnt/c/users/evacantin/desktop/MASTER/HAIA/Trabajo/MMUSED-fallacy/audio_clips/47_2024/1083.wav. Setting default.\n",
      "Warning: Corrupt or missing audio at index 1084: /mnt/c/users/evacantin/desktop/MASTER/HAIA/Trabajo/MMUSED-fallacy/audio_clips/47_2024/1084.wav. Setting default.\n",
      "Warning: Corrupt or missing audio at index 1085: /mnt/c/users/evacantin/desktop/MASTER/HAIA/Trabajo/MMUSED-fallacy/audio_clips/47_2024/1085.wav. Setting default.\n",
      "Warning: Corrupt or missing audio at index 1086: /mnt/c/users/evacantin/desktop/MASTER/HAIA/Trabajo/MMUSED-fallacy/audio_clips/47_2024/1086.wav. Setting default.\n",
      "Warning: Corrupt or missing audio at index 1087: /mnt/c/users/evacantin/desktop/MASTER/HAIA/Trabajo/MMUSED-fallacy/audio_clips/47_2024/1087.wav. Setting default.\n"
     ]
    },
    {
     "name": "stderr",
     "output_type": "stream",
     "text": [
      "Predicting on Test:  50%|█████     | 136/272 [04:08<01:55,  1.18it/s]"
     ]
    },
    {
     "name": "stdout",
     "output_type": "stream",
     "text": [
      "Warning: Corrupt or missing audio at index 1088: /mnt/c/users/evacantin/desktop/MASTER/HAIA/Trabajo/MMUSED-fallacy/audio_clips/47_2024/1088.wav. Setting default.\n",
      "Warning: Corrupt or missing audio at index 1089: /mnt/c/users/evacantin/desktop/MASTER/HAIA/Trabajo/MMUSED-fallacy/audio_clips/47_2024/1089.wav. Setting default.\n",
      "Warning: Corrupt or missing audio at index 1090: /mnt/c/users/evacantin/desktop/MASTER/HAIA/Trabajo/MMUSED-fallacy/audio_clips/47_2024/1090.wav. Setting default.\n",
      "Warning: Corrupt or missing audio at index 1091: /mnt/c/users/evacantin/desktop/MASTER/HAIA/Trabajo/MMUSED-fallacy/audio_clips/47_2024/1091.wav. Setting default.\n",
      "Warning: Corrupt or missing audio at index 1092: /mnt/c/users/evacantin/desktop/MASTER/HAIA/Trabajo/MMUSED-fallacy/audio_clips/47_2024/1092.wav. Setting default.\n",
      "Warning: Corrupt or missing audio at index 1093: /mnt/c/users/evacantin/desktop/MASTER/HAIA/Trabajo/MMUSED-fallacy/audio_clips/47_2024/1093.wav. Setting default.\n",
      "Warning: Corrupt or missing audio at index 1094: /mnt/c/users/evacantin/desktop/MASTER/HAIA/Trabajo/MMUSED-fallacy/audio_clips/47_2024/1094.wav. Setting default.\n",
      "Warning: Corrupt or missing audio at index 1095: /mnt/c/users/evacantin/desktop/MASTER/HAIA/Trabajo/MMUSED-fallacy/audio_clips/47_2024/1095.wav. Setting default.\n"
     ]
    },
    {
     "name": "stderr",
     "output_type": "stream",
     "text": [
      "Predicting on Test:  50%|█████     | 137/272 [04:09<01:55,  1.16it/s]"
     ]
    },
    {
     "name": "stdout",
     "output_type": "stream",
     "text": [
      "Warning: Corrupt or missing audio at index 1096: /mnt/c/users/evacantin/desktop/MASTER/HAIA/Trabajo/MMUSED-fallacy/audio_clips/47_2024/1096.wav. Setting default.\n",
      "Warning: Corrupt or missing audio at index 1097: /mnt/c/users/evacantin/desktop/MASTER/HAIA/Trabajo/MMUSED-fallacy/audio_clips/47_2024/1097.wav. Setting default.\n",
      "Warning: Corrupt or missing audio at index 1098: /mnt/c/users/evacantin/desktop/MASTER/HAIA/Trabajo/MMUSED-fallacy/audio_clips/47_2024/1098.wav. Setting default.\n"
     ]
    },
    {
     "name": "stderr",
     "output_type": "stream",
     "text": [
      "Predicting on Test:  89%|████████▊ | 241/272 [08:53<01:46,  3.42s/it]"
     ]
    },
    {
     "name": "stdout",
     "output_type": "stream",
     "text": [
      "Warning: Corrupt or missing audio at index 1931: /mnt/c/users/evacantin/desktop/MASTER/HAIA/Trabajo/MMUSED-fallacy/audio_clips/48_2024/832.wav. Setting default.\n",
      "Warning: Corrupt or missing audio at index 1932: /mnt/c/users/evacantin/desktop/MASTER/HAIA/Trabajo/MMUSED-fallacy/audio_clips/48_2024/833.wav. Setting default.\n",
      "Warning: Corrupt or missing audio at index 1933: /mnt/c/users/evacantin/desktop/MASTER/HAIA/Trabajo/MMUSED-fallacy/audio_clips/48_2024/834.wav. Setting default.\n",
      "Warning: Corrupt or missing audio at index 1934: /mnt/c/users/evacantin/desktop/MASTER/HAIA/Trabajo/MMUSED-fallacy/audio_clips/48_2024/835.wav. Setting default.\n",
      "Warning: Corrupt or missing audio at index 1935: /mnt/c/users/evacantin/desktop/MASTER/HAIA/Trabajo/MMUSED-fallacy/audio_clips/48_2024/836.wav. Setting default.\n"
     ]
    },
    {
     "name": "stderr",
     "output_type": "stream",
     "text": [
      "Predicting on Test:  89%|████████▉ | 242/272 [08:54<01:22,  2.75s/it]"
     ]
    },
    {
     "name": "stdout",
     "output_type": "stream",
     "text": [
      "Warning: Corrupt or missing audio at index 1936: /mnt/c/users/evacantin/desktop/MASTER/HAIA/Trabajo/MMUSED-fallacy/audio_clips/48_2024/837.wav. Setting default.\n",
      "Warning: Corrupt or missing audio at index 1937: /mnt/c/users/evacantin/desktop/MASTER/HAIA/Trabajo/MMUSED-fallacy/audio_clips/48_2024/838.wav. Setting default.\n",
      "Warning: Corrupt or missing audio at index 1938: /mnt/c/users/evacantin/desktop/MASTER/HAIA/Trabajo/MMUSED-fallacy/audio_clips/48_2024/839.wav. Setting default.\n",
      "Warning: Corrupt or missing audio at index 1939: /mnt/c/users/evacantin/desktop/MASTER/HAIA/Trabajo/MMUSED-fallacy/audio_clips/48_2024/840.wav. Setting default.\n",
      "Warning: Corrupt or missing audio at index 1940: /mnt/c/users/evacantin/desktop/MASTER/HAIA/Trabajo/MMUSED-fallacy/audio_clips/48_2024/841.wav. Setting default.\n",
      "Warning: Corrupt or missing audio at index 1941: /mnt/c/users/evacantin/desktop/MASTER/HAIA/Trabajo/MMUSED-fallacy/audio_clips/48_2024/842.wav. Setting default.\n",
      "Warning: Corrupt or missing audio at index 1942: /mnt/c/users/evacantin/desktop/MASTER/HAIA/Trabajo/MMUSED-fallacy/audio_clips/48_2024/843.wav. Setting default.\n",
      "Warning: Corrupt or missing audio at index 1943: /mnt/c/users/evacantin/desktop/MASTER/HAIA/Trabajo/MMUSED-fallacy/audio_clips/48_2024/844.wav. Setting default.\n"
     ]
    },
    {
     "name": "stderr",
     "output_type": "stream",
     "text": [
      "Predicting on Test:  89%|████████▉ | 243/272 [08:55<01:03,  2.20s/it]"
     ]
    },
    {
     "name": "stdout",
     "output_type": "stream",
     "text": [
      "Warning: Corrupt or missing audio at index 1944: /mnt/c/users/evacantin/desktop/MASTER/HAIA/Trabajo/MMUSED-fallacy/audio_clips/48_2024/845.wav. Setting default.\n",
      "Warning: Corrupt or missing audio at index 1945: /mnt/c/users/evacantin/desktop/MASTER/HAIA/Trabajo/MMUSED-fallacy/audio_clips/48_2024/846.wav. Setting default.\n",
      "Warning: Corrupt or missing audio at index 1946: /mnt/c/users/evacantin/desktop/MASTER/HAIA/Trabajo/MMUSED-fallacy/audio_clips/48_2024/847.wav. Setting default.\n",
      "Warning: Corrupt or missing audio at index 1947: /mnt/c/users/evacantin/desktop/MASTER/HAIA/Trabajo/MMUSED-fallacy/audio_clips/48_2024/848.wav. Setting default.\n",
      "Warning: Corrupt or missing audio at index 1948: /mnt/c/users/evacantin/desktop/MASTER/HAIA/Trabajo/MMUSED-fallacy/audio_clips/48_2024/849.wav. Setting default.\n",
      "Warning: Corrupt or missing audio at index 1949: /mnt/c/users/evacantin/desktop/MASTER/HAIA/Trabajo/MMUSED-fallacy/audio_clips/48_2024/850.wav. Setting default.\n",
      "Warning: Corrupt or missing audio at index 1950: /mnt/c/users/evacantin/desktop/MASTER/HAIA/Trabajo/MMUSED-fallacy/audio_clips/48_2024/851.wav. Setting default.\n",
      "Warning: Corrupt or missing audio at index 1951: /mnt/c/users/evacantin/desktop/MASTER/HAIA/Trabajo/MMUSED-fallacy/audio_clips/48_2024/852.wav. Setting default.\n"
     ]
    },
    {
     "name": "stderr",
     "output_type": "stream",
     "text": [
      "Predicting on Test:  90%|████████▉ | 244/272 [08:56<00:50,  1.80s/it]"
     ]
    },
    {
     "name": "stdout",
     "output_type": "stream",
     "text": [
      "Warning: Corrupt or missing audio at index 1952: /mnt/c/users/evacantin/desktop/MASTER/HAIA/Trabajo/MMUSED-fallacy/audio_clips/48_2024/853.wav. Setting default.\n",
      "Warning: Corrupt or missing audio at index 1953: /mnt/c/users/evacantin/desktop/MASTER/HAIA/Trabajo/MMUSED-fallacy/audio_clips/48_2024/854.wav. Setting default.\n",
      "Warning: Corrupt or missing audio at index 1954: /mnt/c/users/evacantin/desktop/MASTER/HAIA/Trabajo/MMUSED-fallacy/audio_clips/48_2024/855.wav. Setting default.\n",
      "Warning: Corrupt or missing audio at index 1955: /mnt/c/users/evacantin/desktop/MASTER/HAIA/Trabajo/MMUSED-fallacy/audio_clips/48_2024/856.wav. Setting default.\n",
      "Warning: Corrupt or missing audio at index 1956: /mnt/c/users/evacantin/desktop/MASTER/HAIA/Trabajo/MMUSED-fallacy/audio_clips/48_2024/857.wav. Setting default.\n",
      "Warning: Corrupt or missing audio at index 1957: /mnt/c/users/evacantin/desktop/MASTER/HAIA/Trabajo/MMUSED-fallacy/audio_clips/48_2024/858.wav. Setting default.\n",
      "Warning: Corrupt or missing audio at index 1958: /mnt/c/users/evacantin/desktop/MASTER/HAIA/Trabajo/MMUSED-fallacy/audio_clips/48_2024/859.wav. Setting default.\n",
      "Warning: Corrupt or missing audio at index 1959: /mnt/c/users/evacantin/desktop/MASTER/HAIA/Trabajo/MMUSED-fallacy/audio_clips/48_2024/860.wav. Setting default.\n"
     ]
    },
    {
     "name": "stderr",
     "output_type": "stream",
     "text": [
      "Predicting on Test:  90%|█████████ | 245/272 [08:56<00:41,  1.52s/it]"
     ]
    },
    {
     "name": "stdout",
     "output_type": "stream",
     "text": [
      "Warning: Corrupt or missing audio at index 1960: /mnt/c/users/evacantin/desktop/MASTER/HAIA/Trabajo/MMUSED-fallacy/audio_clips/48_2024/861.wav. Setting default.\n",
      "Warning: Corrupt or missing audio at index 1961: /mnt/c/users/evacantin/desktop/MASTER/HAIA/Trabajo/MMUSED-fallacy/audio_clips/48_2024/862.wav. Setting default.\n",
      "Warning: Corrupt or missing audio at index 1962: /mnt/c/users/evacantin/desktop/MASTER/HAIA/Trabajo/MMUSED-fallacy/audio_clips/48_2024/863.wav. Setting default.\n",
      "Warning: Corrupt or missing audio at index 1963: /mnt/c/users/evacantin/desktop/MASTER/HAIA/Trabajo/MMUSED-fallacy/audio_clips/48_2024/864.wav. Setting default.\n",
      "Warning: Corrupt or missing audio at index 1964: /mnt/c/users/evacantin/desktop/MASTER/HAIA/Trabajo/MMUSED-fallacy/audio_clips/48_2024/865.wav. Setting default.\n",
      "Warning: Corrupt or missing audio at index 1965: /mnt/c/users/evacantin/desktop/MASTER/HAIA/Trabajo/MMUSED-fallacy/audio_clips/48_2024/866.wav. Setting default.\n",
      "Warning: Corrupt or missing audio at index 1966: /mnt/c/users/evacantin/desktop/MASTER/HAIA/Trabajo/MMUSED-fallacy/audio_clips/48_2024/867.wav. Setting default.\n",
      "Warning: Corrupt or missing audio at index 1967: /mnt/c/users/evacantin/desktop/MASTER/HAIA/Trabajo/MMUSED-fallacy/audio_clips/48_2024/868.wav. Setting default.\n"
     ]
    },
    {
     "name": "stderr",
     "output_type": "stream",
     "text": [
      "Predicting on Test:  90%|█████████ | 246/272 [08:57<00:35,  1.35s/it]"
     ]
    },
    {
     "name": "stdout",
     "output_type": "stream",
     "text": [
      "Warning: Corrupt or missing audio at index 1968: /mnt/c/users/evacantin/desktop/MASTER/HAIA/Trabajo/MMUSED-fallacy/audio_clips/48_2024/869.wav. Setting default.\n",
      "Warning: Corrupt or missing audio at index 1969: /mnt/c/users/evacantin/desktop/MASTER/HAIA/Trabajo/MMUSED-fallacy/audio_clips/48_2024/870.wav. Setting default.\n",
      "Warning: Corrupt or missing audio at index 1970: /mnt/c/users/evacantin/desktop/MASTER/HAIA/Trabajo/MMUSED-fallacy/audio_clips/48_2024/871.wav. Setting default.\n",
      "Warning: Corrupt or missing audio at index 1971: /mnt/c/users/evacantin/desktop/MASTER/HAIA/Trabajo/MMUSED-fallacy/audio_clips/48_2024/872.wav. Setting default.\n",
      "Warning: Corrupt or missing audio at index 1972: /mnt/c/users/evacantin/desktop/MASTER/HAIA/Trabajo/MMUSED-fallacy/audio_clips/48_2024/873.wav. Setting default.\n",
      "Warning: Corrupt or missing audio at index 1973: /mnt/c/users/evacantin/desktop/MASTER/HAIA/Trabajo/MMUSED-fallacy/audio_clips/48_2024/874.wav. Setting default.\n",
      "Warning: Corrupt or missing audio at index 1974: /mnt/c/users/evacantin/desktop/MASTER/HAIA/Trabajo/MMUSED-fallacy/audio_clips/48_2024/875.wav. Setting default.\n",
      "Warning: Corrupt or missing audio at index 1975: /mnt/c/users/evacantin/desktop/MASTER/HAIA/Trabajo/MMUSED-fallacy/audio_clips/48_2024/876.wav. Setting default.\n"
     ]
    },
    {
     "name": "stderr",
     "output_type": "stream",
     "text": [
      "Predicting on Test:  91%|█████████ | 247/272 [08:58<00:30,  1.21s/it]"
     ]
    },
    {
     "name": "stdout",
     "output_type": "stream",
     "text": [
      "Warning: Corrupt or missing audio at index 1976: /mnt/c/users/evacantin/desktop/MASTER/HAIA/Trabajo/MMUSED-fallacy/audio_clips/48_2024/877.wav. Setting default.\n",
      "Warning: Corrupt or missing audio at index 1977: /mnt/c/users/evacantin/desktop/MASTER/HAIA/Trabajo/MMUSED-fallacy/audio_clips/48_2024/878.wav. Setting default.\n",
      "Warning: Corrupt or missing audio at index 1978: /mnt/c/users/evacantin/desktop/MASTER/HAIA/Trabajo/MMUSED-fallacy/audio_clips/48_2024/879.wav. Setting default.\n",
      "Warning: Corrupt or missing audio at index 1979: /mnt/c/users/evacantin/desktop/MASTER/HAIA/Trabajo/MMUSED-fallacy/audio_clips/48_2024/880.wav. Setting default.\n",
      "Warning: Corrupt or missing audio at index 1980: /mnt/c/users/evacantin/desktop/MASTER/HAIA/Trabajo/MMUSED-fallacy/audio_clips/48_2024/881.wav. Setting default.\n",
      "Warning: Corrupt or missing audio at index 1981: /mnt/c/users/evacantin/desktop/MASTER/HAIA/Trabajo/MMUSED-fallacy/audio_clips/48_2024/882.wav. Setting default.\n",
      "Warning: Corrupt or missing audio at index 1982: /mnt/c/users/evacantin/desktop/MASTER/HAIA/Trabajo/MMUSED-fallacy/audio_clips/48_2024/883.wav. Setting default.\n",
      "Warning: Corrupt or missing audio at index 1983: /mnt/c/users/evacantin/desktop/MASTER/HAIA/Trabajo/MMUSED-fallacy/audio_clips/48_2024/884.wav. Setting default.\n"
     ]
    },
    {
     "name": "stderr",
     "output_type": "stream",
     "text": [
      "Predicting on Test:  91%|█████████ | 248/272 [09:02<00:48,  2.03s/it]"
     ]
    },
    {
     "name": "stdout",
     "output_type": "stream",
     "text": [
      "Warning: Corrupt or missing audio at index 1984: /mnt/c/users/evacantin/desktop/MASTER/HAIA/Trabajo/MMUSED-fallacy/audio_clips/48_2024/885.wav. Setting default.\n",
      "Warning: Corrupt or missing audio at index 1985: /mnt/c/users/evacantin/desktop/MASTER/HAIA/Trabajo/MMUSED-fallacy/audio_clips/48_2024/886.wav. Setting default.\n",
      "Warning: Corrupt or missing audio at index 1986: /mnt/c/users/evacantin/desktop/MASTER/HAIA/Trabajo/MMUSED-fallacy/audio_clips/48_2024/887.wav. Setting default.\n",
      "Warning: Corrupt or missing audio at index 1987: /mnt/c/users/evacantin/desktop/MASTER/HAIA/Trabajo/MMUSED-fallacy/audio_clips/48_2024/888.wav. Setting default.\n",
      "Warning: Corrupt or missing audio at index 1988: /mnt/c/users/evacantin/desktop/MASTER/HAIA/Trabajo/MMUSED-fallacy/audio_clips/48_2024/889.wav. Setting default.\n",
      "Warning: Corrupt or missing audio at index 1989: /mnt/c/users/evacantin/desktop/MASTER/HAIA/Trabajo/MMUSED-fallacy/audio_clips/48_2024/890.wav. Setting default.\n",
      "Warning: Corrupt or missing audio at index 1990: /mnt/c/users/evacantin/desktop/MASTER/HAIA/Trabajo/MMUSED-fallacy/audio_clips/48_2024/891.wav. Setting default.\n",
      "Warning: Corrupt or missing audio at index 1991: /mnt/c/users/evacantin/desktop/MASTER/HAIA/Trabajo/MMUSED-fallacy/audio_clips/48_2024/892.wav. Setting default.\n"
     ]
    },
    {
     "name": "stderr",
     "output_type": "stream",
     "text": [
      "Predicting on Test:  92%|█████████▏| 249/272 [09:03<00:39,  1.70s/it]"
     ]
    },
    {
     "name": "stdout",
     "output_type": "stream",
     "text": [
      "Warning: Corrupt or missing audio at index 1992: /mnt/c/users/evacantin/desktop/MASTER/HAIA/Trabajo/MMUSED-fallacy/audio_clips/48_2024/893.wav. Setting default.\n",
      "Warning: Corrupt or missing audio at index 1993: /mnt/c/users/evacantin/desktop/MASTER/HAIA/Trabajo/MMUSED-fallacy/audio_clips/48_2024/894.wav. Setting default.\n",
      "Warning: Corrupt or missing audio at index 1994: /mnt/c/users/evacantin/desktop/MASTER/HAIA/Trabajo/MMUSED-fallacy/audio_clips/48_2024/895.wav. Setting default.\n",
      "Warning: Corrupt or missing audio at index 1995: /mnt/c/users/evacantin/desktop/MASTER/HAIA/Trabajo/MMUSED-fallacy/audio_clips/48_2024/896.wav. Setting default.\n",
      "Warning: Corrupt or missing audio at index 1996: /mnt/c/users/evacantin/desktop/MASTER/HAIA/Trabajo/MMUSED-fallacy/audio_clips/48_2024/897.wav. Setting default.\n",
      "Warning: Corrupt or missing audio at index 1997: /mnt/c/users/evacantin/desktop/MASTER/HAIA/Trabajo/MMUSED-fallacy/audio_clips/48_2024/898.wav. Setting default.\n",
      "Warning: Corrupt or missing audio at index 1998: /mnt/c/users/evacantin/desktop/MASTER/HAIA/Trabajo/MMUSED-fallacy/audio_clips/48_2024/899.wav. Setting default.\n",
      "Warning: Corrupt or missing audio at index 1999: /mnt/c/users/evacantin/desktop/MASTER/HAIA/Trabajo/MMUSED-fallacy/audio_clips/48_2024/900.wav. Setting default.\n"
     ]
    },
    {
     "name": "stderr",
     "output_type": "stream",
     "text": [
      "Predicting on Test:  92%|█████████▏| 250/272 [09:04<00:32,  1.47s/it]"
     ]
    },
    {
     "name": "stdout",
     "output_type": "stream",
     "text": [
      "Warning: Corrupt or missing audio at index 2000: /mnt/c/users/evacantin/desktop/MASTER/HAIA/Trabajo/MMUSED-fallacy/audio_clips/48_2024/901.wav. Setting default.\n",
      "Warning: Corrupt or missing audio at index 2001: /mnt/c/users/evacantin/desktop/MASTER/HAIA/Trabajo/MMUSED-fallacy/audio_clips/48_2024/902.wav. Setting default.\n",
      "Warning: Corrupt or missing audio at index 2002: /mnt/c/users/evacantin/desktop/MASTER/HAIA/Trabajo/MMUSED-fallacy/audio_clips/48_2024/903.wav. Setting default.\n",
      "Warning: Corrupt or missing audio at index 2003: /mnt/c/users/evacantin/desktop/MASTER/HAIA/Trabajo/MMUSED-fallacy/audio_clips/48_2024/904.wav. Setting default.\n",
      "Warning: Corrupt or missing audio at index 2004: /mnt/c/users/evacantin/desktop/MASTER/HAIA/Trabajo/MMUSED-fallacy/audio_clips/48_2024/905.wav. Setting default.\n",
      "Warning: Corrupt or missing audio at index 2005: /mnt/c/users/evacantin/desktop/MASTER/HAIA/Trabajo/MMUSED-fallacy/audio_clips/48_2024/906.wav. Setting default.\n",
      "Warning: Corrupt or missing audio at index 2006: /mnt/c/users/evacantin/desktop/MASTER/HAIA/Trabajo/MMUSED-fallacy/audio_clips/48_2024/907.wav. Setting default.\n",
      "Warning: Corrupt or missing audio at index 2007: /mnt/c/users/evacantin/desktop/MASTER/HAIA/Trabajo/MMUSED-fallacy/audio_clips/48_2024/908.wav. Setting default.\n"
     ]
    },
    {
     "name": "stderr",
     "output_type": "stream",
     "text": [
      "Predicting on Test:  92%|█████████▏| 251/272 [09:05<00:27,  1.31s/it]"
     ]
    },
    {
     "name": "stdout",
     "output_type": "stream",
     "text": [
      "Warning: Corrupt or missing audio at index 2008: /mnt/c/users/evacantin/desktop/MASTER/HAIA/Trabajo/MMUSED-fallacy/audio_clips/48_2024/909.wav. Setting default.\n",
      "Warning: Corrupt or missing audio at index 2009: /mnt/c/users/evacantin/desktop/MASTER/HAIA/Trabajo/MMUSED-fallacy/audio_clips/48_2024/910.wav. Setting default.\n",
      "Warning: Corrupt or missing audio at index 2010: /mnt/c/users/evacantin/desktop/MASTER/HAIA/Trabajo/MMUSED-fallacy/audio_clips/48_2024/911.wav. Setting default.\n",
      "Warning: Corrupt or missing audio at index 2011: /mnt/c/users/evacantin/desktop/MASTER/HAIA/Trabajo/MMUSED-fallacy/audio_clips/48_2024/912.wav. Setting default.\n",
      "Warning: Corrupt or missing audio at index 2012: /mnt/c/users/evacantin/desktop/MASTER/HAIA/Trabajo/MMUSED-fallacy/audio_clips/48_2024/913.wav. Setting default.\n",
      "Warning: Corrupt or missing audio at index 2013: /mnt/c/users/evacantin/desktop/MASTER/HAIA/Trabajo/MMUSED-fallacy/audio_clips/48_2024/914.wav. Setting default.\n",
      "Warning: Corrupt or missing audio at index 2014: /mnt/c/users/evacantin/desktop/MASTER/HAIA/Trabajo/MMUSED-fallacy/audio_clips/48_2024/915.wav. Setting default.\n",
      "Warning: Corrupt or missing audio at index 2015: /mnt/c/users/evacantin/desktop/MASTER/HAIA/Trabajo/MMUSED-fallacy/audio_clips/48_2024/916.wav. Setting default.\n"
     ]
    },
    {
     "name": "stderr",
     "output_type": "stream",
     "text": [
      "Predicting on Test:  93%|█████████▎| 252/272 [09:06<00:24,  1.21s/it]"
     ]
    },
    {
     "name": "stdout",
     "output_type": "stream",
     "text": [
      "Warning: Corrupt or missing audio at index 2016: /mnt/c/users/evacantin/desktop/MASTER/HAIA/Trabajo/MMUSED-fallacy/audio_clips/48_2024/917.wav. Setting default.\n",
      "Warning: Corrupt or missing audio at index 2017: /mnt/c/users/evacantin/desktop/MASTER/HAIA/Trabajo/MMUSED-fallacy/audio_clips/48_2024/918.wav. Setting default.\n",
      "Warning: Corrupt or missing audio at index 2018: /mnt/c/users/evacantin/desktop/MASTER/HAIA/Trabajo/MMUSED-fallacy/audio_clips/48_2024/919.wav. Setting default.\n",
      "Warning: Corrupt or missing audio at index 2019: /mnt/c/users/evacantin/desktop/MASTER/HAIA/Trabajo/MMUSED-fallacy/audio_clips/48_2024/920.wav. Setting default.\n",
      "Warning: Corrupt or missing audio at index 2020: /mnt/c/users/evacantin/desktop/MASTER/HAIA/Trabajo/MMUSED-fallacy/audio_clips/48_2024/921.wav. Setting default.\n",
      "Warning: Corrupt or missing audio at index 2021: /mnt/c/users/evacantin/desktop/MASTER/HAIA/Trabajo/MMUSED-fallacy/audio_clips/48_2024/922.wav. Setting default.\n",
      "Warning: Corrupt or missing audio at index 2022: /mnt/c/users/evacantin/desktop/MASTER/HAIA/Trabajo/MMUSED-fallacy/audio_clips/48_2024/923.wav. Setting default.\n",
      "Warning: Corrupt or missing audio at index 2023: /mnt/c/users/evacantin/desktop/MASTER/HAIA/Trabajo/MMUSED-fallacy/audio_clips/48_2024/924.wav. Setting default.\n"
     ]
    },
    {
     "name": "stderr",
     "output_type": "stream",
     "text": [
      "Predicting on Test:  93%|█████████▎| 253/272 [09:07<00:21,  1.11s/it]"
     ]
    },
    {
     "name": "stdout",
     "output_type": "stream",
     "text": [
      "Warning: Corrupt or missing audio at index 2024: /mnt/c/users/evacantin/desktop/MASTER/HAIA/Trabajo/MMUSED-fallacy/audio_clips/48_2024/925.wav. Setting default.\n",
      "Warning: Corrupt or missing audio at index 2025: /mnt/c/users/evacantin/desktop/MASTER/HAIA/Trabajo/MMUSED-fallacy/audio_clips/48_2024/926.wav. Setting default.\n",
      "Warning: Corrupt or missing audio at index 2026: /mnt/c/users/evacantin/desktop/MASTER/HAIA/Trabajo/MMUSED-fallacy/audio_clips/48_2024/927.wav. Setting default.\n",
      "Warning: Corrupt or missing audio at index 2027: /mnt/c/users/evacantin/desktop/MASTER/HAIA/Trabajo/MMUSED-fallacy/audio_clips/48_2024/928.wav. Setting default.\n",
      "Warning: Corrupt or missing audio at index 2028: /mnt/c/users/evacantin/desktop/MASTER/HAIA/Trabajo/MMUSED-fallacy/audio_clips/48_2024/929.wav. Setting default.\n",
      "Warning: Corrupt or missing audio at index 2029: /mnt/c/users/evacantin/desktop/MASTER/HAIA/Trabajo/MMUSED-fallacy/audio_clips/48_2024/930.wav. Setting default.\n",
      "Warning: Corrupt or missing audio at index 2030: /mnt/c/users/evacantin/desktop/MASTER/HAIA/Trabajo/MMUSED-fallacy/audio_clips/48_2024/931.wav. Setting default.\n",
      "Warning: Corrupt or missing audio at index 2031: /mnt/c/users/evacantin/desktop/MASTER/HAIA/Trabajo/MMUSED-fallacy/audio_clips/48_2024/932.wav. Setting default.\n"
     ]
    },
    {
     "name": "stderr",
     "output_type": "stream",
     "text": [
      "Predicting on Test:  93%|█████████▎| 254/272 [09:08<00:18,  1.04s/it]"
     ]
    },
    {
     "name": "stdout",
     "output_type": "stream",
     "text": [
      "Warning: Corrupt or missing audio at index 2032: /mnt/c/users/evacantin/desktop/MASTER/HAIA/Trabajo/MMUSED-fallacy/audio_clips/48_2024/933.wav. Setting default.\n",
      "Warning: Corrupt or missing audio at index 2033: /mnt/c/users/evacantin/desktop/MASTER/HAIA/Trabajo/MMUSED-fallacy/audio_clips/48_2024/934.wav. Setting default.\n",
      "Warning: Corrupt or missing audio at index 2034: /mnt/c/users/evacantin/desktop/MASTER/HAIA/Trabajo/MMUSED-fallacy/audio_clips/48_2024/935.wav. Setting default.\n",
      "Warning: Corrupt or missing audio at index 2035: /mnt/c/users/evacantin/desktop/MASTER/HAIA/Trabajo/MMUSED-fallacy/audio_clips/48_2024/936.wav. Setting default.\n",
      "Warning: Corrupt or missing audio at index 2036: /mnt/c/users/evacantin/desktop/MASTER/HAIA/Trabajo/MMUSED-fallacy/audio_clips/48_2024/937.wav. Setting default.\n",
      "Warning: Corrupt or missing audio at index 2037: /mnt/c/users/evacantin/desktop/MASTER/HAIA/Trabajo/MMUSED-fallacy/audio_clips/48_2024/938.wav. Setting default.\n",
      "Warning: Corrupt or missing audio at index 2038: /mnt/c/users/evacantin/desktop/MASTER/HAIA/Trabajo/MMUSED-fallacy/audio_clips/48_2024/939.wav. Setting default.\n",
      "Warning: Corrupt or missing audio at index 2039: /mnt/c/users/evacantin/desktop/MASTER/HAIA/Trabajo/MMUSED-fallacy/audio_clips/48_2024/940.wav. Setting default.\n"
     ]
    },
    {
     "name": "stderr",
     "output_type": "stream",
     "text": [
      "Predicting on Test:  94%|█████████▍| 255/272 [09:09<00:17,  1.00s/it]"
     ]
    },
    {
     "name": "stdout",
     "output_type": "stream",
     "text": [
      "Warning: Corrupt or missing audio at index 2040: /mnt/c/users/evacantin/desktop/MASTER/HAIA/Trabajo/MMUSED-fallacy/audio_clips/48_2024/941.wav. Setting default.\n",
      "Warning: Corrupt or missing audio at index 2041: /mnt/c/users/evacantin/desktop/MASTER/HAIA/Trabajo/MMUSED-fallacy/audio_clips/48_2024/942.wav. Setting default.\n",
      "Warning: Corrupt or missing audio at index 2042: /mnt/c/users/evacantin/desktop/MASTER/HAIA/Trabajo/MMUSED-fallacy/audio_clips/48_2024/943.wav. Setting default.\n",
      "Warning: Corrupt or missing audio at index 2043: /mnt/c/users/evacantin/desktop/MASTER/HAIA/Trabajo/MMUSED-fallacy/audio_clips/48_2024/944.wav. Setting default.\n",
      "Warning: Corrupt or missing audio at index 2044: /mnt/c/users/evacantin/desktop/MASTER/HAIA/Trabajo/MMUSED-fallacy/audio_clips/48_2024/945.wav. Setting default.\n",
      "Warning: Corrupt or missing audio at index 2045: /mnt/c/users/evacantin/desktop/MASTER/HAIA/Trabajo/MMUSED-fallacy/audio_clips/48_2024/946.wav. Setting default.\n",
      "Warning: Corrupt or missing audio at index 2046: /mnt/c/users/evacantin/desktop/MASTER/HAIA/Trabajo/MMUSED-fallacy/audio_clips/48_2024/947.wav. Setting default.\n",
      "Warning: Corrupt or missing audio at index 2047: /mnt/c/users/evacantin/desktop/MASTER/HAIA/Trabajo/MMUSED-fallacy/audio_clips/48_2024/948.wav. Setting default.\n"
     ]
    },
    {
     "name": "stderr",
     "output_type": "stream",
     "text": [
      "Predicting on Test:  94%|█████████▍| 256/272 [09:10<00:15,  1.01it/s]"
     ]
    },
    {
     "name": "stdout",
     "output_type": "stream",
     "text": [
      "Warning: Corrupt or missing audio at index 2048: /mnt/c/users/evacantin/desktop/MASTER/HAIA/Trabajo/MMUSED-fallacy/audio_clips/48_2024/949.wav. Setting default.\n",
      "Warning: Corrupt or missing audio at index 2049: /mnt/c/users/evacantin/desktop/MASTER/HAIA/Trabajo/MMUSED-fallacy/audio_clips/48_2024/950.wav. Setting default.\n",
      "Warning: Corrupt or missing audio at index 2050: /mnt/c/users/evacantin/desktop/MASTER/HAIA/Trabajo/MMUSED-fallacy/audio_clips/48_2024/951.wav. Setting default.\n",
      "Warning: Corrupt or missing audio at index 2051: /mnt/c/users/evacantin/desktop/MASTER/HAIA/Trabajo/MMUSED-fallacy/audio_clips/48_2024/952.wav. Setting default.\n",
      "Warning: Corrupt or missing audio at index 2052: /mnt/c/users/evacantin/desktop/MASTER/HAIA/Trabajo/MMUSED-fallacy/audio_clips/48_2024/953.wav. Setting default.\n",
      "Warning: Corrupt or missing audio at index 2053: /mnt/c/users/evacantin/desktop/MASTER/HAIA/Trabajo/MMUSED-fallacy/audio_clips/48_2024/954.wav. Setting default.\n",
      "Warning: Corrupt or missing audio at index 2054: /mnt/c/users/evacantin/desktop/MASTER/HAIA/Trabajo/MMUSED-fallacy/audio_clips/48_2024/955.wav. Setting default.\n",
      "Warning: Corrupt or missing audio at index 2055: /mnt/c/users/evacantin/desktop/MASTER/HAIA/Trabajo/MMUSED-fallacy/audio_clips/48_2024/956.wav. Setting default.\n"
     ]
    },
    {
     "name": "stderr",
     "output_type": "stream",
     "text": [
      "Predicting on Test:  94%|█████████▍| 257/272 [09:11<00:14,  1.04it/s]"
     ]
    },
    {
     "name": "stdout",
     "output_type": "stream",
     "text": [
      "Warning: Corrupt or missing audio at index 2056: /mnt/c/users/evacantin/desktop/MASTER/HAIA/Trabajo/MMUSED-fallacy/audio_clips/48_2024/957.wav. Setting default.\n",
      "Warning: Corrupt or missing audio at index 2057: /mnt/c/users/evacantin/desktop/MASTER/HAIA/Trabajo/MMUSED-fallacy/audio_clips/48_2024/958.wav. Setting default.\n",
      "Warning: Corrupt or missing audio at index 2058: /mnt/c/users/evacantin/desktop/MASTER/HAIA/Trabajo/MMUSED-fallacy/audio_clips/48_2024/959.wav. Setting default.\n",
      "Warning: Corrupt or missing audio at index 2059: /mnt/c/users/evacantin/desktop/MASTER/HAIA/Trabajo/MMUSED-fallacy/audio_clips/48_2024/960.wav. Setting default.\n",
      "Warning: Corrupt or missing audio at index 2060: /mnt/c/users/evacantin/desktop/MASTER/HAIA/Trabajo/MMUSED-fallacy/audio_clips/48_2024/961.wav. Setting default.\n",
      "Warning: Corrupt or missing audio at index 2061: /mnt/c/users/evacantin/desktop/MASTER/HAIA/Trabajo/MMUSED-fallacy/audio_clips/48_2024/962.wav. Setting default.\n",
      "Warning: Corrupt or missing audio at index 2062: /mnt/c/users/evacantin/desktop/MASTER/HAIA/Trabajo/MMUSED-fallacy/audio_clips/48_2024/963.wav. Setting default.\n",
      "Warning: Corrupt or missing audio at index 2063: /mnt/c/users/evacantin/desktop/MASTER/HAIA/Trabajo/MMUSED-fallacy/audio_clips/48_2024/964.wav. Setting default.\n"
     ]
    },
    {
     "name": "stderr",
     "output_type": "stream",
     "text": [
      "Predicting on Test:  95%|█████████▍| 258/272 [09:12<00:13,  1.04it/s]"
     ]
    },
    {
     "name": "stdout",
     "output_type": "stream",
     "text": [
      "Warning: Corrupt or missing audio at index 2064: /mnt/c/users/evacantin/desktop/MASTER/HAIA/Trabajo/MMUSED-fallacy/audio_clips/48_2024/965.wav. Setting default.\n",
      "Warning: Corrupt or missing audio at index 2065: /mnt/c/users/evacantin/desktop/MASTER/HAIA/Trabajo/MMUSED-fallacy/audio_clips/48_2024/966.wav. Setting default.\n",
      "Warning: Corrupt or missing audio at index 2066: /mnt/c/users/evacantin/desktop/MASTER/HAIA/Trabajo/MMUSED-fallacy/audio_clips/48_2024/967.wav. Setting default.\n",
      "Warning: Corrupt or missing audio at index 2067: /mnt/c/users/evacantin/desktop/MASTER/HAIA/Trabajo/MMUSED-fallacy/audio_clips/48_2024/968.wav. Setting default.\n",
      "Warning: Corrupt or missing audio at index 2068: /mnt/c/users/evacantin/desktop/MASTER/HAIA/Trabajo/MMUSED-fallacy/audio_clips/48_2024/969.wav. Setting default.\n",
      "Warning: Corrupt or missing audio at index 2069: /mnt/c/users/evacantin/desktop/MASTER/HAIA/Trabajo/MMUSED-fallacy/audio_clips/48_2024/970.wav. Setting default.\n",
      "Warning: Corrupt or missing audio at index 2070: /mnt/c/users/evacantin/desktop/MASTER/HAIA/Trabajo/MMUSED-fallacy/audio_clips/48_2024/971.wav. Setting default.\n",
      "Warning: Corrupt or missing audio at index 2071: /mnt/c/users/evacantin/desktop/MASTER/HAIA/Trabajo/MMUSED-fallacy/audio_clips/48_2024/972.wav. Setting default.\n"
     ]
    },
    {
     "name": "stderr",
     "output_type": "stream",
     "text": [
      "Predicting on Test:  95%|█████████▌| 259/272 [09:12<00:12,  1.04it/s]"
     ]
    },
    {
     "name": "stdout",
     "output_type": "stream",
     "text": [
      "Warning: Corrupt or missing audio at index 2072: /mnt/c/users/evacantin/desktop/MASTER/HAIA/Trabajo/MMUSED-fallacy/audio_clips/48_2024/973.wav. Setting default.\n",
      "Warning: Corrupt or missing audio at index 2073: /mnt/c/users/evacantin/desktop/MASTER/HAIA/Trabajo/MMUSED-fallacy/audio_clips/48_2024/974.wav. Setting default.\n",
      "Warning: Corrupt or missing audio at index 2074: /mnt/c/users/evacantin/desktop/MASTER/HAIA/Trabajo/MMUSED-fallacy/audio_clips/48_2024/975.wav. Setting default.\n",
      "Warning: Corrupt or missing audio at index 2075: /mnt/c/users/evacantin/desktop/MASTER/HAIA/Trabajo/MMUSED-fallacy/audio_clips/48_2024/976.wav. Setting default.\n",
      "Warning: Corrupt or missing audio at index 2076: /mnt/c/users/evacantin/desktop/MASTER/HAIA/Trabajo/MMUSED-fallacy/audio_clips/48_2024/977.wav. Setting default.\n",
      "Warning: Corrupt or missing audio at index 2077: /mnt/c/users/evacantin/desktop/MASTER/HAIA/Trabajo/MMUSED-fallacy/audio_clips/48_2024/978.wav. Setting default.\n",
      "Warning: Corrupt or missing audio at index 2078: /mnt/c/users/evacantin/desktop/MASTER/HAIA/Trabajo/MMUSED-fallacy/audio_clips/48_2024/979.wav. Setting default.\n",
      "Warning: Corrupt or missing audio at index 2079: /mnt/c/users/evacantin/desktop/MASTER/HAIA/Trabajo/MMUSED-fallacy/audio_clips/48_2024/980.wav. Setting default.\n"
     ]
    },
    {
     "name": "stderr",
     "output_type": "stream",
     "text": [
      "Predicting on Test:  96%|█████████▌| 260/272 [09:14<00:12,  1.00s/it]"
     ]
    },
    {
     "name": "stdout",
     "output_type": "stream",
     "text": [
      "Warning: Corrupt or missing audio at index 2080: /mnt/c/users/evacantin/desktop/MASTER/HAIA/Trabajo/MMUSED-fallacy/audio_clips/48_2024/981.wav. Setting default.\n",
      "Warning: Corrupt or missing audio at index 2081: /mnt/c/users/evacantin/desktop/MASTER/HAIA/Trabajo/MMUSED-fallacy/audio_clips/48_2024/982.wav. Setting default.\n",
      "Warning: Corrupt or missing audio at index 2082: /mnt/c/users/evacantin/desktop/MASTER/HAIA/Trabajo/MMUSED-fallacy/audio_clips/48_2024/983.wav. Setting default.\n",
      "Warning: Corrupt or missing audio at index 2083: /mnt/c/users/evacantin/desktop/MASTER/HAIA/Trabajo/MMUSED-fallacy/audio_clips/48_2024/984.wav. Setting default.\n",
      "Warning: Corrupt or missing audio at index 2084: /mnt/c/users/evacantin/desktop/MASTER/HAIA/Trabajo/MMUSED-fallacy/audio_clips/48_2024/985.wav. Setting default.\n",
      "Warning: Corrupt or missing audio at index 2085: /mnt/c/users/evacantin/desktop/MASTER/HAIA/Trabajo/MMUSED-fallacy/audio_clips/48_2024/986.wav. Setting default.\n",
      "Warning: Corrupt or missing audio at index 2086: /mnt/c/users/evacantin/desktop/MASTER/HAIA/Trabajo/MMUSED-fallacy/audio_clips/48_2024/987.wav. Setting default.\n",
      "Warning: Corrupt or missing audio at index 2087: /mnt/c/users/evacantin/desktop/MASTER/HAIA/Trabajo/MMUSED-fallacy/audio_clips/48_2024/988.wav. Setting default.\n"
     ]
    },
    {
     "name": "stderr",
     "output_type": "stream",
     "text": [
      "Predicting on Test:  96%|█████████▌| 261/272 [09:14<00:10,  1.03it/s]"
     ]
    },
    {
     "name": "stdout",
     "output_type": "stream",
     "text": [
      "Warning: Corrupt or missing audio at index 2088: /mnt/c/users/evacantin/desktop/MASTER/HAIA/Trabajo/MMUSED-fallacy/audio_clips/48_2024/989.wav. Setting default.\n",
      "Warning: Corrupt or missing audio at index 2089: /mnt/c/users/evacantin/desktop/MASTER/HAIA/Trabajo/MMUSED-fallacy/audio_clips/48_2024/990.wav. Setting default.\n",
      "Warning: Corrupt or missing audio at index 2090: /mnt/c/users/evacantin/desktop/MASTER/HAIA/Trabajo/MMUSED-fallacy/audio_clips/48_2024/991.wav. Setting default.\n",
      "Warning: Corrupt or missing audio at index 2091: /mnt/c/users/evacantin/desktop/MASTER/HAIA/Trabajo/MMUSED-fallacy/audio_clips/48_2024/992.wav. Setting default.\n",
      "Warning: Corrupt or missing audio at index 2092: /mnt/c/users/evacantin/desktop/MASTER/HAIA/Trabajo/MMUSED-fallacy/audio_clips/48_2024/993.wav. Setting default.\n",
      "Warning: Corrupt or missing audio at index 2093: /mnt/c/users/evacantin/desktop/MASTER/HAIA/Trabajo/MMUSED-fallacy/audio_clips/48_2024/994.wav. Setting default.\n",
      "Warning: Corrupt or missing audio at index 2094: /mnt/c/users/evacantin/desktop/MASTER/HAIA/Trabajo/MMUSED-fallacy/audio_clips/48_2024/995.wav. Setting default.\n",
      "Warning: Corrupt or missing audio at index 2095: /mnt/c/users/evacantin/desktop/MASTER/HAIA/Trabajo/MMUSED-fallacy/audio_clips/48_2024/996.wav. Setting default.\n"
     ]
    },
    {
     "name": "stderr",
     "output_type": "stream",
     "text": [
      "Predicting on Test:  96%|█████████▋| 262/272 [09:15<00:09,  1.05it/s]"
     ]
    },
    {
     "name": "stdout",
     "output_type": "stream",
     "text": [
      "Warning: Corrupt or missing audio at index 2096: /mnt/c/users/evacantin/desktop/MASTER/HAIA/Trabajo/MMUSED-fallacy/audio_clips/48_2024/997.wav. Setting default.\n",
      "Warning: Corrupt or missing audio at index 2097: /mnt/c/users/evacantin/desktop/MASTER/HAIA/Trabajo/MMUSED-fallacy/audio_clips/48_2024/998.wav. Setting default.\n",
      "Warning: Corrupt or missing audio at index 2098: /mnt/c/users/evacantin/desktop/MASTER/HAIA/Trabajo/MMUSED-fallacy/audio_clips/48_2024/999.wav. Setting default.\n",
      "Warning: Corrupt or missing audio at index 2099: /mnt/c/users/evacantin/desktop/MASTER/HAIA/Trabajo/MMUSED-fallacy/audio_clips/48_2024/1000.wav. Setting default.\n",
      "Warning: Corrupt or missing audio at index 2100: /mnt/c/users/evacantin/desktop/MASTER/HAIA/Trabajo/MMUSED-fallacy/audio_clips/48_2024/1001.wav. Setting default.\n",
      "Warning: Corrupt or missing audio at index 2101: /mnt/c/users/evacantin/desktop/MASTER/HAIA/Trabajo/MMUSED-fallacy/audio_clips/48_2024/1002.wav. Setting default.\n",
      "Warning: Corrupt or missing audio at index 2102: /mnt/c/users/evacantin/desktop/MASTER/HAIA/Trabajo/MMUSED-fallacy/audio_clips/48_2024/1003.wav. Setting default.\n",
      "Warning: Corrupt or missing audio at index 2103: /mnt/c/users/evacantin/desktop/MASTER/HAIA/Trabajo/MMUSED-fallacy/audio_clips/48_2024/1004.wav. Setting default.\n"
     ]
    },
    {
     "name": "stderr",
     "output_type": "stream",
     "text": [
      "Predicting on Test:  97%|█████████▋| 263/272 [09:16<00:08,  1.06it/s]"
     ]
    },
    {
     "name": "stdout",
     "output_type": "stream",
     "text": [
      "Warning: Corrupt or missing audio at index 2104: /mnt/c/users/evacantin/desktop/MASTER/HAIA/Trabajo/MMUSED-fallacy/audio_clips/48_2024/1005.wav. Setting default.\n",
      "Warning: Corrupt or missing audio at index 2105: /mnt/c/users/evacantin/desktop/MASTER/HAIA/Trabajo/MMUSED-fallacy/audio_clips/48_2024/1006.wav. Setting default.\n",
      "Warning: Corrupt or missing audio at index 2106: /mnt/c/users/evacantin/desktop/MASTER/HAIA/Trabajo/MMUSED-fallacy/audio_clips/48_2024/1007.wav. Setting default.\n",
      "Warning: Corrupt or missing audio at index 2107: /mnt/c/users/evacantin/desktop/MASTER/HAIA/Trabajo/MMUSED-fallacy/audio_clips/48_2024/1008.wav. Setting default.\n",
      "Warning: Corrupt or missing audio at index 2108: /mnt/c/users/evacantin/desktop/MASTER/HAIA/Trabajo/MMUSED-fallacy/audio_clips/48_2024/1009.wav. Setting default.\n",
      "Warning: Corrupt or missing audio at index 2109: /mnt/c/users/evacantin/desktop/MASTER/HAIA/Trabajo/MMUSED-fallacy/audio_clips/48_2024/1010.wav. Setting default.\n",
      "Warning: Corrupt or missing audio at index 2110: /mnt/c/users/evacantin/desktop/MASTER/HAIA/Trabajo/MMUSED-fallacy/audio_clips/48_2024/1011.wav. Setting default.\n",
      "Warning: Corrupt or missing audio at index 2111: /mnt/c/users/evacantin/desktop/MASTER/HAIA/Trabajo/MMUSED-fallacy/audio_clips/48_2024/1012.wav. Setting default.\n"
     ]
    },
    {
     "name": "stderr",
     "output_type": "stream",
     "text": [
      "Predicting on Test:  97%|█████████▋| 264/272 [09:17<00:07,  1.08it/s]"
     ]
    },
    {
     "name": "stdout",
     "output_type": "stream",
     "text": [
      "Warning: Corrupt or missing audio at index 2112: /mnt/c/users/evacantin/desktop/MASTER/HAIA/Trabajo/MMUSED-fallacy/audio_clips/48_2024/1013.wav. Setting default.\n",
      "Warning: Corrupt or missing audio at index 2113: /mnt/c/users/evacantin/desktop/MASTER/HAIA/Trabajo/MMUSED-fallacy/audio_clips/48_2024/1014.wav. Setting default.\n",
      "Warning: Corrupt or missing audio at index 2114: /mnt/c/users/evacantin/desktop/MASTER/HAIA/Trabajo/MMUSED-fallacy/audio_clips/48_2024/1015.wav. Setting default.\n",
      "Warning: Corrupt or missing audio at index 2115: /mnt/c/users/evacantin/desktop/MASTER/HAIA/Trabajo/MMUSED-fallacy/audio_clips/48_2024/1016.wav. Setting default.\n",
      "Warning: Corrupt or missing audio at index 2116: /mnt/c/users/evacantin/desktop/MASTER/HAIA/Trabajo/MMUSED-fallacy/audio_clips/48_2024/1017.wav. Setting default.\n",
      "Warning: Corrupt or missing audio at index 2117: /mnt/c/users/evacantin/desktop/MASTER/HAIA/Trabajo/MMUSED-fallacy/audio_clips/48_2024/1018.wav. Setting default.\n",
      "Warning: Corrupt or missing audio at index 2118: /mnt/c/users/evacantin/desktop/MASTER/HAIA/Trabajo/MMUSED-fallacy/audio_clips/48_2024/1019.wav. Setting default.\n",
      "Warning: Corrupt or missing audio at index 2119: /mnt/c/users/evacantin/desktop/MASTER/HAIA/Trabajo/MMUSED-fallacy/audio_clips/48_2024/1020.wav. Setting default.\n"
     ]
    },
    {
     "name": "stderr",
     "output_type": "stream",
     "text": [
      "Predicting on Test:  97%|█████████▋| 265/272 [09:18<00:06,  1.05it/s]"
     ]
    },
    {
     "name": "stdout",
     "output_type": "stream",
     "text": [
      "Warning: Corrupt or missing audio at index 2120: /mnt/c/users/evacantin/desktop/MASTER/HAIA/Trabajo/MMUSED-fallacy/audio_clips/48_2024/1021.wav. Setting default.\n",
      "Warning: Corrupt or missing audio at index 2121: /mnt/c/users/evacantin/desktop/MASTER/HAIA/Trabajo/MMUSED-fallacy/audio_clips/48_2024/1022.wav. Setting default.\n",
      "Warning: Corrupt or missing audio at index 2122: /mnt/c/users/evacantin/desktop/MASTER/HAIA/Trabajo/MMUSED-fallacy/audio_clips/48_2024/1023.wav. Setting default.\n",
      "Warning: Corrupt or missing audio at index 2123: /mnt/c/users/evacantin/desktop/MASTER/HAIA/Trabajo/MMUSED-fallacy/audio_clips/48_2024/1024.wav. Setting default.\n",
      "Warning: Corrupt or missing audio at index 2124: /mnt/c/users/evacantin/desktop/MASTER/HAIA/Trabajo/MMUSED-fallacy/audio_clips/48_2024/1025.wav. Setting default.\n",
      "Warning: Corrupt or missing audio at index 2125: /mnt/c/users/evacantin/desktop/MASTER/HAIA/Trabajo/MMUSED-fallacy/audio_clips/48_2024/1026.wav. Setting default.\n",
      "Warning: Corrupt or missing audio at index 2126: /mnt/c/users/evacantin/desktop/MASTER/HAIA/Trabajo/MMUSED-fallacy/audio_clips/48_2024/1027.wav. Setting default.\n",
      "Warning: Corrupt or missing audio at index 2127: /mnt/c/users/evacantin/desktop/MASTER/HAIA/Trabajo/MMUSED-fallacy/audio_clips/48_2024/1028.wav. Setting default.\n"
     ]
    },
    {
     "name": "stderr",
     "output_type": "stream",
     "text": [
      "Predicting on Test:  98%|█████████▊| 266/272 [09:19<00:05,  1.07it/s]"
     ]
    },
    {
     "name": "stdout",
     "output_type": "stream",
     "text": [
      "Warning: Corrupt or missing audio at index 2128: /mnt/c/users/evacantin/desktop/MASTER/HAIA/Trabajo/MMUSED-fallacy/audio_clips/48_2024/1029.wav. Setting default.\n",
      "Warning: Corrupt or missing audio at index 2129: /mnt/c/users/evacantin/desktop/MASTER/HAIA/Trabajo/MMUSED-fallacy/audio_clips/48_2024/1030.wav. Setting default.\n",
      "Warning: Corrupt or missing audio at index 2130: /mnt/c/users/evacantin/desktop/MASTER/HAIA/Trabajo/MMUSED-fallacy/audio_clips/48_2024/1031.wav. Setting default.\n",
      "Warning: Corrupt or missing audio at index 2131: /mnt/c/users/evacantin/desktop/MASTER/HAIA/Trabajo/MMUSED-fallacy/audio_clips/48_2024/1032.wav. Setting default.\n",
      "Warning: Corrupt or missing audio at index 2132: /mnt/c/users/evacantin/desktop/MASTER/HAIA/Trabajo/MMUSED-fallacy/audio_clips/48_2024/1033.wav. Setting default.\n",
      "Warning: Corrupt or missing audio at index 2133: /mnt/c/users/evacantin/desktop/MASTER/HAIA/Trabajo/MMUSED-fallacy/audio_clips/48_2024/1034.wav. Setting default.\n",
      "Warning: Corrupt or missing audio at index 2134: /mnt/c/users/evacantin/desktop/MASTER/HAIA/Trabajo/MMUSED-fallacy/audio_clips/48_2024/1035.wav. Setting default.\n",
      "Warning: Corrupt or missing audio at index 2135: /mnt/c/users/evacantin/desktop/MASTER/HAIA/Trabajo/MMUSED-fallacy/audio_clips/48_2024/1036.wav. Setting default.\n"
     ]
    },
    {
     "name": "stderr",
     "output_type": "stream",
     "text": [
      "Predicting on Test:  98%|█████████▊| 267/272 [09:20<00:04,  1.07it/s]"
     ]
    },
    {
     "name": "stdout",
     "output_type": "stream",
     "text": [
      "Warning: Corrupt or missing audio at index 2136: /mnt/c/users/evacantin/desktop/MASTER/HAIA/Trabajo/MMUSED-fallacy/audio_clips/48_2024/1037.wav. Setting default.\n",
      "Warning: Corrupt or missing audio at index 2137: /mnt/c/users/evacantin/desktop/MASTER/HAIA/Trabajo/MMUSED-fallacy/audio_clips/48_2024/1038.wav. Setting default.\n",
      "Warning: Corrupt or missing audio at index 2138: /mnt/c/users/evacantin/desktop/MASTER/HAIA/Trabajo/MMUSED-fallacy/audio_clips/48_2024/1039.wav. Setting default.\n",
      "Warning: Corrupt or missing audio at index 2139: /mnt/c/users/evacantin/desktop/MASTER/HAIA/Trabajo/MMUSED-fallacy/audio_clips/48_2024/1040.wav. Setting default.\n",
      "Warning: Corrupt or missing audio at index 2140: /mnt/c/users/evacantin/desktop/MASTER/HAIA/Trabajo/MMUSED-fallacy/audio_clips/48_2024/1041.wav. Setting default.\n",
      "Warning: Corrupt or missing audio at index 2141: /mnt/c/users/evacantin/desktop/MASTER/HAIA/Trabajo/MMUSED-fallacy/audio_clips/48_2024/1042.wav. Setting default.\n",
      "Warning: Corrupt or missing audio at index 2142: /mnt/c/users/evacantin/desktop/MASTER/HAIA/Trabajo/MMUSED-fallacy/audio_clips/48_2024/1043.wav. Setting default.\n",
      "Warning: Corrupt or missing audio at index 2143: /mnt/c/users/evacantin/desktop/MASTER/HAIA/Trabajo/MMUSED-fallacy/audio_clips/48_2024/1044.wav. Setting default.\n"
     ]
    },
    {
     "name": "stderr",
     "output_type": "stream",
     "text": [
      "Predicting on Test:  99%|█████████▊| 268/272 [09:21<00:03,  1.07it/s]"
     ]
    },
    {
     "name": "stdout",
     "output_type": "stream",
     "text": [
      "Warning: Corrupt or missing audio at index 2144: /mnt/c/users/evacantin/desktop/MASTER/HAIA/Trabajo/MMUSED-fallacy/audio_clips/48_2024/1045.wav. Setting default.\n",
      "Warning: Corrupt or missing audio at index 2145: /mnt/c/users/evacantin/desktop/MASTER/HAIA/Trabajo/MMUSED-fallacy/audio_clips/48_2024/1046.wav. Setting default.\n",
      "Warning: Corrupt or missing audio at index 2146: /mnt/c/users/evacantin/desktop/MASTER/HAIA/Trabajo/MMUSED-fallacy/audio_clips/48_2024/1047.wav. Setting default.\n",
      "Warning: Corrupt or missing audio at index 2147: /mnt/c/users/evacantin/desktop/MASTER/HAIA/Trabajo/MMUSED-fallacy/audio_clips/48_2024/1048.wav. Setting default.\n",
      "Warning: Corrupt or missing audio at index 2148: /mnt/c/users/evacantin/desktop/MASTER/HAIA/Trabajo/MMUSED-fallacy/audio_clips/48_2024/1049.wav. Setting default.\n",
      "Warning: Corrupt or missing audio at index 2149: /mnt/c/users/evacantin/desktop/MASTER/HAIA/Trabajo/MMUSED-fallacy/audio_clips/48_2024/1050.wav. Setting default.\n",
      "Warning: Corrupt or missing audio at index 2150: /mnt/c/users/evacantin/desktop/MASTER/HAIA/Trabajo/MMUSED-fallacy/audio_clips/48_2024/1051.wav. Setting default.\n",
      "Warning: Corrupt or missing audio at index 2151: /mnt/c/users/evacantin/desktop/MASTER/HAIA/Trabajo/MMUSED-fallacy/audio_clips/48_2024/1052.wav. Setting default.\n"
     ]
    },
    {
     "name": "stderr",
     "output_type": "stream",
     "text": [
      "Predicting on Test:  99%|█████████▉| 269/272 [09:22<00:02,  1.06it/s]"
     ]
    },
    {
     "name": "stdout",
     "output_type": "stream",
     "text": [
      "Warning: Corrupt or missing audio at index 2152: /mnt/c/users/evacantin/desktop/MASTER/HAIA/Trabajo/MMUSED-fallacy/audio_clips/48_2024/1053.wav. Setting default.\n",
      "Warning: Corrupt or missing audio at index 2153: /mnt/c/users/evacantin/desktop/MASTER/HAIA/Trabajo/MMUSED-fallacy/audio_clips/48_2024/1054.wav. Setting default.\n",
      "Warning: Corrupt or missing audio at index 2154: /mnt/c/users/evacantin/desktop/MASTER/HAIA/Trabajo/MMUSED-fallacy/audio_clips/48_2024/1055.wav. Setting default.\n",
      "Warning: Corrupt or missing audio at index 2155: /mnt/c/users/evacantin/desktop/MASTER/HAIA/Trabajo/MMUSED-fallacy/audio_clips/48_2024/1056.wav. Setting default.\n",
      "Warning: Corrupt or missing audio at index 2156: /mnt/c/users/evacantin/desktop/MASTER/HAIA/Trabajo/MMUSED-fallacy/audio_clips/48_2024/1057.wav. Setting default.\n",
      "Warning: Corrupt or missing audio at index 2157: /mnt/c/users/evacantin/desktop/MASTER/HAIA/Trabajo/MMUSED-fallacy/audio_clips/48_2024/1058.wav. Setting default.\n",
      "Warning: Corrupt or missing audio at index 2158: /mnt/c/users/evacantin/desktop/MASTER/HAIA/Trabajo/MMUSED-fallacy/audio_clips/48_2024/1059.wav. Setting default.\n",
      "Warning: Corrupt or missing audio at index 2159: /mnt/c/users/evacantin/desktop/MASTER/HAIA/Trabajo/MMUSED-fallacy/audio_clips/48_2024/1060.wav. Setting default.\n"
     ]
    },
    {
     "name": "stderr",
     "output_type": "stream",
     "text": [
      "Predicting on Test:  99%|█████████▉| 270/272 [09:23<00:01,  1.05it/s]"
     ]
    },
    {
     "name": "stdout",
     "output_type": "stream",
     "text": [
      "Warning: Corrupt or missing audio at index 2160: /mnt/c/users/evacantin/desktop/MASTER/HAIA/Trabajo/MMUSED-fallacy/audio_clips/48_2024/1061.wav. Setting default.\n",
      "Warning: Corrupt or missing audio at index 2161: /mnt/c/users/evacantin/desktop/MASTER/HAIA/Trabajo/MMUSED-fallacy/audio_clips/48_2024/1062.wav. Setting default.\n",
      "Warning: Corrupt or missing audio at index 2162: /mnt/c/users/evacantin/desktop/MASTER/HAIA/Trabajo/MMUSED-fallacy/audio_clips/48_2024/1063.wav. Setting default.\n",
      "Warning: Corrupt or missing audio at index 2163: /mnt/c/users/evacantin/desktop/MASTER/HAIA/Trabajo/MMUSED-fallacy/audio_clips/48_2024/1064.wav. Setting default.\n",
      "Warning: Corrupt or missing audio at index 2164: /mnt/c/users/evacantin/desktop/MASTER/HAIA/Trabajo/MMUSED-fallacy/audio_clips/48_2024/1065.wav. Setting default.\n",
      "Warning: Corrupt or missing audio at index 2165: /mnt/c/users/evacantin/desktop/MASTER/HAIA/Trabajo/MMUSED-fallacy/audio_clips/48_2024/1066.wav. Setting default.\n",
      "Warning: Corrupt or missing audio at index 2166: /mnt/c/users/evacantin/desktop/MASTER/HAIA/Trabajo/MMUSED-fallacy/audio_clips/48_2024/1067.wav. Setting default.\n",
      "Warning: Corrupt or missing audio at index 2167: /mnt/c/users/evacantin/desktop/MASTER/HAIA/Trabajo/MMUSED-fallacy/audio_clips/48_2024/1068.wav. Setting default.\n"
     ]
    },
    {
     "name": "stderr",
     "output_type": "stream",
     "text": [
      "Predicting on Test: 100%|█████████▉| 271/272 [09:24<00:00,  1.04it/s]"
     ]
    },
    {
     "name": "stdout",
     "output_type": "stream",
     "text": [
      "Warning: Corrupt or missing audio at index 2168: /mnt/c/users/evacantin/desktop/MASTER/HAIA/Trabajo/MMUSED-fallacy/audio_clips/48_2024/1069.wav. Setting default.\n",
      "Warning: Corrupt or missing audio at index 2169: /mnt/c/users/evacantin/desktop/MASTER/HAIA/Trabajo/MMUSED-fallacy/audio_clips/48_2024/1070.wav. Setting default.\n",
      "Warning: Corrupt or missing audio at index 2170: /mnt/c/users/evacantin/desktop/MASTER/HAIA/Trabajo/MMUSED-fallacy/audio_clips/48_2024/1071.wav. Setting default.\n",
      "Warning: Corrupt or missing audio at index 2171: /mnt/c/users/evacantin/desktop/MASTER/HAIA/Trabajo/MMUSED-fallacy/audio_clips/48_2024/1072.wav. Setting default.\n",
      "Warning: Corrupt or missing audio at index 2172: /mnt/c/users/evacantin/desktop/MASTER/HAIA/Trabajo/MMUSED-fallacy/audio_clips/48_2024/1073.wav. Setting default.\n",
      "Warning: Corrupt or missing audio at index 2173: /mnt/c/users/evacantin/desktop/MASTER/HAIA/Trabajo/MMUSED-fallacy/audio_clips/48_2024/1074.wav. Setting default.\n",
      "Warning: Corrupt or missing audio at index 2174: /mnt/c/users/evacantin/desktop/MASTER/HAIA/Trabajo/MMUSED-fallacy/audio_clips/48_2024/1075.wav. Setting default.\n"
     ]
    },
    {
     "name": "stderr",
     "output_type": "stream",
     "text": [
      "Predicting on Test: 100%|██████████| 272/272 [09:25<00:00,  2.08s/it]\n"
     ]
    }
   ],
   "source": [
    "# Preparar test set\n",
    "test_df = pd.read_csv('/mnt/c/users/evacantin/desktop/MASTER/HAIA/Trabajo/afd_text_audio_test.csv')\n",
    "test_dataset = MultiModalDataset(test_df, text_tokenizer, audio_processor, is_test=True)\n",
    "test_loader = DataLoader(test_dataset, batch_size=8, collate_fn=collate_fn_test)\n",
    "\n",
    "model.eval()\n",
    "all_test_preds = []\n",
    "\n",
    "with torch.no_grad():\n",
    "    for batch in tqdm(test_loader, desc=\"Predicting on Test\"):\n",
    "        input_ids = batch['input_ids'].to(device)\n",
    "        attention_mask = batch['attention_mask'].to(device)\n",
    "        audio_input_values = batch['audio_input_values'].to(device)\n",
    "\n",
    "        outputs = model(input_ids, attention_mask, audio_input_values)\n",
    "        preds = torch.argmax(outputs, dim=1)\n",
    "        all_test_preds.extend(preds.cpu().numpy())\n",
    "\n",
    "# Agregar predicciones al dataframe original\n",
    "test_df['Predicción'] = all_test_preds"
   ]
  },
  {
   "cell_type": "code",
   "execution_count": 15,
   "id": "71781847",
   "metadata": {},
   "outputs": [
    {
     "data": {
      "text/html": [
       "<div>\n",
       "<style scoped>\n",
       "    .dataframe tbody tr th:only-of-type {\n",
       "        vertical-align: middle;\n",
       "    }\n",
       "\n",
       "    .dataframe tbody tr th {\n",
       "        vertical-align: top;\n",
       "    }\n",
       "\n",
       "    .dataframe thead th {\n",
       "        text-align: right;\n",
       "    }\n",
       "</style>\n",
       "<table border=\"1\" class=\"dataframe\">\n",
       "  <thead>\n",
       "    <tr style=\"text-align: right;\">\n",
       "      <th></th>\n",
       "      <th>Texto</th>\n",
       "      <th>Ruta</th>\n",
       "      <th>Etiqueta</th>\n",
       "      <th>Predicción</th>\n",
       "    </tr>\n",
       "  </thead>\n",
       "  <tbody>\n",
       "    <tr>\n",
       "      <th>0</th>\n",
       "      <td>We got to take a look at what I was left when ...</td>\n",
       "      <td>/mnt/c/users/evacantin/desktop/MASTER/HAIA/Tra...</td>\n",
       "      <td>NaN</td>\n",
       "      <td>1</td>\n",
       "    </tr>\n",
       "    <tr>\n",
       "      <th>1</th>\n",
       "      <td>We had an economy that was in free fall.</td>\n",
       "      <td>/mnt/c/users/evacantin/desktop/MASTER/HAIA/Tra...</td>\n",
       "      <td>NaN</td>\n",
       "      <td>0</td>\n",
       "    </tr>\n",
       "    <tr>\n",
       "      <th>2</th>\n",
       "      <td>The pandemic was so badly handled.</td>\n",
       "      <td>/mnt/c/users/evacantin/desktop/MASTER/HAIA/Tra...</td>\n",
       "      <td>NaN</td>\n",
       "      <td>1</td>\n",
       "    </tr>\n",
       "    <tr>\n",
       "      <th>3</th>\n",
       "      <td>Many people were dying.</td>\n",
       "      <td>/mnt/c/users/evacantin/desktop/MASTER/HAIA/Tra...</td>\n",
       "      <td>NaN</td>\n",
       "      <td>1</td>\n",
       "    </tr>\n",
       "    <tr>\n",
       "      <th>4</th>\n",
       "      <td>All he said was, it's not that serious.</td>\n",
       "      <td>/mnt/c/users/evacantin/desktop/MASTER/HAIA/Tra...</td>\n",
       "      <td>NaN</td>\n",
       "      <td>0</td>\n",
       "    </tr>\n",
       "    <tr>\n",
       "      <th>...</th>\n",
       "      <td>...</td>\n",
       "      <td>...</td>\n",
       "      <td>...</td>\n",
       "      <td>...</td>\n",
       "    </tr>\n",
       "    <tr>\n",
       "      <th>2170</th>\n",
       "      <td>She gave a lot of it away to the Taliban.</td>\n",
       "      <td>/mnt/c/users/evacantin/desktop/MASTER/HAIA/Tra...</td>\n",
       "      <td>NaN</td>\n",
       "      <td>1</td>\n",
       "    </tr>\n",
       "    <tr>\n",
       "      <th>2171</th>\n",
       "      <td>She gave it to Afghanistan.</td>\n",
       "      <td>/mnt/c/users/evacantin/desktop/MASTER/HAIA/Tra...</td>\n",
       "      <td>NaN</td>\n",
       "      <td>1</td>\n",
       "    </tr>\n",
       "    <tr>\n",
       "      <th>2172</th>\n",
       "      <td>What these people have done to our country and...</td>\n",
       "      <td>/mnt/c/users/evacantin/desktop/MASTER/HAIA/Tra...</td>\n",
       "      <td>NaN</td>\n",
       "      <td>1</td>\n",
       "    </tr>\n",
       "    <tr>\n",
       "      <th>2173</th>\n",
       "      <td>Many of them are criminals and they're destroy...</td>\n",
       "      <td>/mnt/c/users/evacantin/desktop/MASTER/HAIA/Tra...</td>\n",
       "      <td>NaN</td>\n",
       "      <td>1</td>\n",
       "    </tr>\n",
       "    <tr>\n",
       "      <th>2174</th>\n",
       "      <td>The worst president, the worst vice president ...</td>\n",
       "      <td>/mnt/c/users/evacantin/desktop/MASTER/HAIA/Tra...</td>\n",
       "      <td>NaN</td>\n",
       "      <td>1</td>\n",
       "    </tr>\n",
       "  </tbody>\n",
       "</table>\n",
       "<p>2175 rows × 4 columns</p>\n",
       "</div>"
      ],
      "text/plain": [
       "                                                  Texto  \\\n",
       "0     We got to take a look at what I was left when ...   \n",
       "1              We had an economy that was in free fall.   \n",
       "2                    The pandemic was so badly handled.   \n",
       "3                               Many people were dying.   \n",
       "4               All he said was, it's not that serious.   \n",
       "...                                                 ...   \n",
       "2170          She gave a lot of it away to the Taliban.   \n",
       "2171                        She gave it to Afghanistan.   \n",
       "2172  What these people have done to our country and...   \n",
       "2173  Many of them are criminals and they're destroy...   \n",
       "2174  The worst president, the worst vice president ...   \n",
       "\n",
       "                                                   Ruta  Etiqueta  Predicción  \n",
       "0     /mnt/c/users/evacantin/desktop/MASTER/HAIA/Tra...       NaN           1  \n",
       "1     /mnt/c/users/evacantin/desktop/MASTER/HAIA/Tra...       NaN           0  \n",
       "2     /mnt/c/users/evacantin/desktop/MASTER/HAIA/Tra...       NaN           1  \n",
       "3     /mnt/c/users/evacantin/desktop/MASTER/HAIA/Tra...       NaN           1  \n",
       "4     /mnt/c/users/evacantin/desktop/MASTER/HAIA/Tra...       NaN           0  \n",
       "...                                                 ...       ...         ...  \n",
       "2170  /mnt/c/users/evacantin/desktop/MASTER/HAIA/Tra...       NaN           1  \n",
       "2171  /mnt/c/users/evacantin/desktop/MASTER/HAIA/Tra...       NaN           1  \n",
       "2172  /mnt/c/users/evacantin/desktop/MASTER/HAIA/Tra...       NaN           1  \n",
       "2173  /mnt/c/users/evacantin/desktop/MASTER/HAIA/Tra...       NaN           1  \n",
       "2174  /mnt/c/users/evacantin/desktop/MASTER/HAIA/Tra...       NaN           1  \n",
       "\n",
       "[2175 rows x 4 columns]"
      ]
     },
     "execution_count": 15,
     "metadata": {},
     "output_type": "execute_result"
    }
   ],
   "source": [
    "test_df"
   ]
  },
  {
   "cell_type": "code",
   "execution_count": 16,
   "id": "b49181ea",
   "metadata": {},
   "outputs": [
    {
     "data": {
      "text/plain": [
       "Predicción\n",
       "1    1190\n",
       "0     985\n",
       "Name: count, dtype: int64"
      ]
     },
     "execution_count": 16,
     "metadata": {},
     "output_type": "execute_result"
    }
   ],
   "source": [
    "test_df.Predicción.value_counts()"
   ]
  },
  {
   "cell_type": "code",
   "execution_count": 17,
   "id": "0028ecef",
   "metadata": {},
   "outputs": [],
   "source": [
    "test_df.to_csv(\"afd_roberta_text_audio.csv\", index=False)"
   ]
  }
 ],
 "metadata": {
  "kernelspec": {
   "display_name": "haia_mamkit",
   "language": "python",
   "name": "python3"
  },
  "language_info": {
   "codemirror_mode": {
    "name": "ipython",
    "version": 3
   },
   "file_extension": ".py",
   "mimetype": "text/x-python",
   "name": "python",
   "nbconvert_exporter": "python",
   "pygments_lexer": "ipython3",
   "version": "3.10.17"
  }
 },
 "nbformat": 4,
 "nbformat_minor": 5
}
