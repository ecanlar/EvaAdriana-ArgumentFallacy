{
 "cells": [
  {
   "cell_type": "markdown",
   "id": "3b3f5de1",
   "metadata": {},
   "source": [
    "# Audio Fallacy Classification (In Kaggle)"
   ]
  },
  {
   "cell_type": "code",
   "execution_count": null,
   "id": "0b1b340a",
   "metadata": {
    "execution": {
     "iopub.execute_input": "2025-04-25T10:19:09.348115Z",
     "iopub.status.busy": "2025-04-25T10:19:09.347547Z",
     "iopub.status.idle": "2025-04-25T10:19:09.375156Z",
     "shell.execute_reply": "2025-04-25T10:19:09.374536Z",
     "shell.execute_reply.started": "2025-04-25T10:19:09.348066Z"
    },
    "trusted": true
   },
   "outputs": [
    {
     "name": "stdout",
     "output_type": "stream",
     "text": [
      "                                                Ruta  Etiqueta\n",
      "0  C:\\Users\\Usuario\\AFD\\MMUSED-fallacy\\audio_clip...       0.0\n",
      "1  C:\\Users\\Usuario\\AFD\\MMUSED-fallacy\\audio_clip...       0.0\n",
      "2  C:\\Users\\Usuario\\AFD\\MMUSED-fallacy\\audio_clip...       0.0\n",
      "3  C:\\Users\\Usuario\\AFD\\MMUSED-fallacy\\audio_clip...       0.0\n",
      "4  C:\\Users\\Usuario\\AFD\\MMUSED-fallacy\\audio_clip...       0.0\n"
     ]
    }
   ],
   "source": [
    "import pandas as pd\n",
    "\n",
    "train_df = pd.read_csv(\"/kaggle/input/audios-afd/train_afd_audio.csv\")\n",
    "print(train_df.head())"
   ]
  },
  {
   "cell_type": "code",
   "execution_count": 84,
   "id": "dc787e23-08ab-4d2c-a564-a9df9ccf0fc4",
   "metadata": {
    "execution": {
     "iopub.execute_input": "2025-04-25T10:19:09.842304Z",
     "iopub.status.busy": "2025-04-25T10:19:09.841689Z",
     "iopub.status.idle": "2025-04-25T10:19:09.847831Z",
     "shell.execute_reply": "2025-04-25T10:19:09.847145Z",
     "shell.execute_reply.started": "2025-04-25T10:19:09.842279Z"
    },
    "trusted": true
   },
   "outputs": [
    {
     "data": {
      "text/plain": [
       "Ruta        C:\\Users\\Usuario\\AFD\\MMUSED-fallacy\\audio_clip...\n",
       "Etiqueta                                                  0.0\n",
       "Name: 0, dtype: object"
      ]
     },
     "execution_count": 84,
     "metadata": {},
     "output_type": "execute_result"
    }
   ],
   "source": [
    "train_df.iloc[0,:]"
   ]
  },
  {
   "cell_type": "code",
   "execution_count": null,
   "id": "06046583-c11d-41ae-bd50-619519633aa3",
   "metadata": {
    "execution": {
     "iopub.execute_input": "2025-04-25T10:19:30.361741Z",
     "iopub.status.busy": "2025-04-25T10:19:30.361269Z",
     "iopub.status.idle": "2025-04-25T10:19:30.386430Z",
     "shell.execute_reply": "2025-04-25T10:19:30.385843Z",
     "shell.execute_reply.started": "2025-04-25T10:19:30.361722Z"
    },
    "trusted": true
   },
   "outputs": [
    {
     "name": "stdout",
     "output_type": "stream",
     "text": [
      "                                                    Ruta  Etiqueta\n",
      "0      /kaggle/input/datosss/MMUSED-fallacy/audio_cli...       0.0\n",
      "1      /kaggle/input/datosss/MMUSED-fallacy/audio_cli...       0.0\n",
      "2      /kaggle/input/datosss/MMUSED-fallacy/audio_cli...       0.0\n",
      "3      /kaggle/input/datosss/MMUSED-fallacy/audio_cli...       0.0\n",
      "4      /kaggle/input/datosss/MMUSED-fallacy/audio_cli...       0.0\n",
      "...                                                  ...       ...\n",
      "17113  /kaggle/input/datosss/MMUSED-fallacy/audio_cli...       0.0\n",
      "17114  /kaggle/input/datosss/MMUSED-fallacy/audio_cli...       0.0\n",
      "17115  /kaggle/input/datosss/MMUSED-fallacy/audio_cli...       0.0\n",
      "17116  /kaggle/input/datosss/MMUSED-fallacy/audio_cli...       1.0\n",
      "17117  /kaggle/input/datosss/MMUSED-fallacy/audio_cli...       1.0\n",
      "\n",
      "[17118 rows x 2 columns] \n",
      "\n",
      "                                                    Ruta  Etiqueta\n",
      "0      /kaggle/input/datosss/MMUSED-fallacy/audio_cli...       0.0\n",
      "1      /kaggle/input/datosss/MMUSED-fallacy/audio_cli...       0.0\n",
      "2      /kaggle/input/datosss/MMUSED-fallacy/audio_cli...       0.0\n",
      "3      /kaggle/input/datosss/MMUSED-fallacy/audio_cli...       0.0\n",
      "4      /kaggle/input/datosss/MMUSED-fallacy/audio_cli...       0.0\n",
      "...                                                  ...       ...\n",
      "17113  /kaggle/input/datosss/MMUSED-fallacy/audio_cli...       0.0\n",
      "17114  /kaggle/input/datosss/MMUSED-fallacy/audio_cli...       0.0\n",
      "17115  /kaggle/input/datosss/MMUSED-fallacy/audio_cli...       0.0\n",
      "17116  /kaggle/input/datosss/MMUSED-fallacy/audio_cli...       1.0\n",
      "17117  /kaggle/input/datosss/MMUSED-fallacy/audio_cli...       1.0\n",
      "\n",
      "[17118 rows x 2 columns]\n"
     ]
    }
   ],
   "source": [
    "train_df['Ruta'] = train_df['Ruta'].str.replace(r'\\\\', '/', regex=True)\n",
    "print(train_df, '\\n')\n",
    "train_df['Ruta'] = train_df['Ruta'].str.replace(\n",
    "    'C:/Users/Usuario/AFD', \n",
    "    '/kaggle/input/datosss', \n",
    "    regex=True)\n",
    "\n",
    "print(train_df)"
   ]
  },
  {
   "cell_type": "code",
   "execution_count": 87,
   "id": "d8f7dfdd-6748-47ea-902b-00baa2db15b9",
   "metadata": {
    "execution": {
     "iopub.execute_input": "2025-04-25T10:19:52.267212Z",
     "iopub.status.busy": "2025-04-25T10:19:52.266607Z",
     "iopub.status.idle": "2025-04-25T10:19:52.272785Z",
     "shell.execute_reply": "2025-04-25T10:19:52.272211Z",
     "shell.execute_reply.started": "2025-04-25T10:19:52.267188Z"
    },
    "trusted": true
   },
   "outputs": [
    {
     "data": {
      "text/plain": [
       "0        /kaggle/input/datosss/MMUSED-fallacy/audio_cli...\n",
       "1        /kaggle/input/datosss/MMUSED-fallacy/audio_cli...\n",
       "2        /kaggle/input/datosss/MMUSED-fallacy/audio_cli...\n",
       "3        /kaggle/input/datosss/MMUSED-fallacy/audio_cli...\n",
       "4        /kaggle/input/datosss/MMUSED-fallacy/audio_cli...\n",
       "                               ...                        \n",
       "17113    /kaggle/input/datosss/MMUSED-fallacy/audio_cli...\n",
       "17114    /kaggle/input/datosss/MMUSED-fallacy/audio_cli...\n",
       "17115    /kaggle/input/datosss/MMUSED-fallacy/audio_cli...\n",
       "17116    /kaggle/input/datosss/MMUSED-fallacy/audio_cli...\n",
       "17117    /kaggle/input/datosss/MMUSED-fallacy/audio_cli...\n",
       "Name: Ruta, Length: 17118, dtype: object"
      ]
     },
     "execution_count": 87,
     "metadata": {},
     "output_type": "execute_result"
    }
   ],
   "source": [
    "train_df.Ruta"
   ]
  },
  {
   "cell_type": "code",
   "execution_count": null,
   "id": "cd0841b4-2317-4a01-b833-3df42289280e",
   "metadata": {
    "execution": {
     "iopub.execute_input": "2025-04-25T10:19:54.474256Z",
     "iopub.status.busy": "2025-04-25T10:19:54.473808Z",
     "iopub.status.idle": "2025-04-25T10:19:54.481872Z",
     "shell.execute_reply": "2025-04-25T10:19:54.480583Z",
     "shell.execute_reply.started": "2025-04-25T10:19:54.474228Z"
    },
    "trusted": true
   },
   "outputs": [],
   "source": [
    "import librosa\n",
    "import numpy as np\n",
    "import cv2\n",
    "\n",
    "def audio_to_mel_spectrogram(path, sr=22050, n_mels=128, fmax=8000, duration=3):\n",
    "    y, _ = librosa.load(path, sr=sr, duration=duration)\n",
    "    \n",
    "    # Padding\n",
    "    if len(y) < sr * duration:\n",
    "        y = np.pad(y, (0, sr * duration - len(y)))\n",
    "        \n",
    "    mel_spec = librosa.feature.melspectrogram(y=y, sr=sr, n_mels=n_mels, fmax=fmax)\n",
    "    mel_spec_db = librosa.power_to_db(mel_spec, ref=np.max)\n",
    "    \n",
    "    # 0-255 normalization\n",
    "    mel_spec_db = (mel_spec_db - mel_spec_db.min()) / (mel_spec_db.max() - mel_spec_db.min()) * 255\n",
    "    mel_spec_db = mel_spec_db.astype(np.uint8)\n",
    "    mel_spec_db = cv2.resize(mel_spec_db, (128, 128))\n",
    "    mel_spec_db = np.stack([mel_spec_db]*3, axis=-1)\n",
    "    return mel_spec_db"
   ]
  },
  {
   "cell_type": "code",
   "execution_count": 90,
   "id": "30100e54-f045-497f-89d1-f664c5a10f6e",
   "metadata": {
    "execution": {
     "iopub.execute_input": "2025-04-25T10:21:01.266173Z",
     "iopub.status.busy": "2025-04-25T10:21:01.265889Z",
     "iopub.status.idle": "2025-04-25T10:27:03.389014Z",
     "shell.execute_reply": "2025-04-25T10:27:03.388435Z",
     "shell.execute_reply.started": "2025-04-25T10:21:01.266153Z"
    },
    "trusted": true
   },
   "outputs": [],
   "source": [
    "X = []\n",
    "y = []\n",
    "\n",
    "for _, row in train_df.iterrows():\n",
    "    spec = audio_to_mel_spectrogram(row['Ruta'])\n",
    "    X.append(spec)\n",
    "    y.append(row['Etiqueta'])\n",
    "\n",
    "X = np.array(X)\n",
    "y = np.array(y)\n"
   ]
  },
  {
   "cell_type": "code",
   "execution_count": null,
   "id": "e37862ae",
   "metadata": {
    "execution": {
     "iopub.execute_input": "2025-04-25T10:27:03.390595Z",
     "iopub.status.busy": "2025-04-25T10:27:03.390321Z",
     "iopub.status.idle": "2025-04-25T10:27:03.638357Z",
     "shell.execute_reply": "2025-04-25T10:27:03.637588Z",
     "shell.execute_reply.started": "2025-04-25T10:27:03.390572Z"
    },
    "trusted": true
   },
   "outputs": [],
   "source": [
    "from sklearn.model_selection import train_test_split\n",
    "\n",
    "# 80/20 split\n",
    "X_train, X_val, y_train, y_val = train_test_split(X, y, test_size=0.2, stratify=y, random_state=42)"
   ]
  },
  {
   "cell_type": "code",
   "execution_count": null,
   "id": "32144ca8-4a08-485b-b5ed-f43163e0de74",
   "metadata": {
    "execution": {
     "iopub.execute_input": "2025-04-25T10:32:18.862879Z",
     "iopub.status.busy": "2025-04-25T10:32:18.862615Z",
     "iopub.status.idle": "2025-04-25T10:32:18.869391Z",
     "shell.execute_reply": "2025-04-25T10:32:18.868693Z",
     "shell.execute_reply.started": "2025-04-25T10:32:18.862860Z"
    },
    "trusted": true
   },
   "outputs": [],
   "source": [
    "import tensorflow as tf\n",
    "\n",
    "class F1Metric(tf.keras.metrics.Metric):\n",
    "    def __init__(self, name='f1_score', **kwargs):\n",
    "        super(F1Metric, self).__init__(name=name, **kwargs)\n",
    "        self.true_positives = self.add_weight(name='tp', initializer='zeros')\n",
    "        self.false_positives = self.add_weight(name='fp', initializer='zeros')\n",
    "        self.false_negatives = self.add_weight(name='fn', initializer='zeros')\n",
    "\n",
    "    def update_state(self, y_true, y_pred, sample_weight=None):\n",
    "        y_pred = tf.round(y_pred)\n",
    "        self.true_positives.assign_add(tf.reduce_sum(y_true * y_pred))\n",
    "        self.false_positives.assign_add(tf.reduce_sum((1 - y_true) * y_pred))\n",
    "        self.false_negatives.assign_add(tf.reduce_sum(y_true * (1 - y_pred)))\n",
    "\n",
    "    def result(self):\n",
    "        precision = self.true_positives / (self.true_positives + self.false_positives + tf.keras.backend.epsilon())\n",
    "        recall = self.true_positives / (self.true_positives + self.false_negatives + tf.keras.backend.epsilon())\n",
    "        return 2 * (precision * recall) / (precision + recall + tf.keras.backend.epsilon())\n",
    "\n",
    "    def reset_states(self):\n",
    "        self.true_positives.assign(0)\n",
    "        self.false_positives.assign(0)\n",
    "        self.false_negatives.assign(0)\n"
   ]
  },
  {
   "cell_type": "code",
   "execution_count": null,
   "id": "e60a5fcb",
   "metadata": {
    "execution": {
     "iopub.execute_input": "2025-04-25T10:32:19.206736Z",
     "iopub.status.busy": "2025-04-25T10:32:19.206049Z",
     "iopub.status.idle": "2025-04-25T10:32:19.212606Z",
     "shell.execute_reply": "2025-04-25T10:32:19.211750Z",
     "shell.execute_reply.started": "2025-04-25T10:32:19.206713Z"
    },
    "trusted": true
   },
   "outputs": [],
   "source": [
    "import tensorflow as tf\n",
    "from tensorflow.keras import layers, models, metrics\n",
    "\n",
    "# CNN model\n",
    "def build_cnn(input_shape=(128, 128, 3)):\n",
    "    model = models.Sequential([\n",
    "        layers.Conv2D(32, (3, 3), activation='relu', input_shape=input_shape),\n",
    "        layers.MaxPooling2D((2, 2)),\n",
    "        layers.Conv2D(64, (3, 3), activation='relu'),\n",
    "        layers.MaxPooling2D((2, 2)),\n",
    "        layers.Conv2D(128, (3, 3), activation='relu'),\n",
    "        layers.MaxPooling2D((2, 2)),\n",
    "        layers.Flatten(),\n",
    "        layers.Dense(128, activation='relu'),\n",
    "        layers.Dropout(0.5),\n",
    "        layers.Dense(1, activation='sigmoid')])\n",
    "    \n",
    "    model.compile(\n",
    "        optimizer='adam',\n",
    "        loss='binary_crossentropy',\n",
    "        metrics=[metrics.AUC(), F1Metric(), 'accuracy'])\n",
    "    return model\n"
   ]
  },
  {
   "cell_type": "code",
   "execution_count": null,
   "id": "d614b7d3",
   "metadata": {
    "execution": {
     "iopub.execute_input": "2025-04-25T10:41:51.757019Z",
     "iopub.status.busy": "2025-04-25T10:41:51.756488Z",
     "iopub.status.idle": "2025-04-25T10:43:23.861852Z",
     "shell.execute_reply": "2025-04-25T10:43:23.861253Z",
     "shell.execute_reply.started": "2025-04-25T10:41:51.756995Z"
    },
    "trusted": true
   },
   "outputs": [
    {
     "data": {
      "text/html": [
       "<pre style=\"white-space:pre;overflow-x:auto;line-height:normal;font-family:Menlo,'DejaVu Sans Mono',consolas,'Courier New',monospace\"><span style=\"font-weight: bold\">Model: \"sequential_9\"</span>\n",
       "</pre>\n"
      ],
      "text/plain": [
       "\u001b[1mModel: \"sequential_9\"\u001b[0m\n"
      ]
     },
     "metadata": {},
     "output_type": "display_data"
    },
    {
     "data": {
      "text/html": [
       "<pre style=\"white-space:pre;overflow-x:auto;line-height:normal;font-family:Menlo,'DejaVu Sans Mono',consolas,'Courier New',monospace\">┏━━━━━━━━━━━━━━━━━━━━━━━━━━━━━━━━━━━━━━┳━━━━━━━━━━━━━━━━━━━━━━━━━━━━━┳━━━━━━━━━━━━━━━━━┓\n",
       "┃<span style=\"font-weight: bold\"> Layer (type)                         </span>┃<span style=\"font-weight: bold\"> Output Shape                </span>┃<span style=\"font-weight: bold\">         Param # </span>┃\n",
       "┡━━━━━━━━━━━━━━━━━━━━━━━━━━━━━━━━━━━━━━╇━━━━━━━━━━━━━━━━━━━━━━━━━━━━━╇━━━━━━━━━━━━━━━━━┩\n",
       "│ conv2d_27 (<span style=\"color: #0087ff; text-decoration-color: #0087ff\">Conv2D</span>)                   │ (<span style=\"color: #00d7ff; text-decoration-color: #00d7ff\">None</span>, <span style=\"color: #00af00; text-decoration-color: #00af00\">126</span>, <span style=\"color: #00af00; text-decoration-color: #00af00\">126</span>, <span style=\"color: #00af00; text-decoration-color: #00af00\">32</span>)        │             <span style=\"color: #00af00; text-decoration-color: #00af00\">896</span> │\n",
       "├──────────────────────────────────────┼─────────────────────────────┼─────────────────┤\n",
       "│ max_pooling2d_27 (<span style=\"color: #0087ff; text-decoration-color: #0087ff\">MaxPooling2D</span>)      │ (<span style=\"color: #00d7ff; text-decoration-color: #00d7ff\">None</span>, <span style=\"color: #00af00; text-decoration-color: #00af00\">63</span>, <span style=\"color: #00af00; text-decoration-color: #00af00\">63</span>, <span style=\"color: #00af00; text-decoration-color: #00af00\">32</span>)          │               <span style=\"color: #00af00; text-decoration-color: #00af00\">0</span> │\n",
       "├──────────────────────────────────────┼─────────────────────────────┼─────────────────┤\n",
       "│ conv2d_28 (<span style=\"color: #0087ff; text-decoration-color: #0087ff\">Conv2D</span>)                   │ (<span style=\"color: #00d7ff; text-decoration-color: #00d7ff\">None</span>, <span style=\"color: #00af00; text-decoration-color: #00af00\">61</span>, <span style=\"color: #00af00; text-decoration-color: #00af00\">61</span>, <span style=\"color: #00af00; text-decoration-color: #00af00\">64</span>)          │          <span style=\"color: #00af00; text-decoration-color: #00af00\">18,496</span> │\n",
       "├──────────────────────────────────────┼─────────────────────────────┼─────────────────┤\n",
       "│ max_pooling2d_28 (<span style=\"color: #0087ff; text-decoration-color: #0087ff\">MaxPooling2D</span>)      │ (<span style=\"color: #00d7ff; text-decoration-color: #00d7ff\">None</span>, <span style=\"color: #00af00; text-decoration-color: #00af00\">30</span>, <span style=\"color: #00af00; text-decoration-color: #00af00\">30</span>, <span style=\"color: #00af00; text-decoration-color: #00af00\">64</span>)          │               <span style=\"color: #00af00; text-decoration-color: #00af00\">0</span> │\n",
       "├──────────────────────────────────────┼─────────────────────────────┼─────────────────┤\n",
       "│ conv2d_29 (<span style=\"color: #0087ff; text-decoration-color: #0087ff\">Conv2D</span>)                   │ (<span style=\"color: #00d7ff; text-decoration-color: #00d7ff\">None</span>, <span style=\"color: #00af00; text-decoration-color: #00af00\">28</span>, <span style=\"color: #00af00; text-decoration-color: #00af00\">28</span>, <span style=\"color: #00af00; text-decoration-color: #00af00\">128</span>)         │          <span style=\"color: #00af00; text-decoration-color: #00af00\">73,856</span> │\n",
       "├──────────────────────────────────────┼─────────────────────────────┼─────────────────┤\n",
       "│ max_pooling2d_29 (<span style=\"color: #0087ff; text-decoration-color: #0087ff\">MaxPooling2D</span>)      │ (<span style=\"color: #00d7ff; text-decoration-color: #00d7ff\">None</span>, <span style=\"color: #00af00; text-decoration-color: #00af00\">14</span>, <span style=\"color: #00af00; text-decoration-color: #00af00\">14</span>, <span style=\"color: #00af00; text-decoration-color: #00af00\">128</span>)         │               <span style=\"color: #00af00; text-decoration-color: #00af00\">0</span> │\n",
       "├──────────────────────────────────────┼─────────────────────────────┼─────────────────┤\n",
       "│ flatten_9 (<span style=\"color: #0087ff; text-decoration-color: #0087ff\">Flatten</span>)                  │ (<span style=\"color: #00d7ff; text-decoration-color: #00d7ff\">None</span>, <span style=\"color: #00af00; text-decoration-color: #00af00\">25088</span>)               │               <span style=\"color: #00af00; text-decoration-color: #00af00\">0</span> │\n",
       "├──────────────────────────────────────┼─────────────────────────────┼─────────────────┤\n",
       "│ dense_18 (<span style=\"color: #0087ff; text-decoration-color: #0087ff\">Dense</span>)                     │ (<span style=\"color: #00d7ff; text-decoration-color: #00d7ff\">None</span>, <span style=\"color: #00af00; text-decoration-color: #00af00\">128</span>)                 │       <span style=\"color: #00af00; text-decoration-color: #00af00\">3,211,392</span> │\n",
       "├──────────────────────────────────────┼─────────────────────────────┼─────────────────┤\n",
       "│ dropout_9 (<span style=\"color: #0087ff; text-decoration-color: #0087ff\">Dropout</span>)                  │ (<span style=\"color: #00d7ff; text-decoration-color: #00d7ff\">None</span>, <span style=\"color: #00af00; text-decoration-color: #00af00\">128</span>)                 │               <span style=\"color: #00af00; text-decoration-color: #00af00\">0</span> │\n",
       "├──────────────────────────────────────┼─────────────────────────────┼─────────────────┤\n",
       "│ dense_19 (<span style=\"color: #0087ff; text-decoration-color: #0087ff\">Dense</span>)                     │ (<span style=\"color: #00d7ff; text-decoration-color: #00d7ff\">None</span>, <span style=\"color: #00af00; text-decoration-color: #00af00\">1</span>)                   │             <span style=\"color: #00af00; text-decoration-color: #00af00\">129</span> │\n",
       "└──────────────────────────────────────┴─────────────────────────────┴─────────────────┘\n",
       "</pre>\n"
      ],
      "text/plain": [
       "┏━━━━━━━━━━━━━━━━━━━━━━━━━━━━━━━━━━━━━━┳━━━━━━━━━━━━━━━━━━━━━━━━━━━━━┳━━━━━━━━━━━━━━━━━┓\n",
       "┃\u001b[1m \u001b[0m\u001b[1mLayer (type)                        \u001b[0m\u001b[1m \u001b[0m┃\u001b[1m \u001b[0m\u001b[1mOutput Shape               \u001b[0m\u001b[1m \u001b[0m┃\u001b[1m \u001b[0m\u001b[1m        Param #\u001b[0m\u001b[1m \u001b[0m┃\n",
       "┡━━━━━━━━━━━━━━━━━━━━━━━━━━━━━━━━━━━━━━╇━━━━━━━━━━━━━━━━━━━━━━━━━━━━━╇━━━━━━━━━━━━━━━━━┩\n",
       "│ conv2d_27 (\u001b[38;5;33mConv2D\u001b[0m)                   │ (\u001b[38;5;45mNone\u001b[0m, \u001b[38;5;34m126\u001b[0m, \u001b[38;5;34m126\u001b[0m, \u001b[38;5;34m32\u001b[0m)        │             \u001b[38;5;34m896\u001b[0m │\n",
       "├──────────────────────────────────────┼─────────────────────────────┼─────────────────┤\n",
       "│ max_pooling2d_27 (\u001b[38;5;33mMaxPooling2D\u001b[0m)      │ (\u001b[38;5;45mNone\u001b[0m, \u001b[38;5;34m63\u001b[0m, \u001b[38;5;34m63\u001b[0m, \u001b[38;5;34m32\u001b[0m)          │               \u001b[38;5;34m0\u001b[0m │\n",
       "├──────────────────────────────────────┼─────────────────────────────┼─────────────────┤\n",
       "│ conv2d_28 (\u001b[38;5;33mConv2D\u001b[0m)                   │ (\u001b[38;5;45mNone\u001b[0m, \u001b[38;5;34m61\u001b[0m, \u001b[38;5;34m61\u001b[0m, \u001b[38;5;34m64\u001b[0m)          │          \u001b[38;5;34m18,496\u001b[0m │\n",
       "├──────────────────────────────────────┼─────────────────────────────┼─────────────────┤\n",
       "│ max_pooling2d_28 (\u001b[38;5;33mMaxPooling2D\u001b[0m)      │ (\u001b[38;5;45mNone\u001b[0m, \u001b[38;5;34m30\u001b[0m, \u001b[38;5;34m30\u001b[0m, \u001b[38;5;34m64\u001b[0m)          │               \u001b[38;5;34m0\u001b[0m │\n",
       "├──────────────────────────────────────┼─────────────────────────────┼─────────────────┤\n",
       "│ conv2d_29 (\u001b[38;5;33mConv2D\u001b[0m)                   │ (\u001b[38;5;45mNone\u001b[0m, \u001b[38;5;34m28\u001b[0m, \u001b[38;5;34m28\u001b[0m, \u001b[38;5;34m128\u001b[0m)         │          \u001b[38;5;34m73,856\u001b[0m │\n",
       "├──────────────────────────────────────┼─────────────────────────────┼─────────────────┤\n",
       "│ max_pooling2d_29 (\u001b[38;5;33mMaxPooling2D\u001b[0m)      │ (\u001b[38;5;45mNone\u001b[0m, \u001b[38;5;34m14\u001b[0m, \u001b[38;5;34m14\u001b[0m, \u001b[38;5;34m128\u001b[0m)         │               \u001b[38;5;34m0\u001b[0m │\n",
       "├──────────────────────────────────────┼─────────────────────────────┼─────────────────┤\n",
       "│ flatten_9 (\u001b[38;5;33mFlatten\u001b[0m)                  │ (\u001b[38;5;45mNone\u001b[0m, \u001b[38;5;34m25088\u001b[0m)               │               \u001b[38;5;34m0\u001b[0m │\n",
       "├──────────────────────────────────────┼─────────────────────────────┼─────────────────┤\n",
       "│ dense_18 (\u001b[38;5;33mDense\u001b[0m)                     │ (\u001b[38;5;45mNone\u001b[0m, \u001b[38;5;34m128\u001b[0m)                 │       \u001b[38;5;34m3,211,392\u001b[0m │\n",
       "├──────────────────────────────────────┼─────────────────────────────┼─────────────────┤\n",
       "│ dropout_9 (\u001b[38;5;33mDropout\u001b[0m)                  │ (\u001b[38;5;45mNone\u001b[0m, \u001b[38;5;34m128\u001b[0m)                 │               \u001b[38;5;34m0\u001b[0m │\n",
       "├──────────────────────────────────────┼─────────────────────────────┼─────────────────┤\n",
       "│ dense_19 (\u001b[38;5;33mDense\u001b[0m)                     │ (\u001b[38;5;45mNone\u001b[0m, \u001b[38;5;34m1\u001b[0m)                   │             \u001b[38;5;34m129\u001b[0m │\n",
       "└──────────────────────────────────────┴─────────────────────────────┴─────────────────┘\n"
      ]
     },
     "metadata": {},
     "output_type": "display_data"
    },
    {
     "data": {
      "text/html": [
       "<pre style=\"white-space:pre;overflow-x:auto;line-height:normal;font-family:Menlo,'DejaVu Sans Mono',consolas,'Courier New',monospace\"><span style=\"font-weight: bold\"> Total params: </span><span style=\"color: #00af00; text-decoration-color: #00af00\">3,304,769</span> (12.61 MB)\n",
       "</pre>\n"
      ],
      "text/plain": [
       "\u001b[1m Total params: \u001b[0m\u001b[38;5;34m3,304,769\u001b[0m (12.61 MB)\n"
      ]
     },
     "metadata": {},
     "output_type": "display_data"
    },
    {
     "data": {
      "text/html": [
       "<pre style=\"white-space:pre;overflow-x:auto;line-height:normal;font-family:Menlo,'DejaVu Sans Mono',consolas,'Courier New',monospace\"><span style=\"font-weight: bold\"> Trainable params: </span><span style=\"color: #00af00; text-decoration-color: #00af00\">3,304,769</span> (12.61 MB)\n",
       "</pre>\n"
      ],
      "text/plain": [
       "\u001b[1m Trainable params: \u001b[0m\u001b[38;5;34m3,304,769\u001b[0m (12.61 MB)\n"
      ]
     },
     "metadata": {},
     "output_type": "display_data"
    },
    {
     "data": {
      "text/html": [
       "<pre style=\"white-space:pre;overflow-x:auto;line-height:normal;font-family:Menlo,'DejaVu Sans Mono',consolas,'Courier New',monospace\"><span style=\"font-weight: bold\"> Non-trainable params: </span><span style=\"color: #00af00; text-decoration-color: #00af00\">0</span> (0.00 B)\n",
       "</pre>\n"
      ],
      "text/plain": [
       "\u001b[1m Non-trainable params: \u001b[0m\u001b[38;5;34m0\u001b[0m (0.00 B)\n"
      ]
     },
     "metadata": {},
     "output_type": "display_data"
    },
    {
     "name": "stdout",
     "output_type": "stream",
     "text": [
      "Epoch 1/20\n",
      "\u001b[1m428/428\u001b[0m \u001b[32m━━━━━━━━━━━━━━━━━━━━\u001b[0m\u001b[37m\u001b[0m \u001b[1m11s\u001b[0m 16ms/step - accuracy: 0.4457 - auc_8: 0.5334 - f1_score: 0.1585 - loss: 3.1973 - val_accuracy: 0.3493 - val_auc_8: 0.5404 - val_f1_score: 0.1626 - val_loss: 0.6977\n",
      "Epoch 2/20\n",
      "\u001b[1m428/428\u001b[0m \u001b[32m━━━━━━━━━━━━━━━━━━━━\u001b[0m\u001b[37m\u001b[0m \u001b[1m4s\u001b[0m 10ms/step - accuracy: 0.3551 - auc_8: 0.5438 - f1_score: 0.1584 - loss: 0.6956 - val_accuracy: 0.0993 - val_auc_8: 0.5435 - val_f1_score: 0.1679 - val_loss: 0.7246\n",
      "Epoch 3/20\n",
      "\u001b[1m428/428\u001b[0m \u001b[32m━━━━━━━━━━━━━━━━━━━━\u001b[0m\u001b[37m\u001b[0m \u001b[1m4s\u001b[0m 10ms/step - accuracy: 0.1611 - auc_8: 0.5063 - f1_score: 0.1684 - loss: 0.7530 - val_accuracy: 0.3575 - val_auc_8: 0.5512 - val_f1_score: 0.1618 - val_loss: 0.6890\n",
      "Epoch 4/20\n",
      "\u001b[1m428/428\u001b[0m \u001b[32m━━━━━━━━━━━━━━━━━━━━\u001b[0m\u001b[37m\u001b[0m \u001b[1m4s\u001b[0m 10ms/step - accuracy: 0.3255 - auc_8: 0.5490 - f1_score: 0.1645 - loss: 0.6925 - val_accuracy: 0.3855 - val_auc_8: 0.5426 - val_f1_score: 0.1623 - val_loss: 0.6779\n",
      "Epoch 5/20\n",
      "\u001b[1m428/428\u001b[0m \u001b[32m━━━━━━━━━━━━━━━━━━━━\u001b[0m\u001b[37m\u001b[0m \u001b[1m4s\u001b[0m 10ms/step - accuracy: 0.3529 - auc_8: 0.5337 - f1_score: 0.1618 - loss: 0.7246 - val_accuracy: 0.3513 - val_auc_8: 0.5448 - val_f1_score: 0.1619 - val_loss: 0.7119\n",
      "Epoch 6/20\n",
      "\u001b[1m428/428\u001b[0m \u001b[32m━━━━━━━━━━━━━━━━━━━━\u001b[0m\u001b[37m\u001b[0m \u001b[1m4s\u001b[0m 10ms/step - accuracy: 0.3434 - auc_8: 0.5447 - f1_score: 0.1638 - loss: 0.6948 - val_accuracy: 0.3899 - val_auc_8: 0.5402 - val_f1_score: 0.1619 - val_loss: 0.6943\n",
      "Epoch 7/20\n",
      "\u001b[1m428/428\u001b[0m \u001b[32m━━━━━━━━━━━━━━━━━━━━\u001b[0m\u001b[37m\u001b[0m \u001b[1m4s\u001b[0m 10ms/step - accuracy: 0.3722 - auc_8: 0.5444 - f1_score: 0.1621 - loss: 0.6952 - val_accuracy: 0.3820 - val_auc_8: 0.5424 - val_f1_score: 0.1621 - val_loss: 0.6943\n",
      "Epoch 8/20\n",
      "\u001b[1m428/428\u001b[0m \u001b[32m━━━━━━━━━━━━━━━━━━━━\u001b[0m\u001b[37m\u001b[0m \u001b[1m4s\u001b[0m 10ms/step - accuracy: 0.3837 - auc_8: 0.5431 - f1_score: 0.1686 - loss: 0.7584 - val_accuracy: 0.3817 - val_auc_8: 0.5344 - val_f1_score: 0.1622 - val_loss: 0.6919\n",
      "Epoch 9/20\n",
      "\u001b[1m428/428\u001b[0m \u001b[32m━━━━━━━━━━━━━━━━━━━━\u001b[0m\u001b[37m\u001b[0m \u001b[1m4s\u001b[0m 10ms/step - accuracy: 0.3766 - auc_8: 0.5459 - f1_score: 0.1576 - loss: 0.6947 - val_accuracy: 0.3505 - val_auc_8: 0.5355 - val_f1_score: 0.1621 - val_loss: 0.7236\n",
      "Epoch 10/20\n",
      "\u001b[1m428/428\u001b[0m \u001b[32m━━━━━━━━━━━━━━━━━━━━\u001b[0m\u001b[37m\u001b[0m \u001b[1m4s\u001b[0m 10ms/step - accuracy: 0.3658 - auc_8: 0.5312 - f1_score: 0.1600 - loss: 0.6845 - val_accuracy: 0.3820 - val_auc_8: 0.5360 - val_f1_score: 0.1620 - val_loss: 0.6952\n",
      "Epoch 11/20\n",
      "\u001b[1m428/428\u001b[0m \u001b[32m━━━━━━━━━━━━━━━━━━━━\u001b[0m\u001b[37m\u001b[0m \u001b[1m4s\u001b[0m 10ms/step - accuracy: 0.3682 - auc_8: 0.5537 - f1_score: 0.1627 - loss: 0.6963 - val_accuracy: 0.3911 - val_auc_8: 0.5427 - val_f1_score: 0.1618 - val_loss: 0.7098\n",
      "Epoch 12/20\n",
      "\u001b[1m428/428\u001b[0m \u001b[32m━━━━━━━━━━━━━━━━━━━━\u001b[0m\u001b[37m\u001b[0m \u001b[1m4s\u001b[0m 10ms/step - accuracy: 0.4016 - auc_8: 0.5613 - f1_score: 0.1496 - loss: 0.6647 - val_accuracy: 0.3823 - val_auc_8: 0.5360 - val_f1_score: 0.1619 - val_loss: 0.7279\n",
      "Epoch 13/20\n",
      "\u001b[1m428/428\u001b[0m \u001b[32m━━━━━━━━━━━━━━━━━━━━\u001b[0m\u001b[37m\u001b[0m \u001b[1m4s\u001b[0m 10ms/step - accuracy: 0.3896 - auc_8: 0.5534 - f1_score: 0.1606 - loss: 0.6994 - val_accuracy: 0.3873 - val_auc_8: 0.5388 - val_f1_score: 0.1619 - val_loss: 0.6994\n",
      "Epoch 14/20\n",
      "\u001b[1m428/428\u001b[0m \u001b[32m━━━━━━━━━━━━━━━━━━━━\u001b[0m\u001b[37m\u001b[0m \u001b[1m4s\u001b[0m 10ms/step - accuracy: 0.3896 - auc_8: 0.5605 - f1_score: 0.1600 - loss: 0.6791 - val_accuracy: 0.3779 - val_auc_8: 0.5308 - val_f1_score: 0.1620 - val_loss: 0.7047\n",
      "Epoch 15/20\n",
      "\u001b[1m428/428\u001b[0m \u001b[32m━━━━━━━━━━━━━━━━━━━━\u001b[0m\u001b[37m\u001b[0m \u001b[1m4s\u001b[0m 10ms/step - accuracy: 0.3771 - auc_8: 0.5868 - f1_score: 0.1631 - loss: 0.6737 - val_accuracy: 0.3879 - val_auc_8: 0.5335 - val_f1_score: 0.1621 - val_loss: 0.6814\n",
      "Epoch 16/20\n",
      "\u001b[1m428/428\u001b[0m \u001b[32m━━━━━━━━━━━━━━━━━━━━\u001b[0m\u001b[37m\u001b[0m \u001b[1m4s\u001b[0m 10ms/step - accuracy: 0.3827 - auc_8: 0.5925 - f1_score: 0.1621 - loss: 0.6767 - val_accuracy: 0.3899 - val_auc_8: 0.5361 - val_f1_score: 0.1620 - val_loss: 0.7093\n",
      "Epoch 17/20\n",
      "\u001b[1m428/428\u001b[0m \u001b[32m━━━━━━━━━━━━━━━━━━━━\u001b[0m\u001b[37m\u001b[0m \u001b[1m4s\u001b[0m 10ms/step - accuracy: 0.4032 - auc_8: 0.5808 - f1_score: 0.1567 - loss: 0.6637 - val_accuracy: 0.3843 - val_auc_8: 0.5339 - val_f1_score: 0.1618 - val_loss: 0.7101\n",
      "Epoch 18/20\n",
      "\u001b[1m428/428\u001b[0m \u001b[32m━━━━━━━━━━━━━━━━━━━━\u001b[0m\u001b[37m\u001b[0m \u001b[1m4s\u001b[0m 10ms/step - accuracy: 0.3872 - auc_8: 0.5804 - f1_score: 0.1547 - loss: 0.6604 - val_accuracy: 0.3841 - val_auc_8: 0.5332 - val_f1_score: 0.1620 - val_loss: 0.6881\n",
      "Epoch 19/20\n",
      "\u001b[1m428/428\u001b[0m \u001b[32m━━━━━━━━━━━━━━━━━━━━\u001b[0m\u001b[37m\u001b[0m \u001b[1m4s\u001b[0m 10ms/step - accuracy: 0.3937 - auc_8: 0.5792 - f1_score: 0.1583 - loss: 0.6602 - val_accuracy: 0.3791 - val_auc_8: 0.5300 - val_f1_score: 0.1619 - val_loss: 0.7233\n",
      "Epoch 20/20\n",
      "\u001b[1m428/428\u001b[0m \u001b[32m━━━━━━━━━━━━━━━━━━━━\u001b[0m\u001b[37m\u001b[0m \u001b[1m4s\u001b[0m 10ms/step - accuracy: 0.3573 - auc_8: 0.5754 - f1_score: 0.1677 - loss: 0.6771 - val_accuracy: 0.3902 - val_auc_8: 0.5363 - val_f1_score: 0.1618 - val_loss: 0.6949\n"
     ]
    },
    {
     "data": {
      "text/plain": [
       "<keras.src.callbacks.history.History at 0x7e83abe45e10>"
      ]
     },
     "execution_count": 122,
     "metadata": {},
     "output_type": "execute_result"
    }
   ],
   "source": [
    "\n",
    "# Crear el modelo\n",
    "model = build_cnn()\n",
    "model.summary()\n",
    "\n",
    "from sklearn.utils import class_weight\n",
    "import numpy as np\n",
    "\n",
    "# CLASS WEIGHTS\n",
    "class_weights = class_weight.compute_class_weight(\n",
    "    class_weight='balanced',\n",
    "    classes=np.unique(y_train),\n",
    "    y=y_train)\n",
    "\n",
    "class_weight_dict = {i: class_weights[i] for i in range(len(class_weights))}\n",
    "\n",
    "# === TRAINING ===\n",
    "model.fit(X_train, y_train, epochs=20, batch_size=32, validation_data=(X_val, y_val), class_weight=class_weight_dict)"
   ]
  },
  {
   "cell_type": "code",
   "execution_count": null,
   "id": "52f6fc5e",
   "metadata": {
    "execution": {
     "iopub.execute_input": "2025-04-25T10:47:30.083546Z",
     "iopub.status.busy": "2025-04-25T10:47:30.082935Z",
     "iopub.status.idle": "2025-04-25T10:47:51.595642Z",
     "shell.execute_reply": "2025-04-25T10:47:51.595051Z",
     "shell.execute_reply.started": "2025-04-25T10:47:30.083521Z"
    },
    "trusted": true
   },
   "outputs": [
    {
     "name": "stderr",
     "output_type": "stream",
     "text": [
      "/tmp/ipykernel_31/3900068870.py:16: RuntimeWarning: invalid value encountered in divide\n",
      "  mel_spec_db = (mel_spec_db - mel_spec_db.min()) / (mel_spec_db.max() - mel_spec_db.min()) * 255\n",
      "/tmp/ipykernel_31/3900068870.py:17: RuntimeWarning: invalid value encountered in cast\n",
      "  mel_spec_db = mel_spec_db.astype(np.uint8)\n"
     ]
    }
   ],
   "source": [
    "# === TEST PREPROCESSING ===\n",
    "test_df = pd.read_csv(\"/kaggle/input/audios-afd/test_afd_audio.csv\")\n",
    "test_df['Ruta'] = test_df['Ruta'].str.replace(r'\\\\', '/', regex=True)\n",
    "test_df['Ruta'] = test_df['Ruta'].str.replace('C:/Users/Usuario/AFD', '/kaggle/input/datosss', regex=True)\n",
    "\n",
    "X_test = []\n",
    "for _, row in test_df.iterrows():\n",
    "    spec = audio_to_mel_spectrogram(row['Ruta'])\n",
    "    X_test.append(spec)\n",
    "\n",
    "X_test = np.array(X_test)"
   ]
  },
  {
   "cell_type": "code",
   "execution_count": 124,
   "id": "bfb141ba-8313-47c9-ae19-8901ea22d0a0",
   "metadata": {
    "execution": {
     "iopub.execute_input": "2025-04-25T10:47:51.597386Z",
     "iopub.status.busy": "2025-04-25T10:47:51.597122Z",
     "iopub.status.idle": "2025-04-25T10:47:51.602548Z",
     "shell.execute_reply": "2025-04-25T10:47:51.601828Z",
     "shell.execute_reply.started": "2025-04-25T10:47:51.597365Z"
    },
    "trusted": true
   },
   "outputs": [
    {
     "data": {
      "text/plain": [
       "array([[[ 99,  99,  99],\n",
       "        [ 91,  91,  91],\n",
       "        [ 97,  97,  97],\n",
       "        ...,\n",
       "        [  0,   0,   0],\n",
       "        [  0,   0,   0],\n",
       "        [  0,   0,   0]],\n",
       "\n",
       "       [[109, 109, 109],\n",
       "        [ 95,  95,  95],\n",
       "        [100, 100, 100],\n",
       "        ...,\n",
       "        [  0,   0,   0],\n",
       "        [  0,   0,   0],\n",
       "        [  0,   0,   0]],\n",
       "\n",
       "       [[121, 121, 121],\n",
       "        [103, 103, 103],\n",
       "        [103, 103, 103],\n",
       "        ...,\n",
       "        [  0,   0,   0],\n",
       "        [  0,   0,   0],\n",
       "        [  0,   0,   0]],\n",
       "\n",
       "       ...,\n",
       "\n",
       "       [[ 40,  40,  40],\n",
       "        [ 55,  55,  55],\n",
       "        [ 88,  88,  88],\n",
       "        ...,\n",
       "        [  0,   0,   0],\n",
       "        [  0,   0,   0],\n",
       "        [  0,   0,   0]],\n",
       "\n",
       "       [[ 39,  39,  39],\n",
       "        [ 49,  49,  49],\n",
       "        [ 75,  75,  75],\n",
       "        ...,\n",
       "        [  0,   0,   0],\n",
       "        [  0,   0,   0],\n",
       "        [  0,   0,   0]],\n",
       "\n",
       "       [[ 32,  32,  32],\n",
       "        [ 23,  23,  23],\n",
       "        [ 37,  37,  37],\n",
       "        ...,\n",
       "        [  0,   0,   0],\n",
       "        [  0,   0,   0],\n",
       "        [  0,   0,   0]]], dtype=uint8)"
      ]
     },
     "execution_count": 124,
     "metadata": {},
     "output_type": "execute_result"
    }
   ],
   "source": [
    "X_test[1]"
   ]
  },
  {
   "cell_type": "code",
   "execution_count": null,
   "id": "252b4157-446e-46b6-997f-9991f6a6ae32",
   "metadata": {
    "execution": {
     "iopub.execute_input": "2025-04-25T10:47:51.603434Z",
     "iopub.status.busy": "2025-04-25T10:47:51.603280Z",
     "iopub.status.idle": "2025-04-25T10:47:52.590255Z",
     "shell.execute_reply": "2025-04-25T10:47:52.589689Z",
     "shell.execute_reply.started": "2025-04-25T10:47:51.603421Z"
    },
    "trusted": true
   },
   "outputs": [
    {
     "name": "stdout",
     "output_type": "stream",
     "text": [
      "\u001b[1m68/68\u001b[0m \u001b[32m━━━━━━━━━━━━━━━━━━━━\u001b[0m\u001b[37m\u001b[0m \u001b[1m1s\u001b[0m 6ms/step\n"
     ]
    }
   ],
   "source": [
    "# === PREDICTION ===\n",
    "predicciones = model.predict(X_test)\n"
   ]
  },
  {
   "cell_type": "code",
   "execution_count": null,
   "id": "a2d0cbdf-24fe-4370-b96b-d3f27263b4c5",
   "metadata": {
    "execution": {
     "iopub.execute_input": "2025-04-25T10:47:52.591949Z",
     "iopub.status.busy": "2025-04-25T10:47:52.591760Z",
     "iopub.status.idle": "2025-04-25T10:47:52.595896Z",
     "shell.execute_reply": "2025-04-25T10:47:52.595124Z",
     "shell.execute_reply.started": "2025-04-25T10:47:52.591935Z"
    },
    "trusted": true
   },
   "outputs": [],
   "source": [
    "y_pred = (predicciones > 0.3).astype(int)"
   ]
  },
  {
   "cell_type": "code",
   "execution_count": 127,
   "id": "ef9b2170-606f-407a-8f9b-62d47bdd8a9a",
   "metadata": {
    "execution": {
     "iopub.execute_input": "2025-04-25T10:47:52.596831Z",
     "iopub.status.busy": "2025-04-25T10:47:52.596635Z",
     "iopub.status.idle": "2025-04-25T10:47:52.612339Z",
     "shell.execute_reply": "2025-04-25T10:47:52.611709Z",
     "shell.execute_reply.started": "2025-04-25T10:47:52.596809Z"
    },
    "trusted": true
   },
   "outputs": [
    {
     "data": {
      "text/plain": [
       "array([[1],\n",
       "       [1],\n",
       "       [1],\n",
       "       ...,\n",
       "       [0],\n",
       "       [0],\n",
       "       [0]])"
      ]
     },
     "execution_count": 127,
     "metadata": {},
     "output_type": "execute_result"
    }
   ],
   "source": [
    "y_pred"
   ]
  },
  {
   "cell_type": "code",
   "execution_count": null,
   "id": "dfa36a7f-7702-4214-aeef-5ddc5c52a6a4",
   "metadata": {
    "execution": {
     "iopub.execute_input": "2025-04-25T10:47:52.613136Z",
     "iopub.status.busy": "2025-04-25T10:47:52.612942Z",
     "iopub.status.idle": "2025-04-25T10:47:52.626598Z",
     "shell.execute_reply": "2025-04-25T10:47:52.625987Z",
     "shell.execute_reply.started": "2025-04-25T10:47:52.613120Z"
    },
    "trusted": true
   },
   "outputs": [
    {
     "name": "stdout",
     "output_type": "stream",
     "text": [
      "Etiquetas 0: 497\n",
      "Etiquetas 1: 1678\n"
     ]
    }
   ],
   "source": [
    "import numpy as np\n",
    "\n",
    "conteo = np.bincount(y_pred.flatten())\n",
    "print(f\"Etiquetas 0: {conteo[0]}\")\n",
    "print(f\"Etiquetas 1: {conteo[1]}\")"
   ]
  },
  {
   "cell_type": "code",
   "execution_count": null,
   "id": "e129a92c-b429-4ac8-9440-32a96003f5fd",
   "metadata": {
    "execution": {
     "iopub.execute_input": "2025-04-25T10:53:39.313541Z",
     "iopub.status.busy": "2025-04-25T10:53:39.312960Z",
     "iopub.status.idle": "2025-04-25T10:53:39.323443Z",
     "shell.execute_reply": "2025-04-25T10:53:39.322808Z",
     "shell.execute_reply.started": "2025-04-25T10:53:39.313517Z"
    },
    "trusted": true
   },
   "outputs": [],
   "source": [
    "import pandas as pd\n",
    "\n",
    "# === SAVE THE DF WITH THE PREDICTIONS ===\n",
    "df = pd.DataFrame(y_pred, columns=[\"Predicción\"])\n",
    "df.to_csv(\"/kaggle/working/predicciones.csv\", index=False)"
   ]
  }
 ],
 "metadata": {
  "kaggle": {
   "accelerator": "gpu",
   "dataSources": [
    {
     "datasetId": 7209398,
     "sourceId": 11499837,
     "sourceType": "datasetVersion"
    },
    {
     "datasetId": 7240122,
     "sourceId": 11545111,
     "sourceType": "datasetVersion"
    },
    {
     "datasetId": 7240399,
     "sourceId": 11545559,
     "sourceType": "datasetVersion"
    },
    {
     "datasetId": 7248737,
     "sourceId": 11560794,
     "sourceType": "datasetVersion"
    }
   ],
   "dockerImageVersionId": 31011,
   "isGpuEnabled": true,
   "isInternetEnabled": true,
   "language": "python",
   "sourceType": "notebook"
  },
  "kernelspec": {
   "display_name": "Python 3",
   "language": "python",
   "name": "python3"
  },
  "language_info": {
   "codemirror_mode": {
    "name": "ipython",
    "version": 3
   },
   "file_extension": ".py",
   "mimetype": "text/x-python",
   "name": "python",
   "nbconvert_exporter": "python",
   "pygments_lexer": "ipython3",
   "version": "3.11.11"
  }
 },
 "nbformat": 4,
 "nbformat_minor": 5
}
