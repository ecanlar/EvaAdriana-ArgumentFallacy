{
 "cells": [
  {
   "cell_type": "code",
   "execution_count": 1,
   "id": "e69f668b",
   "metadata": {},
   "outputs": [],
   "source": [
    "import pandas as pd\n",
    "from pathlib import PosixPath\n",
    "import ast\n",
    "\n",
    "def clean_path_list(path_str):\n",
    "    try:\n",
    "        # Reemplazar PosixPath(...) por comillas\n",
    "        path_str = path_str.replace(\"PosixPath(\", \"\").replace(\")\", \"\")\n",
    "        evaluated = ast.literal_eval(path_str)\n",
    "        return [str(p) for p in evaluated]\n",
    "    except Exception as e:\n",
    "        print(f\"Error al parsear: {path_str}\\n{e}\")\n",
    "        return []\n"
   ]
  },
  {
   "cell_type": "code",
   "execution_count": 2,
   "id": "74d47880",
   "metadata": {},
   "outputs": [
    {
     "name": "stderr",
     "output_type": "stream",
     "text": [
      "/home/evacantin/miniconda3/envs/haia/lib/python3.10/site-packages/tqdm/auto.py:21: TqdmWarning: IProgress not found. Please update jupyter and ipywidgets. See https://ipywidgets.readthedocs.io/en/stable/user_install.html\n",
      "  from .autonotebook import tqdm as notebook_tqdm\n",
      "/tmp/ipykernel_55218/975103250.py:145: FutureWarning: `torch.cuda.amp.GradScaler(args...)` is deprecated. Please use `torch.amp.GradScaler('cuda', args...)` instead.\n",
      "  scaler = GradScaler()\n"
     ]
    }
   ],
   "source": [
    "import os\n",
    "import torch\n",
    "import torchaudio\n",
    "import pandas as pd\n",
    "from torch import nn\n",
    "from torch.utils.data import Dataset, DataLoader\n",
    "from transformers import RobertaTokenizer, RobertaModel, Wav2Vec2Model, Wav2Vec2Processor\n",
    "from sklearn.preprocessing import LabelEncoder\n",
    "from sklearn.metrics import classification_report\n",
    "from tqdm import tqdm\n",
    "import ast\n",
    "from pathlib import Path\n",
    "import gc\n",
    "\n",
    "import torch\n",
    "import torchaudio\n",
    "from torch.utils.data import Dataset\n",
    "\n",
    "class MultimodalFallacyDataset(Dataset):\n",
    "    def __init__(self, df, tokenizer, processor, audio_dir, label_encoder=None, max_length=128):\n",
    "        self.df = df.reset_index(drop=True)\n",
    "        self.tokenizer = tokenizer\n",
    "        self.processor = processor\n",
    "        self.audio_dir = audio_dir\n",
    "        self.max_length = max_length\n",
    "        self.label_encoder = label_encoder\n",
    "\n",
    "        if label_encoder:\n",
    "            self.df['label'] = label_encoder.transform(self.df['Etiqueta'])\n",
    "\n",
    "        self.min_audio_len =  1600  # 100ms at 16kHz, padding threshold\n",
    "\n",
    "    def __len__(self):\n",
    "        return len(self.df)\n",
    "\n",
    "    def __getitem__(self, idx):\n",
    "        row = self.df.iloc[idx]\n",
    "\n",
    "        # Text input\n",
    "        text = row['Texto']\n",
    "        inputs = self.tokenizer(text, truncation=True, padding='max_length', max_length=self.max_length, return_tensors=\"pt\")\n",
    "\n",
    "        try:\n",
    "            audio_paths = row['Ruta']\n",
    "            if isinstance(audio_paths, str):\n",
    "                audio_paths = ast.literal_eval(audio_paths)\n",
    "            if not isinstance(audio_paths, list):\n",
    "                audio_paths = [audio_paths]\n",
    "\n",
    "            waveforms = []\n",
    "            for path in audio_paths:\n",
    "                try:\n",
    "                    waveform, sr = torchaudio.load(path)\n",
    "\n",
    "                    if sr != 16000:\n",
    "                        resampler = torchaudio.transforms.Resample(orig_freq=sr, new_freq=16000)\n",
    "                        waveform = resampler(waveform)\n",
    "\n",
    "                    waveform = waveform.mean(dim=0, keepdim=True)\n",
    "\n",
    "                    if waveform.numel() == 0:\n",
    "                        raise ValueError(f\"Audio vacío: {path}\")\n",
    "\n",
    "                    waveforms.append(waveform)\n",
    "\n",
    "                except Exception as e:\n",
    "                    print(f\"Error al cargar el audio {path}: {e}. Se usará tensor de ceros.\")\n",
    "                    waveforms.append(torch.zeros(1, self.min_audio_len))\n",
    "\n",
    "            waveform = torch.cat(waveforms, dim=1)\n",
    "\n",
    "        except Exception as e:\n",
    "            print(f\"Error procesando 'Ruta' para índice {idx}: {row['Ruta']} - Error: {str(e)}\")\n",
    "            waveform = torch.zeros(1, self.min_audio_len)\n",
    "\n",
    "        if waveform.shape[1] < self.min_audio_len:\n",
    "            pad_size = self.min_audio_len - waveform.shape[1]\n",
    "            waveform = torch.nn.functional.pad(waveform, (0, pad_size), value=0)\n",
    "\n",
    "        # Imprimir la ruta y la longitud antes de procesar\n",
    "        print(f\"[DEBUG] Procesando audio del índice {idx}, ruta(s): {row['Ruta']} - longitud tras concat: {waveform.shape[1]}\")\n",
    "\n",
    "        audio_input = self.processor(\n",
    "            waveform.squeeze(),\n",
    "            sampling_rate=16000,\n",
    "            return_tensors=\"pt\",\n",
    "            padding=True,\n",
    "            truncation=False,\n",
    "            return_attention_mask=True,\n",
    "            mask_time_prob=0.0,\n",
    "            mask_time_length=0\n",
    "        )\n",
    "\n",
    "        input_len = audio_input['input_values'].shape[-1]\n",
    "        if input_len < 10:\n",
    "            raise ValueError(f\"Audio demasiado corto tras procesar: {row['Ruta']} -> longitud: {input_len}\")\n",
    "\n",
    "        item = {\n",
    "            'input_ids': inputs['input_ids'].squeeze(0),\n",
    "            'attention_mask': inputs['attention_mask'].squeeze(0),\n",
    "            'input_values': audio_input['input_values'].squeeze(0),\n",
    "        }\n",
    "\n",
    "        if 'label' in row:\n",
    "            item['label'] = torch.tensor(row['label'], dtype=torch.long)\n",
    "\n",
    "        return item\n",
    "\n",
    "\n",
    "\n",
    "\n",
    "class MultimodalClassifier(nn.Module):\n",
    "    def __init__(self, text_model_name='roberta-base', audio_model_name='facebook/wav2vec2-base', num_labels=6):\n",
    "        super().__init__()\n",
    "        self.text_encoder = RobertaModel.from_pretrained(text_model_name)\n",
    "        self.audio_encoder = Wav2Vec2Model.from_pretrained(audio_model_name)\n",
    "\n",
    "        # Freeze audio encoder\n",
    "        self.audio_encoder.eval()\n",
    "        for param in self.audio_encoder.parameters():\n",
    "            param.requires_grad = False\n",
    "\n",
    "        text_hidden = self.text_encoder.config.hidden_size\n",
    "        audio_hidden = self.audio_encoder.config.hidden_size\n",
    "\n",
    "        self.classifier = nn.Sequential(\n",
    "            nn.Linear(text_hidden + audio_hidden, 256),\n",
    "            nn.ReLU(),\n",
    "            nn.Dropout(0.2),\n",
    "            nn.Linear(256, num_labels)\n",
    "        )\n",
    "\n",
    "    def forward(self, input_ids, attention_mask, input_values):\n",
    "        text_output = self.text_encoder(input_ids=input_ids, attention_mask=attention_mask)\n",
    "        audio_output = self.audio_encoder(input_values=input_values)\n",
    "\n",
    "        text_feat = text_output.last_hidden_state[:, 0]  # [CLS]\n",
    "        audio_feat = audio_output.last_hidden_state.mean(dim=1)\n",
    "\n",
    "        fused = torch.cat((text_feat, audio_feat), dim=1)\n",
    "        return self.classifier(fused)\n",
    "\n",
    "from torch.cuda.amp import autocast, GradScaler\n",
    "\n",
    "scaler = GradScaler()\n",
    "\n",
    "import gc\n",
    "\n",
    "def train_model(model, dataloader, optimizer, loss_fn, device):\n",
    "    model.train()\n",
    "    total_loss = 0\n",
    "    \n",
    "    for batch in tqdm(dataloader):\n",
    "        optimizer.zero_grad()\n",
    "        \n",
    "        input_ids = batch['input_ids'].to(device)\n",
    "        attention_mask = batch['attention_mask'].to(device)\n",
    "        input_values = batch['input_values'].to(device)\n",
    "        labels = batch['label'].to(device)\n",
    "\n",
    "        try:\n",
    "            with autocast():\n",
    "                outputs = model(input_ids, attention_mask, input_values)\n",
    "                loss = loss_fn(outputs, labels)\n",
    "\n",
    "        except Exception as e:\n",
    "            raise e  # para seguir viendo el traceback\n",
    "\n",
    "        scaler.scale(loss).backward()\n",
    "        scaler.step(optimizer)\n",
    "        scaler.update()\n",
    "\n",
    "        total_loss += loss.item()\n",
    "\n",
    "        del input_ids, attention_mask, input_values, labels, outputs, loss\n",
    "        torch.cuda.empty_cache()\n",
    "        gc.collect()\n",
    "\n",
    "    return total_loss / len(dataloader)\n",
    "\n",
    "from sklearn.metrics import classification_report, f1_score, accuracy_score\n",
    "\n",
    "def evaluate_model(model, dataloader, device, label_encoder):\n",
    "    model.eval()\n",
    "    preds, targets = [], []\n",
    "    with torch.no_grad():\n",
    "        for batch in tqdm(dataloader):\n",
    "            input_ids = batch['input_ids'].to(device)\n",
    "            attention_mask = batch['attention_mask'].to(device)\n",
    "            input_values = batch['input_values'].to(device)\n",
    "            labels = batch['label'].to(device)\n",
    "\n",
    "            outputs = model(input_ids, attention_mask, input_values)\n",
    "            pred = torch.argmax(outputs, dim=1)\n",
    "\n",
    "            preds.extend(pred.cpu().numpy())\n",
    "            targets.extend(labels.cpu().numpy())\n",
    "\n",
    "            # Liberar memoria\n",
    "            del input_ids, attention_mask, input_values, labels, outputs, pred\n",
    "            torch.cuda.empty_cache()\n",
    "            import gc; gc.collect()\n",
    "\n",
    "    # Métricas\n",
    "    accuracy = accuracy_score(targets, preds)\n",
    "    f1_weighted = f1_score(targets, preds, average='weighted', zero_division=0)\n",
    "    f1_macro = f1_score(targets, preds, average='macro', zero_division=0)\n",
    "\n",
    "    print(\"Evaluation Metrics:\")\n",
    "    print(f\"Accuracy: {accuracy:.4f}\")\n",
    "    print(f\"F1 Weighted: {f1_weighted:.4f}\")\n",
    "    print(f\"F1 Macro: {f1_macro:.4f}\")\n",
    "\n",
    "    print(\"\\nDetailed Classification Report:\")\n",
    "    print(classification_report(targets, preds, target_names=label_encoder.classes_, zero_division=0))"
   ]
  },
  {
   "cell_type": "code",
   "execution_count": 3,
   "id": "35c8736f",
   "metadata": {},
   "outputs": [],
   "source": [
    "def custom_collate_fn(batch):\n",
    "    # Filtra los ejemplos donde el input_values es más corto que mask_length\n",
    "    mask_length = 10  # Esto depende de tu configuración de Wav2Vec2\n",
    "    filtered_batch = [item for item in batch if item['input_values'].shape[-1] >= mask_length]\n",
    "\n",
    "    if len(filtered_batch) == 0:\n",
    "        raise ValueError(\"Todos los ejemplos del batch son demasiado cortos para mask_length.\")\n",
    "\n",
    "    input_ids = torch.stack([item['input_ids'] for item in filtered_batch])\n",
    "    attention_mask = torch.stack([item['attention_mask'] for item in filtered_batch])\n",
    "    \n",
    "    input_values = [item['input_values'] for item in filtered_batch]\n",
    "    max_len = max([x.shape[-1] for x in input_values])\n",
    "    padded_values = torch.stack([torch.nn.functional.pad(x, (0, max_len - x.shape[-1])) for x in input_values])\n",
    "\n",
    "    labels = torch.stack([item['label'] for item in filtered_batch])\n",
    "\n",
    "    return {\n",
    "        'input_ids': input_ids,\n",
    "        'attention_mask': attention_mask,\n",
    "        'input_values': padded_values,\n",
    "        'label': labels\n",
    "    }\n"
   ]
  },
  {
   "cell_type": "code",
   "execution_count": 4,
   "id": "85a446fe",
   "metadata": {},
   "outputs": [
    {
     "name": "stderr",
     "output_type": "stream",
     "text": [
      "/home/evacantin/miniconda3/envs/haia/lib/python3.10/site-packages/transformers/configuration_utils.py:311: UserWarning: Passing `gradient_checkpointing` to a config initialization is deprecated and will be removed in v5 Transformers. Using `model.gradient_checkpointing_enable()` instead, or if you are using the `Trainer` API, pass `gradient_checkpointing=True` in your `TrainingArguments`.\n",
      "  warnings.warn(\n",
      "Some weights of RobertaModel were not initialized from the model checkpoint at roberta-base and are newly initialized: ['pooler.dense.bias', 'pooler.dense.weight']\n",
      "You should probably TRAIN this model on a down-stream task to be able to use it for predictions and inference.\n",
      "/home/evacantin/miniconda3/envs/haia/lib/python3.10/site-packages/transformers/configuration_utils.py:311: UserWarning: Passing `gradient_checkpointing` to a config initialization is deprecated and will be removed in v5 Transformers. Using `model.gradient_checkpointing_enable()` instead, or if you are using the `Trainer` API, pass `gradient_checkpointing=True` in your `TrainingArguments`.\n",
      "  warnings.warn(\n"
     ]
    },
    {
     "name": "stdout",
     "output_type": "stream",
     "text": [
      "Epoch 1\n"
     ]
    },
    {
     "name": "stderr",
     "output_type": "stream",
     "text": [
      "  0%|          | 0/1220 [00:00<?, ?it/s]"
     ]
    },
    {
     "name": "stdout",
     "output_type": "stream",
     "text": [
      "[DEBUG] Procesando audio del índice 56, ruta(s): ['/mnt/c/users/evacantin/desktop/MASTER/HAIA/Trabajo/MMUSED-fallacy/audio_clips/18_1992/233.wav', '/mnt/c/users/evacantin/desktop/MASTER/HAIA/Trabajo/MMUSED-fallacy/audio_clips/18_1992/234.wav'] - longitud tras concat: 28832\n"
     ]
    },
    {
     "name": "stderr",
     "output_type": "stream",
     "text": [
      "Keyword argument `mask_time_prob` is not a valid argument for this processor and will be ignored.\n",
      "Keyword argument `mask_time_length` is not a valid argument for this processor and will be ignored.\n"
     ]
    },
    {
     "name": "stdout",
     "output_type": "stream",
     "text": [
      "[DEBUG] Procesando audio del índice 1045, ruta(s): ['/mnt/c/users/evacantin/desktop/MASTER/HAIA/Trabajo/MMUSED-fallacy/audio_clips/42_2016/242.wav', '/mnt/c/users/evacantin/desktop/MASTER/HAIA/Trabajo/MMUSED-fallacy/audio_clips/42_2016/243.wav', '/mnt/c/users/evacantin/desktop/MASTER/HAIA/Trabajo/MMUSED-fallacy/audio_clips/42_2016/244.wav'] - longitud tras concat: 238448\n",
      "[DEBUG] Procesando audio del índice 1133, ruta(s): ['/mnt/c/users/evacantin/desktop/MASTER/HAIA/Trabajo/MMUSED-fallacy/audio_clips/45_2020/102.wav'] - longitud tras concat: 153008\n"
     ]
    },
    {
     "name": "stderr",
     "output_type": "stream",
     "text": [
      "Keyword argument `mask_time_prob` is not a valid argument for this processor and will be ignored.\n",
      "Keyword argument `mask_time_length` is not a valid argument for this processor and will be ignored.\n"
     ]
    },
    {
     "name": "stdout",
     "output_type": "stream",
     "text": [
      "[DEBUG] Procesando audio del índice 1171, ruta(s): ['/mnt/c/users/evacantin/desktop/MASTER/HAIA/Trabajo/MMUSED-fallacy/audio_clips/46_2020/317.wav'] - longitud tras concat: 66608\n"
     ]
    },
    {
     "name": "stderr",
     "output_type": "stream",
     "text": [
      "/tmp/ipykernel_55218/975103250.py:162: FutureWarning: `torch.cuda.amp.autocast(args...)` is deprecated. Please use `torch.amp.autocast('cuda', args...)` instead.\n",
      "  with autocast():\n"
     ]
    },
    {
     "name": "stdout",
     "output_type": "stream",
     "text": [
      "[DEBUG] Procesando audio del índice 856, ruta(s): ['/mnt/c/users/evacantin/desktop/MASTER/HAIA/Trabajo/MMUSED-fallacy/audio_clips/9_1980/149.wav', '/mnt/c/users/evacantin/desktop/MASTER/HAIA/Trabajo/MMUSED-fallacy/audio_clips/9_1980/150.wav'] - longitud tras concat: 266048\n"
     ]
    },
    {
     "name": "stderr",
     "output_type": "stream",
     "text": [
      "  0%|          | 1/1220 [00:00<15:39,  1.30it/s]"
     ]
    },
    {
     "name": "stdout",
     "output_type": "stream",
     "text": [
      "[DEBUG] Procesando audio del índice 73, ruta(s): ['/mnt/c/users/evacantin/desktop/MASTER/HAIA/Trabajo/MMUSED-fallacy/audio_clips/18_1992/703.wav', '/mnt/c/users/evacantin/desktop/MASTER/HAIA/Trabajo/MMUSED-fallacy/audio_clips/18_1992/704.wav'] - longitud tras concat: 91264\n"
     ]
    },
    {
     "name": "stderr",
     "output_type": "stream",
     "text": [
      "  0%|          | 2/1220 [00:01<09:47,  2.07it/s]"
     ]
    },
    {
     "name": "stdout",
     "output_type": "stream",
     "text": [
      "[DEBUG] Procesando audio del índice 1144, ruta(s): ['/mnt/c/users/evacantin/desktop/MASTER/HAIA/Trabajo/MMUSED-fallacy/audio_clips/45_2020/862.wav'] - longitud tras concat: 106640\n"
     ]
    },
    {
     "name": "stderr",
     "output_type": "stream",
     "text": [
      "  0%|          | 3/1220 [00:01<07:37,  2.66it/s]"
     ]
    },
    {
     "name": "stdout",
     "output_type": "stream",
     "text": [
      "[DEBUG] Procesando audio del índice 400, ruta(s): ['/mnt/c/users/evacantin/desktop/MASTER/HAIA/Trabajo/MMUSED-fallacy/audio_clips/29_2004/64.wav'] - longitud tras concat: 18896\n"
     ]
    },
    {
     "name": "stderr",
     "output_type": "stream",
     "text": [
      "  0%|          | 4/1220 [00:01<06:47,  2.98it/s]"
     ]
    },
    {
     "name": "stdout",
     "output_type": "stream",
     "text": [
      "[DEBUG] Procesando audio del índice 708, ruta(s): ['/mnt/c/users/evacantin/desktop/MASTER/HAIA/Trabajo/MMUSED-fallacy/audio_clips/39_2012/946.wav', '/mnt/c/users/evacantin/desktop/MASTER/HAIA/Trabajo/MMUSED-fallacy/audio_clips/39_2012/947.wav'] - longitud tras concat: 221184\n"
     ]
    },
    {
     "name": "stderr",
     "output_type": "stream",
     "text": [
      "  0%|          | 5/1220 [00:01<06:19,  3.20it/s]"
     ]
    },
    {
     "name": "stdout",
     "output_type": "stream",
     "text": [
      "[DEBUG] Procesando audio del índice 421, ruta(s): ['/mnt/c/users/evacantin/desktop/MASTER/HAIA/Trabajo/MMUSED-fallacy/audio_clips/29_2004/553.wav', '/mnt/c/users/evacantin/desktop/MASTER/HAIA/Trabajo/MMUSED-fallacy/audio_clips/29_2004/555.wav', '/mnt/c/users/evacantin/desktop/MASTER/HAIA/Trabajo/MMUSED-fallacy/audio_clips/29_2004/558.wav', '/mnt/c/users/evacantin/desktop/MASTER/HAIA/Trabajo/MMUSED-fallacy/audio_clips/29_2004/559.wav'] - longitud tras concat: 572096\n"
     ]
    },
    {
     "name": "stderr",
     "output_type": "stream",
     "text": [
      "  0%|          | 6/1220 [00:02<05:55,  3.41it/s]"
     ]
    },
    {
     "name": "stdout",
     "output_type": "stream",
     "text": [
      "[DEBUG] Procesando audio del índice 279, ruta(s): ['/mnt/c/users/evacantin/desktop/MASTER/HAIA/Trabajo/MMUSED-fallacy/audio_clips/26_2000/64.wav', '/mnt/c/users/evacantin/desktop/MASTER/HAIA/Trabajo/MMUSED-fallacy/audio_clips/26_2000/65.wav'] - longitud tras concat: 111040\n"
     ]
    },
    {
     "name": "stderr",
     "output_type": "stream",
     "text": [
      "  1%|          | 7/1220 [00:02<05:19,  3.80it/s]"
     ]
    },
    {
     "name": "stdout",
     "output_type": "stream",
     "text": [
      "[DEBUG] Procesando audio del índice 743, ruta(s): ['/mnt/c/users/evacantin/desktop/MASTER/HAIA/Trabajo/MMUSED-fallacy/audio_clips/4_1960/22.wav', '/mnt/c/users/evacantin/desktop/MASTER/HAIA/Trabajo/MMUSED-fallacy/audio_clips/4_1960/23.wav'] - longitud tras concat: 160288\n"
     ]
    },
    {
     "name": "stderr",
     "output_type": "stream",
     "text": [
      "  1%|          | 8/1220 [00:02<05:16,  3.83it/s]"
     ]
    },
    {
     "name": "stdout",
     "output_type": "stream",
     "text": [
      "[DEBUG] Procesando audio del índice 297, ruta(s): ['/mnt/c/users/evacantin/desktop/MASTER/HAIA/Trabajo/MMUSED-fallacy/audio_clips/26_2000/246.wav'] - longitud tras concat: 119584\n"
     ]
    },
    {
     "name": "stderr",
     "output_type": "stream",
     "text": [
      "  1%|          | 9/1220 [00:02<05:16,  3.83it/s]"
     ]
    },
    {
     "name": "stdout",
     "output_type": "stream",
     "text": [
      "[DEBUG] Procesando audio del índice 1022, ruta(s): ['/mnt/c/users/evacantin/desktop/MASTER/HAIA/Trabajo/MMUSED-fallacy/audio_clips/41_2016/1179.wav'] - longitud tras concat: 27840\n"
     ]
    },
    {
     "name": "stderr",
     "output_type": "stream",
     "text": [
      "  1%|          | 10/1220 [00:03<05:39,  3.57it/s]"
     ]
    },
    {
     "name": "stdout",
     "output_type": "stream",
     "text": [
      "[DEBUG] Procesando audio del índice 158, ruta(s): ['/mnt/c/users/evacantin/desktop/MASTER/HAIA/Trabajo/MMUSED-fallacy/audio_clips/21_1992/420.wav'] - longitud tras concat: 110912\n"
     ]
    },
    {
     "name": "stderr",
     "output_type": "stream",
     "text": [
      "  1%|          | 11/1220 [00:03<05:33,  3.62it/s]"
     ]
    },
    {
     "name": "stdout",
     "output_type": "stream",
     "text": [
      "[DEBUG] Procesando audio del índice 843, ruta(s): ['/mnt/c/users/evacantin/desktop/MASTER/HAIA/Trabajo/MMUSED-fallacy/audio_clips/9_1980/30.wav'] - longitud tras concat: 325104\n"
     ]
    },
    {
     "name": "stderr",
     "output_type": "stream",
     "text": [
      "  1%|          | 12/1220 [00:03<05:35,  3.61it/s]"
     ]
    },
    {
     "name": "stdout",
     "output_type": "stream",
     "text": [
      "[DEBUG] Procesando audio del índice 660, ruta(s): ['/mnt/c/users/evacantin/desktop/MASTER/HAIA/Trabajo/MMUSED-fallacy/audio_clips/36_2008/179.wav'] - longitud tras concat: 193984\n"
     ]
    },
    {
     "name": "stderr",
     "output_type": "stream",
     "text": [
      "  1%|          | 13/1220 [00:03<05:23,  3.74it/s]"
     ]
    },
    {
     "name": "stdout",
     "output_type": "stream",
     "text": [
      "[DEBUG] Procesando audio del índice 805, ruta(s): ['/mnt/c/users/evacantin/desktop/MASTER/HAIA/Trabajo/MMUSED-fallacy/audio_clips/7_1976/528.wav', '/mnt/c/users/evacantin/desktop/MASTER/HAIA/Trabajo/MMUSED-fallacy/audio_clips/7_1976/529.wav'] - longitud tras concat: 348000\n"
     ]
    },
    {
     "name": "stderr",
     "output_type": "stream",
     "text": [
      "  1%|          | 14/1220 [00:04<05:14,  3.83it/s]"
     ]
    },
    {
     "name": "stdout",
     "output_type": "stream",
     "text": [
      "[DEBUG] Procesando audio del índice 247, ruta(s): ['/mnt/c/users/evacantin/desktop/MASTER/HAIA/Trabajo/MMUSED-fallacy/audio_clips/25_2000/974.wav'] - longitud tras concat: 40960\n"
     ]
    },
    {
     "name": "stderr",
     "output_type": "stream",
     "text": [
      "  1%|          | 15/1220 [00:04<05:10,  3.88it/s]"
     ]
    },
    {
     "name": "stdout",
     "output_type": "stream",
     "text": [
      "[DEBUG] Procesando audio del índice 1211, ruta(s): ['/mnt/c/users/evacantin/desktop/MASTER/HAIA/Trabajo/MMUSED-fallacy/audio_clips/46_2020/490.wav'] - longitud tras concat: 92896\n"
     ]
    },
    {
     "name": "stderr",
     "output_type": "stream",
     "text": [
      "  1%|▏         | 16/1220 [00:04<05:15,  3.81it/s]"
     ]
    },
    {
     "name": "stdout",
     "output_type": "stream",
     "text": [
      "[DEBUG] Procesando audio del índice 778, ruta(s): ['/mnt/c/users/evacantin/desktop/MASTER/HAIA/Trabajo/MMUSED-fallacy/audio_clips/6_1976/585.wav', '/mnt/c/users/evacantin/desktop/MASTER/HAIA/Trabajo/MMUSED-fallacy/audio_clips/6_1976/586.wav'] - longitud tras concat: 603632\n"
     ]
    },
    {
     "name": "stderr",
     "output_type": "stream",
     "text": [
      "  1%|▏         | 17/1220 [00:04<05:15,  3.81it/s]"
     ]
    },
    {
     "name": "stdout",
     "output_type": "stream",
     "text": [
      "[DEBUG] Procesando audio del índice 888, ruta(s): ['/mnt/c/users/evacantin/desktop/MASTER/HAIA/Trabajo/MMUSED-fallacy/audio_clips/9_1980/573.wav'] - longitud tras concat: 267792\n"
     ]
    },
    {
     "name": "stderr",
     "output_type": "stream",
     "text": [
      "  1%|▏         | 18/1220 [00:05<05:16,  3.79it/s]"
     ]
    },
    {
     "name": "stdout",
     "output_type": "stream",
     "text": [
      "[DEBUG] Procesando audio del índice 716, ruta(s): ['/mnt/c/users/evacantin/desktop/MASTER/HAIA/Trabajo/MMUSED-fallacy/audio_clips/3_1960/434.wav'] - longitud tras concat: 78112\n"
     ]
    },
    {
     "name": "stderr",
     "output_type": "stream",
     "text": [
      "  2%|▏         | 19/1220 [00:05<05:14,  3.82it/s]"
     ]
    },
    {
     "name": "stdout",
     "output_type": "stream",
     "text": [
      "[DEBUG] Procesando audio del índice 284, ruta(s): ['/mnt/c/users/evacantin/desktop/MASTER/HAIA/Trabajo/MMUSED-fallacy/audio_clips/26_2000/608.wav', '/mnt/c/users/evacantin/desktop/MASTER/HAIA/Trabajo/MMUSED-fallacy/audio_clips/26_2000/611.wav'] - longitud tras concat: 68832\n"
     ]
    },
    {
     "name": "stderr",
     "output_type": "stream",
     "text": [
      "  2%|▏         | 20/1220 [00:05<05:19,  3.76it/s]"
     ]
    },
    {
     "name": "stdout",
     "output_type": "stream",
     "text": [
      "[DEBUG] Procesando audio del índice 884, ruta(s): ['/mnt/c/users/evacantin/desktop/MASTER/HAIA/Trabajo/MMUSED-fallacy/audio_clips/9_1980/556.wav'] - longitud tras concat: 384416\n"
     ]
    },
    {
     "name": "stderr",
     "output_type": "stream",
     "text": [
      "  2%|▏         | 21/1220 [00:06<05:43,  3.49it/s]"
     ]
    },
    {
     "name": "stdout",
     "output_type": "stream",
     "text": [
      "[DEBUG] Procesando audio del índice 1011, ruta(s): ['/mnt/c/users/evacantin/desktop/MASTER/HAIA/Trabajo/MMUSED-fallacy/audio_clips/41_2016/1081.wav'] - longitud tras concat: 41312\n"
     ]
    },
    {
     "name": "stderr",
     "output_type": "stream",
     "text": [
      "  2%|▏         | 22/1220 [00:06<05:35,  3.57it/s]"
     ]
    },
    {
     "name": "stdout",
     "output_type": "stream",
     "text": [
      "[DEBUG] Procesando audio del índice 217, ruta(s): ['/mnt/c/users/evacantin/desktop/MASTER/HAIA/Trabajo/MMUSED-fallacy/audio_clips/22_1996/920.wav'] - longitud tras concat: 71728\n"
     ]
    },
    {
     "name": "stderr",
     "output_type": "stream",
     "text": [
      "  2%|▏         | 23/1220 [00:06<05:26,  3.66it/s]"
     ]
    },
    {
     "name": "stdout",
     "output_type": "stream",
     "text": [
      "[DEBUG] Procesando audio del índice 257, ruta(s): ['/mnt/c/users/evacantin/desktop/MASTER/HAIA/Trabajo/MMUSED-fallacy/audio_clips/25_2000/306.wav'] - longitud tras concat: 65632\n"
     ]
    },
    {
     "name": "stderr",
     "output_type": "stream",
     "text": [
      "  2%|▏         | 24/1220 [00:06<05:17,  3.76it/s]"
     ]
    },
    {
     "name": "stdout",
     "output_type": "stream",
     "text": [
      "[DEBUG] Procesando audio del índice 849, ruta(s): ['/mnt/c/users/evacantin/desktop/MASTER/HAIA/Trabajo/MMUSED-fallacy/audio_clips/9_1980/169.wav'] - longitud tras concat: 46752\n"
     ]
    },
    {
     "name": "stderr",
     "output_type": "stream",
     "text": [
      "  2%|▏         | 25/1220 [00:07<05:23,  3.70it/s]"
     ]
    },
    {
     "name": "stdout",
     "output_type": "stream",
     "text": [
      "[DEBUG] Procesando audio del índice 555, ruta(s): ['/mnt/c/users/evacantin/desktop/MASTER/HAIA/Trabajo/MMUSED-fallacy/audio_clips/32_2004/33.wav'] - longitud tras concat: 291504\n"
     ]
    },
    {
     "name": "stderr",
     "output_type": "stream",
     "text": [
      "  2%|▏         | 26/1220 [00:07<05:15,  3.79it/s]"
     ]
    },
    {
     "name": "stdout",
     "output_type": "stream",
     "text": [
      "[DEBUG] Procesando audio del índice 1173, ruta(s): ['/mnt/c/users/evacantin/desktop/MASTER/HAIA/Trabajo/MMUSED-fallacy/audio_clips/46_2020/1078.wav'] - longitud tras concat: 56992\n"
     ]
    },
    {
     "name": "stderr",
     "output_type": "stream",
     "text": [
      "  2%|▏         | 27/1220 [00:07<05:09,  3.86it/s]"
     ]
    },
    {
     "name": "stdout",
     "output_type": "stream",
     "text": [
      "[DEBUG] Procesando audio del índice 1001, ruta(s): ['/mnt/c/users/evacantin/desktop/MASTER/HAIA/Trabajo/MMUSED-fallacy/audio_clips/41_2016/576.wav'] - longitud tras concat: 14080\n"
     ]
    },
    {
     "name": "stderr",
     "output_type": "stream",
     "text": [
      "  2%|▏         | 28/1220 [00:07<05:09,  3.85it/s]"
     ]
    },
    {
     "name": "stdout",
     "output_type": "stream",
     "text": [
      "[DEBUG] Procesando audio del índice 468, ruta(s): ['/mnt/c/users/evacantin/desktop/MASTER/HAIA/Trabajo/MMUSED-fallacy/audio_clips/2_1960/194.wav'] - longitud tras concat: 181632\n"
     ]
    },
    {
     "name": "stderr",
     "output_type": "stream",
     "text": [
      "  2%|▏         | 29/1220 [00:08<05:15,  3.78it/s]"
     ]
    },
    {
     "name": "stdout",
     "output_type": "stream",
     "text": [
      "[DEBUG] Procesando audio del índice 149, ruta(s): ['/mnt/c/users/evacantin/desktop/MASTER/HAIA/Trabajo/MMUSED-fallacy/audio_clips/20_1992/508.wav'] - longitud tras concat: 199712\n"
     ]
    },
    {
     "name": "stderr",
     "output_type": "stream",
     "text": [
      "  2%|▏         | 30/1220 [00:08<05:13,  3.80it/s]"
     ]
    },
    {
     "name": "stdout",
     "output_type": "stream",
     "text": [
      "[DEBUG] Procesando audio del índice 935, ruta(s): ['/mnt/c/users/evacantin/desktop/MASTER/HAIA/Trabajo/MMUSED-fallacy/audio_clips/13_1988/431.wav', '/mnt/c/users/evacantin/desktop/MASTER/HAIA/Trabajo/MMUSED-fallacy/audio_clips/13_1988/432.wav', '/mnt/c/users/evacantin/desktop/MASTER/HAIA/Trabajo/MMUSED-fallacy/audio_clips/13_1988/433.wav'] - longitud tras concat: 388368\n"
     ]
    },
    {
     "name": "stderr",
     "output_type": "stream",
     "text": [
      "  3%|▎         | 31/1220 [00:08<05:09,  3.85it/s]"
     ]
    },
    {
     "name": "stdout",
     "output_type": "stream",
     "text": [
      "[DEBUG] Procesando audio del índice 777, ruta(s): ['/mnt/c/users/evacantin/desktop/MASTER/HAIA/Trabajo/MMUSED-fallacy/audio_clips/6_1976/569.wav'] - longitud tras concat: 374304\n"
     ]
    },
    {
     "name": "stderr",
     "output_type": "stream",
     "text": [
      "  3%|▎         | 32/1220 [00:08<05:09,  3.84it/s]"
     ]
    },
    {
     "name": "stdout",
     "output_type": "stream",
     "text": [
      "[DEBUG] Procesando audio del índice 417, ruta(s): ['/mnt/c/users/evacantin/desktop/MASTER/HAIA/Trabajo/MMUSED-fallacy/audio_clips/29_2004/493.wav'] - longitud tras concat: 29120\n"
     ]
    },
    {
     "name": "stderr",
     "output_type": "stream",
     "text": [
      "  3%|▎         | 33/1220 [00:09<05:02,  3.92it/s]"
     ]
    },
    {
     "name": "stdout",
     "output_type": "stream",
     "text": [
      "[DEBUG] Procesando audio del índice 637, ruta(s): ['/mnt/c/users/evacantin/desktop/MASTER/HAIA/Trabajo/MMUSED-fallacy/audio_clips/33_2008/555.wav', '/mnt/c/users/evacantin/desktop/MASTER/HAIA/Trabajo/MMUSED-fallacy/audio_clips/33_2008/556.wav', '/mnt/c/users/evacantin/desktop/MASTER/HAIA/Trabajo/MMUSED-fallacy/audio_clips/33_2008/557.wav', '/mnt/c/users/evacantin/desktop/MASTER/HAIA/Trabajo/MMUSED-fallacy/audio_clips/33_2008/558.wav'] - longitud tras concat: 691776\n"
     ]
    },
    {
     "name": "stderr",
     "output_type": "stream",
     "text": [
      "  3%|▎         | 34/1220 [00:09<05:03,  3.91it/s]"
     ]
    },
    {
     "name": "stdout",
     "output_type": "stream",
     "text": [
      "[DEBUG] Procesando audio del índice 647, ruta(s): ['/mnt/c/users/evacantin/desktop/MASTER/HAIA/Trabajo/MMUSED-fallacy/audio_clips/33_2008/720.wav', '/mnt/c/users/evacantin/desktop/MASTER/HAIA/Trabajo/MMUSED-fallacy/audio_clips/33_2008/721.wav'] - longitud tras concat: 53168\n"
     ]
    },
    {
     "name": "stderr",
     "output_type": "stream",
     "text": [
      "  3%|▎         | 35/1220 [00:09<05:12,  3.79it/s]"
     ]
    },
    {
     "name": "stdout",
     "output_type": "stream",
     "text": [
      "[DEBUG] Procesando audio del índice 586, ruta(s): ['/mnt/c/users/evacantin/desktop/MASTER/HAIA/Trabajo/MMUSED-fallacy/audio_clips/32_2004/166.wav'] - longitud tras concat: 94784\n"
     ]
    },
    {
     "name": "stderr",
     "output_type": "stream",
     "text": [
      "  3%|▎         | 36/1220 [00:10<05:31,  3.58it/s]"
     ]
    },
    {
     "name": "stdout",
     "output_type": "stream",
     "text": [
      "[DEBUG] Procesando audio del índice 143, ruta(s): ['/mnt/c/users/evacantin/desktop/MASTER/HAIA/Trabajo/MMUSED-fallacy/audio_clips/20_1992/503.wav'] - longitud tras concat: 36176\n"
     ]
    },
    {
     "name": "stderr",
     "output_type": "stream",
     "text": [
      "  3%|▎         | 37/1220 [00:10<05:17,  3.73it/s]"
     ]
    },
    {
     "name": "stdout",
     "output_type": "stream",
     "text": [
      "[DEBUG] Procesando audio del índice 504, ruta(s): ['/mnt/c/users/evacantin/desktop/MASTER/HAIA/Trabajo/MMUSED-fallacy/audio_clips/30_2004/469.wav'] - longitud tras concat: 141824\n"
     ]
    },
    {
     "name": "stderr",
     "output_type": "stream",
     "text": [
      "  3%|▎         | 38/1220 [00:10<05:47,  3.40it/s]"
     ]
    },
    {
     "name": "stdout",
     "output_type": "stream",
     "text": [
      "[DEBUG] Procesando audio del índice 223, ruta(s): ['/mnt/c/users/evacantin/desktop/MASTER/HAIA/Trabajo/MMUSED-fallacy/audio_clips/22_1996/931.wav'] - longitud tras concat: 69792\n"
     ]
    },
    {
     "name": "stderr",
     "output_type": "stream",
     "text": [
      "  3%|▎         | 39/1220 [00:10<05:28,  3.60it/s]"
     ]
    },
    {
     "name": "stdout",
     "output_type": "stream",
     "text": [
      "[DEBUG] Procesando audio del índice 115, ruta(s): ['/mnt/c/users/evacantin/desktop/MASTER/HAIA/Trabajo/MMUSED-fallacy/audio_clips/20_1992/147.wav'] - longitud tras concat: 75552\n"
     ]
    },
    {
     "name": "stderr",
     "output_type": "stream",
     "text": [
      "  3%|▎         | 40/1220 [00:11<05:18,  3.70it/s]"
     ]
    },
    {
     "name": "stdout",
     "output_type": "stream",
     "text": [
      "[DEBUG] Procesando audio del índice 832, ruta(s): ['/mnt/c/users/evacantin/desktop/MASTER/HAIA/Trabajo/MMUSED-fallacy/audio_clips/8_1980/323.wav'] - longitud tras concat: 67552\n"
     ]
    },
    {
     "name": "stderr",
     "output_type": "stream",
     "text": [
      "  3%|▎         | 41/1220 [00:11<05:07,  3.83it/s]"
     ]
    },
    {
     "name": "stdout",
     "output_type": "stream",
     "text": [
      "[DEBUG] Procesando audio del índice 844, ruta(s): ['/mnt/c/users/evacantin/desktop/MASTER/HAIA/Trabajo/MMUSED-fallacy/audio_clips/9_1980/37.wav', '/mnt/c/users/evacantin/desktop/MASTER/HAIA/Trabajo/MMUSED-fallacy/audio_clips/9_1980/38.wav', '/mnt/c/users/evacantin/desktop/MASTER/HAIA/Trabajo/MMUSED-fallacy/audio_clips/9_1980/39.wav'] - longitud tras concat: 307936\n"
     ]
    },
    {
     "name": "stderr",
     "output_type": "stream",
     "text": [
      "  3%|▎         | 42/1220 [00:11<05:07,  3.84it/s]"
     ]
    },
    {
     "name": "stdout",
     "output_type": "stream",
     "text": [
      "[DEBUG] Procesando audio del índice 994, ruta(s): ['/mnt/c/users/evacantin/desktop/MASTER/HAIA/Trabajo/MMUSED-fallacy/audio_clips/41_2016/580.wav'] - longitud tras concat: 114336\n"
     ]
    },
    {
     "name": "stderr",
     "output_type": "stream",
     "text": [
      "  4%|▎         | 43/1220 [00:11<05:08,  3.81it/s]"
     ]
    },
    {
     "name": "stdout",
     "output_type": "stream",
     "text": [
      "[DEBUG] Procesando audio del índice 817, ruta(s): ['/mnt/c/users/evacantin/desktop/MASTER/HAIA/Trabajo/MMUSED-fallacy/audio_clips/7_1976/208.wav'] - longitud tras concat: 181488\n"
     ]
    },
    {
     "name": "stderr",
     "output_type": "stream",
     "text": [
      "  4%|▎         | 44/1220 [00:12<05:07,  3.83it/s]"
     ]
    },
    {
     "name": "stdout",
     "output_type": "stream",
     "text": [
      "[DEBUG] Procesando audio del índice 583, ruta(s): ['/mnt/c/users/evacantin/desktop/MASTER/HAIA/Trabajo/MMUSED-fallacy/audio_clips/32_2004/124.wav', '/mnt/c/users/evacantin/desktop/MASTER/HAIA/Trabajo/MMUSED-fallacy/audio_clips/32_2004/125.wav', '/mnt/c/users/evacantin/desktop/MASTER/HAIA/Trabajo/MMUSED-fallacy/audio_clips/32_2004/126.wav'] - longitud tras concat: 132208\n"
     ]
    },
    {
     "name": "stderr",
     "output_type": "stream",
     "text": [
      "  4%|▎         | 45/1220 [00:12<05:06,  3.83it/s]"
     ]
    },
    {
     "name": "stdout",
     "output_type": "stream",
     "text": [
      "[DEBUG] Procesando audio del índice 394, ruta(s): ['/mnt/c/users/evacantin/desktop/MASTER/HAIA/Trabajo/MMUSED-fallacy/audio_clips/29_2004/97.wav'] - longitud tras concat: 365680\n"
     ]
    },
    {
     "name": "stderr",
     "output_type": "stream",
     "text": [
      "  4%|▍         | 46/1220 [00:12<05:07,  3.82it/s]"
     ]
    },
    {
     "name": "stdout",
     "output_type": "stream",
     "text": [
      "[DEBUG] Procesando audio del índice 926, ruta(s): ['/mnt/c/users/evacantin/desktop/MASTER/HAIA/Trabajo/MMUSED-fallacy/audio_clips/13_1988/210.wav'] - longitud tras concat: 102128\n"
     ]
    },
    {
     "name": "stderr",
     "output_type": "stream",
     "text": [
      "  4%|▍         | 47/1220 [00:12<05:09,  3.79it/s]"
     ]
    },
    {
     "name": "stdout",
     "output_type": "stream",
     "text": [
      "[DEBUG] Procesando audio del índice 281, ruta(s): ['/mnt/c/users/evacantin/desktop/MASTER/HAIA/Trabajo/MMUSED-fallacy/audio_clips/26_2000/98.wav'] - longitud tras concat: 220608\n"
     ]
    },
    {
     "name": "stderr",
     "output_type": "stream",
     "text": [
      "  4%|▍         | 48/1220 [00:13<05:09,  3.78it/s]"
     ]
    },
    {
     "name": "stdout",
     "output_type": "stream",
     "text": [
      "[DEBUG] Procesando audio del índice 1017, ruta(s): ['/mnt/c/users/evacantin/desktop/MASTER/HAIA/Trabajo/MMUSED-fallacy/audio_clips/41_2016/1037.wav'] - longitud tras concat: 54112\n"
     ]
    },
    {
     "name": "stderr",
     "output_type": "stream",
     "text": [
      "  4%|▍         | 49/1220 [00:13<05:10,  3.77it/s]"
     ]
    },
    {
     "name": "stdout",
     "output_type": "stream",
     "text": [
      "[DEBUG] Procesando audio del índice 983, ruta(s): ['/mnt/c/users/evacantin/desktop/MASTER/HAIA/Trabajo/MMUSED-fallacy/audio_clips/41_2016/506.wav', '/mnt/c/users/evacantin/desktop/MASTER/HAIA/Trabajo/MMUSED-fallacy/audio_clips/41_2016/507.wav', '/mnt/c/users/evacantin/desktop/MASTER/HAIA/Trabajo/MMUSED-fallacy/audio_clips/41_2016/508.wav', '/mnt/c/users/evacantin/desktop/MASTER/HAIA/Trabajo/MMUSED-fallacy/audio_clips/41_2016/509.wav'] - longitud tras concat: 531904\n"
     ]
    },
    {
     "name": "stderr",
     "output_type": "stream",
     "text": [
      "  4%|▍         | 50/1220 [00:13<05:12,  3.75it/s]"
     ]
    },
    {
     "name": "stdout",
     "output_type": "stream",
     "text": [
      "[DEBUG] Procesando audio del índice 1203, ruta(s): ['/mnt/c/users/evacantin/desktop/MASTER/HAIA/Trabajo/MMUSED-fallacy/audio_clips/46_2020/260.wav'] - longitud tras concat: 21456\n"
     ]
    },
    {
     "name": "stderr",
     "output_type": "stream",
     "text": [
      "  4%|▍         | 51/1220 [00:14<05:08,  3.78it/s]"
     ]
    },
    {
     "name": "stdout",
     "output_type": "stream",
     "text": [
      "[DEBUG] Procesando audio del índice 681, ruta(s): ['/mnt/c/users/evacantin/desktop/MASTER/HAIA/Trabajo/MMUSED-fallacy/audio_clips/36_2008/658.wav'] - longitud tras concat: 16336\n"
     ]
    },
    {
     "name": "stderr",
     "output_type": "stream",
     "text": [
      "  4%|▍         | 52/1220 [00:14<05:07,  3.79it/s]"
     ]
    },
    {
     "name": "stdout",
     "output_type": "stream",
     "text": [
      "[DEBUG] Procesando audio del índice 636, ruta(s): ['/mnt/c/users/evacantin/desktop/MASTER/HAIA/Trabajo/MMUSED-fallacy/audio_clips/33_2008/532.wav', '/mnt/c/users/evacantin/desktop/MASTER/HAIA/Trabajo/MMUSED-fallacy/audio_clips/33_2008/533.wav'] - longitud tras concat: 191728\n"
     ]
    },
    {
     "name": "stderr",
     "output_type": "stream",
     "text": [
      "  4%|▍         | 53/1220 [00:14<05:04,  3.83it/s]"
     ]
    },
    {
     "name": "stdout",
     "output_type": "stream",
     "text": [
      "[DEBUG] Procesando audio del índice 1096, ruta(s): ['/mnt/c/users/evacantin/desktop/MASTER/HAIA/Trabajo/MMUSED-fallacy/audio_clips/44_2020/1350.wav', '/mnt/c/users/evacantin/desktop/MASTER/HAIA/Trabajo/MMUSED-fallacy/audio_clips/44_2020/1351.wav', '/mnt/c/users/evacantin/desktop/MASTER/HAIA/Trabajo/MMUSED-fallacy/audio_clips/44_2020/1352.wav', '/mnt/c/users/evacantin/desktop/MASTER/HAIA/Trabajo/MMUSED-fallacy/audio_clips/44_2020/1353.wav', '/mnt/c/users/evacantin/desktop/MASTER/HAIA/Trabajo/MMUSED-fallacy/audio_clips/44_2020/1354.wav'] - longitud tras concat: 553552\n"
     ]
    },
    {
     "name": "stderr",
     "output_type": "stream",
     "text": [
      "  4%|▍         | 54/1220 [00:14<05:21,  3.62it/s]"
     ]
    },
    {
     "name": "stdout",
     "output_type": "stream",
     "text": [
      "[DEBUG] Procesando audio del índice 456, ruta(s): ['/mnt/c/users/evacantin/desktop/MASTER/HAIA/Trabajo/MMUSED-fallacy/audio_clips/2_1960/416.wav'] - longitud tras concat: 117216\n"
     ]
    },
    {
     "name": "stderr",
     "output_type": "stream",
     "text": [
      "  5%|▍         | 55/1220 [00:15<05:10,  3.76it/s]"
     ]
    },
    {
     "name": "stdout",
     "output_type": "stream",
     "text": [
      "[DEBUG] Procesando audio del índice 712, ruta(s): ['/mnt/c/users/evacantin/desktop/MASTER/HAIA/Trabajo/MMUSED-fallacy/audio_clips/3_1960/405.wav'] - longitud tras concat: 139632\n"
     ]
    },
    {
     "name": "stderr",
     "output_type": "stream",
     "text": [
      "  5%|▍         | 56/1220 [00:15<05:07,  3.78it/s]"
     ]
    },
    {
     "name": "stdout",
     "output_type": "stream",
     "text": [
      "[DEBUG] Procesando audio del índice 103, ruta(s): ['/mnt/c/users/evacantin/desktop/MASTER/HAIA/Trabajo/MMUSED-fallacy/audio_clips/1_1960/200.wav'] - longitud tras concat: 83568\n"
     ]
    },
    {
     "name": "stderr",
     "output_type": "stream",
     "text": [
      "  5%|▍         | 57/1220 [00:15<05:05,  3.81it/s]"
     ]
    },
    {
     "name": "stdout",
     "output_type": "stream",
     "text": [
      "[DEBUG] Procesando audio del índice 1177, ruta(s): ['/mnt/c/users/evacantin/desktop/MASTER/HAIA/Trabajo/MMUSED-fallacy/audio_clips/46_2020/91.wav'] - longitud tras concat: 155648\n"
     ]
    },
    {
     "name": "stderr",
     "output_type": "stream",
     "text": [
      "  5%|▍         | 58/1220 [00:15<05:22,  3.61it/s]"
     ]
    },
    {
     "name": "stdout",
     "output_type": "stream",
     "text": [
      "[DEBUG] Procesando audio del índice 23, ruta(s): ['/mnt/c/users/evacantin/desktop/MASTER/HAIA/Trabajo/MMUSED-fallacy/audio_clips/12_1984/116.wav'] - longitud tras concat: 185312\n"
     ]
    },
    {
     "name": "stderr",
     "output_type": "stream",
     "text": [
      "  5%|▍         | 59/1220 [00:16<05:12,  3.71it/s]"
     ]
    },
    {
     "name": "stdout",
     "output_type": "stream",
     "text": [
      "[DEBUG] Procesando audio del índice 620, ruta(s): ['/mnt/c/users/evacantin/desktop/MASTER/HAIA/Trabajo/MMUSED-fallacy/audio_clips/33_2008/206.wav', '/mnt/c/users/evacantin/desktop/MASTER/HAIA/Trabajo/MMUSED-fallacy/audio_clips/33_2008/207.wav', '/mnt/c/users/evacantin/desktop/MASTER/HAIA/Trabajo/MMUSED-fallacy/audio_clips/33_2008/208.wav'] - longitud tras concat: 145408\n"
     ]
    },
    {
     "name": "stderr",
     "output_type": "stream",
     "text": [
      "  5%|▍         | 60/1220 [00:16<05:14,  3.69it/s]"
     ]
    },
    {
     "name": "stdout",
     "output_type": "stream",
     "text": [
      "[DEBUG] Procesando audio del índice 189, ruta(s): ['/mnt/c/users/evacantin/desktop/MASTER/HAIA/Trabajo/MMUSED-fallacy/audio_clips/22_1996/267.wav', '/mnt/c/users/evacantin/desktop/MASTER/HAIA/Trabajo/MMUSED-fallacy/audio_clips/22_1996/268.wav', '/mnt/c/users/evacantin/desktop/MASTER/HAIA/Trabajo/MMUSED-fallacy/audio_clips/22_1996/269.wav'] - longitud tras concat: 449280\n"
     ]
    },
    {
     "name": "stderr",
     "output_type": "stream",
     "text": [
      "  5%|▌         | 61/1220 [00:16<05:07,  3.77it/s]"
     ]
    },
    {
     "name": "stdout",
     "output_type": "stream",
     "text": [
      "[DEBUG] Procesando audio del índice 959, ruta(s): ['/mnt/c/users/evacantin/desktop/MASTER/HAIA/Trabajo/MMUSED-fallacy/audio_clips/41_2016/100.wav', '/mnt/c/users/evacantin/desktop/MASTER/HAIA/Trabajo/MMUSED-fallacy/audio_clips/41_2016/101.wav', '/mnt/c/users/evacantin/desktop/MASTER/HAIA/Trabajo/MMUSED-fallacy/audio_clips/41_2016/102.wav'] - longitud tras concat: 274976\n"
     ]
    },
    {
     "name": "stderr",
     "output_type": "stream",
     "text": [
      "  5%|▌         | 62/1220 [00:16<04:58,  3.88it/s]"
     ]
    },
    {
     "name": "stdout",
     "output_type": "stream",
     "text": [
      "[DEBUG] Procesando audio del índice 341, ruta(s): ['/mnt/c/users/evacantin/desktop/MASTER/HAIA/Trabajo/MMUSED-fallacy/audio_clips/27_2000/510.wav'] - longitud tras concat: 49328\n"
     ]
    },
    {
     "name": "stderr",
     "output_type": "stream",
     "text": [
      "  5%|▌         | 63/1220 [00:17<04:54,  3.93it/s]"
     ]
    },
    {
     "name": "stdout",
     "output_type": "stream",
     "text": [
      "[DEBUG] Procesando audio del índice 160, ruta(s): ['/mnt/c/users/evacantin/desktop/MASTER/HAIA/Trabajo/MMUSED-fallacy/audio_clips/21_1992/536.wav'] - longitud tras concat: 49952\n"
     ]
    },
    {
     "name": "stderr",
     "output_type": "stream",
     "text": [
      "  5%|▌         | 64/1220 [00:17<04:57,  3.89it/s]"
     ]
    },
    {
     "name": "stdout",
     "output_type": "stream",
     "text": [
      "[DEBUG] Procesando audio del índice 326, ruta(s): ['/mnt/c/users/evacantin/desktop/MASTER/HAIA/Trabajo/MMUSED-fallacy/audio_clips/27_2000/108.wav', '/mnt/c/users/evacantin/desktop/MASTER/HAIA/Trabajo/MMUSED-fallacy/audio_clips/27_2000/109.wav'] - longitud tras concat: 81632\n"
     ]
    },
    {
     "name": "stderr",
     "output_type": "stream",
     "text": [
      "  5%|▌         | 65/1220 [00:17<05:09,  3.73it/s]"
     ]
    },
    {
     "name": "stdout",
     "output_type": "stream",
     "text": [
      "[DEBUG] Procesando audio del índice 364, ruta(s): ['/mnt/c/users/evacantin/desktop/MASTER/HAIA/Trabajo/MMUSED-fallacy/audio_clips/28_2000/722.wav'] - longitud tras concat: 311296\n"
     ]
    },
    {
     "name": "stderr",
     "output_type": "stream",
     "text": [
      "  5%|▌         | 66/1220 [00:18<05:03,  3.80it/s]"
     ]
    },
    {
     "name": "stdout",
     "output_type": "stream",
     "text": [
      "[DEBUG] Procesando audio del índice 617, ruta(s): ['/mnt/c/users/evacantin/desktop/MASTER/HAIA/Trabajo/MMUSED-fallacy/audio_clips/33_2008/137.wav'] - longitud tras concat: 51552\n"
     ]
    },
    {
     "name": "stderr",
     "output_type": "stream",
     "text": [
      "  5%|▌         | 67/1220 [00:18<04:55,  3.90it/s]"
     ]
    },
    {
     "name": "stdout",
     "output_type": "stream",
     "text": [
      "[DEBUG] Procesando audio del índice 261, ruta(s): ['/mnt/c/users/evacantin/desktop/MASTER/HAIA/Trabajo/MMUSED-fallacy/audio_clips/25_2000/509.wav'] - longitud tras concat: 50608\n"
     ]
    },
    {
     "name": "stderr",
     "output_type": "stream",
     "text": [
      "  6%|▌         | 68/1220 [00:18<04:50,  3.96it/s]"
     ]
    },
    {
     "name": "stdout",
     "output_type": "stream",
     "text": [
      "[DEBUG] Procesando audio del índice 764, ruta(s): ['/mnt/c/users/evacantin/desktop/MASTER/HAIA/Trabajo/MMUSED-fallacy/audio_clips/4_1960/511.wav'] - longitud tras concat: 149904\n"
     ]
    },
    {
     "name": "stderr",
     "output_type": "stream",
     "text": [
      "  6%|▌         | 69/1220 [00:18<04:49,  3.98it/s]"
     ]
    },
    {
     "name": "stdout",
     "output_type": "stream",
     "text": [
      "[DEBUG] Procesando audio del índice 396, ruta(s): ['/mnt/c/users/evacantin/desktop/MASTER/HAIA/Trabajo/MMUSED-fallacy/audio_clips/29_2004/95.wav'] - longitud tras concat: 75632\n"
     ]
    },
    {
     "name": "stderr",
     "output_type": "stream",
     "text": [
      "  6%|▌         | 70/1220 [00:18<04:50,  3.96it/s]"
     ]
    },
    {
     "name": "stdout",
     "output_type": "stream",
     "text": [
      "[DEBUG] Procesando audio del índice 466, ruta(s): ['/mnt/c/users/evacantin/desktop/MASTER/HAIA/Trabajo/MMUSED-fallacy/audio_clips/2_1960/162.wav'] - longitud tras concat: 202336\n"
     ]
    },
    {
     "name": "stderr",
     "output_type": "stream",
     "text": [
      "  6%|▌         | 71/1220 [00:19<04:50,  3.96it/s]"
     ]
    },
    {
     "name": "stdout",
     "output_type": "stream",
     "text": [
      "[DEBUG] Procesando audio del índice 615, ruta(s): ['/mnt/c/users/evacantin/desktop/MASTER/HAIA/Trabajo/MMUSED-fallacy/audio_clips/32_2004/692.wav', '/mnt/c/users/evacantin/desktop/MASTER/HAIA/Trabajo/MMUSED-fallacy/audio_clips/32_2004/693.wav'] - longitud tras concat: 87440\n"
     ]
    },
    {
     "name": "stderr",
     "output_type": "stream",
     "text": [
      "  6%|▌         | 72/1220 [00:19<04:52,  3.93it/s]"
     ]
    },
    {
     "name": "stdout",
     "output_type": "stream",
     "text": [
      "[DEBUG] Procesando audio del índice 293, ruta(s): ['/mnt/c/users/evacantin/desktop/MASTER/HAIA/Trabajo/MMUSED-fallacy/audio_clips/26_2000/815.wav', '/mnt/c/users/evacantin/desktop/MASTER/HAIA/Trabajo/MMUSED-fallacy/audio_clips/26_2000/816.wav'] - longitud tras concat: 125504\n"
     ]
    },
    {
     "name": "stderr",
     "output_type": "stream",
     "text": [
      "  6%|▌         | 73/1220 [00:19<04:50,  3.95it/s]"
     ]
    },
    {
     "name": "stdout",
     "output_type": "stream",
     "text": [
      "[DEBUG] Procesando audio del índice 988, ruta(s): ['/mnt/c/users/evacantin/desktop/MASTER/HAIA/Trabajo/MMUSED-fallacy/audio_clips/41_2016/516.wav'] - longitud tras concat: 27872\n"
     ]
    },
    {
     "name": "stderr",
     "output_type": "stream",
     "text": [
      "  6%|▌         | 74/1220 [00:20<04:59,  3.83it/s]"
     ]
    },
    {
     "name": "stdout",
     "output_type": "stream",
     "text": [
      "[DEBUG] Procesando audio del índice 1018, ruta(s): ['/mnt/c/users/evacantin/desktop/MASTER/HAIA/Trabajo/MMUSED-fallacy/audio_clips/41_2016/1065.wav'] - longitud tras concat: 102480\n"
     ]
    },
    {
     "name": "stderr",
     "output_type": "stream",
     "text": [
      "  6%|▌         | 75/1220 [00:20<04:58,  3.84it/s]"
     ]
    },
    {
     "name": "stdout",
     "output_type": "stream",
     "text": [
      "[DEBUG] Procesando audio del índice 497, ruta(s): ['/mnt/c/users/evacantin/desktop/MASTER/HAIA/Trabajo/MMUSED-fallacy/audio_clips/30_2004/1025.wav'] - longitud tras concat: 24976\n"
     ]
    },
    {
     "name": "stderr",
     "output_type": "stream",
     "text": [
      "  6%|▌         | 76/1220 [00:20<04:55,  3.87it/s]"
     ]
    },
    {
     "name": "stdout",
     "output_type": "stream",
     "text": [
      "[DEBUG] Procesando audio del índice 295, ruta(s): ['/mnt/c/users/evacantin/desktop/MASTER/HAIA/Trabajo/MMUSED-fallacy/audio_clips/26_2000/197.wav'] - longitud tras concat: 115920\n"
     ]
    },
    {
     "name": "stderr",
     "output_type": "stream",
     "text": [
      "  6%|▋         | 77/1220 [00:20<04:51,  3.92it/s]"
     ]
    },
    {
     "name": "stdout",
     "output_type": "stream",
     "text": [
      "[DEBUG] Procesando audio del índice 1186, ruta(s): ['/mnt/c/users/evacantin/desktop/MASTER/HAIA/Trabajo/MMUSED-fallacy/audio_clips/46_2020/659.wav'] - longitud tras concat: 98592\n"
     ]
    },
    {
     "name": "stderr",
     "output_type": "stream",
     "text": [
      "  6%|▋         | 78/1220 [00:21<04:47,  3.97it/s]"
     ]
    },
    {
     "name": "stdout",
     "output_type": "stream",
     "text": [
      "[DEBUG] Procesando audio del índice 236, ruta(s): ['/mnt/c/users/evacantin/desktop/MASTER/HAIA/Trabajo/MMUSED-fallacy/audio_clips/23_1996/156.wav'] - longitud tras concat: 134816\n"
     ]
    },
    {
     "name": "stderr",
     "output_type": "stream",
     "text": [
      "  6%|▋         | 79/1220 [00:22<12:30,  1.52it/s]"
     ]
    },
    {
     "name": "stdout",
     "output_type": "stream",
     "text": [
      "[DEBUG] Procesando audio del índice 852, ruta(s): ['/mnt/c/users/evacantin/desktop/MASTER/HAIA/Trabajo/MMUSED-fallacy/audio_clips/9_1980/181.wav'] - longitud tras concat: 161024\n"
     ]
    },
    {
     "name": "stderr",
     "output_type": "stream",
     "text": [
      "  7%|▋         | 80/1220 [00:22<10:07,  1.88it/s]"
     ]
    },
    {
     "name": "stdout",
     "output_type": "stream",
     "text": [
      "[DEBUG] Procesando audio del índice 328, ruta(s): ['/mnt/c/users/evacantin/desktop/MASTER/HAIA/Trabajo/MMUSED-fallacy/audio_clips/27_2000/156.wav'] - longitud tras concat: 39696\n"
     ]
    },
    {
     "name": "stderr",
     "output_type": "stream",
     "text": [
      "  7%|▋         | 81/1220 [00:23<08:32,  2.22it/s]"
     ]
    },
    {
     "name": "stdout",
     "output_type": "stream",
     "text": [
      "[DEBUG] Procesando audio del índice 367, ruta(s): ['/mnt/c/users/evacantin/desktop/MASTER/HAIA/Trabajo/MMUSED-fallacy/audio_clips/28_2000/753.wav'] - longitud tras concat: 78432\n"
     ]
    },
    {
     "name": "stderr",
     "output_type": "stream",
     "text": [
      "  7%|▋         | 82/1220 [00:23<07:26,  2.55it/s]"
     ]
    },
    {
     "name": "stdout",
     "output_type": "stream",
     "text": [
      "[DEBUG] Procesando audio del índice 1087, ruta(s): ['/mnt/c/users/evacantin/desktop/MASTER/HAIA/Trabajo/MMUSED-fallacy/audio_clips/44_2020/1148.wav'] - longitud tras concat: 19840\n"
     ]
    },
    {
     "name": "stderr",
     "output_type": "stream",
     "text": [
      "  7%|▋         | 83/1220 [00:23<06:36,  2.87it/s]"
     ]
    },
    {
     "name": "stdout",
     "output_type": "stream",
     "text": [
      "[DEBUG] Procesando audio del índice 971, ruta(s): ['/mnt/c/users/evacantin/desktop/MASTER/HAIA/Trabajo/MMUSED-fallacy/audio_clips/41_2016/62.wav'] - longitud tras concat: 82592\n"
     ]
    },
    {
     "name": "stderr",
     "output_type": "stream",
     "text": [
      "  7%|▋         | 84/1220 [00:23<06:01,  3.14it/s]"
     ]
    },
    {
     "name": "stdout",
     "output_type": "stream",
     "text": [
      "[DEBUG] Procesando audio del índice 198, ruta(s): ['/mnt/c/users/evacantin/desktop/MASTER/HAIA/Trabajo/MMUSED-fallacy/audio_clips/22_1996/505.wav', '/mnt/c/users/evacantin/desktop/MASTER/HAIA/Trabajo/MMUSED-fallacy/audio_clips/22_1996/506.wav'] - longitud tras concat: 94416\n"
     ]
    },
    {
     "name": "stderr",
     "output_type": "stream",
     "text": [
      "  7%|▋         | 85/1220 [00:24<05:40,  3.33it/s]"
     ]
    },
    {
     "name": "stdout",
     "output_type": "stream",
     "text": [
      "[DEBUG] Procesando audio del índice 870, ruta(s): ['/mnt/c/users/evacantin/desktop/MASTER/HAIA/Trabajo/MMUSED-fallacy/audio_clips/9_1980/329.wav'] - longitud tras concat: 1076384\n"
     ]
    },
    {
     "name": "stderr",
     "output_type": "stream",
     "text": [
      "  7%|▋         | 86/1220 [00:24<05:23,  3.51it/s]"
     ]
    },
    {
     "name": "stdout",
     "output_type": "stream",
     "text": [
      "[DEBUG] Procesando audio del índice 606, ruta(s): ['/mnt/c/users/evacantin/desktop/MASTER/HAIA/Trabajo/MMUSED-fallacy/audio_clips/32_2004/510.wav', '/mnt/c/users/evacantin/desktop/MASTER/HAIA/Trabajo/MMUSED-fallacy/audio_clips/32_2004/511.wav'] - longitud tras concat: 90624\n"
     ]
    },
    {
     "name": "stderr",
     "output_type": "stream",
     "text": [
      "  7%|▋         | 87/1220 [00:24<05:08,  3.68it/s]"
     ]
    },
    {
     "name": "stdout",
     "output_type": "stream",
     "text": [
      "[DEBUG] Procesando audio del índice 228, ruta(s): ['/mnt/c/users/evacantin/desktop/MASTER/HAIA/Trabajo/MMUSED-fallacy/audio_clips/23_1996/19.wav'] - longitud tras concat: 25616\n"
     ]
    },
    {
     "name": "stderr",
     "output_type": "stream",
     "text": [
      "  7%|▋         | 88/1220 [00:24<05:06,  3.69it/s]"
     ]
    },
    {
     "name": "stdout",
     "output_type": "stream",
     "text": [
      "[DEBUG] Procesando audio del índice 318, ruta(s): ['/mnt/c/users/evacantin/desktop/MASTER/HAIA/Trabajo/MMUSED-fallacy/audio_clips/27_2000/43.wav', '/mnt/c/users/evacantin/desktop/MASTER/HAIA/Trabajo/MMUSED-fallacy/audio_clips/27_2000/44.wav', '/mnt/c/users/evacantin/desktop/MASTER/HAIA/Trabajo/MMUSED-fallacy/audio_clips/27_2000/45.wav'] - longitud tras concat: 453648\n"
     ]
    },
    {
     "name": "stderr",
     "output_type": "stream",
     "text": [
      "  7%|▋         | 89/1220 [00:25<05:05,  3.70it/s]"
     ]
    },
    {
     "name": "stdout",
     "output_type": "stream",
     "text": [
      "[DEBUG] Procesando audio del índice 883, ruta(s): ['/mnt/c/users/evacantin/desktop/MASTER/HAIA/Trabajo/MMUSED-fallacy/audio_clips/9_1980/532.wav'] - longitud tras concat: 282096\n"
     ]
    },
    {
     "name": "stderr",
     "output_type": "stream",
     "text": [
      "  7%|▋         | 90/1220 [00:25<06:13,  3.02it/s]"
     ]
    },
    {
     "name": "stdout",
     "output_type": "stream",
     "text": [
      "[DEBUG] Procesando audio del índice 544, ruta(s): ['/mnt/c/users/evacantin/desktop/MASTER/HAIA/Trabajo/MMUSED-fallacy/audio_clips/31_2004/302.wav'] - longitud tras concat: 169088\n"
     ]
    },
    {
     "name": "stderr",
     "output_type": "stream",
     "text": [
      "  7%|▋         | 91/1220 [00:25<05:48,  3.24it/s]"
     ]
    },
    {
     "name": "stdout",
     "output_type": "stream",
     "text": [
      "[DEBUG] Procesando audio del índice 245, ruta(s): ['/mnt/c/users/evacantin/desktop/MASTER/HAIA/Trabajo/MMUSED-fallacy/audio_clips/25_2000/943.wav'] - longitud tras concat: 61472\n"
     ]
    },
    {
     "name": "stderr",
     "output_type": "stream",
     "text": [
      "  8%|▊         | 92/1220 [00:26<05:26,  3.45it/s]"
     ]
    },
    {
     "name": "stdout",
     "output_type": "stream",
     "text": [
      "[DEBUG] Procesando audio del índice 657, ruta(s): ['/mnt/c/users/evacantin/desktop/MASTER/HAIA/Trabajo/MMUSED-fallacy/audio_clips/36_2008/65.wav'] - longitud tras concat: 560400\n"
     ]
    },
    {
     "name": "stderr",
     "output_type": "stream",
     "text": [
      "  8%|▊         | 93/1220 [00:26<05:25,  3.46it/s]"
     ]
    },
    {
     "name": "stdout",
     "output_type": "stream",
     "text": [
      "[DEBUG] Procesando audio del índice 184, ruta(s): ['/mnt/c/users/evacantin/desktop/MASTER/HAIA/Trabajo/MMUSED-fallacy/audio_clips/22_1996/236.wav', '/mnt/c/users/evacantin/desktop/MASTER/HAIA/Trabajo/MMUSED-fallacy/audio_clips/22_1996/237.wav', '/mnt/c/users/evacantin/desktop/MASTER/HAIA/Trabajo/MMUSED-fallacy/audio_clips/22_1996/238.wav', '/mnt/c/users/evacantin/desktop/MASTER/HAIA/Trabajo/MMUSED-fallacy/audio_clips/22_1996/239.wav'] - longitud tras concat: 257680\n"
     ]
    },
    {
     "name": "stderr",
     "output_type": "stream",
     "text": [
      "  8%|▊         | 94/1220 [00:26<05:16,  3.56it/s]"
     ]
    },
    {
     "name": "stdout",
     "output_type": "stream",
     "text": [
      "[DEBUG] Procesando audio del índice 24, ruta(s): ['/mnt/c/users/evacantin/desktop/MASTER/HAIA/Trabajo/MMUSED-fallacy/audio_clips/12_1984/146.wav'] - longitud tras concat: 97696\n"
     ]
    },
    {
     "name": "stderr",
     "output_type": "stream",
     "text": [
      "  8%|▊         | 95/1220 [00:26<05:05,  3.68it/s]"
     ]
    },
    {
     "name": "stdout",
     "output_type": "stream",
     "text": [
      "[DEBUG] Procesando audio del índice 853, ruta(s): ['/mnt/c/users/evacantin/desktop/MASTER/HAIA/Trabajo/MMUSED-fallacy/audio_clips/9_1980/188.wav'] - longitud tras concat: 308320\n"
     ]
    },
    {
     "name": "stderr",
     "output_type": "stream",
     "text": [
      "  8%|▊         | 96/1220 [00:27<04:42,  3.98it/s]"
     ]
    },
    {
     "name": "stdout",
     "output_type": "stream",
     "text": [
      "[DEBUG] Procesando audio del índice 322, ruta(s): ['/mnt/c/users/evacantin/desktop/MASTER/HAIA/Trabajo/MMUSED-fallacy/audio_clips/27_2000/109.wav'] - longitud tras concat: 32336\n"
     ]
    },
    {
     "name": "stderr",
     "output_type": "stream",
     "text": [
      "  8%|▊         | 97/1220 [00:27<05:06,  3.66it/s]"
     ]
    },
    {
     "name": "stdout",
     "output_type": "stream",
     "text": [
      "[DEBUG] Procesando audio del índice 692, ruta(s): ['/mnt/c/users/evacantin/desktop/MASTER/HAIA/Trabajo/MMUSED-fallacy/audio_clips/39_2012/111.wav', '/mnt/c/users/evacantin/desktop/MASTER/HAIA/Trabajo/MMUSED-fallacy/audio_clips/39_2012/112.wav', '/mnt/c/users/evacantin/desktop/MASTER/HAIA/Trabajo/MMUSED-fallacy/audio_clips/39_2012/113.wav', '/mnt/c/users/evacantin/desktop/MASTER/HAIA/Trabajo/MMUSED-fallacy/audio_clips/39_2012/114.wav', '/mnt/c/users/evacantin/desktop/MASTER/HAIA/Trabajo/MMUSED-fallacy/audio_clips/39_2012/115.wav'] - longitud tras concat: 253296\n"
     ]
    },
    {
     "name": "stderr",
     "output_type": "stream",
     "text": [
      "  8%|▊         | 98/1220 [00:27<05:02,  3.72it/s]"
     ]
    },
    {
     "name": "stdout",
     "output_type": "stream",
     "text": [
      "[DEBUG] Procesando audio del índice 816, ruta(s): ['/mnt/c/users/evacantin/desktop/MASTER/HAIA/Trabajo/MMUSED-fallacy/audio_clips/7_1976/171.wav', '/mnt/c/users/evacantin/desktop/MASTER/HAIA/Trabajo/MMUSED-fallacy/audio_clips/7_1976/172.wav'] - longitud tras concat: 232832\n"
     ]
    },
    {
     "name": "stderr",
     "output_type": "stream",
     "text": [
      "  8%|▊         | 99/1220 [00:27<04:56,  3.78it/s]"
     ]
    },
    {
     "name": "stdout",
     "output_type": "stream",
     "text": [
      "[DEBUG] Procesando audio del índice 749, ruta(s): ['/mnt/c/users/evacantin/desktop/MASTER/HAIA/Trabajo/MMUSED-fallacy/audio_clips/4_1960/51.wav'] - longitud tras concat: 120352\n"
     ]
    },
    {
     "name": "stderr",
     "output_type": "stream",
     "text": [
      "  8%|▊         | 100/1220 [00:28<04:56,  3.77it/s]"
     ]
    },
    {
     "name": "stdout",
     "output_type": "stream",
     "text": [
      "[DEBUG] Procesando audio del índice 9, ruta(s): ['/mnt/c/users/evacantin/desktop/MASTER/HAIA/Trabajo/MMUSED-fallacy/audio_clips/10_1984/392.wav'] - longitud tras concat: 488320\n"
     ]
    },
    {
     "name": "stderr",
     "output_type": "stream",
     "text": [
      "  8%|▊         | 101/1220 [00:28<04:50,  3.85it/s]"
     ]
    },
    {
     "name": "stdout",
     "output_type": "stream",
     "text": [
      "[DEBUG] Procesando audio del índice 1170, ruta(s): ['/mnt/c/users/evacantin/desktop/MASTER/HAIA/Trabajo/MMUSED-fallacy/audio_clips/46_2020/121.wav'] - longitud tras concat: 75536\n"
     ]
    },
    {
     "name": "stderr",
     "output_type": "stream",
     "text": [
      "  8%|▊         | 102/1220 [00:28<04:49,  3.87it/s]"
     ]
    },
    {
     "name": "stdout",
     "output_type": "stream",
     "text": [
      "[DEBUG] Procesando audio del índice 428, ruta(s): ['/mnt/c/users/evacantin/desktop/MASTER/HAIA/Trabajo/MMUSED-fallacy/audio_clips/29_2004/724.wav'] - longitud tras concat: 161664\n"
     ]
    },
    {
     "name": "stderr",
     "output_type": "stream",
     "text": [
      "  8%|▊         | 103/1220 [00:29<04:52,  3.81it/s]"
     ]
    },
    {
     "name": "stdout",
     "output_type": "stream",
     "text": [
      "[DEBUG] Procesando audio del índice 543, ruta(s): ['/mnt/c/users/evacantin/desktop/MASTER/HAIA/Trabajo/MMUSED-fallacy/audio_clips/31_2004/241.wav'] - longitud tras concat: 20496\n"
     ]
    },
    {
     "name": "stderr",
     "output_type": "stream",
     "text": [
      "  9%|▊         | 104/1220 [00:29<04:47,  3.89it/s]"
     ]
    },
    {
     "name": "stdout",
     "output_type": "stream",
     "text": [
      "[DEBUG] Procesando audio del índice 451, ruta(s): ['/mnt/c/users/evacantin/desktop/MASTER/HAIA/Trabajo/MMUSED-fallacy/audio_clips/2_1960/22.wav', '/mnt/c/users/evacantin/desktop/MASTER/HAIA/Trabajo/MMUSED-fallacy/audio_clips/2_1960/23.wav'] - longitud tras concat: 163776\n"
     ]
    },
    {
     "name": "stderr",
     "output_type": "stream",
     "text": [
      "  9%|▊         | 105/1220 [00:29<04:58,  3.73it/s]"
     ]
    },
    {
     "name": "stdout",
     "output_type": "stream",
     "text": [
      "[DEBUG] Procesando audio del índice 501, ruta(s): ['/mnt/c/users/evacantin/desktop/MASTER/HAIA/Trabajo/MMUSED-fallacy/audio_clips/30_2004/412.wav'] - longitud tras concat: 89360\n"
     ]
    },
    {
     "name": "stderr",
     "output_type": "stream",
     "text": [
      "  9%|▊         | 106/1220 [00:29<04:51,  3.82it/s]"
     ]
    },
    {
     "name": "stdout",
     "output_type": "stream",
     "text": [
      "[DEBUG] Procesando audio del índice 909, ruta(s): ['/mnt/c/users/evacantin/desktop/MASTER/HAIA/Trabajo/MMUSED-fallacy/audio_clips/13_1988/894.wav'] - longitud tras concat: 89328\n"
     ]
    },
    {
     "name": "stderr",
     "output_type": "stream",
     "text": [
      "  9%|▉         | 107/1220 [00:30<04:45,  3.90it/s]"
     ]
    },
    {
     "name": "stdout",
     "output_type": "stream",
     "text": [
      "[DEBUG] Procesando audio del índice 267, ruta(s): ['/mnt/c/users/evacantin/desktop/MASTER/HAIA/Trabajo/MMUSED-fallacy/audio_clips/25_2000/616.wav'] - longitud tras concat: 70784\n"
     ]
    },
    {
     "name": "stderr",
     "output_type": "stream",
     "text": [
      "  9%|▉         | 108/1220 [00:30<04:44,  3.90it/s]"
     ]
    },
    {
     "name": "stdout",
     "output_type": "stream",
     "text": [
      "[DEBUG] Procesando audio del índice 528, ruta(s): ['/mnt/c/users/evacantin/desktop/MASTER/HAIA/Trabajo/MMUSED-fallacy/audio_clips/31_2004/1169.wav'] - longitud tras concat: 107248\n"
     ]
    },
    {
     "name": "stderr",
     "output_type": "stream",
     "text": [
      "  9%|▉         | 109/1220 [00:30<04:42,  3.94it/s]"
     ]
    },
    {
     "name": "stdout",
     "output_type": "stream",
     "text": [
      "[DEBUG] Procesando audio del índice 520, ruta(s): ['/mnt/c/users/evacantin/desktop/MASTER/HAIA/Trabajo/MMUSED-fallacy/audio_clips/31_2004/882.wav'] - longitud tras concat: 35216\n"
     ]
    },
    {
     "name": "stderr",
     "output_type": "stream",
     "text": [
      "  9%|▉         | 110/1220 [00:30<04:43,  3.91it/s]"
     ]
    },
    {
     "name": "stdout",
     "output_type": "stream",
     "text": [
      "[DEBUG] Procesando audio del índice 903, ruta(s): ['/mnt/c/users/evacantin/desktop/MASTER/HAIA/Trabajo/MMUSED-fallacy/audio_clips/13_1988/719.wav'] - longitud tras concat: 44848\n"
     ]
    },
    {
     "name": "stderr",
     "output_type": "stream",
     "text": [
      "  9%|▉         | 111/1220 [00:31<04:46,  3.88it/s]"
     ]
    },
    {
     "name": "stdout",
     "output_type": "stream",
     "text": [
      "[DEBUG] Procesando audio del índice 10, ruta(s): ['/mnt/c/users/evacantin/desktop/MASTER/HAIA/Trabajo/MMUSED-fallacy/audio_clips/10_1984/383.wav'] - longitud tras concat: 153936\n"
     ]
    },
    {
     "name": "stderr",
     "output_type": "stream",
     "text": [
      "  9%|▉         | 112/1220 [00:31<04:45,  3.88it/s]"
     ]
    },
    {
     "name": "stdout",
     "output_type": "stream",
     "text": [
      "[DEBUG] Procesando audio del índice 806, ruta(s): ['/mnt/c/users/evacantin/desktop/MASTER/HAIA/Trabajo/MMUSED-fallacy/audio_clips/7_1976/554.wav'] - longitud tras concat: 110432\n"
     ]
    },
    {
     "name": "stderr",
     "output_type": "stream",
     "text": [
      "  9%|▉         | 113/1220 [00:31<04:50,  3.81it/s]"
     ]
    },
    {
     "name": "stdout",
     "output_type": "stream",
     "text": [
      "[DEBUG] Procesando audio del índice 799, ruta(s): ['/mnt/c/users/evacantin/desktop/MASTER/HAIA/Trabajo/MMUSED-fallacy/audio_clips/7_1976/446.wav'] - longitud tras concat: 284560\n"
     ]
    },
    {
     "name": "stderr",
     "output_type": "stream",
     "text": [
      "  9%|▉         | 114/1220 [00:31<05:16,  3.50it/s]"
     ]
    },
    {
     "name": "stdout",
     "output_type": "stream",
     "text": [
      "[DEBUG] Procesando audio del índice 559, ruta(s): ['/mnt/c/users/evacantin/desktop/MASTER/HAIA/Trabajo/MMUSED-fallacy/audio_clips/32_2004/736.wav'] - longitud tras concat: 53152\n"
     ]
    },
    {
     "name": "stderr",
     "output_type": "stream",
     "text": [
      "  9%|▉         | 115/1220 [00:32<05:09,  3.58it/s]"
     ]
    },
    {
     "name": "stdout",
     "output_type": "stream",
     "text": [
      "[DEBUG] Procesando audio del índice 254, ruta(s): ['/mnt/c/users/evacantin/desktop/MASTER/HAIA/Trabajo/MMUSED-fallacy/audio_clips/25_2000/134.wav'] - longitud tras concat: 60496\n"
     ]
    },
    {
     "name": "stderr",
     "output_type": "stream",
     "text": [
      " 10%|▉         | 116/1220 [00:32<05:06,  3.60it/s]"
     ]
    },
    {
     "name": "stdout",
     "output_type": "stream",
     "text": [
      "[DEBUG] Procesando audio del índice 707, ruta(s): ['/mnt/c/users/evacantin/desktop/MASTER/HAIA/Trabajo/MMUSED-fallacy/audio_clips/39_2012/881.wav'] - longitud tras concat: 244592\n"
     ]
    },
    {
     "name": "stderr",
     "output_type": "stream",
     "text": [
      " 10%|▉         | 117/1220 [00:32<04:57,  3.71it/s]"
     ]
    },
    {
     "name": "stdout",
     "output_type": "stream",
     "text": [
      "[DEBUG] Procesando audio del índice 167, ruta(s): ['/mnt/c/users/evacantin/desktop/MASTER/HAIA/Trabajo/MMUSED-fallacy/audio_clips/22_1996/50.wav'] - longitud tras concat: 32336\n"
     ]
    },
    {
     "name": "stderr",
     "output_type": "stream",
     "text": [
      " 10%|▉         | 118/1220 [00:33<04:56,  3.72it/s]"
     ]
    },
    {
     "name": "stdout",
     "output_type": "stream",
     "text": [
      "[DEBUG] Procesando audio del índice 434, ruta(s): ['/mnt/c/users/evacantin/desktop/MASTER/HAIA/Trabajo/MMUSED-fallacy/audio_clips/29_2004/772.wav'] - longitud tras concat: 96048\n"
     ]
    },
    {
     "name": "stderr",
     "output_type": "stream",
     "text": [
      " 10%|▉         | 119/1220 [00:33<04:59,  3.67it/s]"
     ]
    },
    {
     "name": "stdout",
     "output_type": "stream",
     "text": [
      "[DEBUG] Procesando audio del índice 126, ruta(s): ['/mnt/c/users/evacantin/desktop/MASTER/HAIA/Trabajo/MMUSED-fallacy/audio_clips/20_1992/300.wav'] - longitud tras concat: 43232\n"
     ]
    },
    {
     "name": "stderr",
     "output_type": "stream",
     "text": [
      " 10%|▉         | 120/1220 [00:33<05:00,  3.66it/s]"
     ]
    },
    {
     "name": "stdout",
     "output_type": "stream",
     "text": [
      "[DEBUG] Procesando audio del índice 921, ruta(s): ['/mnt/c/users/evacantin/desktop/MASTER/HAIA/Trabajo/MMUSED-fallacy/audio_clips/13_1988/161.wav'] - longitud tras concat: 152032\n"
     ]
    },
    {
     "name": "stderr",
     "output_type": "stream",
     "text": [
      " 10%|▉         | 121/1220 [00:33<05:07,  3.58it/s]"
     ]
    },
    {
     "name": "stdout",
     "output_type": "stream",
     "text": [
      "[DEBUG] Procesando audio del índice 590, ruta(s): ['/mnt/c/users/evacantin/desktop/MASTER/HAIA/Trabajo/MMUSED-fallacy/audio_clips/32_2004/279.wav', '/mnt/c/users/evacantin/desktop/MASTER/HAIA/Trabajo/MMUSED-fallacy/audio_clips/32_2004/280.wav', '/mnt/c/users/evacantin/desktop/MASTER/HAIA/Trabajo/MMUSED-fallacy/audio_clips/32_2004/281.wav'] - longitud tras concat: 158976\n"
     ]
    },
    {
     "name": "stderr",
     "output_type": "stream",
     "text": [
      " 10%|█         | 122/1220 [00:34<04:53,  3.74it/s]"
     ]
    },
    {
     "name": "stdout",
     "output_type": "stream",
     "text": [
      "[DEBUG] Procesando audio del índice 450, ruta(s): ['/mnt/c/users/evacantin/desktop/MASTER/HAIA/Trabajo/MMUSED-fallacy/audio_clips/29_2004/1090.wav'] - longitud tras concat: 97968\n"
     ]
    },
    {
     "name": "stderr",
     "output_type": "stream",
     "text": [
      " 10%|█         | 123/1220 [00:34<04:53,  3.74it/s]"
     ]
    },
    {
     "name": "stdout",
     "output_type": "stream",
     "text": [
      "[DEBUG] Procesando audio del índice 1003, ruta(s): ['/mnt/c/users/evacantin/desktop/MASTER/HAIA/Trabajo/MMUSED-fallacy/audio_clips/41_2016/787.wav'] - longitud tras concat: 245904\n"
     ]
    },
    {
     "name": "stderr",
     "output_type": "stream",
     "text": [
      " 10%|█         | 124/1220 [00:34<04:49,  3.78it/s]"
     ]
    },
    {
     "name": "stdout",
     "output_type": "stream",
     "text": [
      "[DEBUG] Procesando audio del índice 592, ruta(s): ['/mnt/c/users/evacantin/desktop/MASTER/HAIA/Trabajo/MMUSED-fallacy/audio_clips/32_2004/330.wav'] - longitud tras concat: 160144\n"
     ]
    },
    {
     "name": "stderr",
     "output_type": "stream",
     "text": [
      " 10%|█         | 125/1220 [00:34<04:44,  3.84it/s]"
     ]
    },
    {
     "name": "stdout",
     "output_type": "stream",
     "text": [
      "[DEBUG] Procesando audio del índice 1110, ruta(s): ['/mnt/c/users/evacantin/desktop/MASTER/HAIA/Trabajo/MMUSED-fallacy/audio_clips/44_2020/1074.wav'] - longitud tras concat: 117888\n"
     ]
    },
    {
     "name": "stderr",
     "output_type": "stream",
     "text": [
      " 10%|█         | 126/1220 [00:35<04:43,  3.86it/s]"
     ]
    },
    {
     "name": "stdout",
     "output_type": "stream",
     "text": [
      "[DEBUG] Procesando audio del índice 650, ruta(s): ['/mnt/c/users/evacantin/desktop/MASTER/HAIA/Trabajo/MMUSED-fallacy/audio_clips/33_2008/865.wav'] - longitud tras concat: 91216\n"
     ]
    },
    {
     "name": "stderr",
     "output_type": "stream",
     "text": [
      " 10%|█         | 127/1220 [00:35<04:43,  3.85it/s]"
     ]
    },
    {
     "name": "stdout",
     "output_type": "stream",
     "text": [
      "[DEBUG] Procesando audio del índice 151, ruta(s): ['/mnt/c/users/evacantin/desktop/MASTER/HAIA/Trabajo/MMUSED-fallacy/audio_clips/21_1992/123.wav'] - longitud tras concat: 41280\n"
     ]
    },
    {
     "name": "stderr",
     "output_type": "stream",
     "text": [
      " 10%|█         | 128/1220 [00:35<04:47,  3.80it/s]"
     ]
    },
    {
     "name": "stdout",
     "output_type": "stream",
     "text": [
      "[DEBUG] Procesando audio del índice 476, ruta(s): ['/mnt/c/users/evacantin/desktop/MASTER/HAIA/Trabajo/MMUSED-fallacy/audio_clips/2_1960/330.wav'] - longitud tras concat: 232464\n"
     ]
    },
    {
     "name": "stderr",
     "output_type": "stream",
     "text": [
      " 11%|█         | 129/1220 [00:35<04:41,  3.87it/s]"
     ]
    },
    {
     "name": "stdout",
     "output_type": "stream",
     "text": [
      "[DEBUG] Procesando audio del índice 361, ruta(s): ['/mnt/c/users/evacantin/desktop/MASTER/HAIA/Trabajo/MMUSED-fallacy/audio_clips/28_2000/30.wav', '/mnt/c/users/evacantin/desktop/MASTER/HAIA/Trabajo/MMUSED-fallacy/audio_clips/28_2000/31.wav'] - longitud tras concat: 232080\n"
     ]
    },
    {
     "name": "stderr",
     "output_type": "stream",
     "text": [
      " 11%|█         | 130/1220 [00:36<04:39,  3.90it/s]"
     ]
    },
    {
     "name": "stdout",
     "output_type": "stream",
     "text": [
      "[DEBUG] Procesando audio del índice 505, ruta(s): ['/mnt/c/users/evacantin/desktop/MASTER/HAIA/Trabajo/MMUSED-fallacy/audio_clips/30_2004/459.wav'] - longitud tras concat: 68528\n"
     ]
    },
    {
     "name": "stderr",
     "output_type": "stream",
     "text": [
      " 11%|█         | 131/1220 [00:36<04:37,  3.92it/s]"
     ]
    },
    {
     "name": "stdout",
     "output_type": "stream",
     "text": [
      "[DEBUG] Procesando audio del índice 1023, ruta(s): ['/mnt/c/users/evacantin/desktop/MASTER/HAIA/Trabajo/MMUSED-fallacy/audio_clips/41_2016/1180.wav'] - longitud tras concat: 29760\n"
     ]
    },
    {
     "name": "stderr",
     "output_type": "stream",
     "text": [
      " 11%|█         | 132/1220 [00:36<04:33,  3.98it/s]"
     ]
    },
    {
     "name": "stdout",
     "output_type": "stream",
     "text": [
      "[DEBUG] Procesando audio del índice 1136, ruta(s): ['/mnt/c/users/evacantin/desktop/MASTER/HAIA/Trabajo/MMUSED-fallacy/audio_clips/45_2020/182.wav', '/mnt/c/users/evacantin/desktop/MASTER/HAIA/Trabajo/MMUSED-fallacy/audio_clips/45_2020/183.wav', '/mnt/c/users/evacantin/desktop/MASTER/HAIA/Trabajo/MMUSED-fallacy/audio_clips/45_2020/184.wav'] - longitud tras concat: 516032\n"
     ]
    },
    {
     "name": "stderr",
     "output_type": "stream",
     "text": [
      " 11%|█         | 133/1220 [00:36<04:34,  3.96it/s]"
     ]
    },
    {
     "name": "stdout",
     "output_type": "stream",
     "text": [
      "[DEBUG] Procesando audio del índice 161, ruta(s): ['/mnt/c/users/evacantin/desktop/MASTER/HAIA/Trabajo/MMUSED-fallacy/audio_clips/21_1992/562.wav', '/mnt/c/users/evacantin/desktop/MASTER/HAIA/Trabajo/MMUSED-fallacy/audio_clips/21_1992/563.wav'] - longitud tras concat: 163264\n"
     ]
    },
    {
     "name": "stderr",
     "output_type": "stream",
     "text": [
      " 11%|█         | 134/1220 [00:37<04:35,  3.94it/s]"
     ]
    },
    {
     "name": "stdout",
     "output_type": "stream",
     "text": [
      "[DEBUG] Procesando audio del índice 807, ruta(s): ['/mnt/c/users/evacantin/desktop/MASTER/HAIA/Trabajo/MMUSED-fallacy/audio_clips/7_1976/562.wav'] - longitud tras concat: 58912\n"
     ]
    },
    {
     "name": "stderr",
     "output_type": "stream",
     "text": [
      " 11%|█         | 135/1220 [00:37<04:43,  3.83it/s]"
     ]
    },
    {
     "name": "stdout",
     "output_type": "stream",
     "text": [
      "[DEBUG] Procesando audio del índice 222, ruta(s): ['/mnt/c/users/evacantin/desktop/MASTER/HAIA/Trabajo/MMUSED-fallacy/audio_clips/22_1996/930.wav'] - longitud tras concat: 121392\n"
     ]
    },
    {
     "name": "stderr",
     "output_type": "stream",
     "text": [
      " 11%|█         | 136/1220 [00:37<04:39,  3.88it/s]"
     ]
    },
    {
     "name": "stdout",
     "output_type": "stream",
     "text": [
      "[DEBUG] Procesando audio del índice 951, ruta(s): ['/mnt/c/users/evacantin/desktop/MASTER/HAIA/Trabajo/MMUSED-fallacy/audio_clips/13_1988/670.wav'] - longitud tras concat: 102800\n"
     ]
    },
    {
     "name": "stderr",
     "output_type": "stream",
     "text": [
      " 11%|█         | 137/1220 [00:38<04:54,  3.68it/s]"
     ]
    },
    {
     "name": "stdout",
     "output_type": "stream",
     "text": [
      "[DEBUG] Procesando audio del índice 312, ruta(s): ['/mnt/c/users/evacantin/desktop/MASTER/HAIA/Trabajo/MMUSED-fallacy/audio_clips/26_2000/453.wav'] - longitud tras concat: 190784\n"
     ]
    },
    {
     "name": "stderr",
     "output_type": "stream",
     "text": [
      " 11%|█▏        | 138/1220 [00:38<04:44,  3.81it/s]"
     ]
    },
    {
     "name": "stdout",
     "output_type": "stream",
     "text": [
      "[DEBUG] Procesando audio del índice 308, ruta(s): ['/mnt/c/users/evacantin/desktop/MASTER/HAIA/Trabajo/MMUSED-fallacy/audio_clips/26_2000/390.wav'] - longitud tras concat: 117216\n"
     ]
    },
    {
     "name": "stderr",
     "output_type": "stream",
     "text": [
      " 11%|█▏        | 139/1220 [00:38<04:42,  3.82it/s]"
     ]
    },
    {
     "name": "stdout",
     "output_type": "stream",
     "text": [
      "[DEBUG] Procesando audio del índice 631, ruta(s): ['/mnt/c/users/evacantin/desktop/MASTER/HAIA/Trabajo/MMUSED-fallacy/audio_clips/33_2008/528.wav'] - longitud tras concat: 349984\n"
     ]
    },
    {
     "name": "stderr",
     "output_type": "stream",
     "text": [
      " 11%|█▏        | 140/1220 [00:38<04:44,  3.80it/s]"
     ]
    },
    {
     "name": "stdout",
     "output_type": "stream",
     "text": [
      "[DEBUG] Procesando audio del índice 627, ruta(s): ['/mnt/c/users/evacantin/desktop/MASTER/HAIA/Trabajo/MMUSED-fallacy/audio_clips/33_2008/382.wav', '/mnt/c/users/evacantin/desktop/MASTER/HAIA/Trabajo/MMUSED-fallacy/audio_clips/33_2008/383.wav', '/mnt/c/users/evacantin/desktop/MASTER/HAIA/Trabajo/MMUSED-fallacy/audio_clips/33_2008/384.wav', '/mnt/c/users/evacantin/desktop/MASTER/HAIA/Trabajo/MMUSED-fallacy/audio_clips/33_2008/385.wav', '/mnt/c/users/evacantin/desktop/MASTER/HAIA/Trabajo/MMUSED-fallacy/audio_clips/33_2008/386.wav', '/mnt/c/users/evacantin/desktop/MASTER/HAIA/Trabajo/MMUSED-fallacy/audio_clips/33_2008/387.wav', '/mnt/c/users/evacantin/desktop/MASTER/HAIA/Trabajo/MMUSED-fallacy/audio_clips/33_2008/388.wav'] - longitud tras concat: 490512\n"
     ]
    },
    {
     "name": "stderr",
     "output_type": "stream",
     "text": [
      " 12%|█▏        | 141/1220 [00:39<04:41,  3.83it/s]"
     ]
    },
    {
     "name": "stdout",
     "output_type": "stream",
     "text": [
      "[DEBUG] Procesando audio del índice 156, ruta(s): ['/mnt/c/users/evacantin/desktop/MASTER/HAIA/Trabajo/MMUSED-fallacy/audio_clips/21_1992/189.wav'] - longitud tras concat: 162672\n"
     ]
    },
    {
     "name": "stderr",
     "output_type": "stream",
     "text": [
      " 12%|█▏        | 142/1220 [00:39<04:41,  3.83it/s]"
     ]
    },
    {
     "name": "stdout",
     "output_type": "stream",
     "text": [
      "[DEBUG] Procesando audio del índice 992, ruta(s): ['/mnt/c/users/evacantin/desktop/MASTER/HAIA/Trabajo/MMUSED-fallacy/audio_clips/41_2016/821.wav'] - longitud tras concat: 77168\n"
     ]
    },
    {
     "name": "stderr",
     "output_type": "stream",
     "text": [
      " 12%|█▏        | 143/1220 [00:39<04:35,  3.91it/s]"
     ]
    },
    {
     "name": "stdout",
     "output_type": "stream",
     "text": [
      "[DEBUG] Procesando audio del índice 166, ruta(s): ['/mnt/c/users/evacantin/desktop/MASTER/HAIA/Trabajo/MMUSED-fallacy/audio_clips/22_1996/48.wav', '/mnt/c/users/evacantin/desktop/MASTER/HAIA/Trabajo/MMUSED-fallacy/audio_clips/22_1996/49.wav'] - longitud tras concat: 232176\n"
     ]
    },
    {
     "name": "stderr",
     "output_type": "stream",
     "text": [
      " 12%|█▏        | 144/1220 [00:39<04:37,  3.88it/s]"
     ]
    },
    {
     "name": "stdout",
     "output_type": "stream",
     "text": [
      "[DEBUG] Procesando audio del índice 152, ruta(s): ['/mnt/c/users/evacantin/desktop/MASTER/HAIA/Trabajo/MMUSED-fallacy/audio_clips/21_1992/201.wav'] - longitud tras concat: 76896\n"
     ]
    },
    {
     "name": "stderr",
     "output_type": "stream",
     "text": [
      " 12%|█▏        | 145/1220 [00:40<04:48,  3.72it/s]"
     ]
    },
    {
     "name": "stdout",
     "output_type": "stream",
     "text": [
      "[DEBUG] Procesando audio del índice 878, ruta(s): ['/mnt/c/users/evacantin/desktop/MASTER/HAIA/Trabajo/MMUSED-fallacy/audio_clips/9_1980/441.wav'] - longitud tras concat: 495952\n"
     ]
    },
    {
     "name": "stderr",
     "output_type": "stream",
     "text": [
      " 12%|█▏        | 146/1220 [00:40<04:47,  3.74it/s]"
     ]
    },
    {
     "name": "stdout",
     "output_type": "stream",
     "text": [
      "[DEBUG] Procesando audio del índice 507, ruta(s): ['/mnt/c/users/evacantin/desktop/MASTER/HAIA/Trabajo/MMUSED-fallacy/audio_clips/30_2004/535.wav'] - longitud tras concat: 55072\n"
     ]
    },
    {
     "name": "stderr",
     "output_type": "stream",
     "text": [
      " 12%|█▏        | 147/1220 [00:40<04:45,  3.76it/s]"
     ]
    },
    {
     "name": "stdout",
     "output_type": "stream",
     "text": [
      "[DEBUG] Procesando audio del índice 941, ruta(s): ['/mnt/c/users/evacantin/desktop/MASTER/HAIA/Trabajo/MMUSED-fallacy/audio_clips/13_1988/499.wav'] - longitud tras concat: 105616\n"
     ]
    },
    {
     "name": "stderr",
     "output_type": "stream",
     "text": [
      " 12%|█▏        | 148/1220 [00:40<04:39,  3.84it/s]"
     ]
    },
    {
     "name": "stdout",
     "output_type": "stream",
     "text": [
      "[DEBUG] Procesando audio del índice 673, ruta(s): ['/mnt/c/users/evacantin/desktop/MASTER/HAIA/Trabajo/MMUSED-fallacy/audio_clips/36_2008/484.wav'] - longitud tras concat: 77152\n"
     ]
    },
    {
     "name": "stderr",
     "output_type": "stream",
     "text": [
      " 12%|█▏        | 149/1220 [00:41<04:39,  3.83it/s]"
     ]
    },
    {
     "name": "stdout",
     "output_type": "stream",
     "text": [
      "[DEBUG] Procesando audio del índice 569, ruta(s): ['/mnt/c/users/evacantin/desktop/MASTER/HAIA/Trabajo/MMUSED-fallacy/audio_clips/32_2004/882.wav', '/mnt/c/users/evacantin/desktop/MASTER/HAIA/Trabajo/MMUSED-fallacy/audio_clips/32_2004/883.wav'] - longitud tras concat: 185440\n"
     ]
    },
    {
     "name": "stderr",
     "output_type": "stream",
     "text": [
      " 12%|█▏        | 150/1220 [00:41<04:52,  3.66it/s]"
     ]
    },
    {
     "name": "stdout",
     "output_type": "stream",
     "text": [
      "[DEBUG] Procesando audio del índice 316, ruta(s): ['/mnt/c/users/evacantin/desktop/MASTER/HAIA/Trabajo/MMUSED-fallacy/audio_clips/27_2000/65.wav'] - longitud tras concat: 212640\n"
     ]
    },
    {
     "name": "stderr",
     "output_type": "stream",
     "text": [
      " 12%|█▏        | 151/1220 [00:41<04:49,  3.69it/s]"
     ]
    },
    {
     "name": "stdout",
     "output_type": "stream",
     "text": [
      "[DEBUG] Procesando audio del índice 541, ruta(s): ['/mnt/c/users/evacantin/desktop/MASTER/HAIA/Trabajo/MMUSED-fallacy/audio_clips/31_2004/189.wav'] - longitud tras concat: 28496\n"
     ]
    },
    {
     "name": "stderr",
     "output_type": "stream",
     "text": [
      " 12%|█▏        | 152/1220 [00:41<04:41,  3.80it/s]"
     ]
    },
    {
     "name": "stdout",
     "output_type": "stream",
     "text": [
      "[DEBUG] Procesando audio del índice 82, ruta(s): ['/mnt/c/users/evacantin/desktop/MASTER/HAIA/Trabajo/MMUSED-fallacy/audio_clips/1_1960/15.wav'] - longitud tras concat: 132560\n"
     ]
    },
    {
     "name": "stderr",
     "output_type": "stream",
     "text": [
      " 13%|█▎        | 153/1220 [00:42<04:33,  3.90it/s]"
     ]
    },
    {
     "name": "stdout",
     "output_type": "stream",
     "text": [
      "[DEBUG] Procesando audio del índice 740, ruta(s): ['/mnt/c/users/evacantin/desktop/MASTER/HAIA/Trabajo/MMUSED-fallacy/audio_clips/3_1960/334.wav'] - longitud tras concat: 74896\n"
     ]
    },
    {
     "name": "stderr",
     "output_type": "stream",
     "text": [
      " 13%|█▎        | 154/1220 [00:42<04:32,  3.91it/s]"
     ]
    },
    {
     "name": "stdout",
     "output_type": "stream",
     "text": [
      "[DEBUG] Procesando audio del índice 1150, ruta(s): ['/mnt/c/users/evacantin/desktop/MASTER/HAIA/Trabajo/MMUSED-fallacy/audio_clips/45_2020/747.wav'] - longitud tras concat: 25616\n"
     ]
    },
    {
     "name": "stderr",
     "output_type": "stream",
     "text": [
      " 13%|█▎        | 155/1220 [00:42<04:34,  3.89it/s]"
     ]
    },
    {
     "name": "stdout",
     "output_type": "stream",
     "text": [
      "[DEBUG] Procesando audio del índice 515, ruta(s): ['/mnt/c/users/evacantin/desktop/MASTER/HAIA/Trabajo/MMUSED-fallacy/audio_clips/31_2004/68.wav'] - longitud tras concat: 75232\n"
     ]
    },
    {
     "name": "stderr",
     "output_type": "stream",
     "text": [
      " 13%|█▎        | 156/1220 [00:42<04:32,  3.90it/s]"
     ]
    },
    {
     "name": "stdout",
     "output_type": "stream",
     "text": [
      "[DEBUG] Procesando audio del índice 905, ruta(s): ['/mnt/c/users/evacantin/desktop/MASTER/HAIA/Trabajo/MMUSED-fallacy/audio_clips/13_1988/726.wav'] - longitud tras concat: 273152\n"
     ]
    },
    {
     "name": "stderr",
     "output_type": "stream",
     "text": [
      " 13%|█▎        | 157/1220 [00:43<04:31,  3.92it/s]"
     ]
    },
    {
     "name": "stdout",
     "output_type": "stream",
     "text": [
      "[DEBUG] Procesando audio del índice 724, ruta(s): ['/mnt/c/users/evacantin/desktop/MASTER/HAIA/Trabajo/MMUSED-fallacy/audio_clips/3_1960/134.wav'] - longitud tras concat: 299264\n"
     ]
    },
    {
     "name": "stderr",
     "output_type": "stream",
     "text": [
      " 13%|█▎        | 158/1220 [00:43<04:33,  3.89it/s]"
     ]
    },
    {
     "name": "stdout",
     "output_type": "stream",
     "text": [
      "[DEBUG] Procesando audio del índice 682, ruta(s): ['/mnt/c/users/evacantin/desktop/MASTER/HAIA/Trabajo/MMUSED-fallacy/audio_clips/36_2008/744.wav'] - longitud tras concat: 32656\n"
     ]
    },
    {
     "name": "stderr",
     "output_type": "stream",
     "text": [
      " 13%|█▎        | 159/1220 [00:43<04:25,  3.99it/s]"
     ]
    },
    {
     "name": "stdout",
     "output_type": "stream",
     "text": [
      "[DEBUG] Procesando audio del índice 874, ruta(s): ['/mnt/c/users/evacantin/desktop/MASTER/HAIA/Trabajo/MMUSED-fallacy/audio_clips/9_1980/390.wav'] - longitud tras concat: 310480\n"
     ]
    },
    {
     "name": "stderr",
     "output_type": "stream",
     "text": [
      " 13%|█▎        | 160/1220 [00:43<04:27,  3.97it/s]"
     ]
    },
    {
     "name": "stdout",
     "output_type": "stream",
     "text": [
      "[DEBUG] Procesando audio del índice 930, ruta(s): ['/mnt/c/users/evacantin/desktop/MASTER/HAIA/Trabajo/MMUSED-fallacy/audio_clips/13_1988/287.wav', '/mnt/c/users/evacantin/desktop/MASTER/HAIA/Trabajo/MMUSED-fallacy/audio_clips/13_1988/288.wav'] - longitud tras concat: 164240\n"
     ]
    },
    {
     "name": "stderr",
     "output_type": "stream",
     "text": [
      " 13%|█▎        | 161/1220 [00:44<04:30,  3.92it/s]"
     ]
    },
    {
     "name": "stdout",
     "output_type": "stream",
     "text": [
      "[DEBUG] Procesando audio del índice 384, ruta(s): ['/mnt/c/users/evacantin/desktop/MASTER/HAIA/Trabajo/MMUSED-fallacy/audio_clips/28_2000/339.wav'] - longitud tras concat: 209088\n"
     ]
    },
    {
     "name": "stderr",
     "output_type": "stream",
     "text": [
      " 13%|█▎        | 162/1220 [00:44<04:39,  3.79it/s]"
     ]
    },
    {
     "name": "stdout",
     "output_type": "stream",
     "text": [
      "[DEBUG] Procesando audio del índice 251, ruta(s): ['/mnt/c/users/evacantin/desktop/MASTER/HAIA/Trabajo/MMUSED-fallacy/audio_clips/25_2000/1084.wav'] - longitud tras concat: 146960\n"
     ]
    },
    {
     "name": "stderr",
     "output_type": "stream",
     "text": [
      " 13%|█▎        | 163/1220 [00:44<04:31,  3.89it/s]"
     ]
    },
    {
     "name": "stdout",
     "output_type": "stream",
     "text": [
      "[DEBUG] Procesando audio del índice 0, ruta(s): ['/mnt/c/users/evacantin/desktop/MASTER/HAIA/Trabajo/MMUSED-fallacy/audio_clips/10_1984/87.wav'] - longitud tras concat: 144432\n"
     ]
    },
    {
     "name": "stderr",
     "output_type": "stream",
     "text": [
      " 13%|█▎        | 164/1220 [00:45<04:31,  3.88it/s]"
     ]
    },
    {
     "name": "stdout",
     "output_type": "stream",
     "text": [
      "[DEBUG] Procesando audio del índice 287, ruta(s): ['/mnt/c/users/evacantin/desktop/MASTER/HAIA/Trabajo/MMUSED-fallacy/audio_clips/26_2000/642.wav'] - longitud tras concat: 272608\n"
     ]
    },
    {
     "name": "stderr",
     "output_type": "stream",
     "text": [
      " 14%|█▎        | 165/1220 [00:45<04:27,  3.95it/s]"
     ]
    },
    {
     "name": "stdout",
     "output_type": "stream",
     "text": [
      "[DEBUG] Procesando audio del índice 1102, ruta(s): ['/mnt/c/users/evacantin/desktop/MASTER/HAIA/Trabajo/MMUSED-fallacy/audio_clips/44_2020/1355.wav'] - longitud tras concat: 69776\n"
     ]
    },
    {
     "name": "stderr",
     "output_type": "stream",
     "text": [
      " 14%|█▎        | 166/1220 [00:45<04:25,  3.96it/s]"
     ]
    },
    {
     "name": "stdout",
     "output_type": "stream",
     "text": [
      "[DEBUG] Procesando audio del índice 1128, ruta(s): ['/mnt/c/users/evacantin/desktop/MASTER/HAIA/Trabajo/MMUSED-fallacy/audio_clips/45_2020/742.wav'] - longitud tras concat: 61168\n"
     ]
    },
    {
     "name": "stderr",
     "output_type": "stream",
     "text": [
      " 14%|█▎        | 167/1220 [00:45<04:25,  3.97it/s]"
     ]
    },
    {
     "name": "stdout",
     "output_type": "stream",
     "text": [
      "[DEBUG] Procesando audio del índice 107, ruta(s): ['/mnt/c/users/evacantin/desktop/MASTER/HAIA/Trabajo/MMUSED-fallacy/audio_clips/1_1960/321.wav', '/mnt/c/users/evacantin/desktop/MASTER/HAIA/Trabajo/MMUSED-fallacy/audio_clips/1_1960/322.wav'] - longitud tras concat: 210032\n"
     ]
    },
    {
     "name": "stderr",
     "output_type": "stream",
     "text": [
      " 14%|█▍        | 168/1220 [00:45<04:23,  3.99it/s]"
     ]
    },
    {
     "name": "stdout",
     "output_type": "stream",
     "text": [
      "[DEBUG] Procesando audio del índice 36, ruta(s): ['/mnt/c/users/evacantin/desktop/MASTER/HAIA/Trabajo/MMUSED-fallacy/audio_clips/12_1984/372.wav', '/mnt/c/users/evacantin/desktop/MASTER/HAIA/Trabajo/MMUSED-fallacy/audio_clips/12_1984/373.wav', '/mnt/c/users/evacantin/desktop/MASTER/HAIA/Trabajo/MMUSED-fallacy/audio_clips/12_1984/374.wav', '/mnt/c/users/evacantin/desktop/MASTER/HAIA/Trabajo/MMUSED-fallacy/audio_clips/12_1984/375.wav'] - longitud tras concat: 443920\n"
     ]
    },
    {
     "name": "stderr",
     "output_type": "stream",
     "text": [
      " 14%|█▍        | 169/1220 [00:46<04:24,  3.98it/s]"
     ]
    },
    {
     "name": "stdout",
     "output_type": "stream",
     "text": [
      "[DEBUG] Procesando audio del índice 20, ruta(s): ['/mnt/c/users/evacantin/desktop/MASTER/HAIA/Trabajo/MMUSED-fallacy/audio_clips/12_1984/87.wav', '/mnt/c/users/evacantin/desktop/MASTER/HAIA/Trabajo/MMUSED-fallacy/audio_clips/12_1984/88.wav'] - longitud tras concat: 60192\n"
     ]
    },
    {
     "name": "stderr",
     "output_type": "stream",
     "text": [
      " 14%|█▍        | 170/1220 [00:46<04:19,  4.04it/s]"
     ]
    },
    {
     "name": "stdout",
     "output_type": "stream",
     "text": [
      "[DEBUG] Procesando audio del índice 1066, ruta(s): ['/mnt/c/users/evacantin/desktop/MASTER/HAIA/Trabajo/MMUSED-fallacy/audio_clips/42_2016/541.wav'] - longitud tras concat: 107936\n"
     ]
    },
    {
     "name": "stderr",
     "output_type": "stream",
     "text": [
      " 14%|█▍        | 171/1220 [00:46<04:19,  4.04it/s]"
     ]
    },
    {
     "name": "stdout",
     "output_type": "stream",
     "text": [
      "[DEBUG] Procesando audio del índice 1149, ruta(s): ['/mnt/c/users/evacantin/desktop/MASTER/HAIA/Trabajo/MMUSED-fallacy/audio_clips/45_2020/698.wav'] - longitud tras concat: 324544\n"
     ]
    },
    {
     "name": "stderr",
     "output_type": "stream",
     "text": [
      " 14%|█▍        | 172/1220 [00:47<04:28,  3.91it/s]"
     ]
    },
    {
     "name": "stdout",
     "output_type": "stream",
     "text": [
      "[DEBUG] Procesando audio del índice 335, ruta(s): ['/mnt/c/users/evacantin/desktop/MASTER/HAIA/Trabajo/MMUSED-fallacy/audio_clips/27_2000/418.wav'] - longitud tras concat: 134144\n"
     ]
    },
    {
     "name": "stderr",
     "output_type": "stream",
     "text": [
      " 14%|█▍        | 173/1220 [00:47<04:37,  3.78it/s]"
     ]
    },
    {
     "name": "stdout",
     "output_type": "stream",
     "text": [
      "[DEBUG] Procesando audio del índice 1218, ruta(s): ['/mnt/c/users/evacantin/desktop/MASTER/HAIA/Trabajo/MMUSED-fallacy/audio_clips/46_2020/313.wav'] - longitud tras concat: 175808\n"
     ]
    },
    {
     "name": "stderr",
     "output_type": "stream",
     "text": [
      " 14%|█▍        | 174/1220 [00:47<04:32,  3.84it/s]"
     ]
    },
    {
     "name": "stdout",
     "output_type": "stream",
     "text": [
      "[DEBUG] Procesando audio del índice 306, ruta(s): ['/mnt/c/users/evacantin/desktop/MASTER/HAIA/Trabajo/MMUSED-fallacy/audio_clips/26_2000/367.wav'] - longitud tras concat: 121952\n"
     ]
    },
    {
     "name": "stderr",
     "output_type": "stream",
     "text": [
      " 14%|█▍        | 175/1220 [00:47<04:36,  3.77it/s]"
     ]
    },
    {
     "name": "stdout",
     "output_type": "stream",
     "text": [
      "[DEBUG] Procesando audio del índice 1103, ruta(s): ['/mnt/c/users/evacantin/desktop/MASTER/HAIA/Trabajo/MMUSED-fallacy/audio_clips/44_2020/75.wav'] - longitud tras concat: 241616\n"
     ]
    },
    {
     "name": "stderr",
     "output_type": "stream",
     "text": [
      " 14%|█▍        | 176/1220 [00:48<04:41,  3.71it/s]"
     ]
    },
    {
     "name": "stdout",
     "output_type": "stream",
     "text": [
      "[DEBUG] Procesando audio del índice 1085, ruta(s): ['/mnt/c/users/evacantin/desktop/MASTER/HAIA/Trabajo/MMUSED-fallacy/audio_clips/44_2020/987.wav'] - longitud tras concat: 49648\n"
     ]
    },
    {
     "name": "stderr",
     "output_type": "stream",
     "text": [
      " 15%|█▍        | 177/1220 [00:48<04:34,  3.81it/s]"
     ]
    },
    {
     "name": "stdout",
     "output_type": "stream",
     "text": [
      "[DEBUG] Procesando audio del índice 1148, ruta(s): ['/mnt/c/users/evacantin/desktop/MASTER/HAIA/Trabajo/MMUSED-fallacy/audio_clips/45_2020/124.wav'] - longitud tras concat: 208768\n"
     ]
    },
    {
     "name": "stderr",
     "output_type": "stream",
     "text": [
      " 15%|█▍        | 178/1220 [00:48<04:32,  3.83it/s]"
     ]
    },
    {
     "name": "stdout",
     "output_type": "stream",
     "text": [
      "[DEBUG] Procesando audio del índice 769, ruta(s): ['/mnt/c/users/evacantin/desktop/MASTER/HAIA/Trabajo/MMUSED-fallacy/audio_clips/5_1976/121.wav'] - longitud tras concat: 26896\n"
     ]
    },
    {
     "name": "stderr",
     "output_type": "stream",
     "text": [
      " 15%|█▍        | 179/1220 [00:48<04:28,  3.87it/s]"
     ]
    },
    {
     "name": "stdout",
     "output_type": "stream",
     "text": [
      "[DEBUG] Procesando audio del índice 301, ruta(s): ['/mnt/c/users/evacantin/desktop/MASTER/HAIA/Trabajo/MMUSED-fallacy/audio_clips/26_2000/296.wav'] - longitud tras concat: 43856\n"
     ]
    },
    {
     "name": "stderr",
     "output_type": "stream",
     "text": [
      " 15%|█▍        | 180/1220 [00:49<04:29,  3.86it/s]"
     ]
    },
    {
     "name": "stdout",
     "output_type": "stream",
     "text": [
      "[DEBUG] Procesando audio del índice 419, ruta(s): ['/mnt/c/users/evacantin/desktop/MASTER/HAIA/Trabajo/MMUSED-fallacy/audio_clips/29_2004/516.wav'] - longitud tras concat: 19856\n"
     ]
    },
    {
     "name": "stderr",
     "output_type": "stream",
     "text": [
      " 15%|█▍        | 181/1220 [00:49<04:29,  3.85it/s]"
     ]
    },
    {
     "name": "stdout",
     "output_type": "stream",
     "text": [
      "[DEBUG] Procesando audio del índice 454, ruta(s): ['/mnt/c/users/evacantin/desktop/MASTER/HAIA/Trabajo/MMUSED-fallacy/audio_clips/2_1960/393.wav'] - longitud tras concat: 176096\n"
     ]
    },
    {
     "name": "stderr",
     "output_type": "stream",
     "text": [
      " 15%|█▍        | 182/1220 [00:49<04:29,  3.85it/s]"
     ]
    },
    {
     "name": "stdout",
     "output_type": "stream",
     "text": [
      "[DEBUG] Procesando audio del índice 168, ruta(s): ['/mnt/c/users/evacantin/desktop/MASTER/HAIA/Trabajo/MMUSED-fallacy/audio_clips/22_1996/94.wav'] - longitud tras concat: 166912\n"
     ]
    },
    {
     "name": "stderr",
     "output_type": "stream",
     "text": [
      " 15%|█▌        | 183/1220 [00:49<04:25,  3.90it/s]"
     ]
    },
    {
     "name": "stdout",
     "output_type": "stream",
     "text": [
      "[DEBUG] Procesando audio del índice 861, ruta(s): ['/mnt/c/users/evacantin/desktop/MASTER/HAIA/Trabajo/MMUSED-fallacy/audio_clips/9_1980/224.wav'] - longitud tras concat: 527728\n"
     ]
    },
    {
     "name": "stderr",
     "output_type": "stream",
     "text": [
      " 15%|█▌        | 184/1220 [00:50<04:24,  3.91it/s]"
     ]
    },
    {
     "name": "stdout",
     "output_type": "stream",
     "text": [
      "[DEBUG] Procesando audio del índice 1178, ruta(s): ['/mnt/c/users/evacantin/desktop/MASTER/HAIA/Trabajo/MMUSED-fallacy/audio_clips/46_2020/102.wav'] - longitud tras concat: 75216\n"
     ]
    },
    {
     "name": "stderr",
     "output_type": "stream",
     "text": [
      " 15%|█▌        | 185/1220 [00:50<04:18,  4.01it/s]"
     ]
    },
    {
     "name": "stdout",
     "output_type": "stream",
     "text": [
      "[DEBUG] Procesando audio del índice 828, ruta(s): ['/mnt/c/users/evacantin/desktop/MASTER/HAIA/Trabajo/MMUSED-fallacy/audio_clips/8_1980/193.wav'] - longitud tras concat: 84896\n"
     ]
    },
    {
     "name": "stderr",
     "output_type": "stream",
     "text": [
      " 15%|█▌        | 186/1220 [00:50<04:17,  4.02it/s]"
     ]
    },
    {
     "name": "stdout",
     "output_type": "stream",
     "text": [
      "[DEBUG] Procesando audio del índice 524, ruta(s): ['/mnt/c/users/evacantin/desktop/MASTER/HAIA/Trabajo/MMUSED-fallacy/audio_clips/31_2004/1062.wav', '/mnt/c/users/evacantin/desktop/MASTER/HAIA/Trabajo/MMUSED-fallacy/audio_clips/31_2004/1063.wav', '/mnt/c/users/evacantin/desktop/MASTER/HAIA/Trabajo/MMUSED-fallacy/audio_clips/31_2004/1064.wav', '/mnt/c/users/evacantin/desktop/MASTER/HAIA/Trabajo/MMUSED-fallacy/audio_clips/31_2004/1065.wav', '/mnt/c/users/evacantin/desktop/MASTER/HAIA/Trabajo/MMUSED-fallacy/audio_clips/31_2004/1066.wav'] - longitud tras concat: 1980640\n"
     ]
    },
    {
     "name": "stderr",
     "output_type": "stream",
     "text": [
      " 15%|█▌        | 187/1220 [00:50<04:21,  3.95it/s]"
     ]
    },
    {
     "name": "stdout",
     "output_type": "stream",
     "text": [
      "[DEBUG] Procesando audio del índice 770, ruta(s): ['/mnt/c/users/evacantin/desktop/MASTER/HAIA/Trabajo/MMUSED-fallacy/audio_clips/5_1976/142.wav'] - longitud tras concat: 189904\n"
     ]
    },
    {
     "name": "stderr",
     "output_type": "stream",
     "text": [
      " 15%|█▌        | 188/1220 [00:51<04:42,  3.65it/s]"
     ]
    },
    {
     "name": "stdout",
     "output_type": "stream",
     "text": [
      "[DEBUG] Procesando audio del índice 829, ruta(s): ['/mnt/c/users/evacantin/desktop/MASTER/HAIA/Trabajo/MMUSED-fallacy/audio_clips/8_1980/249.wav'] - longitud tras concat: 31376\n"
     ]
    },
    {
     "name": "stderr",
     "output_type": "stream",
     "text": [
      " 15%|█▌        | 189/1220 [00:51<04:33,  3.77it/s]"
     ]
    },
    {
     "name": "stdout",
     "output_type": "stream",
     "text": [
      "[DEBUG] Procesando audio del índice 578, ruta(s): ['/mnt/c/users/evacantin/desktop/MASTER/HAIA/Trabajo/MMUSED-fallacy/audio_clips/32_2004/1041.wav', '/mnt/c/users/evacantin/desktop/MASTER/HAIA/Trabajo/MMUSED-fallacy/audio_clips/32_2004/1042.wav'] - longitud tras concat: 74880\n"
     ]
    },
    {
     "name": "stderr",
     "output_type": "stream",
     "text": [
      " 16%|█▌        | 190/1220 [00:51<04:39,  3.68it/s]"
     ]
    },
    {
     "name": "stdout",
     "output_type": "stream",
     "text": [
      "[DEBUG] Procesando audio del índice 224, ruta(s): ['/mnt/c/users/evacantin/desktop/MASTER/HAIA/Trabajo/MMUSED-fallacy/audio_clips/22_1996/965.wav', '/mnt/c/users/evacantin/desktop/MASTER/HAIA/Trabajo/MMUSED-fallacy/audio_clips/22_1996/966.wav'] - longitud tras concat: 58592\n"
     ]
    },
    {
     "name": "stderr",
     "output_type": "stream",
     "text": [
      " 16%|█▌        | 191/1220 [00:52<07:37,  2.25it/s]"
     ]
    },
    {
     "name": "stdout",
     "output_type": "stream",
     "text": [
      "[DEBUG] Procesando audio del índice 397, ruta(s): ['/mnt/c/users/evacantin/desktop/MASTER/HAIA/Trabajo/MMUSED-fallacy/audio_clips/29_2004/192.wav', '/mnt/c/users/evacantin/desktop/MASTER/HAIA/Trabajo/MMUSED-fallacy/audio_clips/29_2004/193.wav'] - longitud tras concat: 192768\n"
     ]
    },
    {
     "name": "stderr",
     "output_type": "stream",
     "text": [
      " 16%|█▌        | 192/1220 [00:52<06:40,  2.57it/s]"
     ]
    },
    {
     "name": "stdout",
     "output_type": "stream",
     "text": [
      "[DEBUG] Procesando audio del índice 443, ruta(s): ['/mnt/c/users/evacantin/desktop/MASTER/HAIA/Trabajo/MMUSED-fallacy/audio_clips/29_2004/804.wav'] - longitud tras concat: 14400\n"
     ]
    },
    {
     "name": "stderr",
     "output_type": "stream",
     "text": [
      " 16%|█▌        | 193/1220 [00:53<05:56,  2.88it/s]"
     ]
    },
    {
     "name": "stdout",
     "output_type": "stream",
     "text": [
      "[DEBUG] Procesando audio del índice 315, ruta(s): ['/mnt/c/users/evacantin/desktop/MASTER/HAIA/Trabajo/MMUSED-fallacy/audio_clips/27_2000/49.wav'] - longitud tras concat: 111424\n"
     ]
    },
    {
     "name": "stderr",
     "output_type": "stream",
     "text": [
      " 16%|█▌        | 194/1220 [00:53<05:24,  3.16it/s]"
     ]
    },
    {
     "name": "stdout",
     "output_type": "stream",
     "text": [
      "[DEBUG] Procesando audio del índice 771, ruta(s): ['/mnt/c/users/evacantin/desktop/MASTER/HAIA/Trabajo/MMUSED-fallacy/audio_clips/6_1976/26.wav'] - longitud tras concat: 66912\n"
     ]
    },
    {
     "name": "stderr",
     "output_type": "stream",
     "text": [
      " 16%|█▌        | 195/1220 [00:53<05:04,  3.37it/s]"
     ]
    },
    {
     "name": "stdout",
     "output_type": "stream",
     "text": [
      "[DEBUG] Procesando audio del índice 268, ruta(s): ['/mnt/c/users/evacantin/desktop/MASTER/HAIA/Trabajo/MMUSED-fallacy/audio_clips/25_2000/690.wav', '/mnt/c/users/evacantin/desktop/MASTER/HAIA/Trabajo/MMUSED-fallacy/audio_clips/25_2000/691.wav', '/mnt/c/users/evacantin/desktop/MASTER/HAIA/Trabajo/MMUSED-fallacy/audio_clips/25_2000/692.wav', '/mnt/c/users/evacantin/desktop/MASTER/HAIA/Trabajo/MMUSED-fallacy/audio_clips/25_2000/693.wav', '/mnt/c/users/evacantin/desktop/MASTER/HAIA/Trabajo/MMUSED-fallacy/audio_clips/25_2000/694.wav'] - longitud tras concat: 274720\n"
     ]
    },
    {
     "name": "stderr",
     "output_type": "stream",
     "text": [
      " 16%|█▌        | 196/1220 [00:53<04:48,  3.55it/s]"
     ]
    },
    {
     "name": "stdout",
     "output_type": "stream",
     "text": [
      "[DEBUG] Procesando audio del índice 808, ruta(s): ['/mnt/c/users/evacantin/desktop/MASTER/HAIA/Trabajo/MMUSED-fallacy/audio_clips/7_1976/593.wav'] - longitud tras concat: 56992\n"
     ]
    },
    {
     "name": "stderr",
     "output_type": "stream",
     "text": [
      " 16%|█▌        | 197/1220 [00:54<04:40,  3.64it/s]"
     ]
    },
    {
     "name": "stdout",
     "output_type": "stream",
     "text": [
      "[DEBUG] Procesando audio del índice 1125, ruta(s): ['/mnt/c/users/evacantin/desktop/MASTER/HAIA/Trabajo/MMUSED-fallacy/audio_clips/45_2020/78.wav'] - longitud tras concat: 218928\n"
     ]
    },
    {
     "name": "stderr",
     "output_type": "stream",
     "text": [
      " 16%|█▌        | 198/1220 [00:54<04:29,  3.79it/s]"
     ]
    },
    {
     "name": "stdout",
     "output_type": "stream",
     "text": [
      "[DEBUG] Procesando audio del índice 580, ruta(s): ['/mnt/c/users/evacantin/desktop/MASTER/HAIA/Trabajo/MMUSED-fallacy/audio_clips/32_2004/106.wav'] - longitud tras concat: 52864\n"
     ]
    },
    {
     "name": "stderr",
     "output_type": "stream",
     "text": [
      " 16%|█▋        | 199/1220 [00:54<04:33,  3.73it/s]"
     ]
    },
    {
     "name": "stdout",
     "output_type": "stream",
     "text": [
      "[DEBUG] Procesando audio del índice 45, ruta(s): ['/mnt/c/users/evacantin/desktop/MASTER/HAIA/Trabajo/MMUSED-fallacy/audio_clips/12_1984/554.wav'] - longitud tras concat: 57296\n"
     ]
    },
    {
     "name": "stderr",
     "output_type": "stream",
     "text": [
      " 16%|█▋        | 200/1220 [00:56<11:13,  1.51it/s]"
     ]
    },
    {
     "name": "stdout",
     "output_type": "stream",
     "text": [
      "[DEBUG] Procesando audio del índice 44, ruta(s): ['/mnt/c/users/evacantin/desktop/MASTER/HAIA/Trabajo/MMUSED-fallacy/audio_clips/12_1984/522.wav'] - longitud tras concat: 97952\n"
     ]
    },
    {
     "name": "stderr",
     "output_type": "stream",
     "text": [
      " 16%|█▋        | 201/1220 [00:56<08:59,  1.89it/s]"
     ]
    },
    {
     "name": "stdout",
     "output_type": "stream",
     "text": [
      "[DEBUG] Procesando audio del índice 225, ruta(s): ['/mnt/c/users/evacantin/desktop/MASTER/HAIA/Trabajo/MMUSED-fallacy/audio_clips/22_1996/1007.wav'] - longitud tras concat: 77504\n"
     ]
    },
    {
     "name": "stderr",
     "output_type": "stream",
     "text": [
      " 17%|█▋        | 202/1220 [00:56<07:35,  2.23it/s]"
     ]
    },
    {
     "name": "stdout",
     "output_type": "stream",
     "text": [
      "[DEBUG] Procesando audio del índice 599, ruta(s): ['/mnt/c/users/evacantin/desktop/MASTER/HAIA/Trabajo/MMUSED-fallacy/audio_clips/32_2004/436.wav'] - longitud tras concat: 17936\n"
     ]
    },
    {
     "name": "stderr",
     "output_type": "stream",
     "text": [
      " 17%|█▋        | 203/1220 [00:56<06:34,  2.58it/s]"
     ]
    },
    {
     "name": "stdout",
     "output_type": "stream",
     "text": [
      "[DEBUG] Procesando audio del índice 485, ruta(s): ['/mnt/c/users/evacantin/desktop/MASTER/HAIA/Trabajo/MMUSED-fallacy/audio_clips/30_2004/172.wav'] - longitud tras concat: 152112\n"
     ]
    },
    {
     "name": "stderr",
     "output_type": "stream",
     "text": [
      " 17%|█▋        | 204/1220 [00:57<05:54,  2.87it/s]"
     ]
    },
    {
     "name": "stdout",
     "output_type": "stream",
     "text": [
      "[DEBUG] Procesando audio del índice 814, ruta(s): ['/mnt/c/users/evacantin/desktop/MASTER/HAIA/Trabajo/MMUSED-fallacy/audio_clips/7_1976/90.wav'] - longitud tras concat: 374992\n"
     ]
    },
    {
     "name": "stderr",
     "output_type": "stream",
     "text": [
      " 17%|█▋        | 205/1220 [00:57<05:23,  3.14it/s]"
     ]
    },
    {
     "name": "stdout",
     "output_type": "stream",
     "text": [
      "[DEBUG] Procesando audio del índice 432, ruta(s): ['/mnt/c/users/evacantin/desktop/MASTER/HAIA/Trabajo/MMUSED-fallacy/audio_clips/29_2004/527.wav'] - longitud tras concat: 33936\n"
     ]
    },
    {
     "name": "stderr",
     "output_type": "stream",
     "text": [
      " 17%|█▋        | 206/1220 [00:57<05:03,  3.34it/s]"
     ]
    },
    {
     "name": "stdout",
     "output_type": "stream",
     "text": [
      "[DEBUG] Procesando audio del índice 214, ruta(s): ['/mnt/c/users/evacantin/desktop/MASTER/HAIA/Trabajo/MMUSED-fallacy/audio_clips/22_1996/846.wav'] - longitud tras concat: 28816\n"
     ]
    },
    {
     "name": "stderr",
     "output_type": "stream",
     "text": [
      " 17%|█▋        | 207/1220 [00:57<04:48,  3.51it/s]"
     ]
    },
    {
     "name": "stdout",
     "output_type": "stream",
     "text": [
      "[DEBUG] Procesando audio del índice 357, ruta(s): ['/mnt/c/users/evacantin/desktop/MASTER/HAIA/Trabajo/MMUSED-fallacy/audio_clips/27_2000/843.wav'] - longitud tras concat: 45152\n"
     ]
    },
    {
     "name": "stderr",
     "output_type": "stream",
     "text": [
      " 17%|█▋        | 208/1220 [00:58<04:38,  3.63it/s]"
     ]
    },
    {
     "name": "stdout",
     "output_type": "stream",
     "text": [
      "[DEBUG] Procesando audio del índice 895, ruta(s): ['/mnt/c/users/evacantin/desktop/MASTER/HAIA/Trabajo/MMUSED-fallacy/audio_clips/9_1980/683.wav', '/mnt/c/users/evacantin/desktop/MASTER/HAIA/Trabajo/MMUSED-fallacy/audio_clips/9_1980/684.wav'] - longitud tras concat: 284528\n"
     ]
    },
    {
     "name": "stderr",
     "output_type": "stream",
     "text": [
      " 17%|█▋        | 209/1220 [00:58<04:41,  3.59it/s]"
     ]
    },
    {
     "name": "stdout",
     "output_type": "stream",
     "text": [
      "[DEBUG] Procesando audio del índice 1151, ruta(s): ['/mnt/c/users/evacantin/desktop/MASTER/HAIA/Trabajo/MMUSED-fallacy/audio_clips/45_2020/70.wav'] - longitud tras concat: 166880\n"
     ]
    },
    {
     "name": "stderr",
     "output_type": "stream",
     "text": [
      " 17%|█▋        | 210/1220 [00:58<04:37,  3.64it/s]"
     ]
    },
    {
     "name": "stdout",
     "output_type": "stream",
     "text": [
      "[DEBUG] Procesando audio del índice 704, ruta(s): ['/mnt/c/users/evacantin/desktop/MASTER/HAIA/Trabajo/MMUSED-fallacy/audio_clips/39_2012/621.wav'] - longitud tras concat: 321616\n"
     ]
    },
    {
     "name": "stderr",
     "output_type": "stream",
     "text": [
      " 17%|█▋        | 211/1220 [00:58<04:30,  3.73it/s]"
     ]
    },
    {
     "name": "stdout",
     "output_type": "stream",
     "text": [
      "[DEBUG] Procesando audio del índice 696, ruta(s): ['/mnt/c/users/evacantin/desktop/MASTER/HAIA/Trabajo/MMUSED-fallacy/audio_clips/39_2012/1147.wav', '/mnt/c/users/evacantin/desktop/MASTER/HAIA/Trabajo/MMUSED-fallacy/audio_clips/39_2012/1148.wav'] - longitud tras concat: 75584\n"
     ]
    },
    {
     "name": "stderr",
     "output_type": "stream",
     "text": [
      " 17%|█▋        | 212/1220 [00:59<04:24,  3.81it/s]"
     ]
    },
    {
     "name": "stdout",
     "output_type": "stream",
     "text": [
      "[DEBUG] Procesando audio del índice 928, ruta(s): ['/mnt/c/users/evacantin/desktop/MASTER/HAIA/Trabajo/MMUSED-fallacy/audio_clips/13_1988/253.wav'] - longitud tras concat: 95392\n"
     ]
    },
    {
     "name": "stderr",
     "output_type": "stream",
     "text": [
      " 17%|█▋        | 213/1220 [00:59<04:20,  3.86it/s]"
     ]
    },
    {
     "name": "stdout",
     "output_type": "stream",
     "text": [
      "[DEBUG] Procesando audio del índice 678, ruta(s): ['/mnt/c/users/evacantin/desktop/MASTER/HAIA/Trabajo/MMUSED-fallacy/audio_clips/36_2008/640.wav'] - longitud tras concat: 172256\n"
     ]
    },
    {
     "name": "stderr",
     "output_type": "stream",
     "text": [
      " 18%|█▊        | 214/1220 [00:59<04:16,  3.92it/s]"
     ]
    },
    {
     "name": "stdout",
     "output_type": "stream",
     "text": [
      "[DEBUG] Procesando audio del índice 581, ruta(s): ['/mnt/c/users/evacantin/desktop/MASTER/HAIA/Trabajo/MMUSED-fallacy/audio_clips/32_2004/110.wav'] - longitud tras concat: 72656\n"
     ]
    },
    {
     "name": "stderr",
     "output_type": "stream",
     "text": [
      " 18%|█▊        | 215/1220 [00:59<04:18,  3.89it/s]"
     ]
    },
    {
     "name": "stdout",
     "output_type": "stream",
     "text": [
      "[DEBUG] Procesando audio del índice 532, ruta(s): ['/mnt/c/users/evacantin/desktop/MASTER/HAIA/Trabajo/MMUSED-fallacy/audio_clips/31_2004/1182.wav'] - longitud tras concat: 93168\n"
     ]
    },
    {
     "name": "stderr",
     "output_type": "stream",
     "text": [
      " 18%|█▊        | 216/1220 [01:00<04:13,  3.96it/s]"
     ]
    },
    {
     "name": "stdout",
     "output_type": "stream",
     "text": [
      "[DEBUG] Procesando audio del índice 1097, ruta(s): ['/mnt/c/users/evacantin/desktop/MASTER/HAIA/Trabajo/MMUSED-fallacy/audio_clips/44_2020/1622.wav', '/mnt/c/users/evacantin/desktop/MASTER/HAIA/Trabajo/MMUSED-fallacy/audio_clips/44_2020/1623.wav'] - longitud tras concat: 59872\n"
     ]
    },
    {
     "name": "stderr",
     "output_type": "stream",
     "text": [
      " 18%|█▊        | 217/1220 [01:00<04:14,  3.94it/s]"
     ]
    },
    {
     "name": "stdout",
     "output_type": "stream",
     "text": [
      "[DEBUG] Procesando audio del índice 263, ruta(s): ['/mnt/c/users/evacantin/desktop/MASTER/HAIA/Trabajo/MMUSED-fallacy/audio_clips/25_2000/527.wav'] - longitud tras concat: 50912\n"
     ]
    },
    {
     "name": "stderr",
     "output_type": "stream",
     "text": [
      " 18%|█▊        | 218/1220 [01:00<04:15,  3.91it/s]"
     ]
    },
    {
     "name": "stdout",
     "output_type": "stream",
     "text": [
      "[DEBUG] Procesando audio del índice 1010, ruta(s): ['/mnt/c/users/evacantin/desktop/MASTER/HAIA/Trabajo/MMUSED-fallacy/audio_clips/41_2016/956.wav'] - longitud tras concat: 106640\n"
     ]
    },
    {
     "name": "stderr",
     "output_type": "stream",
     "text": [
      " 18%|█▊        | 219/1220 [01:01<04:18,  3.87it/s]"
     ]
    },
    {
     "name": "stdout",
     "output_type": "stream",
     "text": [
      "[DEBUG] Procesando audio del índice 542, ruta(s): ['/mnt/c/users/evacantin/desktop/MASTER/HAIA/Trabajo/MMUSED-fallacy/audio_clips/31_2004/201.wav'] - longitud tras concat: 48688\n"
     ]
    },
    {
     "name": "stderr",
     "output_type": "stream",
     "text": [
      " 18%|█▊        | 220/1220 [01:01<04:18,  3.87it/s]"
     ]
    },
    {
     "name": "stdout",
     "output_type": "stream",
     "text": [
      "[DEBUG] Procesando audio del índice 18, ruta(s): ['/mnt/c/users/evacantin/desktop/MASTER/HAIA/Trabajo/MMUSED-fallacy/audio_clips/10_1984/842.wav'] - longitud tras concat: 127456\n"
     ]
    },
    {
     "name": "stderr",
     "output_type": "stream",
     "text": [
      " 18%|█▊        | 221/1220 [01:01<04:20,  3.84it/s]"
     ]
    },
    {
     "name": "stdout",
     "output_type": "stream",
     "text": [
      "[DEBUG] Procesando audio del índice 901, ruta(s): ['/mnt/c/users/evacantin/desktop/MASTER/HAIA/Trabajo/MMUSED-fallacy/audio_clips/13_1988/77.wav'] - longitud tras concat: 131344\n"
     ]
    },
    {
     "name": "stderr",
     "output_type": "stream",
     "text": [
      " 18%|█▊        | 222/1220 [01:01<04:20,  3.83it/s]"
     ]
    },
    {
     "name": "stdout",
     "output_type": "stream",
     "text": [
      "[DEBUG] Procesando audio del índice 1062, ruta(s): ['/mnt/c/users/evacantin/desktop/MASTER/HAIA/Trabajo/MMUSED-fallacy/audio_clips/42_2016/479.wav', '/mnt/c/users/evacantin/desktop/MASTER/HAIA/Trabajo/MMUSED-fallacy/audio_clips/42_2016/480.wav'] - longitud tras concat: 1217952\n"
     ]
    },
    {
     "name": "stderr",
     "output_type": "stream",
     "text": [
      " 18%|█▊        | 223/1220 [01:02<04:15,  3.90it/s]"
     ]
    },
    {
     "name": "stdout",
     "output_type": "stream",
     "text": [
      "[DEBUG] Procesando audio del índice 825, ruta(s): ['/mnt/c/users/evacantin/desktop/MASTER/HAIA/Trabajo/MMUSED-fallacy/audio_clips/8_1980/152.wav'] - longitud tras concat: 32976\n"
     ]
    },
    {
     "name": "stderr",
     "output_type": "stream",
     "text": [
      " 18%|█▊        | 224/1220 [01:02<04:15,  3.89it/s]"
     ]
    },
    {
     "name": "stdout",
     "output_type": "stream",
     "text": [
      "[DEBUG] Procesando audio del índice 561, ruta(s): ['/mnt/c/users/evacantin/desktop/MASTER/HAIA/Trabajo/MMUSED-fallacy/audio_clips/32_2004/785.wav'] - longitud tras concat: 158752\n"
     ]
    },
    {
     "name": "stderr",
     "output_type": "stream",
     "text": [
      " 18%|█▊        | 225/1220 [01:02<04:24,  3.76it/s]"
     ]
    },
    {
     "name": "stdout",
     "output_type": "stream",
     "text": [
      "[DEBUG] Procesando audio del índice 1206, ruta(s): ['/mnt/c/users/evacantin/desktop/MASTER/HAIA/Trabajo/MMUSED-fallacy/audio_clips/46_2020/15.wav'] - longitud tras concat: 400400\n"
     ]
    },
    {
     "name": "stderr",
     "output_type": "stream",
     "text": [
      " 19%|█▊        | 226/1220 [01:02<04:19,  3.82it/s]"
     ]
    },
    {
     "name": "stdout",
     "output_type": "stream",
     "text": [
      "[DEBUG] Procesando audio del índice 87, ruta(s): ['/mnt/c/users/evacantin/desktop/MASTER/HAIA/Trabajo/MMUSED-fallacy/audio_clips/1_1960/28.wav'] - longitud tras concat: 189104\n"
     ]
    },
    {
     "name": "stderr",
     "output_type": "stream",
     "text": [
      " 19%|█▊        | 227/1220 [01:03<05:34,  2.97it/s]"
     ]
    },
    {
     "name": "stdout",
     "output_type": "stream",
     "text": [
      "[DEBUG] Procesando audio del índice 129, ruta(s): ['/mnt/c/users/evacantin/desktop/MASTER/HAIA/Trabajo/MMUSED-fallacy/audio_clips/20_1992/340.wav', '/mnt/c/users/evacantin/desktop/MASTER/HAIA/Trabajo/MMUSED-fallacy/audio_clips/20_1992/341.wav'] - longitud tras concat: 172608\n"
     ]
    },
    {
     "name": "stderr",
     "output_type": "stream",
     "text": [
      " 19%|█▊        | 228/1220 [01:03<05:09,  3.20it/s]"
     ]
    },
    {
     "name": "stdout",
     "output_type": "stream",
     "text": [
      "[DEBUG] Procesando audio del índice 651, ruta(s): ['/mnt/c/users/evacantin/desktop/MASTER/HAIA/Trabajo/MMUSED-fallacy/audio_clips/33_2008/906.wav'] - longitud tras concat: 83216\n"
     ]
    },
    {
     "name": "stderr",
     "output_type": "stream",
     "text": [
      " 19%|█▉        | 229/1220 [01:03<04:50,  3.41it/s]"
     ]
    },
    {
     "name": "stdout",
     "output_type": "stream",
     "text": [
      "[DEBUG] Procesando audio del índice 898, ruta(s): ['/mnt/c/users/evacantin/desktop/MASTER/HAIA/Trabajo/MMUSED-fallacy/audio_clips/13_1988/62.wav', '/mnt/c/users/evacantin/desktop/MASTER/HAIA/Trabajo/MMUSED-fallacy/audio_clips/13_1988/63.wav'] - longitud tras concat: 400864\n"
     ]
    },
    {
     "name": "stderr",
     "output_type": "stream",
     "text": [
      " 19%|█▉        | 230/1220 [01:04<04:48,  3.43it/s]"
     ]
    },
    {
     "name": "stdout",
     "output_type": "stream",
     "text": [
      "[DEBUG] Procesando audio del índice 711, ruta(s): ['/mnt/c/users/evacantin/desktop/MASTER/HAIA/Trabajo/MMUSED-fallacy/audio_clips/3_1960/350.wav'] - longitud tras concat: 109520\n"
     ]
    },
    {
     "name": "stderr",
     "output_type": "stream",
     "text": [
      " 19%|█▉        | 231/1220 [01:04<04:37,  3.57it/s]"
     ]
    },
    {
     "name": "stdout",
     "output_type": "stream",
     "text": [
      "[DEBUG] Procesando audio del índice 427, ruta(s): ['/mnt/c/users/evacantin/desktop/MASTER/HAIA/Trabajo/MMUSED-fallacy/audio_clips/29_2004/692.wav'] - longitud tras concat: 31056\n"
     ]
    },
    {
     "name": "stderr",
     "output_type": "stream",
     "text": [
      " 19%|█▉        | 232/1220 [01:04<04:32,  3.62it/s]"
     ]
    },
    {
     "name": "stdout",
     "output_type": "stream",
     "text": [
      "[DEBUG] Procesando audio del índice 718, ruta(s): ['/mnt/c/users/evacantin/desktop/MASTER/HAIA/Trabajo/MMUSED-fallacy/audio_clips/3_1960/60.wav', '/mnt/c/users/evacantin/desktop/MASTER/HAIA/Trabajo/MMUSED-fallacy/audio_clips/3_1960/61.wav'] - longitud tras concat: 98608\n"
     ]
    },
    {
     "name": "stderr",
     "output_type": "stream",
     "text": [
      " 19%|█▉        | 233/1220 [01:04<04:31,  3.64it/s]"
     ]
    },
    {
     "name": "stdout",
     "output_type": "stream",
     "text": [
      "[DEBUG] Procesando audio del índice 597, ruta(s): ['/mnt/c/users/evacantin/desktop/MASTER/HAIA/Trabajo/MMUSED-fallacy/audio_clips/32_2004/373.wav'] - longitud tras concat: 108224\n"
     ]
    },
    {
     "name": "stderr",
     "output_type": "stream",
     "text": [
      " 19%|█▉        | 234/1220 [01:05<04:35,  3.58it/s]"
     ]
    },
    {
     "name": "stdout",
     "output_type": "stream",
     "text": [
      "[DEBUG] Procesando audio del índice 442, ruta(s): ['/mnt/c/users/evacantin/desktop/MASTER/HAIA/Trabajo/MMUSED-fallacy/audio_clips/29_2004/1062.wav'] - longitud tras concat: 74592\n"
     ]
    },
    {
     "name": "stderr",
     "output_type": "stream",
     "text": [
      " 19%|█▉        | 235/1220 [01:05<04:28,  3.67it/s]"
     ]
    },
    {
     "name": "stdout",
     "output_type": "stream",
     "text": [
      "[DEBUG] Procesando audio del índice 1145, ruta(s): ['/mnt/c/users/evacantin/desktop/MASTER/HAIA/Trabajo/MMUSED-fallacy/audio_clips/45_2020/94.wav', '/mnt/c/users/evacantin/desktop/MASTER/HAIA/Trabajo/MMUSED-fallacy/audio_clips/45_2020/95.wav'] - longitud tras concat: 162384\n"
     ]
    },
    {
     "name": "stderr",
     "output_type": "stream",
     "text": [
      " 19%|█▉        | 236/1220 [01:05<04:35,  3.57it/s]"
     ]
    },
    {
     "name": "stdout",
     "output_type": "stream",
     "text": [
      "[DEBUG] Procesando audio del índice 425, ruta(s): ['/mnt/c/users/evacantin/desktop/MASTER/HAIA/Trabajo/MMUSED-fallacy/audio_clips/29_2004/660.wav', '/mnt/c/users/evacantin/desktop/MASTER/HAIA/Trabajo/MMUSED-fallacy/audio_clips/29_2004/661.wav'] - longitud tras concat: 113328\n"
     ]
    },
    {
     "name": "stderr",
     "output_type": "stream",
     "text": [
      " 19%|█▉        | 237/1220 [01:06<04:57,  3.30it/s]"
     ]
    },
    {
     "name": "stdout",
     "output_type": "stream",
     "text": [
      "[DEBUG] Procesando audio del índice 237, ruta(s): ['/mnt/c/users/evacantin/desktop/MASTER/HAIA/Trabajo/MMUSED-fallacy/audio_clips/23_1996/160.wav'] - longitud tras concat: 83888\n"
     ]
    },
    {
     "name": "stderr",
     "output_type": "stream",
     "text": [
      " 20%|█▉        | 238/1220 [01:06<04:56,  3.32it/s]"
     ]
    },
    {
     "name": "stdout",
     "output_type": "stream",
     "text": [
      "[DEBUG] Procesando audio del índice 127, ruta(s): ['/mnt/c/users/evacantin/desktop/MASTER/HAIA/Trabajo/MMUSED-fallacy/audio_clips/20_1992/308.wav'] - longitud tras concat: 147904\n"
     ]
    },
    {
     "name": "stderr",
     "output_type": "stream",
     "text": [
      " 20%|█▉        | 239/1220 [01:06<04:48,  3.40it/s]"
     ]
    },
    {
     "name": "stdout",
     "output_type": "stream",
     "text": [
      "[DEBUG] Procesando audio del índice 800, ruta(s): ['/mnt/c/users/evacantin/desktop/MASTER/HAIA/Trabajo/MMUSED-fallacy/audio_clips/7_1976/473.wav'] - longitud tras concat: 216240\n"
     ]
    },
    {
     "name": "stderr",
     "output_type": "stream",
     "text": [
      " 20%|█▉        | 240/1220 [01:06<04:38,  3.51it/s]"
     ]
    },
    {
     "name": "stdout",
     "output_type": "stream",
     "text": [
      "[DEBUG] Procesando audio del índice 523, ruta(s): ['/mnt/c/users/evacantin/desktop/MASTER/HAIA/Trabajo/MMUSED-fallacy/audio_clips/31_2004/975.wav'] - longitud tras concat: 150464\n"
     ]
    },
    {
     "name": "stderr",
     "output_type": "stream",
     "text": [
      " 20%|█▉        | 241/1220 [01:07<04:38,  3.52it/s]"
     ]
    },
    {
     "name": "stdout",
     "output_type": "stream",
     "text": [
      "[DEBUG] Procesando audio del índice 679, ruta(s): ['/mnt/c/users/evacantin/desktop/MASTER/HAIA/Trabajo/MMUSED-fallacy/audio_clips/36_2008/654.wav'] - longitud tras concat: 320064\n"
     ]
    },
    {
     "name": "stderr",
     "output_type": "stream",
     "text": [
      " 20%|█▉        | 242/1220 [01:07<04:34,  3.56it/s]"
     ]
    },
    {
     "name": "stdout",
     "output_type": "stream",
     "text": [
      "[DEBUG] Procesando audio del índice 511, ruta(s): ['/mnt/c/users/evacantin/desktop/MASTER/HAIA/Trabajo/MMUSED-fallacy/audio_clips/30_2004/717.wav'] - longitud tras concat: 21776\n"
     ]
    },
    {
     "name": "stderr",
     "output_type": "stream",
     "text": [
      " 20%|█▉        | 243/1220 [01:07<04:28,  3.64it/s]"
     ]
    },
    {
     "name": "stdout",
     "output_type": "stream",
     "text": [
      "[DEBUG] Procesando audio del índice 529, ruta(s): ['/mnt/c/users/evacantin/desktop/MASTER/HAIA/Trabajo/MMUSED-fallacy/audio_clips/31_2004/1173.wav', '/mnt/c/users/evacantin/desktop/MASTER/HAIA/Trabajo/MMUSED-fallacy/audio_clips/31_2004/1174.wav'] - longitud tras concat: 91568\n"
     ]
    },
    {
     "name": "stderr",
     "output_type": "stream",
     "text": [
      " 20%|██        | 244/1220 [01:08<04:37,  3.52it/s]"
     ]
    },
    {
     "name": "stdout",
     "output_type": "stream",
     "text": [
      "[DEBUG] Procesando audio del índice 596, ruta(s): ['/mnt/c/users/evacantin/desktop/MASTER/HAIA/Trabajo/MMUSED-fallacy/audio_clips/32_2004/349.wav'] - longitud tras concat: 125632\n"
     ]
    },
    {
     "name": "stderr",
     "output_type": "stream",
     "text": [
      " 20%|██        | 245/1220 [01:08<04:40,  3.47it/s]"
     ]
    },
    {
     "name": "stdout",
     "output_type": "stream",
     "text": [
      "[DEBUG] Procesando audio del índice 208, ruta(s): ['/mnt/c/users/evacantin/desktop/MASTER/HAIA/Trabajo/MMUSED-fallacy/audio_clips/22_1996/455.wav'] - longitud tras concat: 135408\n"
     ]
    },
    {
     "name": "stderr",
     "output_type": "stream",
     "text": [
      " 20%|██        | 246/1220 [01:08<04:41,  3.46it/s]"
     ]
    },
    {
     "name": "stdout",
     "output_type": "stream",
     "text": [
      "[DEBUG] Procesando audio del índice 499, ruta(s): ['/mnt/c/users/evacantin/desktop/MASTER/HAIA/Trabajo/MMUSED-fallacy/audio_clips/30_2004/378.wav'] - longitud tras concat: 52496\n"
     ]
    },
    {
     "name": "stderr",
     "output_type": "stream",
     "text": [
      " 20%|██        | 247/1220 [01:08<04:46,  3.40it/s]"
     ]
    },
    {
     "name": "stdout",
     "output_type": "stream",
     "text": [
      "[DEBUG] Procesando audio del índice 80, ruta(s): ['/mnt/c/users/evacantin/desktop/MASTER/HAIA/Trabajo/MMUSED-fallacy/audio_clips/18_1992/906.wav'] - longitud tras concat: 92544\n"
     ]
    },
    {
     "name": "stderr",
     "output_type": "stream",
     "text": [
      " 20%|██        | 248/1220 [01:09<04:49,  3.35it/s]"
     ]
    },
    {
     "name": "stdout",
     "output_type": "stream",
     "text": [
      "[DEBUG] Procesando audio del índice 1113, ruta(s): ['/mnt/c/users/evacantin/desktop/MASTER/HAIA/Trabajo/MMUSED-fallacy/audio_clips/44_2020/1402.wav'] - longitud tras concat: 43552\n"
     ]
    },
    {
     "name": "stderr",
     "output_type": "stream",
     "text": [
      " 20%|██        | 249/1220 [01:09<04:59,  3.24it/s]"
     ]
    },
    {
     "name": "stdout",
     "output_type": "stream",
     "text": [
      "[DEBUG] Procesando audio del índice 502, ruta(s): ['/mnt/c/users/evacantin/desktop/MASTER/HAIA/Trabajo/MMUSED-fallacy/audio_clips/30_2004/414.wav'] - longitud tras concat: 136432\n"
     ]
    },
    {
     "name": "stderr",
     "output_type": "stream",
     "text": [
      " 20%|██        | 250/1220 [01:09<04:51,  3.33it/s]"
     ]
    },
    {
     "name": "stdout",
     "output_type": "stream",
     "text": [
      "[DEBUG] Procesando audio del índice 475, ruta(s): ['/mnt/c/users/evacantin/desktop/MASTER/HAIA/Trabajo/MMUSED-fallacy/audio_clips/2_1960/306.wav'] - longitud tras concat: 111120\n"
     ]
    },
    {
     "name": "stderr",
     "output_type": "stream",
     "text": [
      " 21%|██        | 251/1220 [01:10<04:45,  3.40it/s]"
     ]
    },
    {
     "name": "stdout",
     "output_type": "stream",
     "text": [
      "[DEBUG] Procesando audio del índice 259, ruta(s): ['/mnt/c/users/evacantin/desktop/MASTER/HAIA/Trabajo/MMUSED-fallacy/audio_clips/25_2000/319.wav'] - longitud tras concat: 190528\n"
     ]
    },
    {
     "name": "stderr",
     "output_type": "stream",
     "text": [
      " 21%|██        | 252/1220 [01:10<04:52,  3.31it/s]"
     ]
    },
    {
     "name": "stdout",
     "output_type": "stream",
     "text": [
      "[DEBUG] Procesando audio del índice 13, ruta(s): ['/mnt/c/users/evacantin/desktop/MASTER/HAIA/Trabajo/MMUSED-fallacy/audio_clips/10_1984/661.wav'] - longitud tras concat: 25936\n"
     ]
    },
    {
     "name": "stderr",
     "output_type": "stream",
     "text": [
      " 21%|██        | 253/1220 [01:10<04:38,  3.48it/s]"
     ]
    },
    {
     "name": "stdout",
     "output_type": "stream",
     "text": [
      "[DEBUG] Procesando audio del índice 1153, ruta(s): ['/mnt/c/users/evacantin/desktop/MASTER/HAIA/Trabajo/MMUSED-fallacy/audio_clips/45_2020/71.wav'] - longitud tras concat: 51552\n"
     ]
    },
    {
     "name": "stderr",
     "output_type": "stream",
     "text": [
      " 21%|██        | 254/1220 [01:11<04:25,  3.63it/s]"
     ]
    },
    {
     "name": "stdout",
     "output_type": "stream",
     "text": [
      "[DEBUG] Procesando audio del índice 418, ruta(s): ['/mnt/c/users/evacantin/desktop/MASTER/HAIA/Trabajo/MMUSED-fallacy/audio_clips/29_2004/505.wav'] - longitud tras concat: 310848\n"
     ]
    },
    {
     "name": "stderr",
     "output_type": "stream",
     "text": [
      " 21%|██        | 255/1220 [01:11<04:16,  3.76it/s]"
     ]
    },
    {
     "name": "stdout",
     "output_type": "stream",
     "text": [
      "[DEBUG] Procesando audio del índice 262, ruta(s): ['/mnt/c/users/evacantin/desktop/MASTER/HAIA/Trabajo/MMUSED-fallacy/audio_clips/25_2000/494.wav'] - longitud tras concat: 117872\n"
     ]
    },
    {
     "name": "stderr",
     "output_type": "stream",
     "text": [
      " 21%|██        | 256/1220 [01:11<04:13,  3.80it/s]"
     ]
    },
    {
     "name": "stdout",
     "output_type": "stream",
     "text": [
      "[DEBUG] Procesando audio del índice 227, ruta(s): ['/mnt/c/users/evacantin/desktop/MASTER/HAIA/Trabajo/MMUSED-fallacy/audio_clips/22_1996/932.wav'] - longitud tras concat: 109808\n"
     ]
    },
    {
     "name": "stderr",
     "output_type": "stream",
     "text": [
      " 21%|██        | 257/1220 [01:11<04:23,  3.65it/s]"
     ]
    },
    {
     "name": "stdout",
     "output_type": "stream",
     "text": [
      "[DEBUG] Procesando audio del índice 338, ruta(s): ['/mnt/c/users/evacantin/desktop/MASTER/HAIA/Trabajo/MMUSED-fallacy/audio_clips/27_2000/456.wav'] - longitud tras concat: 113712\n"
     ]
    },
    {
     "name": "stderr",
     "output_type": "stream",
     "text": [
      " 21%|██        | 258/1220 [01:12<04:19,  3.71it/s]"
     ]
    },
    {
     "name": "stdout",
     "output_type": "stream",
     "text": [
      "[DEBUG] Procesando audio del índice 330, ruta(s): ['/mnt/c/users/evacantin/desktop/MASTER/HAIA/Trabajo/MMUSED-fallacy/audio_clips/27_2000/356.wav'] - longitud tras concat: 337312\n"
     ]
    },
    {
     "name": "stderr",
     "output_type": "stream",
     "text": [
      " 21%|██        | 259/1220 [01:12<04:16,  3.74it/s]"
     ]
    },
    {
     "name": "stdout",
     "output_type": "stream",
     "text": [
      "[DEBUG] Procesando audio del índice 943, ruta(s): ['/mnt/c/users/evacantin/desktop/MASTER/HAIA/Trabajo/MMUSED-fallacy/audio_clips/13_1988/515.wav'] - longitud tras concat: 150640\n"
     ]
    },
    {
     "name": "stderr",
     "output_type": "stream",
     "text": [
      " 21%|██▏       | 260/1220 [01:12<04:22,  3.66it/s]"
     ]
    },
    {
     "name": "stdout",
     "output_type": "stream",
     "text": [
      "[DEBUG] Procesando audio del índice 891, ruta(s): ['/mnt/c/users/evacantin/desktop/MASTER/HAIA/Trabajo/MMUSED-fallacy/audio_clips/9_1980/623.wav'] - longitud tras concat: 337088\n"
     ]
    },
    {
     "name": "stderr",
     "output_type": "stream",
     "text": [
      " 21%|██▏       | 261/1220 [01:12<04:12,  3.80it/s]"
     ]
    },
    {
     "name": "stdout",
     "output_type": "stream",
     "text": [
      "[DEBUG] Procesando audio del índice 63, ruta(s): ['/mnt/c/users/evacantin/desktop/MASTER/HAIA/Trabajo/MMUSED-fallacy/audio_clips/18_1992/341.wav'] - longitud tras concat: 130336\n"
     ]
    },
    {
     "name": "stderr",
     "output_type": "stream",
     "text": [
      " 21%|██▏       | 262/1220 [01:13<04:09,  3.84it/s]"
     ]
    },
    {
     "name": "stdout",
     "output_type": "stream",
     "text": [
      "[DEBUG] Procesando audio del índice 409, ruta(s): ['/mnt/c/users/evacantin/desktop/MASTER/HAIA/Trabajo/MMUSED-fallacy/audio_clips/29_2004/424.wav'] - longitud tras concat: 27856\n"
     ]
    },
    {
     "name": "stderr",
     "output_type": "stream",
     "text": [
      " 22%|██▏       | 263/1220 [01:13<04:14,  3.76it/s]"
     ]
    },
    {
     "name": "stdout",
     "output_type": "stream",
     "text": [
      "[DEBUG] Procesando audio del índice 190, ruta(s): ['/mnt/c/users/evacantin/desktop/MASTER/HAIA/Trabajo/MMUSED-fallacy/audio_clips/22_1996/301.wav'] - longitud tras concat: 122672\n"
     ]
    },
    {
     "name": "stderr",
     "output_type": "stream",
     "text": [
      " 22%|██▏       | 264/1220 [01:13<04:10,  3.82it/s]"
     ]
    },
    {
     "name": "stdout",
     "output_type": "stream",
     "text": [
      "[DEBUG] Procesando audio del índice 435, ruta(s): ['/mnt/c/users/evacantin/desktop/MASTER/HAIA/Trabajo/MMUSED-fallacy/audio_clips/29_2004/816.wav'] - longitud tras concat: 107264\n"
     ]
    },
    {
     "name": "stderr",
     "output_type": "stream",
     "text": [
      " 22%|██▏       | 265/1220 [01:13<04:09,  3.82it/s]"
     ]
    },
    {
     "name": "stdout",
     "output_type": "stream",
     "text": [
      "[DEBUG] Procesando audio del índice 420, ruta(s): ['/mnt/c/users/evacantin/desktop/MASTER/HAIA/Trabajo/MMUSED-fallacy/audio_clips/29_2004/540.wav'] - longitud tras concat: 93504\n"
     ]
    },
    {
     "name": "stderr",
     "output_type": "stream",
     "text": [
      " 22%|██▏       | 266/1220 [01:14<04:06,  3.87it/s]"
     ]
    },
    {
     "name": "stdout",
     "output_type": "stream",
     "text": [
      "[DEBUG] Procesando audio del índice 851, ruta(s): ['/mnt/c/users/evacantin/desktop/MASTER/HAIA/Trabajo/MMUSED-fallacy/audio_clips/9_1980/178.wav'] - longitud tras concat: 123920\n"
     ]
    },
    {
     "name": "stderr",
     "output_type": "stream",
     "text": [
      " 22%|██▏       | 267/1220 [01:14<03:57,  4.01it/s]"
     ]
    },
    {
     "name": "stdout",
     "output_type": "stream",
     "text": [
      "[DEBUG] Procesando audio del índice 243, ruta(s): ['/mnt/c/users/evacantin/desktop/MASTER/HAIA/Trabajo/MMUSED-fallacy/audio_clips/25_2000/935.wav'] - longitud tras concat: 42576\n"
     ]
    },
    {
     "name": "stderr",
     "output_type": "stream",
     "text": [
      " 22%|██▏       | 268/1220 [01:14<03:56,  4.03it/s]"
     ]
    },
    {
     "name": "stdout",
     "output_type": "stream",
     "text": [
      "[DEBUG] Procesando audio del índice 757, ruta(s): ['/mnt/c/users/evacantin/desktop/MASTER/HAIA/Trabajo/MMUSED-fallacy/audio_clips/4_1960/402.wav'] - longitud tras concat: 280864\n"
     ]
    },
    {
     "name": "stderr",
     "output_type": "stream",
     "text": [
      " 22%|██▏       | 269/1220 [01:14<03:59,  3.97it/s]"
     ]
    },
    {
     "name": "stdout",
     "output_type": "stream",
     "text": [
      "[DEBUG] Procesando audio del índice 1020, ruta(s): ['/mnt/c/users/evacantin/desktop/MASTER/HAIA/Trabajo/MMUSED-fallacy/audio_clips/41_2016/1201.wav'] - longitud tras concat: 17280\n"
     ]
    },
    {
     "name": "stderr",
     "output_type": "stream",
     "text": [
      " 22%|██▏       | 270/1220 [01:15<03:57,  4.00it/s]"
     ]
    },
    {
     "name": "stdout",
     "output_type": "stream",
     "text": [
      "[DEBUG] Procesando audio del índice 380, ruta(s): ['/mnt/c/users/evacantin/desktop/MASTER/HAIA/Trabajo/MMUSED-fallacy/audio_clips/28_2000/266.wav'] - longitud tras concat: 250960\n"
     ]
    },
    {
     "name": "stderr",
     "output_type": "stream",
     "text": [
      " 22%|██▏       | 271/1220 [01:15<03:58,  3.99it/s]"
     ]
    },
    {
     "name": "stdout",
     "output_type": "stream",
     "text": [
      "[DEBUG] Procesando audio del índice 797, ruta(s): ['/mnt/c/users/evacantin/desktop/MASTER/HAIA/Trabajo/MMUSED-fallacy/audio_clips/7_1976/347.wav'] - longitud tras concat: 360608\n"
     ]
    },
    {
     "name": "stderr",
     "output_type": "stream",
     "text": [
      " 22%|██▏       | 272/1220 [01:15<03:56,  4.01it/s]"
     ]
    },
    {
     "name": "stdout",
     "output_type": "stream",
     "text": [
      "[DEBUG] Procesando audio del índice 1132, ruta(s): ['/mnt/c/users/evacantin/desktop/MASTER/HAIA/Trabajo/MMUSED-fallacy/audio_clips/45_2020/79.wav'] - longitud tras concat: 161360\n"
     ]
    },
    {
     "name": "stderr",
     "output_type": "stream",
     "text": [
      " 22%|██▏       | 273/1220 [01:15<03:57,  3.99it/s]"
     ]
    },
    {
     "name": "stdout",
     "output_type": "stream",
     "text": [
      "[DEBUG] Procesando audio del índice 975, ruta(s): ['/mnt/c/users/evacantin/desktop/MASTER/HAIA/Trabajo/MMUSED-fallacy/audio_clips/41_2016/158.wav', '/mnt/c/users/evacantin/desktop/MASTER/HAIA/Trabajo/MMUSED-fallacy/audio_clips/41_2016/159.wav'] - longitud tras concat: 296064\n"
     ]
    },
    {
     "name": "stderr",
     "output_type": "stream",
     "text": [
      " 22%|██▏       | 274/1220 [01:16<03:57,  3.99it/s]"
     ]
    },
    {
     "name": "stdout",
     "output_type": "stream",
     "text": [
      "[DEBUG] Procesando audio del índice 761, ruta(s): ['/mnt/c/users/evacantin/desktop/MASTER/HAIA/Trabajo/MMUSED-fallacy/audio_clips/4_1960/484.wav'] - longitud tras concat: 79072\n"
     ]
    },
    {
     "name": "stderr",
     "output_type": "stream",
     "text": [
      " 23%|██▎       | 275/1220 [01:16<04:02,  3.90it/s]"
     ]
    },
    {
     "name": "stdout",
     "output_type": "stream",
     "text": [
      "[DEBUG] Procesando audio del índice 448, ruta(s): ['/mnt/c/users/evacantin/desktop/MASTER/HAIA/Trabajo/MMUSED-fallacy/audio_clips/29_2004/998.wav'] - longitud tras concat: 62208\n"
     ]
    },
    {
     "name": "stderr",
     "output_type": "stream",
     "text": [
      " 23%|██▎       | 276/1220 [01:16<04:06,  3.83it/s]"
     ]
    },
    {
     "name": "stdout",
     "output_type": "stream",
     "text": [
      "[DEBUG] Procesando audio del índice 31, ruta(s): ['/mnt/c/users/evacantin/desktop/MASTER/HAIA/Trabajo/MMUSED-fallacy/audio_clips/12_1984/201.wav', '/mnt/c/users/evacantin/desktop/MASTER/HAIA/Trabajo/MMUSED-fallacy/audio_clips/12_1984/202.wav'] - longitud tras concat: 369168\n"
     ]
    },
    {
     "name": "stderr",
     "output_type": "stream",
     "text": [
      " 23%|██▎       | 277/1220 [01:16<04:03,  3.87it/s]"
     ]
    },
    {
     "name": "stdout",
     "output_type": "stream",
     "text": [
      "[DEBUG] Procesando audio del índice 1042, ruta(s): ['/mnt/c/users/evacantin/desktop/MASTER/HAIA/Trabajo/MMUSED-fallacy/audio_clips/42_2016/234.wav', '/mnt/c/users/evacantin/desktop/MASTER/HAIA/Trabajo/MMUSED-fallacy/audio_clips/42_2016/235.wav', '/mnt/c/users/evacantin/desktop/MASTER/HAIA/Trabajo/MMUSED-fallacy/audio_clips/42_2016/236.wav'] - longitud tras concat: 156784\n"
     ]
    },
    {
     "name": "stderr",
     "output_type": "stream",
     "text": [
      " 23%|██▎       | 278/1220 [01:17<04:04,  3.86it/s]"
     ]
    },
    {
     "name": "stdout",
     "output_type": "stream",
     "text": [
      "[DEBUG] Procesando audio del índice 836, ruta(s): ['/mnt/c/users/evacantin/desktop/MASTER/HAIA/Trabajo/MMUSED-fallacy/audio_clips/8_1980/357.wav'] - longitud tras concat: 375648\n"
     ]
    },
    {
     "name": "stderr",
     "output_type": "stream",
     "text": [
      " 23%|██▎       | 279/1220 [01:17<04:03,  3.87it/s]"
     ]
    },
    {
     "name": "stdout",
     "output_type": "stream",
     "text": [
      "[DEBUG] Procesando audio del índice 480, ruta(s): ['/mnt/c/users/evacantin/desktop/MASTER/HAIA/Trabajo/MMUSED-fallacy/audio_clips/30_2004/86.wav'] - longitud tras concat: 80080\n"
     ]
    },
    {
     "name": "stderr",
     "output_type": "stream",
     "text": [
      " 23%|██▎       | 280/1220 [01:17<04:03,  3.85it/s]"
     ]
    },
    {
     "name": "stdout",
     "output_type": "stream",
     "text": [
      "[DEBUG] Procesando audio del índice 1095, ruta(s): ['/mnt/c/users/evacantin/desktop/MASTER/HAIA/Trabajo/MMUSED-fallacy/audio_clips/44_2020/1374.wav', '/mnt/c/users/evacantin/desktop/MASTER/HAIA/Trabajo/MMUSED-fallacy/audio_clips/44_2020/1375.wav'] - longitud tras concat: 29136\n"
     ]
    },
    {
     "name": "stderr",
     "output_type": "stream",
     "text": [
      " 23%|██▎       | 281/1220 [01:18<04:13,  3.70it/s]"
     ]
    },
    {
     "name": "stdout",
     "output_type": "stream",
     "text": [
      "[DEBUG] Procesando audio del índice 366, ruta(s): ['/mnt/c/users/evacantin/desktop/MASTER/HAIA/Trabajo/MMUSED-fallacy/audio_clips/28_2000/739.wav', '/mnt/c/users/evacantin/desktop/MASTER/HAIA/Trabajo/MMUSED-fallacy/audio_clips/28_2000/740.wav'] - longitud tras concat: 95776\n"
     ]
    },
    {
     "name": "stderr",
     "output_type": "stream",
     "text": [
      " 23%|██▎       | 282/1220 [01:18<04:08,  3.78it/s]"
     ]
    },
    {
     "name": "stdout",
     "output_type": "stream",
     "text": [
      "[DEBUG] Procesando audio del índice 6, ruta(s): ['/mnt/c/users/evacantin/desktop/MASTER/HAIA/Trabajo/MMUSED-fallacy/audio_clips/10_1984/288.wav'] - longitud tras concat: 61456\n"
     ]
    },
    {
     "name": "stderr",
     "output_type": "stream",
     "text": [
      " 23%|██▎       | 283/1220 [01:18<04:14,  3.68it/s]"
     ]
    },
    {
     "name": "stdout",
     "output_type": "stream",
     "text": [
      "[DEBUG] Procesando audio del índice 916, ruta(s): ['/mnt/c/users/evacantin/desktop/MASTER/HAIA/Trabajo/MMUSED-fallacy/audio_clips/13_1988/164.wav'] - longitud tras concat: 22416\n"
     ]
    },
    {
     "name": "stderr",
     "output_type": "stream",
     "text": [
      " 23%|██▎       | 284/1220 [01:18<04:07,  3.78it/s]"
     ]
    },
    {
     "name": "stdout",
     "output_type": "stream",
     "text": [
      "[DEBUG] Procesando audio del índice 460, ruta(s): ['/mnt/c/users/evacantin/desktop/MASTER/HAIA/Trabajo/MMUSED-fallacy/audio_clips/2_1960/451.wav'] - longitud tras concat: 27216\n"
     ]
    },
    {
     "name": "stderr",
     "output_type": "stream",
     "text": [
      " 23%|██▎       | 285/1220 [01:19<04:04,  3.82it/s]"
     ]
    },
    {
     "name": "stdout",
     "output_type": "stream",
     "text": [
      "[DEBUG] Procesando audio del índice 278, ruta(s): ['/mnt/c/users/evacantin/desktop/MASTER/HAIA/Trabajo/MMUSED-fallacy/audio_clips/26_2000/37.wav'] - longitud tras concat: 49952\n"
     ]
    },
    {
     "name": "stderr",
     "output_type": "stream",
     "text": [
      " 23%|██▎       | 286/1220 [01:19<04:02,  3.85it/s]"
     ]
    },
    {
     "name": "stdout",
     "output_type": "stream",
     "text": [
      "[DEBUG] Procesando audio del índice 95, ruta(s): ['/mnt/c/users/evacantin/desktop/MASTER/HAIA/Trabajo/MMUSED-fallacy/audio_clips/1_1960/144.wav'] - longitud tras concat: 22720\n"
     ]
    },
    {
     "name": "stderr",
     "output_type": "stream",
     "text": [
      " 24%|██▎       | 287/1220 [01:19<04:05,  3.80it/s]"
     ]
    },
    {
     "name": "stdout",
     "output_type": "stream",
     "text": [
      "[DEBUG] Procesando audio del índice 752, ruta(s): ['/mnt/c/users/evacantin/desktop/MASTER/HAIA/Trabajo/MMUSED-fallacy/audio_clips/4_1960/258.wav'] - longitud tras concat: 233504\n"
     ]
    },
    {
     "name": "stderr",
     "output_type": "stream",
     "text": [
      " 24%|██▎       | 288/1220 [01:19<04:03,  3.82it/s]"
     ]
    },
    {
     "name": "stdout",
     "output_type": "stream",
     "text": [
      "[DEBUG] Procesando audio del índice 469, ruta(s): ['/mnt/c/users/evacantin/desktop/MASTER/HAIA/Trabajo/MMUSED-fallacy/audio_clips/2_1960/208.wav'] - longitud tras concat: 72992\n"
     ]
    },
    {
     "name": "stderr",
     "output_type": "stream",
     "text": [
      " 24%|██▎       | 289/1220 [01:20<04:02,  3.85it/s]"
     ]
    },
    {
     "name": "stdout",
     "output_type": "stream",
     "text": [
      "[DEBUG] Procesando audio del índice 1031, ruta(s): ['/mnt/c/users/evacantin/desktop/MASTER/HAIA/Trabajo/MMUSED-fallacy/audio_clips/42_2016/60.wav'] - longitud tras concat: 86432\n"
     ]
    },
    {
     "name": "stderr",
     "output_type": "stream",
     "text": [
      " 24%|██▍       | 290/1220 [01:20<03:56,  3.94it/s]"
     ]
    },
    {
     "name": "stdout",
     "output_type": "stream",
     "text": [
      "[DEBUG] Procesando audio del índice 64, ruta(s): ['/mnt/c/users/evacantin/desktop/MASTER/HAIA/Trabajo/MMUSED-fallacy/audio_clips/18_1992/317.wav', '/mnt/c/users/evacantin/desktop/MASTER/HAIA/Trabajo/MMUSED-fallacy/audio_clips/18_1992/318.wav', '/mnt/c/users/evacantin/desktop/MASTER/HAIA/Trabajo/MMUSED-fallacy/audio_clips/18_1992/320.wav'] - longitud tras concat: 212880\n"
     ]
    },
    {
     "name": "stderr",
     "output_type": "stream",
     "text": [
      " 24%|██▍       | 291/1220 [01:20<03:57,  3.91it/s]"
     ]
    },
    {
     "name": "stdout",
     "output_type": "stream",
     "text": [
      "[DEBUG] Procesando audio del índice 619, ruta(s): ['/mnt/c/users/evacantin/desktop/MASTER/HAIA/Trabajo/MMUSED-fallacy/audio_clips/33_2008/194.wav'] - longitud tras concat: 243504\n"
     ]
    },
    {
     "name": "stderr",
     "output_type": "stream",
     "text": [
      " 24%|██▍       | 292/1220 [01:20<03:58,  3.89it/s]"
     ]
    },
    {
     "name": "stdout",
     "output_type": "stream",
     "text": [
      "[DEBUG] Procesando audio del índice 639, ruta(s): ['/mnt/c/users/evacantin/desktop/MASTER/HAIA/Trabajo/MMUSED-fallacy/audio_clips/33_2008/623.wav'] - longitud tras concat: 285664\n"
     ]
    },
    {
     "name": "stderr",
     "output_type": "stream",
     "text": [
      " 24%|██▍       | 293/1220 [01:21<04:04,  3.80it/s]"
     ]
    },
    {
     "name": "stdout",
     "output_type": "stream",
     "text": [
      "[DEBUG] Procesando audio del índice 786, ruta(s): ['/mnt/c/users/evacantin/desktop/MASTER/HAIA/Trabajo/MMUSED-fallacy/audio_clips/6_1976/243.wav'] - longitud tras concat: 35536\n"
     ]
    },
    {
     "name": "stderr",
     "output_type": "stream",
     "text": [
      " 24%|██▍       | 294/1220 [01:21<03:59,  3.87it/s]"
     ]
    },
    {
     "name": "stdout",
     "output_type": "stream",
     "text": [
      "[DEBUG] Procesando audio del índice 549, ruta(s): ['/mnt/c/users/evacantin/desktop/MASTER/HAIA/Trabajo/MMUSED-fallacy/audio_clips/31_2004/479.wav'] - longitud tras concat: 83888\n"
     ]
    },
    {
     "name": "stderr",
     "output_type": "stream",
     "text": [
      " 24%|██▍       | 295/1220 [01:21<03:58,  3.88it/s]"
     ]
    },
    {
     "name": "stdout",
     "output_type": "stream",
     "text": [
      "[DEBUG] Procesando audio del índice 1127, ruta(s): ['/mnt/c/users/evacantin/desktop/MASTER/HAIA/Trabajo/MMUSED-fallacy/audio_clips/45_2020/491.wav'] - longitud tras concat: 190304\n"
     ]
    },
    {
     "name": "stderr",
     "output_type": "stream",
     "text": [
      " 24%|██▍       | 296/1220 [01:21<03:57,  3.89it/s]"
     ]
    },
    {
     "name": "stdout",
     "output_type": "stream",
     "text": [
      "[DEBUG] Procesando audio del índice 783, ruta(s): ['/mnt/c/users/evacantin/desktop/MASTER/HAIA/Trabajo/MMUSED-fallacy/audio_clips/6_1976/147.wav'] - longitud tras concat: 256704\n"
     ]
    },
    {
     "name": "stderr",
     "output_type": "stream",
     "text": [
      " 24%|██▍       | 297/1220 [01:22<03:56,  3.90it/s]"
     ]
    },
    {
     "name": "stdout",
     "output_type": "stream",
     "text": [
      "[DEBUG] Procesando audio del índice 624, ruta(s): ['/mnt/c/users/evacantin/desktop/MASTER/HAIA/Trabajo/MMUSED-fallacy/audio_clips/33_2008/138.wav'] - longitud tras concat: 133536\n"
     ]
    },
    {
     "name": "stderr",
     "output_type": "stream",
     "text": [
      " 24%|██▍       | 298/1220 [01:22<04:00,  3.84it/s]"
     ]
    },
    {
     "name": "stdout",
     "output_type": "stream",
     "text": [
      "[DEBUG] Procesando audio del índice 818, ruta(s): ['/mnt/c/users/evacantin/desktop/MASTER/HAIA/Trabajo/MMUSED-fallacy/audio_clips/7_1976/205.wav'] - longitud tras concat: 343936\n"
     ]
    },
    {
     "name": "stderr",
     "output_type": "stream",
     "text": [
      " 25%|██▍       | 299/1220 [01:22<03:54,  3.93it/s]"
     ]
    },
    {
     "name": "stdout",
     "output_type": "stream",
     "text": [
      "[DEBUG] Procesando audio del índice 298, ruta(s): ['/mnt/c/users/evacantin/desktop/MASTER/HAIA/Trabajo/MMUSED-fallacy/audio_clips/26_2000/247.wav'] - longitud tras concat: 431392\n"
     ]
    },
    {
     "name": "stderr",
     "output_type": "stream",
     "text": [
      " 25%|██▍       | 300/1220 [01:22<03:53,  3.93it/s]"
     ]
    },
    {
     "name": "stdout",
     "output_type": "stream",
     "text": [
      "[DEBUG] Procesando audio del índice 701, ruta(s): ['/mnt/c/users/evacantin/desktop/MASTER/HAIA/Trabajo/MMUSED-fallacy/audio_clips/39_2012/463.wav'] - longitud tras concat: 20816\n"
     ]
    },
    {
     "name": "stderr",
     "output_type": "stream",
     "text": [
      " 25%|██▍       | 301/1220 [01:23<03:52,  3.96it/s]"
     ]
    },
    {
     "name": "stdout",
     "output_type": "stream",
     "text": [
      "[DEBUG] Procesando audio del índice 846, ruta(s): ['/mnt/c/users/evacantin/desktop/MASTER/HAIA/Trabajo/MMUSED-fallacy/audio_clips/9_1980/115.wav'] - longitud tras concat: 325680\n"
     ]
    },
    {
     "name": "stderr",
     "output_type": "stream",
     "text": [
      " 25%|██▍       | 302/1220 [01:23<03:48,  4.01it/s]"
     ]
    },
    {
     "name": "stdout",
     "output_type": "stream",
     "text": [
      "[DEBUG] Procesando audio del índice 508, ruta(s): ['/mnt/c/users/evacantin/desktop/MASTER/HAIA/Trabajo/MMUSED-fallacy/audio_clips/30_2004/532.wav', '/mnt/c/users/evacantin/desktop/MASTER/HAIA/Trabajo/MMUSED-fallacy/audio_clips/30_2004/533.wav'] - longitud tras concat: 249712\n"
     ]
    },
    {
     "name": "stderr",
     "output_type": "stream",
     "text": [
      " 25%|██▍       | 303/1220 [01:23<03:56,  3.88it/s]"
     ]
    },
    {
     "name": "stdout",
     "output_type": "stream",
     "text": [
      "[DEBUG] Procesando audio del índice 484, ruta(s): ['/mnt/c/users/evacantin/desktop/MASTER/HAIA/Trabajo/MMUSED-fallacy/audio_clips/30_2004/170.wav'] - longitud tras concat: 46752\n"
     ]
    },
    {
     "name": "stderr",
     "output_type": "stream",
     "text": [
      " 25%|██▍       | 304/1220 [01:23<04:04,  3.75it/s]"
     ]
    },
    {
     "name": "stdout",
     "output_type": "stream",
     "text": [
      "[DEBUG] Procesando audio del índice 661, ruta(s): ['/mnt/c/users/evacantin/desktop/MASTER/HAIA/Trabajo/MMUSED-fallacy/audio_clips/36_2008/217.wav'] - longitud tras concat: 17936\n"
     ]
    },
    {
     "name": "stderr",
     "output_type": "stream",
     "text": [
      " 25%|██▌       | 305/1220 [01:24<03:57,  3.85it/s]"
     ]
    },
    {
     "name": "stdout",
     "output_type": "stream",
     "text": [
      "[DEBUG] Procesando audio del índice 568, ruta(s): ['/mnt/c/users/evacantin/desktop/MASTER/HAIA/Trabajo/MMUSED-fallacy/audio_clips/32_2004/869.wav'] - longitud tras concat: 97040\n"
     ]
    },
    {
     "name": "stderr",
     "output_type": "stream",
     "text": [
      " 25%|██▌       | 306/1220 [01:24<03:56,  3.86it/s]"
     ]
    },
    {
     "name": "stdout",
     "output_type": "stream",
     "text": [
      "[DEBUG] Procesando audio del índice 768, ruta(s): ['/mnt/c/users/evacantin/desktop/MASTER/HAIA/Trabajo/MMUSED-fallacy/audio_clips/5_1976/117.wav'] - longitud tras concat: 49312\n"
     ]
    },
    {
     "name": "stderr",
     "output_type": "stream",
     "text": [
      " 25%|██▌       | 307/1220 [01:24<03:54,  3.90it/s]"
     ]
    },
    {
     "name": "stdout",
     "output_type": "stream",
     "text": [
      "[DEBUG] Procesando audio del índice 1182, ruta(s): ['/mnt/c/users/evacantin/desktop/MASTER/HAIA/Trabajo/MMUSED-fallacy/audio_clips/46_2020/1028.wav'] - longitud tras concat: 43232\n"
     ]
    },
    {
     "name": "stderr",
     "output_type": "stream",
     "text": [
      " 25%|██▌       | 308/1220 [01:24<03:50,  3.96it/s]"
     ]
    },
    {
     "name": "stdout",
     "output_type": "stream",
     "text": [
      "[DEBUG] Procesando audio del índice 1105, ruta(s): ['/mnt/c/users/evacantin/desktop/MASTER/HAIA/Trabajo/MMUSED-fallacy/audio_clips/44_2020/161.wav'] - longitud tras concat: 27536\n"
     ]
    },
    {
     "name": "stderr",
     "output_type": "stream",
     "text": [
      " 25%|██▌       | 309/1220 [01:25<03:43,  4.07it/s]"
     ]
    },
    {
     "name": "stdout",
     "output_type": "stream",
     "text": [
      "[DEBUG] Procesando audio del índice 993, ruta(s): ['/mnt/c/users/evacantin/desktop/MASTER/HAIA/Trabajo/MMUSED-fallacy/audio_clips/41_2016/578.wav'] - longitud tras concat: 186656\n"
     ]
    },
    {
     "name": "stderr",
     "output_type": "stream",
     "text": [
      " 25%|██▌       | 310/1220 [01:25<03:44,  4.06it/s]"
     ]
    },
    {
     "name": "stdout",
     "output_type": "stream",
     "text": [
      "[DEBUG] Procesando audio del índice 163, ruta(s): ['/mnt/c/users/evacantin/desktop/MASTER/HAIA/Trabajo/MMUSED-fallacy/audio_clips/21_1992/42.wav', '/mnt/c/users/evacantin/desktop/MASTER/HAIA/Trabajo/MMUSED-fallacy/audio_clips/21_1992/43.wav', '/mnt/c/users/evacantin/desktop/MASTER/HAIA/Trabajo/MMUSED-fallacy/audio_clips/21_1992/44.wav'] - longitud tras concat: 73376\n"
     ]
    },
    {
     "name": "stderr",
     "output_type": "stream",
     "text": [
      " 25%|██▌       | 311/1220 [01:25<03:41,  4.10it/s]"
     ]
    },
    {
     "name": "stdout",
     "output_type": "stream",
     "text": [
      "[DEBUG] Procesando audio del índice 831, ruta(s): ['/mnt/c/users/evacantin/desktop/MASTER/HAIA/Trabajo/MMUSED-fallacy/audio_clips/8_1980/235.wav'] - longitud tras concat: 216544\n"
     ]
    },
    {
     "name": "stderr",
     "output_type": "stream",
     "text": [
      " 26%|██▌       | 312/1220 [01:25<03:38,  4.16it/s]"
     ]
    },
    {
     "name": "stdout",
     "output_type": "stream",
     "text": [
      "[DEBUG] Procesando audio del índice 879, ruta(s): ['/mnt/c/users/evacantin/desktop/MASTER/HAIA/Trabajo/MMUSED-fallacy/audio_clips/9_1980/468.wav'] - longitud tras concat: 246592\n"
     ]
    },
    {
     "name": "stderr",
     "output_type": "stream",
     "text": [
      " 26%|██▌       | 313/1220 [01:26<03:42,  4.08it/s]"
     ]
    },
    {
     "name": "stdout",
     "output_type": "stream",
     "text": [
      "[DEBUG] Procesando audio del índice 1072, ruta(s): ['/mnt/c/users/evacantin/desktop/MASTER/HAIA/Trabajo/MMUSED-fallacy/audio_clips/44_2020/511.wav'] - longitud tras concat: 63408\n"
     ]
    },
    {
     "name": "stderr",
     "output_type": "stream",
     "text": [
      " 26%|██▌       | 314/1220 [01:26<03:43,  4.06it/s]"
     ]
    },
    {
     "name": "stdout",
     "output_type": "stream",
     "text": [
      "[DEBUG] Procesando audio del índice 388, ruta(s): ['/mnt/c/users/evacantin/desktop/MASTER/HAIA/Trabajo/MMUSED-fallacy/audio_clips/28_2000/580.wav'] - longitud tras concat: 99904\n"
     ]
    },
    {
     "name": "stderr",
     "output_type": "stream",
     "text": [
      " 26%|██▌       | 315/1220 [01:26<03:42,  4.06it/s]"
     ]
    },
    {
     "name": "stdout",
     "output_type": "stream",
     "text": [
      "[DEBUG] Procesando audio del índice 759, ruta(s): ['/mnt/c/users/evacantin/desktop/MASTER/HAIA/Trabajo/MMUSED-fallacy/audio_clips/4_1960/409.wav'] - longitud tras concat: 119712\n"
     ]
    },
    {
     "name": "stderr",
     "output_type": "stream",
     "text": [
      " 26%|██▌       | 316/1220 [01:26<03:44,  4.03it/s]"
     ]
    },
    {
     "name": "stdout",
     "output_type": "stream",
     "text": [
      "[DEBUG] Procesando audio del índice 362, ruta(s): ['/mnt/c/users/evacantin/desktop/MASTER/HAIA/Trabajo/MMUSED-fallacy/audio_clips/28_2000/668.wav'] - longitud tras concat: 26912\n"
     ]
    },
    {
     "name": "stderr",
     "output_type": "stream",
     "text": [
      " 26%|██▌       | 317/1220 [01:27<03:43,  4.03it/s]"
     ]
    },
    {
     "name": "stdout",
     "output_type": "stream",
     "text": [
      "[DEBUG] Procesando audio del índice 904, ruta(s): ['/mnt/c/users/evacantin/desktop/MASTER/HAIA/Trabajo/MMUSED-fallacy/audio_clips/13_1988/722.wav'] - longitud tras concat: 108560\n"
     ]
    },
    {
     "name": "stderr",
     "output_type": "stream",
     "text": [
      " 26%|██▌       | 318/1220 [01:27<03:48,  3.94it/s]"
     ]
    },
    {
     "name": "stdout",
     "output_type": "stream",
     "text": [
      "[DEBUG] Procesando audio del índice 877, ruta(s): ['/mnt/c/users/evacantin/desktop/MASTER/HAIA/Trabajo/MMUSED-fallacy/audio_clips/9_1980/422.wav', '/mnt/c/users/evacantin/desktop/MASTER/HAIA/Trabajo/MMUSED-fallacy/audio_clips/9_1980/423.wav', '/mnt/c/users/evacantin/desktop/MASTER/HAIA/Trabajo/MMUSED-fallacy/audio_clips/9_1980/424.wav'] - longitud tras concat: 210768\n"
     ]
    },
    {
     "name": "stderr",
     "output_type": "stream",
     "text": [
      " 26%|██▌       | 319/1220 [01:27<03:46,  3.98it/s]"
     ]
    },
    {
     "name": "stdout",
     "output_type": "stream",
     "text": [
      "[DEBUG] Procesando audio del índice 49, ruta(s): ['/mnt/c/users/evacantin/desktop/MASTER/HAIA/Trabajo/MMUSED-fallacy/audio_clips/18_1992/46.wav'] - longitud tras concat: 93536\n"
     ]
    },
    {
     "name": "stderr",
     "output_type": "stream",
     "text": [
      " 26%|██▌       | 320/1220 [01:27<03:40,  4.07it/s]"
     ]
    },
    {
     "name": "stdout",
     "output_type": "stream",
     "text": [
      "[DEBUG] Procesando audio del índice 270, ruta(s): ['/mnt/c/users/evacantin/desktop/MASTER/HAIA/Trabajo/MMUSED-fallacy/audio_clips/25_2000/787.wav'] - longitud tras concat: 105664\n"
     ]
    },
    {
     "name": "stderr",
     "output_type": "stream",
     "text": [
      " 26%|██▋       | 321/1220 [01:28<03:41,  4.06it/s]"
     ]
    },
    {
     "name": "stdout",
     "output_type": "stream",
     "text": [
      "[DEBUG] Procesando audio del índice 1204, ruta(s): ['/mnt/c/users/evacantin/desktop/MASTER/HAIA/Trabajo/MMUSED-fallacy/audio_clips/46_2020/262.wav'] - longitud tras concat: 15376\n"
     ]
    },
    {
     "name": "stderr",
     "output_type": "stream",
     "text": [
      " 26%|██▋       | 322/1220 [01:29<09:48,  1.53it/s]"
     ]
    },
    {
     "name": "stdout",
     "output_type": "stream",
     "text": [
      "[DEBUG] Procesando audio del índice 104, ruta(s): ['/mnt/c/users/evacantin/desktop/MASTER/HAIA/Trabajo/MMUSED-fallacy/audio_clips/1_1960/203.wav'] - longitud tras concat: 101488\n"
     ]
    },
    {
     "name": "stderr",
     "output_type": "stream",
     "text": [
      " 26%|██▋       | 323/1220 [01:30<08:03,  1.86it/s]"
     ]
    },
    {
     "name": "stdout",
     "output_type": "stream",
     "text": [
      "[DEBUG] Procesando audio del índice 845, ruta(s): ['/mnt/c/users/evacantin/desktop/MASTER/HAIA/Trabajo/MMUSED-fallacy/audio_clips/9_1980/109.wav'] - longitud tras concat: 113056\n"
     ]
    },
    {
     "name": "stderr",
     "output_type": "stream",
     "text": [
      " 27%|██▋       | 324/1220 [01:30<06:44,  2.22it/s]"
     ]
    },
    {
     "name": "stdout",
     "output_type": "stream",
     "text": [
      "[DEBUG] Procesando audio del índice 96, ruta(s): ['/mnt/c/users/evacantin/desktop/MASTER/HAIA/Trabajo/MMUSED-fallacy/audio_clips/1_1960/145.wav'] - longitud tras concat: 34896\n"
     ]
    },
    {
     "name": "stderr",
     "output_type": "stream",
     "text": [
      " 27%|██▋       | 325/1220 [01:30<05:48,  2.57it/s]"
     ]
    },
    {
     "name": "stdout",
     "output_type": "stream",
     "text": [
      "[DEBUG] Procesando audio del índice 566, ruta(s): ['/mnt/c/users/evacantin/desktop/MASTER/HAIA/Trabajo/MMUSED-fallacy/audio_clips/32_2004/852.wav'] - longitud tras concat: 51872\n"
     ]
    },
    {
     "name": "stderr",
     "output_type": "stream",
     "text": [
      " 27%|██▋       | 326/1220 [01:30<05:07,  2.91it/s]"
     ]
    },
    {
     "name": "stdout",
     "output_type": "stream",
     "text": [
      "[DEBUG] Procesando audio del índice 274, ruta(s): ['/mnt/c/users/evacantin/desktop/MASTER/HAIA/Trabajo/MMUSED-fallacy/audio_clips/25_2000/831.wav'] - longitud tras concat: 64672\n"
     ]
    },
    {
     "name": "stderr",
     "output_type": "stream",
     "text": [
      " 27%|██▋       | 327/1220 [01:31<04:43,  3.15it/s]"
     ]
    },
    {
     "name": "stdout",
     "output_type": "stream",
     "text": [
      "[DEBUG] Procesando audio del índice 212, ruta(s): ['/mnt/c/users/evacantin/desktop/MASTER/HAIA/Trabajo/MMUSED-fallacy/audio_clips/22_1996/808.wav', '/mnt/c/users/evacantin/desktop/MASTER/HAIA/Trabajo/MMUSED-fallacy/audio_clips/22_1996/809.wav', '/mnt/c/users/evacantin/desktop/MASTER/HAIA/Trabajo/MMUSED-fallacy/audio_clips/22_1996/810.wav'] - longitud tras concat: 60528\n"
     ]
    },
    {
     "name": "stderr",
     "output_type": "stream",
     "text": [
      " 27%|██▋       | 328/1220 [01:31<04:28,  3.33it/s]"
     ]
    },
    {
     "name": "stdout",
     "output_type": "stream",
     "text": [
      "[DEBUG] Procesando audio del índice 110, ruta(s): ['/mnt/c/users/evacantin/desktop/MASTER/HAIA/Trabajo/MMUSED-fallacy/audio_clips/1_1960/377.wav'] - longitud tras concat: 166448\n"
     ]
    },
    {
     "name": "stderr",
     "output_type": "stream",
     "text": [
      " 27%|██▋       | 329/1220 [01:31<04:10,  3.56it/s]"
     ]
    },
    {
     "name": "stdout",
     "output_type": "stream",
     "text": [
      "[DEBUG] Procesando audio del índice 1159, ruta(s): ['/mnt/c/users/evacantin/desktop/MASTER/HAIA/Trabajo/MMUSED-fallacy/audio_clips/45_2020/253.wav'] - longitud tras concat: 90912\n"
     ]
    },
    {
     "name": "stderr",
     "output_type": "stream",
     "text": [
      " 27%|██▋       | 330/1220 [01:31<03:55,  3.78it/s]"
     ]
    },
    {
     "name": "stdout",
     "output_type": "stream",
     "text": [
      "[DEBUG] Procesando audio del índice 332, ruta(s): ['/mnt/c/users/evacantin/desktop/MASTER/HAIA/Trabajo/MMUSED-fallacy/audio_clips/27_2000/380.wav'] - longitud tras concat: 80064\n"
     ]
    },
    {
     "name": "stderr",
     "output_type": "stream",
     "text": [
      " 27%|██▋       | 331/1220 [01:31<03:47,  3.91it/s]"
     ]
    },
    {
     "name": "stdout",
     "output_type": "stream",
     "text": [
      "[DEBUG] Procesando audio del índice 255, ruta(s): ['/mnt/c/users/evacantin/desktop/MASTER/HAIA/Trabajo/MMUSED-fallacy/audio_clips/25_2000/171.wav'] - longitud tras concat: 46416\n"
     ]
    },
    {
     "name": "stderr",
     "output_type": "stream",
     "text": [
      " 27%|██▋       | 332/1220 [01:32<03:46,  3.93it/s]"
     ]
    },
    {
     "name": "stdout",
     "output_type": "stream",
     "text": [
      "[DEBUG] Procesando audio del índice 116, ruta(s): ['/mnt/c/users/evacantin/desktop/MASTER/HAIA/Trabajo/MMUSED-fallacy/audio_clips/20_1992/162.wav'] - longitud tras concat: 14736\n"
     ]
    },
    {
     "name": "stderr",
     "output_type": "stream",
     "text": [
      " 27%|██▋       | 333/1220 [01:32<03:47,  3.90it/s]"
     ]
    },
    {
     "name": "stdout",
     "output_type": "stream",
     "text": [
      "[DEBUG] Procesando audio del índice 557, ruta(s): ['/mnt/c/users/evacantin/desktop/MASTER/HAIA/Trabajo/MMUSED-fallacy/audio_clips/32_2004/724.wav'] - longitud tras concat: 119120\n"
     ]
    },
    {
     "name": "stderr",
     "output_type": "stream",
     "text": [
      " 27%|██▋       | 334/1220 [01:32<03:44,  3.94it/s]"
     ]
    },
    {
     "name": "stdout",
     "output_type": "stream",
     "text": [
      "[DEBUG] Procesando audio del índice 219, ruta(s): ['/mnt/c/users/evacantin/desktop/MASTER/HAIA/Trabajo/MMUSED-fallacy/audio_clips/22_1996/988.wav', '/mnt/c/users/evacantin/desktop/MASTER/HAIA/Trabajo/MMUSED-fallacy/audio_clips/22_1996/989.wav'] - longitud tras concat: 179952\n"
     ]
    },
    {
     "name": "stderr",
     "output_type": "stream",
     "text": [
      " 27%|██▋       | 335/1220 [01:32<03:39,  4.02it/s]"
     ]
    },
    {
     "name": "stdout",
     "output_type": "stream",
     "text": [
      "[DEBUG] Procesando audio del índice 164, ruta(s): ['/mnt/c/users/evacantin/desktop/MASTER/HAIA/Trabajo/MMUSED-fallacy/audio_clips/21_1992/62.wav'] - longitud tras concat: 95744\n"
     ]
    },
    {
     "name": "stderr",
     "output_type": "stream",
     "text": [
      " 28%|██▊       | 336/1220 [01:33<03:39,  4.03it/s]"
     ]
    },
    {
     "name": "stdout",
     "output_type": "stream",
     "text": [
      "[DEBUG] Procesando audio del índice 299, ruta(s): ['/mnt/c/users/evacantin/desktop/MASTER/HAIA/Trabajo/MMUSED-fallacy/audio_clips/26_2000/275.wav'] - longitud tras concat: 107264\n"
     ]
    },
    {
     "name": "stderr",
     "output_type": "stream",
     "text": [
      " 28%|██▊       | 337/1220 [01:33<03:36,  4.08it/s]"
     ]
    },
    {
     "name": "stdout",
     "output_type": "stream",
     "text": [
      "[DEBUG] Procesando audio del índice 722, ruta(s): ['/mnt/c/users/evacantin/desktop/MASTER/HAIA/Trabajo/MMUSED-fallacy/audio_clips/3_1960/155.wav', '/mnt/c/users/evacantin/desktop/MASTER/HAIA/Trabajo/MMUSED-fallacy/audio_clips/3_1960/157.wav', '/mnt/c/users/evacantin/desktop/MASTER/HAIA/Trabajo/MMUSED-fallacy/audio_clips/3_1960/158.wav', '/mnt/c/users/evacantin/desktop/MASTER/HAIA/Trabajo/MMUSED-fallacy/audio_clips/3_1960/159.wav', '/mnt/c/users/evacantin/desktop/MASTER/HAIA/Trabajo/MMUSED-fallacy/audio_clips/3_1960/160.wav'] - longitud tras concat: 336224\n"
     ]
    },
    {
     "name": "stderr",
     "output_type": "stream",
     "text": [
      " 28%|██▊       | 338/1220 [01:33<03:35,  4.09it/s]"
     ]
    },
    {
     "name": "stdout",
     "output_type": "stream",
     "text": [
      "[DEBUG] Procesando audio del índice 858, ruta(s): ['/mnt/c/users/evacantin/desktop/MASTER/HAIA/Trabajo/MMUSED-fallacy/audio_clips/9_1980/205.wav', '/mnt/c/users/evacantin/desktop/MASTER/HAIA/Trabajo/MMUSED-fallacy/audio_clips/9_1980/206.wav'] - longitud tras concat: 123888\n"
     ]
    },
    {
     "name": "stderr",
     "output_type": "stream",
     "text": [
      " 28%|██▊       | 339/1220 [01:33<03:36,  4.08it/s]"
     ]
    },
    {
     "name": "stdout",
     "output_type": "stream",
     "text": [
      "[DEBUG] Procesando audio del índice 182, ruta(s): ['/mnt/c/users/evacantin/desktop/MASTER/HAIA/Trabajo/MMUSED-fallacy/audio_clips/22_1996/203.wav'] - longitud tras concat: 59232\n"
     ]
    },
    {
     "name": "stderr",
     "output_type": "stream",
     "text": [
      " 28%|██▊       | 340/1220 [01:34<03:38,  4.02it/s]"
     ]
    },
    {
     "name": "stdout",
     "output_type": "stream",
     "text": [
      "[DEBUG] Procesando audio del índice 1100, ruta(s): ['/mnt/c/users/evacantin/desktop/MASTER/HAIA/Trabajo/MMUSED-fallacy/audio_clips/44_2020/934.wav'] - longitud tras concat: 39408\n"
     ]
    },
    {
     "name": "stderr",
     "output_type": "stream",
     "text": [
      " 28%|██▊       | 341/1220 [01:34<03:34,  4.09it/s]"
     ]
    },
    {
     "name": "stdout",
     "output_type": "stream",
     "text": [
      "[DEBUG] Procesando audio del índice 1205, ruta(s): ['/mnt/c/users/evacantin/desktop/MASTER/HAIA/Trabajo/MMUSED-fallacy/audio_clips/46_2020/1365.wav', '/mnt/c/users/evacantin/desktop/MASTER/HAIA/Trabajo/MMUSED-fallacy/audio_clips/46_2020/1366.wav', '/mnt/c/users/evacantin/desktop/MASTER/HAIA/Trabajo/MMUSED-fallacy/audio_clips/46_2020/1367.wav'] - longitud tras concat: 93456\n"
     ]
    },
    {
     "name": "stderr",
     "output_type": "stream",
     "text": [
      " 28%|██▊       | 342/1220 [01:34<03:41,  3.96it/s]"
     ]
    },
    {
     "name": "stdout",
     "output_type": "stream",
     "text": [
      "[DEBUG] Procesando audio del índice 438, ruta(s): ['/mnt/c/users/evacantin/desktop/MASTER/HAIA/Trabajo/MMUSED-fallacy/audio_clips/29_2004/992.wav'] - longitud tras concat: 71072\n"
     ]
    },
    {
     "name": "stderr",
     "output_type": "stream",
     "text": [
      " 28%|██▊       | 343/1220 [01:34<03:42,  3.95it/s]"
     ]
    },
    {
     "name": "stdout",
     "output_type": "stream",
     "text": [
      "[DEBUG] Procesando audio del índice 35, ruta(s): ['/mnt/c/users/evacantin/desktop/MASTER/HAIA/Trabajo/MMUSED-fallacy/audio_clips/12_1984/339.wav'] - longitud tras concat: 294288\n"
     ]
    },
    {
     "name": "stderr",
     "output_type": "stream",
     "text": [
      " 28%|██▊       | 344/1220 [01:35<03:39,  3.98it/s]"
     ]
    },
    {
     "name": "stdout",
     "output_type": "stream",
     "text": [
      "[DEBUG] Procesando audio del índice 444, ruta(s): ['/mnt/c/users/evacantin/desktop/MASTER/HAIA/Trabajo/MMUSED-fallacy/audio_clips/29_2004/957.wav', '/mnt/c/users/evacantin/desktop/MASTER/HAIA/Trabajo/MMUSED-fallacy/audio_clips/29_2004/958.wav', '/mnt/c/users/evacantin/desktop/MASTER/HAIA/Trabajo/MMUSED-fallacy/audio_clips/29_2004/959.wav', '/mnt/c/users/evacantin/desktop/MASTER/HAIA/Trabajo/MMUSED-fallacy/audio_clips/29_2004/960.wav', '/mnt/c/users/evacantin/desktop/MASTER/HAIA/Trabajo/MMUSED-fallacy/audio_clips/29_2004/961.wav'] - longitud tras concat: 303904\n"
     ]
    },
    {
     "name": "stderr",
     "output_type": "stream",
     "text": [
      " 28%|██▊       | 345/1220 [01:35<03:37,  4.01it/s]"
     ]
    },
    {
     "name": "stdout",
     "output_type": "stream",
     "text": [
      "[DEBUG] Procesando audio del índice 729, ruta(s): ['/mnt/c/users/evacantin/desktop/MASTER/HAIA/Trabajo/MMUSED-fallacy/audio_clips/3_1960/239.wav'] - longitud tras concat: 170368\n"
     ]
    },
    {
     "name": "stderr",
     "output_type": "stream",
     "text": [
      " 28%|██▊       | 346/1220 [01:35<03:35,  4.05it/s]"
     ]
    },
    {
     "name": "stdout",
     "output_type": "stream",
     "text": [
      "[DEBUG] Procesando audio del índice 717, ruta(s): ['/mnt/c/users/evacantin/desktop/MASTER/HAIA/Trabajo/MMUSED-fallacy/audio_clips/3_1960/55.wav'] - longitud tras concat: 32656\n"
     ]
    },
    {
     "name": "stderr",
     "output_type": "stream",
     "text": [
      " 28%|██▊       | 347/1220 [01:35<03:31,  4.12it/s]"
     ]
    },
    {
     "name": "stdout",
     "output_type": "stream",
     "text": [
      "[DEBUG] Procesando audio del índice 493, ruta(s): ['/mnt/c/users/evacantin/desktop/MASTER/HAIA/Trabajo/MMUSED-fallacy/audio_clips/30_2004/1026.wav'] - longitud tras concat: 53152\n"
     ]
    },
    {
     "name": "stderr",
     "output_type": "stream",
     "text": [
      " 29%|██▊       | 348/1220 [01:36<03:41,  3.93it/s]"
     ]
    },
    {
     "name": "stdout",
     "output_type": "stream",
     "text": [
      "[DEBUG] Procesando audio del índice 753, ruta(s): ['/mnt/c/users/evacantin/desktop/MASTER/HAIA/Trabajo/MMUSED-fallacy/audio_clips/4_1960/282.wav'] - longitud tras concat: 32656\n"
     ]
    },
    {
     "name": "stderr",
     "output_type": "stream",
     "text": [
      " 29%|██▊       | 349/1220 [01:36<03:42,  3.91it/s]"
     ]
    },
    {
     "name": "stdout",
     "output_type": "stream",
     "text": [
      "[DEBUG] Procesando audio del índice 383, ruta(s): ['/mnt/c/users/evacantin/desktop/MASTER/HAIA/Trabajo/MMUSED-fallacy/audio_clips/28_2000/398.wav'] - longitud tras concat: 48992\n"
     ]
    },
    {
     "name": "stderr",
     "output_type": "stream",
     "text": [
      " 29%|██▊       | 350/1220 [01:36<03:41,  3.93it/s]"
     ]
    },
    {
     "name": "stdout",
     "output_type": "stream",
     "text": [
      "[DEBUG] Procesando audio del índice 422, ruta(s): ['/mnt/c/users/evacantin/desktop/MASTER/HAIA/Trabajo/MMUSED-fallacy/audio_clips/29_2004/580.wav'] - longitud tras concat: 35216\n"
     ]
    },
    {
     "name": "stderr",
     "output_type": "stream",
     "text": [
      " 29%|██▉       | 351/1220 [01:36<03:32,  4.08it/s]"
     ]
    },
    {
     "name": "stdout",
     "output_type": "stream",
     "text": [
      "[DEBUG] Procesando audio del índice 239, ruta(s): ['/mnt/c/users/evacantin/desktop/MASTER/HAIA/Trabajo/MMUSED-fallacy/audio_clips/23_1996/150.wav'] - longitud tras concat: 397648\n"
     ]
    },
    {
     "name": "stderr",
     "output_type": "stream",
     "text": [
      " 29%|██▉       | 352/1220 [01:37<03:29,  4.14it/s]"
     ]
    },
    {
     "name": "stdout",
     "output_type": "stream",
     "text": [
      "[DEBUG] Procesando audio del índice 715, ruta(s): ['/mnt/c/users/evacantin/desktop/MASTER/HAIA/Trabajo/MMUSED-fallacy/audio_clips/3_1960/428.wav'] - longitud tras concat: 42576\n"
     ]
    },
    {
     "name": "stderr",
     "output_type": "stream",
     "text": [
      " 29%|██▉       | 353/1220 [01:37<03:29,  4.14it/s]"
     ]
    },
    {
     "name": "stdout",
     "output_type": "stream",
     "text": [
      "[DEBUG] Procesando audio del índice 997, ruta(s): ['/mnt/c/users/evacantin/desktop/MASTER/HAIA/Trabajo/MMUSED-fallacy/audio_clips/41_2016/615.wav'] - longitud tras concat: 319888\n"
     ]
    },
    {
     "name": "stderr",
     "output_type": "stream",
     "text": [
      " 29%|██▉       | 354/1220 [01:37<03:33,  4.06it/s]"
     ]
    },
    {
     "name": "stdout",
     "output_type": "stream",
     "text": [
      "[DEBUG] Procesando audio del índice 1142, ruta(s): ['/mnt/c/users/evacantin/desktop/MASTER/HAIA/Trabajo/MMUSED-fallacy/audio_clips/45_2020/200.wav'] - longitud tras concat: 196544\n"
     ]
    },
    {
     "name": "stderr",
     "output_type": "stream",
     "text": [
      " 29%|██▉       | 355/1220 [01:37<03:27,  4.16it/s]"
     ]
    },
    {
     "name": "stdout",
     "output_type": "stream",
     "text": [
      "[DEBUG] Procesando audio del índice 130, ruta(s): ['/mnt/c/users/evacantin/desktop/MASTER/HAIA/Trabajo/MMUSED-fallacy/audio_clips/20_1992/366.wav', '/mnt/c/users/evacantin/desktop/MASTER/HAIA/Trabajo/MMUSED-fallacy/audio_clips/20_1992/367.wav'] - longitud tras concat: 95424\n"
     ]
    },
    {
     "name": "stderr",
     "output_type": "stream",
     "text": [
      " 29%|██▉       | 356/1220 [01:38<03:38,  3.96it/s]"
     ]
    },
    {
     "name": "stdout",
     "output_type": "stream",
     "text": [
      "[DEBUG] Procesando audio del índice 591, ruta(s): ['/mnt/c/users/evacantin/desktop/MASTER/HAIA/Trabajo/MMUSED-fallacy/audio_clips/32_2004/356.wav', '/mnt/c/users/evacantin/desktop/MASTER/HAIA/Trabajo/MMUSED-fallacy/audio_clips/32_2004/357.wav'] - longitud tras concat: 76832\n"
     ]
    },
    {
     "name": "stderr",
     "output_type": "stream",
     "text": [
      " 29%|██▉       | 357/1220 [01:38<03:33,  4.03it/s]"
     ]
    },
    {
     "name": "stdout",
     "output_type": "stream",
     "text": [
      "[DEBUG] Procesando audio del índice 923, ruta(s): ['/mnt/c/users/evacantin/desktop/MASTER/HAIA/Trabajo/MMUSED-fallacy/audio_clips/13_1988/179.wav'] - longitud tras concat: 111200\n"
     ]
    },
    {
     "name": "stderr",
     "output_type": "stream",
     "text": [
      " 29%|██▉       | 358/1220 [01:38<03:40,  3.91it/s]"
     ]
    },
    {
     "name": "stdout",
     "output_type": "stream",
     "text": [
      "[DEBUG] Procesando audio del índice 197, ruta(s): ['/mnt/c/users/evacantin/desktop/MASTER/HAIA/Trabajo/MMUSED-fallacy/audio_clips/22_1996/504.wav'] - longitud tras concat: 171888\n"
     ]
    },
    {
     "name": "stderr",
     "output_type": "stream",
     "text": [
      " 29%|██▉       | 359/1220 [01:38<03:38,  3.94it/s]"
     ]
    },
    {
     "name": "stdout",
     "output_type": "stream",
     "text": [
      "[DEBUG] Procesando audio del índice 363, ruta(s): ['/mnt/c/users/evacantin/desktop/MASTER/HAIA/Trabajo/MMUSED-fallacy/audio_clips/28_2000/680.wav'] - longitud tras concat: 107680\n"
     ]
    },
    {
     "name": "stderr",
     "output_type": "stream",
     "text": [
      " 30%|██▉       | 360/1220 [01:39<03:35,  3.99it/s]"
     ]
    },
    {
     "name": "stdout",
     "output_type": "stream",
     "text": [
      "[DEBUG] Procesando audio del índice 1040, ruta(s): ['/mnt/c/users/evacantin/desktop/MASTER/HAIA/Trabajo/MMUSED-fallacy/audio_clips/42_2016/207.wav'] - longitud tras concat: 69488\n"
     ]
    },
    {
     "name": "stderr",
     "output_type": "stream",
     "text": [
      " 30%|██▉       | 361/1220 [01:39<03:36,  3.96it/s]"
     ]
    },
    {
     "name": "stdout",
     "output_type": "stream",
     "text": [
      "[DEBUG] Procesando audio del índice 966, ruta(s): ['/mnt/c/users/evacantin/desktop/MASTER/HAIA/Trabajo/MMUSED-fallacy/audio_clips/41_2016/72.wav'] - longitud tras concat: 69488\n"
     ]
    },
    {
     "name": "stderr",
     "output_type": "stream",
     "text": [
      " 30%|██▉       | 362/1220 [01:39<03:36,  3.96it/s]"
     ]
    },
    {
     "name": "stdout",
     "output_type": "stream",
     "text": [
      "[DEBUG] Procesando audio del índice 666, ruta(s): ['/mnt/c/users/evacantin/desktop/MASTER/HAIA/Trabajo/MMUSED-fallacy/audio_clips/36_2008/306.wav', '/mnt/c/users/evacantin/desktop/MASTER/HAIA/Trabajo/MMUSED-fallacy/audio_clips/36_2008/307.wav'] - longitud tras concat: 55696\n"
     ]
    },
    {
     "name": "stderr",
     "output_type": "stream",
     "text": [
      " 30%|██▉       | 363/1220 [01:39<03:35,  3.97it/s]"
     ]
    },
    {
     "name": "stdout",
     "output_type": "stream",
     "text": [
      "[DEBUG] Procesando audio del índice 1055, ruta(s): ['/mnt/c/users/evacantin/desktop/MASTER/HAIA/Trabajo/MMUSED-fallacy/audio_clips/42_2016/388.wav'] - longitud tras concat: 338144\n"
     ]
    },
    {
     "name": "stderr",
     "output_type": "stream",
     "text": [
      " 30%|██▉       | 364/1220 [01:40<03:33,  4.01it/s]"
     ]
    },
    {
     "name": "stdout",
     "output_type": "stream",
     "text": [
      "[DEBUG] Procesando audio del índice 999, ruta(s): ['/mnt/c/users/evacantin/desktop/MASTER/HAIA/Trabajo/MMUSED-fallacy/audio_clips/41_2016/589.wav'] - longitud tras concat: 135088\n"
     ]
    },
    {
     "name": "stderr",
     "output_type": "stream",
     "text": [
      " 30%|██▉       | 365/1220 [01:40<03:35,  3.97it/s]"
     ]
    },
    {
     "name": "stdout",
     "output_type": "stream",
     "text": [
      "[DEBUG] Procesando audio del índice 914, ruta(s): ['/mnt/c/users/evacantin/desktop/MASTER/HAIA/Trabajo/MMUSED-fallacy/audio_clips/13_1988/911.wav'] - longitud tras concat: 25616\n"
     ]
    },
    {
     "name": "stderr",
     "output_type": "stream",
     "text": [
      " 30%|███       | 366/1220 [01:40<03:27,  4.11it/s]"
     ]
    },
    {
     "name": "stdout",
     "output_type": "stream",
     "text": [
      "[DEBUG] Procesando audio del índice 616, ruta(s): ['/mnt/c/users/evacantin/desktop/MASTER/HAIA/Trabajo/MMUSED-fallacy/audio_clips/33_2008/136.wav'] - longitud tras concat: 147952\n"
     ]
    },
    {
     "name": "stderr",
     "output_type": "stream",
     "text": [
      " 30%|███       | 367/1220 [01:40<03:31,  4.03it/s]"
     ]
    },
    {
     "name": "stdout",
     "output_type": "stream",
     "text": [
      "[DEBUG] Procesando audio del índice 1140, ruta(s): ['/mnt/c/users/evacantin/desktop/MASTER/HAIA/Trabajo/MMUSED-fallacy/audio_clips/45_2020/84.wav'] - longitud tras concat: 242560\n"
     ]
    },
    {
     "name": "stderr",
     "output_type": "stream",
     "text": [
      " 30%|███       | 368/1220 [01:41<03:33,  3.99it/s]"
     ]
    },
    {
     "name": "stdout",
     "output_type": "stream",
     "text": [
      "[DEBUG] Procesando audio del índice 1164, ruta(s): ['/mnt/c/users/evacantin/desktop/MASTER/HAIA/Trabajo/MMUSED-fallacy/audio_clips/45_2020/588.wav'] - longitud tras concat: 134464\n"
     ]
    },
    {
     "name": "stderr",
     "output_type": "stream",
     "text": [
      " 30%|███       | 369/1220 [01:41<03:34,  3.96it/s]"
     ]
    },
    {
     "name": "stdout",
     "output_type": "stream",
     "text": [
      "[DEBUG] Procesando audio del índice 1114, ruta(s): ['/mnt/c/users/evacantin/desktop/MASTER/HAIA/Trabajo/MMUSED-fallacy/audio_clips/44_2020/1403.wav'] - longitud tras concat: 22720\n"
     ]
    },
    {
     "name": "stderr",
     "output_type": "stream",
     "text": [
      " 30%|███       | 370/1220 [01:41<03:29,  4.07it/s]"
     ]
    },
    {
     "name": "stdout",
     "output_type": "stream",
     "text": [
      "[DEBUG] Procesando audio del índice 918, ruta(s): ['/mnt/c/users/evacantin/desktop/MASTER/HAIA/Trabajo/MMUSED-fallacy/audio_clips/13_1988/128.wav'] - longitud tras concat: 108528\n"
     ]
    },
    {
     "name": "stderr",
     "output_type": "stream",
     "text": [
      " 30%|███       | 371/1220 [01:41<03:27,  4.10it/s]"
     ]
    },
    {
     "name": "stdout",
     "output_type": "stream",
     "text": [
      "[DEBUG] Procesando audio del índice 291, ruta(s): ['/mnt/c/users/evacantin/desktop/MASTER/HAIA/Trabajo/MMUSED-fallacy/audio_clips/26_2000/758.wav'] - longitud tras concat: 75552\n"
     ]
    },
    {
     "name": "stderr",
     "output_type": "stream",
     "text": [
      " 30%|███       | 372/1220 [01:42<03:31,  4.02it/s]"
     ]
    },
    {
     "name": "stdout",
     "output_type": "stream",
     "text": [
      "[DEBUG] Procesando audio del índice 1016, ruta(s): ['/mnt/c/users/evacantin/desktop/MASTER/HAIA/Trabajo/MMUSED-fallacy/audio_clips/41_2016/1036.wav'] - longitud tras concat: 108864\n"
     ]
    },
    {
     "name": "stderr",
     "output_type": "stream",
     "text": [
      " 31%|███       | 373/1220 [01:42<03:26,  4.09it/s]"
     ]
    },
    {
     "name": "stdout",
     "output_type": "stream",
     "text": [
      "[DEBUG] Procesando audio del índice 1155, ruta(s): ['/mnt/c/users/evacantin/desktop/MASTER/HAIA/Trabajo/MMUSED-fallacy/audio_clips/45_2020/78.wav'] - longitud tras concat: 218928\n"
     ]
    },
    {
     "name": "stderr",
     "output_type": "stream",
     "text": [
      " 31%|███       | 374/1220 [01:42<03:25,  4.11it/s]"
     ]
    },
    {
     "name": "stdout",
     "output_type": "stream",
     "text": [
      "[DEBUG] Procesando audio del índice 837, ruta(s): ['/mnt/c/users/evacantin/desktop/MASTER/HAIA/Trabajo/MMUSED-fallacy/audio_clips/8_1980/373.wav'] - longitud tras concat: 269632\n"
     ]
    },
    {
     "name": "stderr",
     "output_type": "stream",
     "text": [
      " 31%|███       | 375/1220 [01:42<03:28,  4.06it/s]"
     ]
    },
    {
     "name": "stdout",
     "output_type": "stream",
     "text": [
      "[DEBUG] Procesando audio del índice 565, ruta(s): ['/mnt/c/users/evacantin/desktop/MASTER/HAIA/Trabajo/MMUSED-fallacy/audio_clips/32_2004/820.wav'] - longitud tras concat: 369328\n"
     ]
    },
    {
     "name": "stderr",
     "output_type": "stream",
     "text": [
      " 31%|███       | 376/1220 [01:43<03:22,  4.16it/s]"
     ]
    },
    {
     "name": "stdout",
     "output_type": "stream",
     "text": [
      "[DEBUG] Procesando audio del índice 540, ruta(s): ['/mnt/c/users/evacantin/desktop/MASTER/HAIA/Trabajo/MMUSED-fallacy/audio_clips/31_2004/99.wav'] - longitud tras concat: 30416\n"
     ]
    },
    {
     "name": "stderr",
     "output_type": "stream",
     "text": [
      " 31%|███       | 377/1220 [01:43<03:25,  4.09it/s]"
     ]
    },
    {
     "name": "stdout",
     "output_type": "stream",
     "text": [
      "[DEBUG] Procesando audio del índice 1021, ruta(s): ['/mnt/c/users/evacantin/desktop/MASTER/HAIA/Trabajo/MMUSED-fallacy/audio_clips/41_2016/1178.wav'] - longitud tras concat: 13456\n"
     ]
    },
    {
     "name": "stderr",
     "output_type": "stream",
     "text": [
      " 31%|███       | 378/1220 [01:43<03:23,  4.14it/s]"
     ]
    },
    {
     "name": "stdout",
     "output_type": "stream",
     "text": [
      "[DEBUG] Procesando audio del índice 1099, ruta(s): ['/mnt/c/users/evacantin/desktop/MASTER/HAIA/Trabajo/MMUSED-fallacy/audio_clips/44_2020/307.wav', '/mnt/c/users/evacantin/desktop/MASTER/HAIA/Trabajo/MMUSED-fallacy/audio_clips/44_2020/308.wav', '/mnt/c/users/evacantin/desktop/MASTER/HAIA/Trabajo/MMUSED-fallacy/audio_clips/44_2020/309.wav'] - longitud tras concat: 76192\n"
     ]
    },
    {
     "name": "stderr",
     "output_type": "stream",
     "text": [
      " 31%|███       | 379/1220 [01:43<03:22,  4.16it/s]"
     ]
    },
    {
     "name": "stdout",
     "output_type": "stream",
     "text": [
      "[DEBUG] Procesando audio del índice 794, ruta(s): ['/mnt/c/users/evacantin/desktop/MASTER/HAIA/Trabajo/MMUSED-fallacy/audio_clips/6_1976/401.wav'] - longitud tras concat: 72352\n"
     ]
    },
    {
     "name": "stderr",
     "output_type": "stream",
     "text": [
      " 31%|███       | 380/1220 [01:44<03:30,  3.99it/s]"
     ]
    },
    {
     "name": "stdout",
     "output_type": "stream",
     "text": [
      "[DEBUG] Procesando audio del índice 538, ruta(s): ['/mnt/c/users/evacantin/desktop/MASTER/HAIA/Trabajo/MMUSED-fallacy/audio_clips/31_2004/1252.wav'] - longitud tras concat: 16000\n"
     ]
    },
    {
     "name": "stderr",
     "output_type": "stream",
     "text": [
      " 31%|███       | 381/1220 [01:44<03:30,  3.99it/s]"
     ]
    },
    {
     "name": "stdout",
     "output_type": "stream",
     "text": [
      "[DEBUG] Procesando audio del índice 1108, ruta(s): ['/mnt/c/users/evacantin/desktop/MASTER/HAIA/Trabajo/MMUSED-fallacy/audio_clips/44_2020/1068.wav'] - longitud tras concat: 118112\n"
     ]
    },
    {
     "name": "stderr",
     "output_type": "stream",
     "text": [
      " 31%|███▏      | 382/1220 [01:44<03:32,  3.95it/s]"
     ]
    },
    {
     "name": "stdout",
     "output_type": "stream",
     "text": [
      "[DEBUG] Procesando audio del índice 1071, ruta(s): ['/mnt/c/users/evacantin/desktop/MASTER/HAIA/Trabajo/MMUSED-fallacy/audio_clips/44_2020/419.wav'] - longitud tras concat: 17600\n"
     ]
    },
    {
     "name": "stderr",
     "output_type": "stream",
     "text": [
      " 31%|███▏      | 383/1220 [01:44<03:29,  4.00it/s]"
     ]
    },
    {
     "name": "stdout",
     "output_type": "stream",
     "text": [
      "[DEBUG] Procesando audio del índice 643, ruta(s): ['/mnt/c/users/evacantin/desktop/MASTER/HAIA/Trabajo/MMUSED-fallacy/audio_clips/33_2008/610.wav'] - longitud tras concat: 218288\n"
     ]
    },
    {
     "name": "stderr",
     "output_type": "stream",
     "text": [
      " 31%|███▏      | 384/1220 [01:45<03:26,  4.04it/s]"
     ]
    },
    {
     "name": "stdout",
     "output_type": "stream",
     "text": [
      "[DEBUG] Procesando audio del índice 296, ruta(s): ['/mnt/c/users/evacantin/desktop/MASTER/HAIA/Trabajo/MMUSED-fallacy/audio_clips/26_2000/245.wav', '/mnt/c/users/evacantin/desktop/MASTER/HAIA/Trabajo/MMUSED-fallacy/audio_clips/26_2000/246.wav'] - longitud tras concat: 239168\n"
     ]
    },
    {
     "name": "stderr",
     "output_type": "stream",
     "text": [
      " 32%|███▏      | 385/1220 [01:45<03:26,  4.05it/s]"
     ]
    },
    {
     "name": "stdout",
     "output_type": "stream",
     "text": [
      "[DEBUG] Procesando audio del índice 122, ruta(s): ['/mnt/c/users/evacantin/desktop/MASTER/HAIA/Trabajo/MMUSED-fallacy/audio_clips/20_1992/209.wav'] - longitud tras concat: 154736\n"
     ]
    },
    {
     "name": "stderr",
     "output_type": "stream",
     "text": [
      " 32%|███▏      | 386/1220 [01:45<03:28,  4.01it/s]"
     ]
    },
    {
     "name": "stdout",
     "output_type": "stream",
     "text": [
      "[DEBUG] Procesando audio del índice 175, ruta(s): ['/mnt/c/users/evacantin/desktop/MASTER/HAIA/Trabajo/MMUSED-fallacy/audio_clips/22_1996/156.wav'] - longitud tras concat: 187344\n"
     ]
    },
    {
     "name": "stderr",
     "output_type": "stream",
     "text": [
      " 32%|███▏      | 387/1220 [01:45<03:24,  4.07it/s]"
     ]
    },
    {
     "name": "stdout",
     "output_type": "stream",
     "text": [
      "[DEBUG] Procesando audio del índice 876, ruta(s): ['/mnt/c/users/evacantin/desktop/MASTER/HAIA/Trabajo/MMUSED-fallacy/audio_clips/9_1980/407.wav'] - longitud tras concat: 32352\n"
     ]
    },
    {
     "name": "stderr",
     "output_type": "stream",
     "text": [
      " 32%|███▏      | 388/1220 [01:46<03:26,  4.03it/s]"
     ]
    },
    {
     "name": "stdout",
     "output_type": "stream",
     "text": [
      "[DEBUG] Procesando audio del índice 765, ruta(s): ['/mnt/c/users/evacantin/desktop/MASTER/HAIA/Trabajo/MMUSED-fallacy/audio_clips/5_1976/46.wav'] - longitud tras concat: 184432\n"
     ]
    },
    {
     "name": "stderr",
     "output_type": "stream",
     "text": [
      " 32%|███▏      | 389/1220 [01:46<03:23,  4.09it/s]"
     ]
    },
    {
     "name": "stdout",
     "output_type": "stream",
     "text": [
      "[DEBUG] Procesando audio del índice 234, ruta(s): ['/mnt/c/users/evacantin/desktop/MASTER/HAIA/Trabajo/MMUSED-fallacy/audio_clips/23_1996/128.wav', '/mnt/c/users/evacantin/desktop/MASTER/HAIA/Trabajo/MMUSED-fallacy/audio_clips/23_1996/129.wav'] - longitud tras concat: 97984\n"
     ]
    },
    {
     "name": "stderr",
     "output_type": "stream",
     "text": [
      " 32%|███▏      | 390/1220 [01:46<03:28,  3.98it/s]"
     ]
    },
    {
     "name": "stdout",
     "output_type": "stream",
     "text": [
      "[DEBUG] Procesando audio del índice 376, ruta(s): ['/mnt/c/users/evacantin/desktop/MASTER/HAIA/Trabajo/MMUSED-fallacy/audio_clips/28_2000/968.wav'] - longitud tras concat: 79072\n"
     ]
    },
    {
     "name": "stderr",
     "output_type": "stream",
     "text": [
      " 32%|███▏      | 391/1220 [01:46<03:26,  4.02it/s]"
     ]
    },
    {
     "name": "stdout",
     "output_type": "stream",
     "text": [
      "[DEBUG] Procesando audio del índice 585, ruta(s): ['/mnt/c/users/evacantin/desktop/MASTER/HAIA/Trabajo/MMUSED-fallacy/audio_clips/32_2004/148.wav', '/mnt/c/users/evacantin/desktop/MASTER/HAIA/Trabajo/MMUSED-fallacy/audio_clips/32_2004/149.wav', '/mnt/c/users/evacantin/desktop/MASTER/HAIA/Trabajo/MMUSED-fallacy/audio_clips/32_2004/150.wav', '/mnt/c/users/evacantin/desktop/MASTER/HAIA/Trabajo/MMUSED-fallacy/audio_clips/32_2004/151.wav'] - longitud tras concat: 345936\n"
     ]
    },
    {
     "name": "stderr",
     "output_type": "stream",
     "text": [
      " 32%|███▏      | 392/1220 [01:47<03:22,  4.08it/s]"
     ]
    },
    {
     "name": "stdout",
     "output_type": "stream",
     "text": [
      "[DEBUG] Procesando audio del índice 187, ruta(s): ['/mnt/c/users/evacantin/desktop/MASTER/HAIA/Trabajo/MMUSED-fallacy/audio_clips/22_1996/257.wav', '/mnt/c/users/evacantin/desktop/MASTER/HAIA/Trabajo/MMUSED-fallacy/audio_clips/22_1996/259.wav', '/mnt/c/users/evacantin/desktop/MASTER/HAIA/Trabajo/MMUSED-fallacy/audio_clips/22_1996/260.wav'] - longitud tras concat: 253024\n"
     ]
    },
    {
     "name": "stderr",
     "output_type": "stream",
     "text": [
      " 32%|███▏      | 393/1220 [01:47<03:22,  4.08it/s]"
     ]
    },
    {
     "name": "stdout",
     "output_type": "stream",
     "text": [
      "[DEBUG] Procesando audio del índice 195, ruta(s): ['/mnt/c/users/evacantin/desktop/MASTER/HAIA/Trabajo/MMUSED-fallacy/audio_clips/22_1996/413.wav'] - longitud tras concat: 234992\n"
     ]
    },
    {
     "name": "stderr",
     "output_type": "stream",
     "text": [
      " 32%|███▏      | 394/1220 [01:47<03:23,  4.05it/s]"
     ]
    },
    {
     "name": "stdout",
     "output_type": "stream",
     "text": [
      "[DEBUG] Procesando audio del índice 379, ruta(s): ['/mnt/c/users/evacantin/desktop/MASTER/HAIA/Trabajo/MMUSED-fallacy/audio_clips/28_2000/208.wav'] - longitud tras concat: 143440\n"
     ]
    },
    {
     "name": "stderr",
     "output_type": "stream",
     "text": [
      " 32%|███▏      | 395/1220 [01:47<03:20,  4.11it/s]"
     ]
    },
    {
     "name": "stdout",
     "output_type": "stream",
     "text": [
      "[DEBUG] Procesando audio del índice 256, ruta(s): ['/mnt/c/users/evacantin/desktop/MASTER/HAIA/Trabajo/MMUSED-fallacy/audio_clips/25_2000/179.wav'] - longitud tras concat: 37456\n"
     ]
    },
    {
     "name": "stderr",
     "output_type": "stream",
     "text": [
      " 32%|███▏      | 396/1220 [01:48<03:24,  4.02it/s]"
     ]
    },
    {
     "name": "stdout",
     "output_type": "stream",
     "text": [
      "[DEBUG] Procesando audio del índice 1124, ruta(s): ['/mnt/c/users/evacantin/desktop/MASTER/HAIA/Trabajo/MMUSED-fallacy/audio_clips/44_2020/1599.wav'] - longitud tras concat: 17616\n"
     ]
    },
    {
     "name": "stderr",
     "output_type": "stream",
     "text": [
      " 33%|███▎      | 397/1220 [01:48<03:23,  4.04it/s]"
     ]
    },
    {
     "name": "stdout",
     "output_type": "stream",
     "text": [
      "[DEBUG] Procesando audio del índice 1217, ruta(s): ['/mnt/c/users/evacantin/desktop/MASTER/HAIA/Trabajo/MMUSED-fallacy/audio_clips/46_2020/136.wav'] - longitud tras concat: 106624\n"
     ]
    },
    {
     "name": "stderr",
     "output_type": "stream",
     "text": [
      " 33%|███▎      | 398/1220 [01:48<03:28,  3.95it/s]"
     ]
    },
    {
     "name": "stdout",
     "output_type": "stream",
     "text": [
      "[DEBUG] Procesando audio del índice 589, ruta(s): ['/mnt/c/users/evacantin/desktop/MASTER/HAIA/Trabajo/MMUSED-fallacy/audio_clips/32_2004/289.wav', '/mnt/c/users/evacantin/desktop/MASTER/HAIA/Trabajo/MMUSED-fallacy/audio_clips/32_2004/290.wav', '/mnt/c/users/evacantin/desktop/MASTER/HAIA/Trabajo/MMUSED-fallacy/audio_clips/32_2004/291.wav', '/mnt/c/users/evacantin/desktop/MASTER/HAIA/Trabajo/MMUSED-fallacy/audio_clips/32_2004/292.wav'] - longitud tras concat: 161392\n"
     ]
    },
    {
     "name": "stderr",
     "output_type": "stream",
     "text": [
      " 33%|███▎      | 399/1220 [01:48<03:23,  4.03it/s]"
     ]
    },
    {
     "name": "stdout",
     "output_type": "stream",
     "text": [
      "[DEBUG] Procesando audio del índice 598, ruta(s): ['/mnt/c/users/evacantin/desktop/MASTER/HAIA/Trabajo/MMUSED-fallacy/audio_clips/32_2004/417.wav'] - longitud tras concat: 132528\n"
     ]
    },
    {
     "name": "stderr",
     "output_type": "stream",
     "text": [
      " 33%|███▎      | 400/1220 [01:49<03:21,  4.08it/s]"
     ]
    },
    {
     "name": "stdout",
     "output_type": "stream",
     "text": [
      "[DEBUG] Procesando audio del índice 894, ruta(s): ['/mnt/c/users/evacantin/desktop/MASTER/HAIA/Trabajo/MMUSED-fallacy/audio_clips/9_1980/649.wav'] - longitud tras concat: 112368\n"
     ]
    },
    {
     "name": "stderr",
     "output_type": "stream",
     "text": [
      " 33%|███▎      | 401/1220 [01:49<03:20,  4.08it/s]"
     ]
    },
    {
     "name": "stdout",
     "output_type": "stream",
     "text": [
      "[DEBUG] Procesando audio del índice 1121, ruta(s): ['/mnt/c/users/evacantin/desktop/MASTER/HAIA/Trabajo/MMUSED-fallacy/audio_clips/44_2020/1753.wav'] - longitud tras concat: 48336\n"
     ]
    },
    {
     "name": "stderr",
     "output_type": "stream",
     "text": [
      " 33%|███▎      | 402/1220 [01:49<03:24,  4.00it/s]"
     ]
    },
    {
     "name": "stdout",
     "output_type": "stream",
     "text": [
      "[DEBUG] Procesando audio del índice 688, ruta(s): ['/mnt/c/users/evacantin/desktop/MASTER/HAIA/Trabajo/MMUSED-fallacy/audio_clips/36_2008/916.wav'] - longitud tras concat: 37152\n"
     ]
    },
    {
     "name": "stderr",
     "output_type": "stream",
     "text": [
      " 33%|███▎      | 403/1220 [01:49<03:20,  4.08it/s]"
     ]
    },
    {
     "name": "stdout",
     "output_type": "stream",
     "text": [
      "[DEBUG] Procesando audio del índice 131, ruta(s): ['/mnt/c/users/evacantin/desktop/MASTER/HAIA/Trabajo/MMUSED-fallacy/audio_clips/20_1992/311.wav'] - longitud tras concat: 93472\n"
     ]
    },
    {
     "name": "stderr",
     "output_type": "stream",
     "text": [
      " 33%|███▎      | 404/1220 [01:50<03:22,  4.03it/s]"
     ]
    },
    {
     "name": "stdout",
     "output_type": "stream",
     "text": [
      "[DEBUG] Procesando audio del índice 1109, ruta(s): ['/mnt/c/users/evacantin/desktop/MASTER/HAIA/Trabajo/MMUSED-fallacy/audio_clips/44_2020/1073.wav'] - longitud tras concat: 117888\n"
     ]
    },
    {
     "name": "stderr",
     "output_type": "stream",
     "text": [
      " 33%|███▎      | 405/1220 [01:50<03:24,  3.99it/s]"
     ]
    },
    {
     "name": "stdout",
     "output_type": "stream",
     "text": [
      "[DEBUG] Procesando audio del índice 490, ruta(s): ['/mnt/c/users/evacantin/desktop/MASTER/HAIA/Trabajo/MMUSED-fallacy/audio_clips/30_2004/223.wav', '/mnt/c/users/evacantin/desktop/MASTER/HAIA/Trabajo/MMUSED-fallacy/audio_clips/30_2004/224.wav'] - longitud tras concat: 66576\n"
     ]
    },
    {
     "name": "stderr",
     "output_type": "stream",
     "text": [
      " 33%|███▎      | 406/1220 [01:50<03:28,  3.91it/s]"
     ]
    },
    {
     "name": "stdout",
     "output_type": "stream",
     "text": [
      "[DEBUG] Procesando audio del índice 359, ruta(s): ['/mnt/c/users/evacantin/desktop/MASTER/HAIA/Trabajo/MMUSED-fallacy/audio_clips/27_2000/1012.wav'] - longitud tras concat: 232480\n"
     ]
    },
    {
     "name": "stderr",
     "output_type": "stream",
     "text": [
      " 33%|███▎      | 407/1220 [01:50<03:28,  3.90it/s]"
     ]
    },
    {
     "name": "stdout",
     "output_type": "stream",
     "text": [
      "[DEBUG] Procesando audio del índice 441, ruta(s): ['/mnt/c/users/evacantin/desktop/MASTER/HAIA/Trabajo/MMUSED-fallacy/audio_clips/29_2004/1033.wav'] - longitud tras concat: 73312\n"
     ]
    },
    {
     "name": "stderr",
     "output_type": "stream",
     "text": [
      " 33%|███▎      | 408/1220 [01:51<03:25,  3.95it/s]"
     ]
    },
    {
     "name": "stdout",
     "output_type": "stream",
     "text": [
      "[DEBUG] Procesando audio del índice 913, ruta(s): ['/mnt/c/users/evacantin/desktop/MASTER/HAIA/Trabajo/MMUSED-fallacy/audio_clips/13_1988/907.wav', '/mnt/c/users/evacantin/desktop/MASTER/HAIA/Trabajo/MMUSED-fallacy/audio_clips/13_1988/908.wav'] - longitud tras concat: 54112\n"
     ]
    },
    {
     "name": "stderr",
     "output_type": "stream",
     "text": [
      " 34%|███▎      | 409/1220 [01:51<03:21,  4.03it/s]"
     ]
    },
    {
     "name": "stdout",
     "output_type": "stream",
     "text": [
      "[DEBUG] Procesando audio del índice 221, ruta(s): ['/mnt/c/users/evacantin/desktop/MASTER/HAIA/Trabajo/MMUSED-fallacy/audio_clips/22_1996/1033.wav'] - longitud tras concat: 124544\n"
     ]
    },
    {
     "name": "stderr",
     "output_type": "stream",
     "text": [
      " 34%|███▎      | 410/1220 [01:51<03:22,  3.99it/s]"
     ]
    },
    {
     "name": "stdout",
     "output_type": "stream",
     "text": [
      "[DEBUG] Procesando audio del índice 265, ruta(s): ['/mnt/c/users/evacantin/desktop/MASTER/HAIA/Trabajo/MMUSED-fallacy/audio_clips/25_2000/581.wav'] - longitud tras concat: 14400\n"
     ]
    },
    {
     "name": "stderr",
     "output_type": "stream",
     "text": [
      " 34%|███▎      | 411/1220 [01:51<03:24,  3.97it/s]"
     ]
    },
    {
     "name": "stdout",
     "output_type": "stream",
     "text": [
      "[DEBUG] Procesando audio del índice 741, ruta(s): ['/mnt/c/users/evacantin/desktop/MASTER/HAIA/Trabajo/MMUSED-fallacy/audio_clips/3_1960/316.wav'] - longitud tras concat: 150480\n"
     ]
    },
    {
     "name": "stderr",
     "output_type": "stream",
     "text": [
      " 34%|███▍      | 412/1220 [01:52<03:27,  3.90it/s]"
     ]
    },
    {
     "name": "stdout",
     "output_type": "stream",
     "text": [
      "[DEBUG] Procesando audio del índice 821, ruta(s): ['/mnt/c/users/evacantin/desktop/MASTER/HAIA/Trabajo/MMUSED-fallacy/audio_clips/8_1980/49.wav'] - longitud tras concat: 264240\n"
     ]
    },
    {
     "name": "stderr",
     "output_type": "stream",
     "text": [
      " 34%|███▍      | 413/1220 [01:52<03:24,  3.94it/s]"
     ]
    },
    {
     "name": "stdout",
     "output_type": "stream",
     "text": [
      "[DEBUG] Procesando audio del índice 927, ruta(s): ['/mnt/c/users/evacantin/desktop/MASTER/HAIA/Trabajo/MMUSED-fallacy/audio_clips/13_1988/211.wav', '/mnt/c/users/evacantin/desktop/MASTER/HAIA/Trabajo/MMUSED-fallacy/audio_clips/13_1988/212.wav', '/mnt/c/users/evacantin/desktop/MASTER/HAIA/Trabajo/MMUSED-fallacy/audio_clips/13_1988/213.wav', '/mnt/c/users/evacantin/desktop/MASTER/HAIA/Trabajo/MMUSED-fallacy/audio_clips/13_1988/214.wav'] - longitud tras concat: 242016\n"
     ]
    },
    {
     "name": "stderr",
     "output_type": "stream",
     "text": [
      " 34%|███▍      | 414/1220 [01:52<03:26,  3.90it/s]"
     ]
    },
    {
     "name": "stdout",
     "output_type": "stream",
     "text": [
      "[DEBUG] Procesando audio del índice 1024, ruta(s): ['/mnt/c/users/evacantin/desktop/MASTER/HAIA/Trabajo/MMUSED-fallacy/audio_clips/41_2016/1181.wav'] - longitud tras concat: 39696\n"
     ]
    },
    {
     "name": "stderr",
     "output_type": "stream",
     "text": [
      " 34%|███▍      | 415/1220 [01:52<03:24,  3.93it/s]"
     ]
    },
    {
     "name": "stdout",
     "output_type": "stream",
     "text": [
      "[DEBUG] Procesando audio del índice 939, ruta(s): ['/mnt/c/users/evacantin/desktop/MASTER/HAIA/Trabajo/MMUSED-fallacy/audio_clips/13_1988/418.wav'] - longitud tras concat: 295216\n"
     ]
    },
    {
     "name": "stderr",
     "output_type": "stream",
     "text": [
      " 34%|███▍      | 416/1220 [01:53<03:24,  3.94it/s]"
     ]
    },
    {
     "name": "stdout",
     "output_type": "stream",
     "text": [
      "[DEBUG] Procesando audio del índice 1208, ruta(s): ['/mnt/c/users/evacantin/desktop/MASTER/HAIA/Trabajo/MMUSED-fallacy/audio_clips/46_2020/210.wav'] - longitud tras concat: 31072\n"
     ]
    },
    {
     "name": "stderr",
     "output_type": "stream",
     "text": [
      " 34%|███▍      | 417/1220 [01:53<03:24,  3.92it/s]"
     ]
    },
    {
     "name": "stdout",
     "output_type": "stream",
     "text": [
      "[DEBUG] Procesando audio del índice 775, ruta(s): ['/mnt/c/users/evacantin/desktop/MASTER/HAIA/Trabajo/MMUSED-fallacy/audio_clips/6_1976/525.wav'] - longitud tras concat: 101488\n"
     ]
    },
    {
     "name": "stderr",
     "output_type": "stream",
     "text": [
      " 34%|███▍      | 418/1220 [01:53<03:27,  3.87it/s]"
     ]
    },
    {
     "name": "stdout",
     "output_type": "stream",
     "text": [
      "[DEBUG] Procesando audio del índice 307, ruta(s): ['/mnt/c/users/evacantin/desktop/MASTER/HAIA/Trabajo/MMUSED-fallacy/audio_clips/26_2000/388.wav', '/mnt/c/users/evacantin/desktop/MASTER/HAIA/Trabajo/MMUSED-fallacy/audio_clips/26_2000/389.wav'] - longitud tras concat: 45472\n"
     ]
    },
    {
     "name": "stderr",
     "output_type": "stream",
     "text": [
      " 34%|███▍      | 419/1220 [01:53<03:19,  4.02it/s]"
     ]
    },
    {
     "name": "stdout",
     "output_type": "stream",
     "text": [
      "[DEBUG] Procesando audio del índice 611, ruta(s): ['/mnt/c/users/evacantin/desktop/MASTER/HAIA/Trabajo/MMUSED-fallacy/audio_clips/32_2004/557.wav', '/mnt/c/users/evacantin/desktop/MASTER/HAIA/Trabajo/MMUSED-fallacy/audio_clips/32_2004/558.wav'] - longitud tras concat: 341392\n"
     ]
    },
    {
     "name": "stderr",
     "output_type": "stream",
     "text": [
      " 34%|███▍      | 420/1220 [01:54<03:22,  3.96it/s]"
     ]
    },
    {
     "name": "stdout",
     "output_type": "stream",
     "text": [
      "[DEBUG] Procesando audio del índice 587, ruta(s): ['/mnt/c/users/evacantin/desktop/MASTER/HAIA/Trabajo/MMUSED-fallacy/audio_clips/32_2004/243.wav'] - longitud tras concat: 157264\n"
     ]
    },
    {
     "name": "stderr",
     "output_type": "stream",
     "text": [
      " 35%|███▍      | 421/1220 [01:54<03:21,  3.97it/s]"
     ]
    },
    {
     "name": "stdout",
     "output_type": "stream",
     "text": [
      "[DEBUG] Procesando audio del índice 345, ruta(s): ['/mnt/c/users/evacantin/desktop/MASTER/HAIA/Trabajo/MMUSED-fallacy/audio_clips/27_2000/602.wav'] - longitud tras concat: 84544\n"
     ]
    },
    {
     "name": "stderr",
     "output_type": "stream",
     "text": [
      " 35%|███▍      | 422/1220 [01:54<03:19,  4.00it/s]"
     ]
    },
    {
     "name": "stdout",
     "output_type": "stream",
     "text": [
      "[DEBUG] Procesando audio del índice 1198, ruta(s): ['/mnt/c/users/evacantin/desktop/MASTER/HAIA/Trabajo/MMUSED-fallacy/audio_clips/46_2020/468.wav'] - longitud tras concat: 73040\n"
     ]
    },
    {
     "name": "stderr",
     "output_type": "stream",
     "text": [
      " 35%|███▍      | 423/1220 [01:54<03:21,  3.95it/s]"
     ]
    },
    {
     "name": "stdout",
     "output_type": "stream",
     "text": [
      "[DEBUG] Procesando audio del índice 736, ruta(s): ['/mnt/c/users/evacantin/desktop/MASTER/HAIA/Trabajo/MMUSED-fallacy/audio_clips/3_1960/296.wav'] - longitud tras concat: 119776\n"
     ]
    },
    {
     "name": "stderr",
     "output_type": "stream",
     "text": [
      " 35%|███▍      | 424/1220 [01:55<03:24,  3.89it/s]"
     ]
    },
    {
     "name": "stdout",
     "output_type": "stream",
     "text": [
      "[DEBUG] Procesando audio del índice 423, ruta(s): ['/mnt/c/users/evacantin/desktop/MASTER/HAIA/Trabajo/MMUSED-fallacy/audio_clips/29_2004/646.wav'] - longitud tras concat: 20496\n"
     ]
    },
    {
     "name": "stderr",
     "output_type": "stream",
     "text": [
      " 35%|███▍      | 425/1220 [01:55<03:21,  3.94it/s]"
     ]
    },
    {
     "name": "stdout",
     "output_type": "stream",
     "text": [
      "[DEBUG] Procesando audio del índice 155, ruta(s): ['/mnt/c/users/evacantin/desktop/MASTER/HAIA/Trabajo/MMUSED-fallacy/audio_clips/21_1992/243.wav'] - longitud tras concat: 144048\n"
     ]
    },
    {
     "name": "stderr",
     "output_type": "stream",
     "text": [
      " 35%|███▍      | 426/1220 [01:55<03:24,  3.88it/s]"
     ]
    },
    {
     "name": "stdout",
     "output_type": "stream",
     "text": [
      "[DEBUG] Procesando audio del índice 416, ruta(s): ['/mnt/c/users/evacantin/desktop/MASTER/HAIA/Trabajo/MMUSED-fallacy/audio_clips/29_2004/474.wav', '/mnt/c/users/evacantin/desktop/MASTER/HAIA/Trabajo/MMUSED-fallacy/audio_clips/29_2004/475.wav', '/mnt/c/users/evacantin/desktop/MASTER/HAIA/Trabajo/MMUSED-fallacy/audio_clips/29_2004/476.wav', '/mnt/c/users/evacantin/desktop/MASTER/HAIA/Trabajo/MMUSED-fallacy/audio_clips/29_2004/477.wav'] - longitud tras concat: 141168\n"
     ]
    },
    {
     "name": "stderr",
     "output_type": "stream",
     "text": [
      " 35%|███▌      | 427/1220 [01:55<03:24,  3.87it/s]"
     ]
    },
    {
     "name": "stdout",
     "output_type": "stream",
     "text": [
      "[DEBUG] Procesando audio del índice 203, ruta(s): ['/mnt/c/users/evacantin/desktop/MASTER/HAIA/Trabajo/MMUSED-fallacy/audio_clips/22_1996/597.wav'] - longitud tras concat: 250304\n"
     ]
    },
    {
     "name": "stderr",
     "output_type": "stream",
     "text": [
      " 35%|███▌      | 428/1220 [01:56<03:23,  3.90it/s]"
     ]
    },
    {
     "name": "stdout",
     "output_type": "stream",
     "text": [
      "[DEBUG] Procesando audio del índice 782, ruta(s): ['/mnt/c/users/evacantin/desktop/MASTER/HAIA/Trabajo/MMUSED-fallacy/audio_clips/6_1976/137.wav'] - longitud tras concat: 127776\n"
     ]
    },
    {
     "name": "stderr",
     "output_type": "stream",
     "text": [
      " 35%|███▌      | 429/1220 [01:56<03:20,  3.95it/s]"
     ]
    },
    {
     "name": "stdout",
     "output_type": "stream",
     "text": [
      "[DEBUG] Procesando audio del índice 652, ruta(s): ['/mnt/c/users/evacantin/desktop/MASTER/HAIA/Trabajo/MMUSED-fallacy/audio_clips/33_2008/926.wav', '/mnt/c/users/evacantin/desktop/MASTER/HAIA/Trabajo/MMUSED-fallacy/audio_clips/33_2008/927.wav', '/mnt/c/users/evacantin/desktop/MASTER/HAIA/Trabajo/MMUSED-fallacy/audio_clips/33_2008/928.wav'] - longitud tras concat: 68192\n"
     ]
    },
    {
     "name": "stderr",
     "output_type": "stream",
     "text": [
      " 35%|███▌      | 430/1220 [01:56<03:22,  3.90it/s]"
     ]
    },
    {
     "name": "stdout",
     "output_type": "stream",
     "text": [
      "[DEBUG] Procesando audio del índice 855, ruta(s): ['/mnt/c/users/evacantin/desktop/MASTER/HAIA/Trabajo/MMUSED-fallacy/audio_clips/9_1980/170.wav', '/mnt/c/users/evacantin/desktop/MASTER/HAIA/Trabajo/MMUSED-fallacy/audio_clips/9_1980/172.wav'] - longitud tras concat: 635328\n"
     ]
    },
    {
     "name": "stderr",
     "output_type": "stream",
     "text": [
      " 35%|███▌      | 431/1220 [01:56<03:22,  3.89it/s]"
     ]
    },
    {
     "name": "stdout",
     "output_type": "stream",
     "text": [
      "[DEBUG] Procesando audio del índice 576, ruta(s): ['/mnt/c/users/evacantin/desktop/MASTER/HAIA/Trabajo/MMUSED-fallacy/audio_clips/32_2004/1014.wav'] - longitud tras concat: 140832\n"
     ]
    },
    {
     "name": "stderr",
     "output_type": "stream",
     "text": [
      " 35%|███▌      | 432/1220 [01:57<03:24,  3.86it/s]"
     ]
    },
    {
     "name": "stdout",
     "output_type": "stream",
     "text": [
      "[DEBUG] Procesando audio del índice 697, ruta(s): ['/mnt/c/users/evacantin/desktop/MASTER/HAIA/Trabajo/MMUSED-fallacy/audio_clips/39_2012/1183.wav'] - longitud tras concat: 71072\n"
     ]
    },
    {
     "name": "stderr",
     "output_type": "stream",
     "text": [
      " 35%|███▌      | 433/1220 [01:57<03:22,  3.89it/s]"
     ]
    },
    {
     "name": "stdout",
     "output_type": "stream",
     "text": [
      "[DEBUG] Procesando audio del índice 1056, ruta(s): ['/mnt/c/users/evacantin/desktop/MASTER/HAIA/Trabajo/MMUSED-fallacy/audio_clips/42_2016/417.wav'] - longitud tras concat: 40336\n"
     ]
    },
    {
     "name": "stderr",
     "output_type": "stream",
     "text": [
      " 36%|███▌      | 434/1220 [01:57<03:24,  3.84it/s]"
     ]
    },
    {
     "name": "stdout",
     "output_type": "stream",
     "text": [
      "[DEBUG] Procesando audio del índice 687, ruta(s): ['/mnt/c/users/evacantin/desktop/MASTER/HAIA/Trabajo/MMUSED-fallacy/audio_clips/36_2008/900.wav'] - longitud tras concat: 32336\n"
     ]
    },
    {
     "name": "stderr",
     "output_type": "stream",
     "text": [
      " 36%|███▌      | 435/1220 [01:58<03:42,  3.52it/s]"
     ]
    },
    {
     "name": "stdout",
     "output_type": "stream",
     "text": [
      "[DEBUG] Procesando audio del índice 887, ruta(s): ['/mnt/c/users/evacantin/desktop/MASTER/HAIA/Trabajo/MMUSED-fallacy/audio_clips/9_1980/572.wav'] - longitud tras concat: 368768\n"
     ]
    },
    {
     "name": "stderr",
     "output_type": "stream",
     "text": [
      " 36%|███▌      | 436/1220 [01:58<03:37,  3.61it/s]"
     ]
    },
    {
     "name": "stdout",
     "output_type": "stream",
     "text": [
      "[DEBUG] Procesando audio del índice 890, ruta(s): ['/mnt/c/users/evacantin/desktop/MASTER/HAIA/Trabajo/MMUSED-fallacy/audio_clips/9_1980/616.wav', '/mnt/c/users/evacantin/desktop/MASTER/HAIA/Trabajo/MMUSED-fallacy/audio_clips/9_1980/617.wav'] - longitud tras concat: 268224\n"
     ]
    },
    {
     "name": "stderr",
     "output_type": "stream",
     "text": [
      " 36%|███▌      | 437/1220 [01:58<03:25,  3.81it/s]"
     ]
    },
    {
     "name": "stdout",
     "output_type": "stream",
     "text": [
      "[DEBUG] Procesando audio del índice 672, ruta(s): ['/mnt/c/users/evacantin/desktop/MASTER/HAIA/Trabajo/MMUSED-fallacy/audio_clips/36_2008/460.wav'] - longitud tras concat: 211312\n"
     ]
    },
    {
     "name": "stderr",
     "output_type": "stream",
     "text": [
      " 36%|███▌      | 438/1220 [01:58<03:25,  3.80it/s]"
     ]
    },
    {
     "name": "stdout",
     "output_type": "stream",
     "text": [
      "[DEBUG] Procesando audio del índice 506, ruta(s): ['/mnt/c/users/evacantin/desktop/MASTER/HAIA/Trabajo/MMUSED-fallacy/audio_clips/30_2004/478.wav'] - longitud tras concat: 57616\n"
     ]
    },
    {
     "name": "stderr",
     "output_type": "stream",
     "text": [
      " 36%|███▌      | 439/1220 [01:59<03:17,  3.95it/s]"
     ]
    },
    {
     "name": "stdout",
     "output_type": "stream",
     "text": [
      "[DEBUG] Procesando audio del índice 311, ruta(s): ['/mnt/c/users/evacantin/desktop/MASTER/HAIA/Trabajo/MMUSED-fallacy/audio_clips/26_2000/417.wav', '/mnt/c/users/evacantin/desktop/MASTER/HAIA/Trabajo/MMUSED-fallacy/audio_clips/26_2000/418.wav'] - longitud tras concat: 254800\n"
     ]
    },
    {
     "name": "stderr",
     "output_type": "stream",
     "text": [
      " 36%|███▌      | 440/1220 [01:59<03:22,  3.85it/s]"
     ]
    },
    {
     "name": "stdout",
     "output_type": "stream",
     "text": [
      "[DEBUG] Procesando audio del índice 1068, ruta(s): ['/mnt/c/users/evacantin/desktop/MASTER/HAIA/Trabajo/MMUSED-fallacy/audio_clips/43_2016/522.wav'] - longitud tras concat: 28176\n"
     ]
    },
    {
     "name": "stderr",
     "output_type": "stream",
     "text": [
      " 36%|███▌      | 441/1220 [01:59<03:20,  3.88it/s]"
     ]
    },
    {
     "name": "stdout",
     "output_type": "stream",
     "text": [
      "[DEBUG] Procesando audio del índice 1139, ruta(s): ['/mnt/c/users/evacantin/desktop/MASTER/HAIA/Trabajo/MMUSED-fallacy/audio_clips/45_2020/847.wav'] - longitud tras concat: 49008\n"
     ]
    },
    {
     "name": "stderr",
     "output_type": "stream",
     "text": [
      " 36%|███▌      | 442/1220 [01:59<03:23,  3.83it/s]"
     ]
    },
    {
     "name": "stdout",
     "output_type": "stream",
     "text": [
      "[DEBUG] Procesando audio del índice 215, ruta(s): ['/mnt/c/users/evacantin/desktop/MASTER/HAIA/Trabajo/MMUSED-fallacy/audio_clips/22_1996/851.wav', '/mnt/c/users/evacantin/desktop/MASTER/HAIA/Trabajo/MMUSED-fallacy/audio_clips/22_1996/852.wav'] - longitud tras concat: 114032\n"
     ]
    },
    {
     "name": "stderr",
     "output_type": "stream",
     "text": [
      " 36%|███▋      | 443/1220 [02:00<03:18,  3.91it/s]"
     ]
    },
    {
     "name": "stdout",
     "output_type": "stream",
     "text": [
      "[DEBUG] Procesando audio del índice 862, ruta(s): ['/mnt/c/users/evacantin/desktop/MASTER/HAIA/Trabajo/MMUSED-fallacy/audio_clips/9_1980/264.wav'] - longitud tras concat: 186480\n"
     ]
    },
    {
     "name": "stderr",
     "output_type": "stream",
     "text": [
      " 36%|███▋      | 444/1220 [02:00<03:18,  3.92it/s]"
     ]
    },
    {
     "name": "stdout",
     "output_type": "stream",
     "text": [
      "[DEBUG] Procesando audio del índice 433, ruta(s): ['/mnt/c/users/evacantin/desktop/MASTER/HAIA/Trabajo/MMUSED-fallacy/audio_clips/29_2004/689.wav', '/mnt/c/users/evacantin/desktop/MASTER/HAIA/Trabajo/MMUSED-fallacy/audio_clips/29_2004/690.wav', '/mnt/c/users/evacantin/desktop/MASTER/HAIA/Trabajo/MMUSED-fallacy/audio_clips/29_2004/691.wav'] - longitud tras concat: 213248\n"
     ]
    },
    {
     "name": "stderr",
     "output_type": "stream",
     "text": [
      " 36%|███▋      | 445/1220 [02:00<03:19,  3.88it/s]"
     ]
    },
    {
     "name": "stdout",
     "output_type": "stream",
     "text": [
      "[DEBUG] Procesando audio del índice 238, ruta(s): ['/mnt/c/users/evacantin/desktop/MASTER/HAIA/Trabajo/MMUSED-fallacy/audio_clips/23_1996/218.wav'] - longitud tras concat: 154384\n"
     ]
    },
    {
     "name": "stderr",
     "output_type": "stream",
     "text": [
      " 37%|███▋      | 446/1220 [02:00<03:19,  3.88it/s]"
     ]
    },
    {
     "name": "stdout",
     "output_type": "stream",
     "text": [
      "[DEBUG] Procesando audio del índice 136, ruta(s): ['/mnt/c/users/evacantin/desktop/MASTER/HAIA/Trabajo/MMUSED-fallacy/audio_clips/20_1992/446.wav'] - longitud tras concat: 209152\n"
     ]
    },
    {
     "name": "stderr",
     "output_type": "stream",
     "text": [
      " 37%|███▋      | 447/1220 [02:01<03:18,  3.90it/s]"
     ]
    },
    {
     "name": "stdout",
     "output_type": "stream",
     "text": [
      "[DEBUG] Procesando audio del índice 132, ruta(s): ['/mnt/c/users/evacantin/desktop/MASTER/HAIA/Trabajo/MMUSED-fallacy/audio_clips/20_1992/335.wav', '/mnt/c/users/evacantin/desktop/MASTER/HAIA/Trabajo/MMUSED-fallacy/audio_clips/20_1992/336.wav', '/mnt/c/users/evacantin/desktop/MASTER/HAIA/Trabajo/MMUSED-fallacy/audio_clips/20_1992/337.wav'] - longitud tras concat: 48656\n"
     ]
    },
    {
     "name": "stderr",
     "output_type": "stream",
     "text": [
      " 37%|███▋      | 448/1220 [02:01<03:16,  3.93it/s]"
     ]
    },
    {
     "name": "stdout",
     "output_type": "stream",
     "text": [
      "[DEBUG] Procesando audio del índice 218, ruta(s): ['/mnt/c/users/evacantin/desktop/MASTER/HAIA/Trabajo/MMUSED-fallacy/audio_clips/22_1996/984.wav'] - longitud tras concat: 63088\n"
     ]
    },
    {
     "name": "stderr",
     "output_type": "stream",
     "text": [
      " 37%|███▋      | 449/1220 [02:01<03:14,  3.97it/s]"
     ]
    },
    {
     "name": "stdout",
     "output_type": "stream",
     "text": [
      "[DEBUG] Procesando audio del índice 72, ruta(s): ['/mnt/c/users/evacantin/desktop/MASTER/HAIA/Trabajo/MMUSED-fallacy/audio_clips/18_1992/688.wav', '/mnt/c/users/evacantin/desktop/MASTER/HAIA/Trabajo/MMUSED-fallacy/audio_clips/18_1992/689.wav'] - longitud tras concat: 85824\n"
     ]
    },
    {
     "name": "stderr",
     "output_type": "stream",
     "text": [
      " 37%|███▋      | 450/1220 [02:01<03:19,  3.85it/s]"
     ]
    },
    {
     "name": "stdout",
     "output_type": "stream",
     "text": [
      "[DEBUG] Procesando audio del índice 767, ruta(s): ['/mnt/c/users/evacantin/desktop/MASTER/HAIA/Trabajo/MMUSED-fallacy/audio_clips/5_1976/84.wav'] - longitud tras concat: 71408\n"
     ]
    },
    {
     "name": "stderr",
     "output_type": "stream",
     "text": [
      " 37%|███▋      | 451/1220 [02:03<08:44,  1.46it/s]"
     ]
    },
    {
     "name": "stdout",
     "output_type": "stream",
     "text": [
      "[DEBUG] Procesando audio del índice 324, ruta(s): ['/mnt/c/users/evacantin/desktop/MASTER/HAIA/Trabajo/MMUSED-fallacy/audio_clips/27_2000/145.wav'] - longitud tras concat: 20160\n"
     ]
    },
    {
     "name": "stderr",
     "output_type": "stream",
     "text": [
      " 37%|███▋      | 452/1220 [02:03<07:06,  1.80it/s]"
     ]
    },
    {
     "name": "stdout",
     "output_type": "stream",
     "text": [
      "[DEBUG] Procesando audio del índice 789, ruta(s): ['/mnt/c/users/evacantin/desktop/MASTER/HAIA/Trabajo/MMUSED-fallacy/audio_clips/6_1976/376.wav'] - longitud tras concat: 91552\n"
     ]
    },
    {
     "name": "stderr",
     "output_type": "stream",
     "text": [
      " 37%|███▋      | 453/1220 [02:04<05:57,  2.15it/s]"
     ]
    },
    {
     "name": "stdout",
     "output_type": "stream",
     "text": [
      "[DEBUG] Procesando audio del índice 1057, ruta(s): ['/mnt/c/users/evacantin/desktop/MASTER/HAIA/Trabajo/MMUSED-fallacy/audio_clips/42_2016/424.wav'] - longitud tras concat: 63712\n"
     ]
    },
    {
     "name": "stderr",
     "output_type": "stream",
     "text": [
      " 37%|███▋      | 454/1220 [02:04<05:12,  2.45it/s]"
     ]
    },
    {
     "name": "stdout",
     "output_type": "stream",
     "text": [
      "[DEBUG] Procesando audio del índice 535, ruta(s): ['/mnt/c/users/evacantin/desktop/MASTER/HAIA/Trabajo/MMUSED-fallacy/audio_clips/31_2004/1242.wav'] - longitud tras concat: 115232\n"
     ]
    },
    {
     "name": "stderr",
     "output_type": "stream",
     "text": [
      " 37%|███▋      | 455/1220 [02:04<04:36,  2.76it/s]"
     ]
    },
    {
     "name": "stdout",
     "output_type": "stream",
     "text": [
      "[DEBUG] Procesando audio del índice 93, ruta(s): ['/mnt/c/users/evacantin/desktop/MASTER/HAIA/Trabajo/MMUSED-fallacy/audio_clips/1_1960/141.wav'] - longitud tras concat: 220960\n"
     ]
    },
    {
     "name": "stderr",
     "output_type": "stream",
     "text": [
      " 37%|███▋      | 456/1220 [02:04<04:08,  3.07it/s]"
     ]
    },
    {
     "name": "stdout",
     "output_type": "stream",
     "text": [
      "[DEBUG] Procesando audio del índice 547, ruta(s): ['/mnt/c/users/evacantin/desktop/MASTER/HAIA/Trabajo/MMUSED-fallacy/audio_clips/31_2004/315.wav'] - longitud tras concat: 242064\n"
     ]
    },
    {
     "name": "stderr",
     "output_type": "stream",
     "text": [
      " 37%|███▋      | 457/1220 [02:05<03:49,  3.33it/s]"
     ]
    },
    {
     "name": "stdout",
     "output_type": "stream",
     "text": [
      "[DEBUG] Procesando audio del índice 372, ruta(s): ['/mnt/c/users/evacantin/desktop/MASTER/HAIA/Trabajo/MMUSED-fallacy/audio_clips/28_2000/909.wav'] - longitud tras concat: 40016\n"
     ]
    },
    {
     "name": "stderr",
     "output_type": "stream",
     "text": [
      " 38%|███▊      | 458/1220 [02:05<03:41,  3.44it/s]"
     ]
    },
    {
     "name": "stdout",
     "output_type": "stream",
     "text": [
      "[DEBUG] Procesando audio del índice 412, ruta(s): ['/mnt/c/users/evacantin/desktop/MASTER/HAIA/Trabajo/MMUSED-fallacy/audio_clips/29_2004/372.wav'] - longitud tras concat: 209216\n"
     ]
    },
    {
     "name": "stderr",
     "output_type": "stream",
     "text": [
      " 38%|███▊      | 459/1220 [02:05<03:28,  3.64it/s]"
     ]
    },
    {
     "name": "stdout",
     "output_type": "stream",
     "text": [
      "[DEBUG] Procesando audio del índice 1193, ruta(s): ['/mnt/c/users/evacantin/desktop/MASTER/HAIA/Trabajo/MMUSED-fallacy/audio_clips/46_2020/144.wav', '/mnt/c/users/evacantin/desktop/MASTER/HAIA/Trabajo/MMUSED-fallacy/audio_clips/46_2020/145.wav'] - longitud tras concat: 154608\n"
     ]
    },
    {
     "name": "stderr",
     "output_type": "stream",
     "text": [
      " 38%|███▊      | 460/1220 [02:05<03:24,  3.72it/s]"
     ]
    },
    {
     "name": "stdout",
     "output_type": "stream",
     "text": [
      "[DEBUG] Procesando audio del índice 137, ruta(s): ['/mnt/c/users/evacantin/desktop/MASTER/HAIA/Trabajo/MMUSED-fallacy/audio_clips/20_1992/453.wav'] - longitud tras concat: 44496\n"
     ]
    },
    {
     "name": "stderr",
     "output_type": "stream",
     "text": [
      " 38%|███▊      | 461/1220 [02:06<03:19,  3.81it/s]"
     ]
    },
    {
     "name": "stdout",
     "output_type": "stream",
     "text": [
      "[DEBUG] Procesando audio del índice 1035, ruta(s): ['/mnt/c/users/evacantin/desktop/MASTER/HAIA/Trabajo/MMUSED-fallacy/audio_clips/42_2016/105.wav'] - longitud tras concat: 16000\n"
     ]
    },
    {
     "name": "stderr",
     "output_type": "stream",
     "text": [
      " 38%|███▊      | 462/1220 [02:06<03:22,  3.74it/s]"
     ]
    },
    {
     "name": "stdout",
     "output_type": "stream",
     "text": [
      "[DEBUG] Procesando audio del índice 1012, ruta(s): ['/mnt/c/users/evacantin/desktop/MASTER/HAIA/Trabajo/MMUSED-fallacy/audio_clips/41_2016/857.wav', '/mnt/c/users/evacantin/desktop/MASTER/HAIA/Trabajo/MMUSED-fallacy/audio_clips/41_2016/858.wav'] - longitud tras concat: 47072\n"
     ]
    },
    {
     "name": "stderr",
     "output_type": "stream",
     "text": [
      " 38%|███▊      | 463/1220 [02:06<03:17,  3.83it/s]"
     ]
    },
    {
     "name": "stdout",
     "output_type": "stream",
     "text": [
      "[DEBUG] Procesando audio del índice 802, ruta(s): ['/mnt/c/users/evacantin/desktop/MASTER/HAIA/Trabajo/MMUSED-fallacy/audio_clips/7_1976/494.wav', '/mnt/c/users/evacantin/desktop/MASTER/HAIA/Trabajo/MMUSED-fallacy/audio_clips/7_1976/495.wav'] - longitud tras concat: 66912\n"
     ]
    },
    {
     "name": "stderr",
     "output_type": "stream",
     "text": [
      " 38%|███▊      | 464/1220 [02:06<03:13,  3.90it/s]"
     ]
    },
    {
     "name": "stdout",
     "output_type": "stream",
     "text": [
      "[DEBUG] Procesando audio del índice 1019, ruta(s): ['/mnt/c/users/evacantin/desktop/MASTER/HAIA/Trabajo/MMUSED-fallacy/audio_clips/41_2016/1170.wav'] - longitud tras concat: 29136\n"
     ]
    },
    {
     "name": "stderr",
     "output_type": "stream",
     "text": [
      " 38%|███▊      | 465/1220 [02:07<03:13,  3.91it/s]"
     ]
    },
    {
     "name": "stdout",
     "output_type": "stream",
     "text": [
      "[DEBUG] Procesando audio del índice 494, ruta(s): ['/mnt/c/users/evacantin/desktop/MASTER/HAIA/Trabajo/MMUSED-fallacy/audio_clips/30_2004/915.wav'] - longitud tras concat: 117776\n"
     ]
    },
    {
     "name": "stderr",
     "output_type": "stream",
     "text": [
      " 38%|███▊      | 466/1220 [02:07<03:10,  3.95it/s]"
     ]
    },
    {
     "name": "stdout",
     "output_type": "stream",
     "text": [
      "[DEBUG] Procesando audio del índice 1030, ruta(s): ['/mnt/c/users/evacantin/desktop/MASTER/HAIA/Trabajo/MMUSED-fallacy/audio_clips/42_2016/50.wav'] - longitud tras concat: 47056\n"
     ]
    },
    {
     "name": "stderr",
     "output_type": "stream",
     "text": [
      " 38%|███▊      | 467/1220 [02:07<03:09,  3.97it/s]"
     ]
    },
    {
     "name": "stdout",
     "output_type": "stream",
     "text": [
      "[DEBUG] Procesando audio del índice 732, ruta(s): ['/mnt/c/users/evacantin/desktop/MASTER/HAIA/Trabajo/MMUSED-fallacy/audio_clips/3_1960/258.wav'] - longitud tras concat: 109184\n"
     ]
    },
    {
     "name": "stderr",
     "output_type": "stream",
     "text": [
      " 38%|███▊      | 468/1220 [02:07<03:08,  4.00it/s]"
     ]
    },
    {
     "name": "stdout",
     "output_type": "stream",
     "text": [
      "[DEBUG] Procesando audio del índice 536, ruta(s): ['/mnt/c/users/evacantin/desktop/MASTER/HAIA/Trabajo/MMUSED-fallacy/audio_clips/31_2004/1243.wav'] - longitud tras concat: 87056\n"
     ]
    },
    {
     "name": "stderr",
     "output_type": "stream",
     "text": [
      " 38%|███▊      | 469/1220 [02:08<03:08,  3.99it/s]"
     ]
    },
    {
     "name": "stdout",
     "output_type": "stream",
     "text": [
      "[DEBUG] Procesando audio del índice 258, ruta(s): ['/mnt/c/users/evacantin/desktop/MASTER/HAIA/Trabajo/MMUSED-fallacy/audio_clips/25_2000/318.wav'] - longitud tras concat: 116256\n"
     ]
    },
    {
     "name": "stderr",
     "output_type": "stream",
     "text": [
      " 39%|███▊      | 470/1220 [02:08<03:13,  3.87it/s]"
     ]
    },
    {
     "name": "stdout",
     "output_type": "stream",
     "text": [
      "[DEBUG] Procesando audio del índice 334, ruta(s): ['/mnt/c/users/evacantin/desktop/MASTER/HAIA/Trabajo/MMUSED-fallacy/audio_clips/27_2000/397.wav', '/mnt/c/users/evacantin/desktop/MASTER/HAIA/Trabajo/MMUSED-fallacy/audio_clips/27_2000/398.wav'] - longitud tras concat: 244944\n"
     ]
    },
    {
     "name": "stderr",
     "output_type": "stream",
     "text": [
      " 39%|███▊      | 471/1220 [02:08<03:11,  3.92it/s]"
     ]
    },
    {
     "name": "stdout",
     "output_type": "stream",
     "text": [
      "[DEBUG] Procesando audio del índice 467, ruta(s): ['/mnt/c/users/evacantin/desktop/MASTER/HAIA/Trabajo/MMUSED-fallacy/audio_clips/2_1960/170.wav'] - longitud tras concat: 128368\n"
     ]
    },
    {
     "name": "stderr",
     "output_type": "stream",
     "text": [
      " 39%|███▊      | 472/1220 [02:08<03:11,  3.90it/s]"
     ]
    },
    {
     "name": "stdout",
     "output_type": "stream",
     "text": [
      "[DEBUG] Procesando audio del índice 1106, ruta(s): ['/mnt/c/users/evacantin/desktop/MASTER/HAIA/Trabajo/MMUSED-fallacy/audio_clips/44_2020/868.wav'] - longitud tras concat: 23056\n"
     ]
    },
    {
     "name": "stderr",
     "output_type": "stream",
     "text": [
      " 39%|███▉      | 473/1220 [02:09<03:13,  3.86it/s]"
     ]
    },
    {
     "name": "stdout",
     "output_type": "stream",
     "text": [
      "[DEBUG] Procesando audio del índice 648, ruta(s): ['/mnt/c/users/evacantin/desktop/MASTER/HAIA/Trabajo/MMUSED-fallacy/audio_clips/33_2008/724.wav'] - longitud tras concat: 73984\n"
     ]
    },
    {
     "name": "stderr",
     "output_type": "stream",
     "text": [
      " 39%|███▉      | 474/1220 [02:09<03:15,  3.81it/s]"
     ]
    },
    {
     "name": "stdout",
     "output_type": "stream",
     "text": [
      "[DEBUG] Procesando audio del índice 868, ruta(s): ['/mnt/c/users/evacantin/desktop/MASTER/HAIA/Trabajo/MMUSED-fallacy/audio_clips/9_1980/290.wav'] - longitud tras concat: 162992\n"
     ]
    },
    {
     "name": "stderr",
     "output_type": "stream",
     "text": [
      " 39%|███▉      | 475/1220 [02:09<03:13,  3.84it/s]"
     ]
    },
    {
     "name": "stdout",
     "output_type": "stream",
     "text": [
      "[DEBUG] Procesando audio del índice 915, ruta(s): ['/mnt/c/users/evacantin/desktop/MASTER/HAIA/Trabajo/MMUSED-fallacy/audio_clips/13_1988/110.wav'] - longitud tras concat: 127696\n"
     ]
    },
    {
     "name": "stderr",
     "output_type": "stream",
     "text": [
      " 39%|███▉      | 476/1220 [02:09<03:14,  3.83it/s]"
     ]
    },
    {
     "name": "stdout",
     "output_type": "stream",
     "text": [
      "[DEBUG] Procesando audio del índice 990, ruta(s): ['/mnt/c/users/evacantin/desktop/MASTER/HAIA/Trabajo/MMUSED-fallacy/audio_clips/41_2016/698.wav'] - longitud tras concat: 93152\n"
     ]
    },
    {
     "name": "stderr",
     "output_type": "stream",
     "text": [
      " 39%|███▉      | 477/1220 [02:10<03:10,  3.89it/s]"
     ]
    },
    {
     "name": "stdout",
     "output_type": "stream",
     "text": [
      "[DEBUG] Procesando audio del índice 266, ruta(s): ['/mnt/c/users/evacantin/desktop/MASTER/HAIA/Trabajo/MMUSED-fallacy/audio_clips/25_2000/615.wav'] - longitud tras concat: 47392\n"
     ]
    },
    {
     "name": "stderr",
     "output_type": "stream",
     "text": [
      " 39%|███▉      | 478/1220 [02:10<03:13,  3.84it/s]"
     ]
    },
    {
     "name": "stdout",
     "output_type": "stream",
     "text": [
      "[DEBUG] Procesando audio del índice 513, ruta(s): ['/mnt/c/users/evacantin/desktop/MASTER/HAIA/Trabajo/MMUSED-fallacy/audio_clips/31_2004/52.wav'] - longitud tras concat: 16336\n"
     ]
    },
    {
     "name": "stderr",
     "output_type": "stream",
     "text": [
      " 39%|███▉      | 479/1220 [02:10<03:12,  3.85it/s]"
     ]
    },
    {
     "name": "stdout",
     "output_type": "stream",
     "text": [
      "[DEBUG] Procesando audio del índice 319, ruta(s): ['/mnt/c/users/evacantin/desktop/MASTER/HAIA/Trabajo/MMUSED-fallacy/audio_clips/27_2000/101.wav'] - longitud tras concat: 163360\n"
     ]
    },
    {
     "name": "stderr",
     "output_type": "stream",
     "text": [
      " 39%|███▉      | 480/1220 [02:10<03:12,  3.85it/s]"
     ]
    },
    {
     "name": "stdout",
     "output_type": "stream",
     "text": [
      "[DEBUG] Procesando audio del índice 1143, ruta(s): ['/mnt/c/users/evacantin/desktop/MASTER/HAIA/Trabajo/MMUSED-fallacy/audio_clips/45_2020/520.wav'] - longitud tras concat: 90912\n"
     ]
    },
    {
     "name": "stderr",
     "output_type": "stream",
     "text": [
      " 39%|███▉      | 481/1220 [02:11<03:10,  3.88it/s]"
     ]
    },
    {
     "name": "stdout",
     "output_type": "stream",
     "text": [
      "[DEBUG] Procesando audio del índice 124, ruta(s): ['/mnt/c/users/evacantin/desktop/MASTER/HAIA/Trabajo/MMUSED-fallacy/audio_clips/20_1992/256.wav'] - longitud tras concat: 89984\n"
     ]
    },
    {
     "name": "stderr",
     "output_type": "stream",
     "text": [
      " 40%|███▉      | 482/1220 [02:11<03:11,  3.86it/s]"
     ]
    },
    {
     "name": "stdout",
     "output_type": "stream",
     "text": [
      "[DEBUG] Procesando audio del índice 481, ruta(s): ['/mnt/c/users/evacantin/desktop/MASTER/HAIA/Trabajo/MMUSED-fallacy/audio_clips/30_2004/102.wav'] - longitud tras concat: 147872\n"
     ]
    },
    {
     "name": "stderr",
     "output_type": "stream",
     "text": [
      " 40%|███▉      | 483/1220 [02:11<03:05,  3.97it/s]"
     ]
    },
    {
     "name": "stdout",
     "output_type": "stream",
     "text": [
      "[DEBUG] Procesando audio del índice 838, ruta(s): ['/mnt/c/users/evacantin/desktop/MASTER/HAIA/Trabajo/MMUSED-fallacy/audio_clips/8_1980/400.wav'] - longitud tras concat: 633504\n"
     ]
    },
    {
     "name": "stderr",
     "output_type": "stream",
     "text": [
      " 40%|███▉      | 484/1220 [02:12<03:06,  3.94it/s]"
     ]
    },
    {
     "name": "stdout",
     "output_type": "stream",
     "text": [
      "[DEBUG] Procesando audio del índice 644, ruta(s): ['/mnt/c/users/evacantin/desktop/MASTER/HAIA/Trabajo/MMUSED-fallacy/audio_clips/33_2008/531.wav'] - longitud tras concat: 184032\n"
     ]
    },
    {
     "name": "stderr",
     "output_type": "stream",
     "text": [
      " 40%|███▉      | 485/1220 [02:12<03:06,  3.95it/s]"
     ]
    },
    {
     "name": "stdout",
     "output_type": "stream",
     "text": [
      "[DEBUG] Procesando audio del índice 477, ruta(s): ['/mnt/c/users/evacantin/desktop/MASTER/HAIA/Trabajo/MMUSED-fallacy/audio_clips/2_1960/316.wav'] - longitud tras concat: 304128\n"
     ]
    },
    {
     "name": "stderr",
     "output_type": "stream",
     "text": [
      " 40%|███▉      | 486/1220 [02:12<03:09,  3.88it/s]"
     ]
    },
    {
     "name": "stdout",
     "output_type": "stream",
     "text": [
      "[DEBUG] Procesando audio del índice 882, ruta(s): ['/mnt/c/users/evacantin/desktop/MASTER/HAIA/Trabajo/MMUSED-fallacy/audio_clips/9_1980/524.wav'] - longitud tras concat: 151152\n"
     ]
    },
    {
     "name": "stderr",
     "output_type": "stream",
     "text": [
      " 40%|███▉      | 487/1220 [02:12<03:06,  3.93it/s]"
     ]
    },
    {
     "name": "stdout",
     "output_type": "stream",
     "text": [
      "[DEBUG] Procesando audio del índice 147, ruta(s): ['/mnt/c/users/evacantin/desktop/MASTER/HAIA/Trabajo/MMUSED-fallacy/audio_clips/20_1992/487.wav'] - longitud tras concat: 231776\n"
     ]
    },
    {
     "name": "stderr",
     "output_type": "stream",
     "text": [
      " 40%|████      | 488/1220 [02:13<03:25,  3.55it/s]"
     ]
    },
    {
     "name": "stdout",
     "output_type": "stream",
     "text": [
      "[DEBUG] Procesando audio del índice 654, ruta(s): ['/mnt/c/users/evacantin/desktop/MASTER/HAIA/Trabajo/MMUSED-fallacy/audio_clips/35_2008/41.wav'] - longitud tras concat: 116848\n"
     ]
    },
    {
     "name": "stderr",
     "output_type": "stream",
     "text": [
      " 40%|████      | 489/1220 [02:13<03:17,  3.69it/s]"
     ]
    },
    {
     "name": "stdout",
     "output_type": "stream",
     "text": [
      "[DEBUG] Procesando audio del índice 1154, ruta(s): ['/mnt/c/users/evacantin/desktop/MASTER/HAIA/Trabajo/MMUSED-fallacy/audio_clips/45_2020/77.wav'] - longitud tras concat: 131552\n"
     ]
    },
    {
     "name": "stderr",
     "output_type": "stream",
     "text": [
      " 40%|████      | 490/1220 [02:13<03:21,  3.62it/s]"
     ]
    },
    {
     "name": "stdout",
     "output_type": "stream",
     "text": [
      "[DEBUG] Procesando audio del índice 875, ruta(s): ['/mnt/c/users/evacantin/desktop/MASTER/HAIA/Trabajo/MMUSED-fallacy/audio_clips/9_1980/403.wav'] - longitud tras concat: 61168\n"
     ]
    },
    {
     "name": "stderr",
     "output_type": "stream",
     "text": [
      " 40%|████      | 491/1220 [02:13<03:19,  3.66it/s]"
     ]
    },
    {
     "name": "stdout",
     "output_type": "stream",
     "text": [
      "[DEBUG] Procesando audio del índice 113, ruta(s): ['/mnt/c/users/evacantin/desktop/MASTER/HAIA/Trabajo/MMUSED-fallacy/audio_clips/20_1992/99.wav'] - longitud tras concat: 220400\n"
     ]
    },
    {
     "name": "stderr",
     "output_type": "stream",
     "text": [
      " 40%|████      | 492/1220 [02:14<03:13,  3.76it/s]"
     ]
    },
    {
     "name": "stdout",
     "output_type": "stream",
     "text": [
      "[DEBUG] Procesando audio del índice 1070, ruta(s): ['/mnt/c/users/evacantin/desktop/MASTER/HAIA/Trabajo/MMUSED-fallacy/audio_clips/44_2020/376.wav'] - longitud tras concat: 177328\n"
     ]
    },
    {
     "name": "stderr",
     "output_type": "stream",
     "text": [
      " 40%|████      | 493/1220 [02:14<03:12,  3.78it/s]"
     ]
    },
    {
     "name": "stdout",
     "output_type": "stream",
     "text": [
      "[DEBUG] Procesando audio del índice 702, ruta(s): ['/mnt/c/users/evacantin/desktop/MASTER/HAIA/Trabajo/MMUSED-fallacy/audio_clips/39_2012/505.wav', '/mnt/c/users/evacantin/desktop/MASTER/HAIA/Trabajo/MMUSED-fallacy/audio_clips/39_2012/506.wav'] - longitud tras concat: 186032\n"
     ]
    },
    {
     "name": "stderr",
     "output_type": "stream",
     "text": [
      " 40%|████      | 494/1220 [02:14<03:14,  3.73it/s]"
     ]
    },
    {
     "name": "stdout",
     "output_type": "stream",
     "text": [
      "[DEBUG] Procesando audio del índice 623, ruta(s): ['/mnt/c/users/evacantin/desktop/MASTER/HAIA/Trabajo/MMUSED-fallacy/audio_clips/33_2008/161.wav'] - longitud tras concat: 181536\n"
     ]
    },
    {
     "name": "stderr",
     "output_type": "stream",
     "text": [
      " 41%|████      | 495/1220 [02:14<03:10,  3.80it/s]"
     ]
    },
    {
     "name": "stdout",
     "output_type": "stream",
     "text": [
      "[DEBUG] Procesando audio del índice 655, ruta(s): ['/mnt/c/users/evacantin/desktop/MASTER/HAIA/Trabajo/MMUSED-fallacy/audio_clips/35_2008/97.wav'] - longitud tras concat: 238464\n"
     ]
    },
    {
     "name": "stderr",
     "output_type": "stream",
     "text": [
      " 41%|████      | 496/1220 [02:15<03:07,  3.86it/s]"
     ]
    },
    {
     "name": "stdout",
     "output_type": "stream",
     "text": [
      "[DEBUG] Procesando audio del índice 987, ruta(s): ['/mnt/c/users/evacantin/desktop/MASTER/HAIA/Trabajo/MMUSED-fallacy/audio_clips/41_2016/436.wav', '/mnt/c/users/evacantin/desktop/MASTER/HAIA/Trabajo/MMUSED-fallacy/audio_clips/41_2016/437.wav'] - longitud tras concat: 259168\n"
     ]
    },
    {
     "name": "stderr",
     "output_type": "stream",
     "text": [
      " 41%|████      | 497/1220 [02:15<03:05,  3.90it/s]"
     ]
    },
    {
     "name": "stdout",
     "output_type": "stream",
     "text": [
      "[DEBUG] Procesando audio del índice 453, ruta(s): ['/mnt/c/users/evacantin/desktop/MASTER/HAIA/Trabajo/MMUSED-fallacy/audio_clips/2_1960/372.wav'] - longitud tras concat: 105872\n"
     ]
    },
    {
     "name": "stderr",
     "output_type": "stream",
     "text": [
      " 41%|████      | 498/1220 [02:15<03:07,  3.85it/s]"
     ]
    },
    {
     "name": "stdout",
     "output_type": "stream",
     "text": [
      "[DEBUG] Procesando audio del índice 514, ruta(s): ['/mnt/c/users/evacantin/desktop/MASTER/HAIA/Trabajo/MMUSED-fallacy/audio_clips/31_2004/60.wav'] - longitud tras concat: 38432\n"
     ]
    },
    {
     "name": "stderr",
     "output_type": "stream",
     "text": [
      " 41%|████      | 499/1220 [02:15<03:02,  3.96it/s]"
     ]
    },
    {
     "name": "stdout",
     "output_type": "stream",
     "text": [
      "[DEBUG] Procesando audio del índice 527, ruta(s): ['/mnt/c/users/evacantin/desktop/MASTER/HAIA/Trabajo/MMUSED-fallacy/audio_clips/31_2004/1162.wav'] - longitud tras concat: 372384\n"
     ]
    },
    {
     "name": "stderr",
     "output_type": "stream",
     "text": [
      " 41%|████      | 500/1220 [02:16<03:00,  3.99it/s]"
     ]
    },
    {
     "name": "stdout",
     "output_type": "stream",
     "text": [
      "[DEBUG] Procesando audio del índice 963, ruta(s): ['/mnt/c/users/evacantin/desktop/MASTER/HAIA/Trabajo/MMUSED-fallacy/audio_clips/41_2016/138.wav'] - longitud tras concat: 33952\n"
     ]
    },
    {
     "name": "stderr",
     "output_type": "stream",
     "text": [
      " 41%|████      | 501/1220 [02:16<03:01,  3.97it/s]"
     ]
    },
    {
     "name": "stdout",
     "output_type": "stream",
     "text": [
      "[DEBUG] Procesando audio del índice 863, ruta(s): ['/mnt/c/users/evacantin/desktop/MASTER/HAIA/Trabajo/MMUSED-fallacy/audio_clips/9_1980/274.wav'] - longitud tras concat: 184000\n"
     ]
    },
    {
     "name": "stderr",
     "output_type": "stream",
     "text": [
      " 41%|████      | 502/1220 [02:16<03:01,  3.95it/s]"
     ]
    },
    {
     "name": "stdout",
     "output_type": "stream",
     "text": [
      "[DEBUG] Procesando audio del índice 12, ruta(s): ['/mnt/c/users/evacantin/desktop/MASTER/HAIA/Trabajo/MMUSED-fallacy/audio_clips/10_1984/623.wav'] - longitud tras concat: 220624\n"
     ]
    },
    {
     "name": "stderr",
     "output_type": "stream",
     "text": [
      " 41%|████      | 503/1220 [02:16<03:01,  3.95it/s]"
     ]
    },
    {
     "name": "stdout",
     "output_type": "stream",
     "text": [
      "[DEBUG] Procesando audio del índice 200, ruta(s): ['/mnt/c/users/evacantin/desktop/MASTER/HAIA/Trabajo/MMUSED-fallacy/audio_clips/22_1996/538.wav'] - longitud tras concat: 99872\n"
     ]
    },
    {
     "name": "stderr",
     "output_type": "stream",
     "text": [
      " 41%|████▏     | 504/1220 [02:17<03:05,  3.87it/s]"
     ]
    },
    {
     "name": "stdout",
     "output_type": "stream",
     "text": [
      "[DEBUG] Procesando audio del índice 336, ruta(s): ['/mnt/c/users/evacantin/desktop/MASTER/HAIA/Trabajo/MMUSED-fallacy/audio_clips/27_2000/267.wav'] - longitud tras concat: 116240\n"
     ]
    },
    {
     "name": "stderr",
     "output_type": "stream",
     "text": [
      " 41%|████▏     | 505/1220 [02:17<03:07,  3.81it/s]"
     ]
    },
    {
     "name": "stdout",
     "output_type": "stream",
     "text": [
      "[DEBUG] Procesando audio del índice 102, ruta(s): ['/mnt/c/users/evacantin/desktop/MASTER/HAIA/Trabajo/MMUSED-fallacy/audio_clips/1_1960/193.wav'] - longitud tras concat: 124256\n"
     ]
    },
    {
     "name": "stderr",
     "output_type": "stream",
     "text": [
      " 41%|████▏     | 506/1220 [02:17<03:01,  3.93it/s]"
     ]
    },
    {
     "name": "stdout",
     "output_type": "stream",
     "text": [
      "[DEBUG] Procesando audio del índice 967, ruta(s): ['/mnt/c/users/evacantin/desktop/MASTER/HAIA/Trabajo/MMUSED-fallacy/audio_clips/41_2016/79.wav'] - longitud tras concat: 146048\n"
     ]
    },
    {
     "name": "stderr",
     "output_type": "stream",
     "text": [
      " 42%|████▏     | 507/1220 [02:18<03:02,  3.92it/s]"
     ]
    },
    {
     "name": "stdout",
     "output_type": "stream",
     "text": [
      "[DEBUG] Procesando audio del índice 772, ruta(s): ['/mnt/c/users/evacantin/desktop/MASTER/HAIA/Trabajo/MMUSED-fallacy/audio_clips/6_1976/39.wav', '/mnt/c/users/evacantin/desktop/MASTER/HAIA/Trabajo/MMUSED-fallacy/audio_clips/6_1976/40.wav'] - longitud tras concat: 221520\n"
     ]
    },
    {
     "name": "stderr",
     "output_type": "stream",
     "text": [
      " 42%|████▏     | 508/1220 [02:18<03:00,  3.94it/s]"
     ]
    },
    {
     "name": "stdout",
     "output_type": "stream",
     "text": [
      "[DEBUG] Procesando audio del índice 530, ruta(s): ['/mnt/c/users/evacantin/desktop/MASTER/HAIA/Trabajo/MMUSED-fallacy/audio_clips/31_2004/1189.wav'] - longitud tras concat: 28816\n"
     ]
    },
    {
     "name": "stderr",
     "output_type": "stream",
     "text": [
      " 42%|████▏     | 509/1220 [02:18<02:59,  3.97it/s]"
     ]
    },
    {
     "name": "stdout",
     "output_type": "stream",
     "text": [
      "[DEBUG] Procesando audio del índice 393, ruta(s): ['/mnt/c/users/evacantin/desktop/MASTER/HAIA/Trabajo/MMUSED-fallacy/audio_clips/29_2004/69.wav'] - longitud tras concat: 108208\n"
     ]
    },
    {
     "name": "stderr",
     "output_type": "stream",
     "text": [
      " 42%|████▏     | 510/1220 [02:18<02:57,  4.00it/s]"
     ]
    },
    {
     "name": "stdout",
     "output_type": "stream",
     "text": [
      "[DEBUG] Procesando audio del índice 944, ruta(s): ['/mnt/c/users/evacantin/desktop/MASTER/HAIA/Trabajo/MMUSED-fallacy/audio_clips/13_1988/518.wav', '/mnt/c/users/evacantin/desktop/MASTER/HAIA/Trabajo/MMUSED-fallacy/audio_clips/13_1988/519.wav', '/mnt/c/users/evacantin/desktop/MASTER/HAIA/Trabajo/MMUSED-fallacy/audio_clips/13_1988/520.wav'] - longitud tras concat: 68512\n"
     ]
    },
    {
     "name": "stderr",
     "output_type": "stream",
     "text": [
      " 42%|████▏     | 511/1220 [02:19<02:56,  4.01it/s]"
     ]
    },
    {
     "name": "stdout",
     "output_type": "stream",
     "text": [
      "[DEBUG] Procesando audio del índice 1009, ruta(s): ['/mnt/c/users/evacantin/desktop/MASTER/HAIA/Trabajo/MMUSED-fallacy/audio_clips/41_2016/955.wav'] - longitud tras concat: 36192\n"
     ]
    },
    {
     "name": "stderr",
     "output_type": "stream",
     "text": [
      " 42%|████▏     | 512/1220 [02:19<03:01,  3.89it/s]"
     ]
    },
    {
     "name": "stdout",
     "output_type": "stream",
     "text": [
      "[DEBUG] Procesando audio del índice 260, ruta(s): ['/mnt/c/users/evacantin/desktop/MASTER/HAIA/Trabajo/MMUSED-fallacy/audio_clips/25_2000/477.wav'] - longitud tras concat: 203312\n"
     ]
    },
    {
     "name": "stderr",
     "output_type": "stream",
     "text": [
      " 42%|████▏     | 513/1220 [02:19<02:57,  3.98it/s]"
     ]
    },
    {
     "name": "stdout",
     "output_type": "stream",
     "text": [
      "[DEBUG] Procesando audio del índice 795, ruta(s): ['/mnt/c/users/evacantin/desktop/MASTER/HAIA/Trabajo/MMUSED-fallacy/audio_clips/6_1976/398.wav'] - longitud tras concat: 66288\n"
     ]
    },
    {
     "name": "stderr",
     "output_type": "stream",
     "text": [
      " 42%|████▏     | 514/1220 [02:19<02:57,  3.97it/s]"
     ]
    },
    {
     "name": "stdout",
     "output_type": "stream",
     "text": [
      "[DEBUG] Procesando audio del índice 626, ruta(s): ['/mnt/c/users/evacantin/desktop/MASTER/HAIA/Trabajo/MMUSED-fallacy/audio_clips/33_2008/494.wav'] - longitud tras concat: 79440\n"
     ]
    },
    {
     "name": "stderr",
     "output_type": "stream",
     "text": [
      " 42%|████▏     | 515/1220 [02:20<02:55,  4.02it/s]"
     ]
    },
    {
     "name": "stdout",
     "output_type": "stream",
     "text": [
      "[DEBUG] Procesando audio del índice 629, ruta(s): ['/mnt/c/users/evacantin/desktop/MASTER/HAIA/Trabajo/MMUSED-fallacy/audio_clips/33_2008/514.wav'] - longitud tras concat: 142976\n"
     ]
    },
    {
     "name": "stderr",
     "output_type": "stream",
     "text": [
      " 42%|████▏     | 516/1220 [02:20<02:53,  4.05it/s]"
     ]
    },
    {
     "name": "stdout",
     "output_type": "stream",
     "text": [
      "[DEBUG] Procesando audio del índice 785, ruta(s): ['/mnt/c/users/evacantin/desktop/MASTER/HAIA/Trabajo/MMUSED-fallacy/audio_clips/6_1976/127.wav'] - longitud tras concat: 191312\n"
     ]
    },
    {
     "name": "stderr",
     "output_type": "stream",
     "text": [
      " 42%|████▏     | 517/1220 [02:20<02:56,  3.99it/s]"
     ]
    },
    {
     "name": "stdout",
     "output_type": "stream",
     "text": [
      "[DEBUG] Procesando audio del índice 90, ruta(s): ['/mnt/c/users/evacantin/desktop/MASTER/HAIA/Trabajo/MMUSED-fallacy/audio_clips/1_1960/75.wav'] - longitud tras concat: 177872\n"
     ]
    },
    {
     "name": "stderr",
     "output_type": "stream",
     "text": [
      " 42%|████▏     | 518/1220 [02:20<02:57,  3.96it/s]"
     ]
    },
    {
     "name": "stdout",
     "output_type": "stream",
     "text": [
      "[DEBUG] Procesando audio del índice 461, ruta(s): ['/mnt/c/users/evacantin/desktop/MASTER/HAIA/Trabajo/MMUSED-fallacy/audio_clips/2_1960/65.wav'] - longitud tras concat: 251152\n"
     ]
    },
    {
     "name": "stderr",
     "output_type": "stream",
     "text": [
      " 43%|████▎     | 519/1220 [02:21<02:56,  3.97it/s]"
     ]
    },
    {
     "name": "stdout",
     "output_type": "stream",
     "text": [
      "[DEBUG] Procesando audio del índice 346, ruta(s): ['/mnt/c/users/evacantin/desktop/MASTER/HAIA/Trabajo/MMUSED-fallacy/audio_clips/27_2000/657.wav'] - longitud tras concat: 214640\n"
     ]
    },
    {
     "name": "stderr",
     "output_type": "stream",
     "text": [
      " 43%|████▎     | 520/1220 [02:21<02:55,  4.00it/s]"
     ]
    },
    {
     "name": "stdout",
     "output_type": "stream",
     "text": [
      "[DEBUG] Procesando audio del índice 641, ruta(s): ['/mnt/c/users/evacantin/desktop/MASTER/HAIA/Trabajo/MMUSED-fallacy/audio_clips/33_2008/592.wav', '/mnt/c/users/evacantin/desktop/MASTER/HAIA/Trabajo/MMUSED-fallacy/audio_clips/33_2008/593.wav', '/mnt/c/users/evacantin/desktop/MASTER/HAIA/Trabajo/MMUSED-fallacy/audio_clips/33_2008/594.wav', '/mnt/c/users/evacantin/desktop/MASTER/HAIA/Trabajo/MMUSED-fallacy/audio_clips/33_2008/595.wav', '/mnt/c/users/evacantin/desktop/MASTER/HAIA/Trabajo/MMUSED-fallacy/audio_clips/33_2008/596.wav', '/mnt/c/users/evacantin/desktop/MASTER/HAIA/Trabajo/MMUSED-fallacy/audio_clips/33_2008/597.wav', '/mnt/c/users/evacantin/desktop/MASTER/HAIA/Trabajo/MMUSED-fallacy/audio_clips/33_2008/598.wav', '/mnt/c/users/evacantin/desktop/MASTER/HAIA/Trabajo/MMUSED-fallacy/audio_clips/33_2008/599.wav'] - longitud tras concat: 717872\n"
     ]
    },
    {
     "name": "stderr",
     "output_type": "stream",
     "text": [
      " 43%|████▎     | 521/1220 [02:21<02:59,  3.90it/s]"
     ]
    },
    {
     "name": "stdout",
     "output_type": "stream",
     "text": [
      "[DEBUG] Procesando audio del índice 30, ruta(s): ['/mnt/c/users/evacantin/desktop/MASTER/HAIA/Trabajo/MMUSED-fallacy/audio_clips/12_1984/255.wav', '/mnt/c/users/evacantin/desktop/MASTER/HAIA/Trabajo/MMUSED-fallacy/audio_clips/12_1984/256.wav'] - longitud tras concat: 156928\n"
     ]
    },
    {
     "name": "stderr",
     "output_type": "stream",
     "text": [
      " 43%|████▎     | 522/1220 [02:21<02:56,  3.95it/s]"
     ]
    },
    {
     "name": "stdout",
     "output_type": "stream",
     "text": [
      "[DEBUG] Procesando audio del índice 248, ruta(s): ['/mnt/c/users/evacantin/desktop/MASTER/HAIA/Trabajo/MMUSED-fallacy/audio_clips/25_2000/987.wav'] - longitud tras concat: 80976\n"
     ]
    },
    {
     "name": "stderr",
     "output_type": "stream",
     "text": [
      " 43%|████▎     | 523/1220 [02:22<02:55,  3.97it/s]"
     ]
    },
    {
     "name": "stdout",
     "output_type": "stream",
     "text": [
      "[DEBUG] Procesando audio del índice 43, ruta(s): ['/mnt/c/users/evacantin/desktop/MASTER/HAIA/Trabajo/MMUSED-fallacy/audio_clips/12_1984/508.wav', '/mnt/c/users/evacantin/desktop/MASTER/HAIA/Trabajo/MMUSED-fallacy/audio_clips/12_1984/509.wav'] - longitud tras concat: 117504\n"
     ]
    },
    {
     "name": "stderr",
     "output_type": "stream",
     "text": [
      " 43%|████▎     | 524/1220 [02:22<02:55,  3.96it/s]"
     ]
    },
    {
     "name": "stdout",
     "output_type": "stream",
     "text": [
      "[DEBUG] Procesando audio del índice 1190, ruta(s): ['/mnt/c/users/evacantin/desktop/MASTER/HAIA/Trabajo/MMUSED-fallacy/audio_clips/46_2020/148.wav'] - longitud tras concat: 63056\n"
     ]
    },
    {
     "name": "stderr",
     "output_type": "stream",
     "text": [
      " 43%|████▎     | 525/1220 [02:22<03:16,  3.53it/s]"
     ]
    },
    {
     "name": "stdout",
     "output_type": "stream",
     "text": [
      "[DEBUG] Procesando audio del índice 232, ruta(s): ['/mnt/c/users/evacantin/desktop/MASTER/HAIA/Trabajo/MMUSED-fallacy/audio_clips/23_1996/112.wav'] - longitud tras concat: 167072\n"
     ]
    },
    {
     "name": "stderr",
     "output_type": "stream",
     "text": [
      " 43%|████▎     | 526/1220 [02:22<03:11,  3.63it/s]"
     ]
    },
    {
     "name": "stdout",
     "output_type": "stream",
     "text": [
      "[DEBUG] Procesando audio del índice 370, ruta(s): ['/mnt/c/users/evacantin/desktop/MASTER/HAIA/Trabajo/MMUSED-fallacy/audio_clips/28_2000/814.wav'] - longitud tras concat: 185440\n"
     ]
    },
    {
     "name": "stderr",
     "output_type": "stream",
     "text": [
      " 43%|████▎     | 527/1220 [02:23<03:08,  3.67it/s]"
     ]
    },
    {
     "name": "stdout",
     "output_type": "stream",
     "text": [
      "[DEBUG] Procesando audio del índice 545, ruta(s): ['/mnt/c/users/evacantin/desktop/MASTER/HAIA/Trabajo/MMUSED-fallacy/audio_clips/31_2004/311.wav'] - longitud tras concat: 10240\n"
     ]
    },
    {
     "name": "stderr",
     "output_type": "stream",
     "text": [
      " 43%|████▎     | 528/1220 [02:23<03:06,  3.71it/s]"
     ]
    },
    {
     "name": "stdout",
     "output_type": "stream",
     "text": [
      "[DEBUG] Procesando audio del índice 554, ruta(s): ['/mnt/c/users/evacantin/desktop/MASTER/HAIA/Trabajo/MMUSED-fallacy/audio_clips/31_2004/756.wav', '/mnt/c/users/evacantin/desktop/MASTER/HAIA/Trabajo/MMUSED-fallacy/audio_clips/31_2004/757.wav', '/mnt/c/users/evacantin/desktop/MASTER/HAIA/Trabajo/MMUSED-fallacy/audio_clips/31_2004/758.wav', '/mnt/c/users/evacantin/desktop/MASTER/HAIA/Trabajo/MMUSED-fallacy/audio_clips/31_2004/759.wav', '/mnt/c/users/evacantin/desktop/MASTER/HAIA/Trabajo/MMUSED-fallacy/audio_clips/31_2004/760.wav', '/mnt/c/users/evacantin/desktop/MASTER/HAIA/Trabajo/MMUSED-fallacy/audio_clips/31_2004/761.wav'] - longitud tras concat: 233168\n"
     ]
    },
    {
     "name": "stderr",
     "output_type": "stream",
     "text": [
      " 43%|████▎     | 529/1220 [02:23<03:02,  3.78it/s]"
     ]
    },
    {
     "name": "stdout",
     "output_type": "stream",
     "text": [
      "[DEBUG] Procesando audio del índice 931, ruta(s): ['/mnt/c/users/evacantin/desktop/MASTER/HAIA/Trabajo/MMUSED-fallacy/audio_clips/13_1988/289.wav', '/mnt/c/users/evacantin/desktop/MASTER/HAIA/Trabajo/MMUSED-fallacy/audio_clips/13_1988/290.wav'] - longitud tras concat: 71072\n"
     ]
    },
    {
     "name": "stderr",
     "output_type": "stream",
     "text": [
      " 43%|████▎     | 530/1220 [02:23<03:00,  3.82it/s]"
     ]
    },
    {
     "name": "stdout",
     "output_type": "stream",
     "text": [
      "[DEBUG] Procesando audio del índice 27, ruta(s): ['/mnt/c/users/evacantin/desktop/MASTER/HAIA/Trabajo/MMUSED-fallacy/audio_clips/12_1984/207.wav', '/mnt/c/users/evacantin/desktop/MASTER/HAIA/Trabajo/MMUSED-fallacy/audio_clips/12_1984/208.wav'] - longitud tras concat: 72368\n"
     ]
    },
    {
     "name": "stderr",
     "output_type": "stream",
     "text": [
      " 44%|████▎     | 531/1220 [02:24<02:56,  3.91it/s]"
     ]
    },
    {
     "name": "stdout",
     "output_type": "stream",
     "text": [
      "[DEBUG] Procesando audio del índice 517, ruta(s): ['/mnt/c/users/evacantin/desktop/MASTER/HAIA/Trabajo/MMUSED-fallacy/audio_clips/31_2004/903.wav'] - longitud tras concat: 49648\n"
     ]
    },
    {
     "name": "stderr",
     "output_type": "stream",
     "text": [
      " 44%|████▎     | 532/1220 [02:24<02:51,  4.01it/s]"
     ]
    },
    {
     "name": "stdout",
     "output_type": "stream",
     "text": [
      "[DEBUG] Procesando audio del índice 320, ruta(s): ['/mnt/c/users/evacantin/desktop/MASTER/HAIA/Trabajo/MMUSED-fallacy/audio_clips/27_2000/102.wav'] - longitud tras concat: 40032\n"
     ]
    },
    {
     "name": "stderr",
     "output_type": "stream",
     "text": [
      " 44%|████▎     | 533/1220 [02:24<02:56,  3.89it/s]"
     ]
    },
    {
     "name": "stdout",
     "output_type": "stream",
     "text": [
      "[DEBUG] Procesando audio del índice 1207, ruta(s): ['/mnt/c/users/evacantin/desktop/MASTER/HAIA/Trabajo/MMUSED-fallacy/audio_clips/46_2020/85.wav'] - longitud tras concat: 181792\n"
     ]
    },
    {
     "name": "stderr",
     "output_type": "stream",
     "text": [
      " 44%|████▍     | 534/1220 [02:24<02:52,  3.97it/s]"
     ]
    },
    {
     "name": "stdout",
     "output_type": "stream",
     "text": [
      "[DEBUG] Procesando audio del índice 14, ruta(s): ['/mnt/c/users/evacantin/desktop/MASTER/HAIA/Trabajo/MMUSED-fallacy/audio_clips/10_1984/656.wav', '/mnt/c/users/evacantin/desktop/MASTER/HAIA/Trabajo/MMUSED-fallacy/audio_clips/10_1984/658.wav', '/mnt/c/users/evacantin/desktop/MASTER/HAIA/Trabajo/MMUSED-fallacy/audio_clips/10_1984/659.wav'] - longitud tras concat: 2196288\n"
     ]
    },
    {
     "name": "stderr",
     "output_type": "stream",
     "text": [
      " 44%|████▍     | 535/1220 [02:25<02:52,  3.98it/s]"
     ]
    },
    {
     "name": "stdout",
     "output_type": "stream",
     "text": [
      "[DEBUG] Procesando audio del índice 492, ruta(s): ['/mnt/c/users/evacantin/desktop/MASTER/HAIA/Trabajo/MMUSED-fallacy/audio_clips/30_2004/941.wav'] - longitud tras concat: 138656\n"
     ]
    },
    {
     "name": "stderr",
     "output_type": "stream",
     "text": [
      " 44%|████▍     | 536/1220 [02:25<02:51,  3.99it/s]"
     ]
    },
    {
     "name": "stdout",
     "output_type": "stream",
     "text": [
      "[DEBUG] Procesando audio del índice 1077, ruta(s): ['/mnt/c/users/evacantin/desktop/MASTER/HAIA/Trabajo/MMUSED-fallacy/audio_clips/44_2020/114.wav'] - longitud tras concat: 105952\n"
     ]
    },
    {
     "name": "stderr",
     "output_type": "stream",
     "text": [
      " 44%|████▍     | 537/1220 [02:25<02:50,  4.01it/s]"
     ]
    },
    {
     "name": "stdout",
     "output_type": "stream",
     "text": [
      "[DEBUG] Procesando audio del índice 34, ruta(s): ['/mnt/c/users/evacantin/desktop/MASTER/HAIA/Trabajo/MMUSED-fallacy/audio_clips/12_1984/318.wav', '/mnt/c/users/evacantin/desktop/MASTER/HAIA/Trabajo/MMUSED-fallacy/audio_clips/12_1984/319.wav'] - longitud tras concat: 101200\n"
     ]
    },
    {
     "name": "stderr",
     "output_type": "stream",
     "text": [
      " 44%|████▍     | 538/1220 [02:25<02:49,  4.03it/s]"
     ]
    },
    {
     "name": "stdout",
     "output_type": "stream",
     "text": [
      "[DEBUG] Procesando audio del índice 919, ruta(s): ['/mnt/c/users/evacantin/desktop/MASTER/HAIA/Trabajo/MMUSED-fallacy/audio_clips/13_1988/135.wav'] - longitud tras concat: 137664\n"
     ]
    },
    {
     "name": "stderr",
     "output_type": "stream",
     "text": [
      " 44%|████▍     | 539/1220 [02:27<05:57,  1.90it/s]"
     ]
    },
    {
     "name": "stdout",
     "output_type": "stream",
     "text": [
      "[DEBUG] Procesando audio del índice 1075, ruta(s): ['/mnt/c/users/evacantin/desktop/MASTER/HAIA/Trabajo/MMUSED-fallacy/audio_clips/44_2020/1139.wav'] - longitud tras concat: 34592\n"
     ]
    },
    {
     "name": "stderr",
     "output_type": "stream",
     "text": [
      " 44%|████▍     | 540/1220 [02:27<05:06,  2.22it/s]"
     ]
    },
    {
     "name": "stdout",
     "output_type": "stream",
     "text": [
      "[DEBUG] Procesando audio del índice 826, ruta(s): ['/mnt/c/users/evacantin/desktop/MASTER/HAIA/Trabajo/MMUSED-fallacy/audio_clips/8_1980/156.wav'] - longitud tras concat: 349472\n"
     ]
    },
    {
     "name": "stderr",
     "output_type": "stream",
     "text": [
      " 44%|████▍     | 541/1220 [02:27<04:24,  2.57it/s]"
     ]
    },
    {
     "name": "stdout",
     "output_type": "stream",
     "text": [
      "[DEBUG] Procesando audio del índice 954, ruta(s): ['/mnt/c/users/evacantin/desktop/MASTER/HAIA/Trabajo/MMUSED-fallacy/audio_clips/13_1988/706.wav'] - longitud tras concat: 102432\n"
     ]
    },
    {
     "name": "stderr",
     "output_type": "stream",
     "text": [
      " 44%|████▍     | 542/1220 [02:27<03:59,  2.83it/s]"
     ]
    },
    {
     "name": "stdout",
     "output_type": "stream",
     "text": [
      "[DEBUG] Procesando audio del índice 231, ruta(s): ['/mnt/c/users/evacantin/desktop/MASTER/HAIA/Trabajo/MMUSED-fallacy/audio_clips/23_1996/25.wav'] - longitud tras concat: 82912\n"
     ]
    },
    {
     "name": "stderr",
     "output_type": "stream",
     "text": [
      " 45%|████▍     | 543/1220 [02:28<03:35,  3.14it/s]"
     ]
    },
    {
     "name": "stdout",
     "output_type": "stream",
     "text": [
      "[DEBUG] Procesando audio del índice 574, ruta(s): ['/mnt/c/users/evacantin/desktop/MASTER/HAIA/Trabajo/MMUSED-fallacy/audio_clips/32_2004/1008.wav'] - longitud tras concat: 321424\n"
     ]
    },
    {
     "name": "stderr",
     "output_type": "stream",
     "text": [
      " 45%|████▍     | 544/1220 [02:28<03:20,  3.38it/s]"
     ]
    },
    {
     "name": "stdout",
     "output_type": "stream",
     "text": [
      "[DEBUG] Procesando audio del índice 790, ruta(s): ['/mnt/c/users/evacantin/desktop/MASTER/HAIA/Trabajo/MMUSED-fallacy/audio_clips/6_1976/378.wav'] - longitud tras concat: 130096\n"
     ]
    },
    {
     "name": "stderr",
     "output_type": "stream",
     "text": [
      " 45%|████▍     | 545/1220 [02:28<03:16,  3.44it/s]"
     ]
    },
    {
     "name": "stdout",
     "output_type": "stream",
     "text": [
      "[DEBUG] Procesando audio del índice 1043, ruta(s): ['/mnt/c/users/evacantin/desktop/MASTER/HAIA/Trabajo/MMUSED-fallacy/audio_clips/42_2016/235.wav'] - longitud tras concat: 11216\n"
     ]
    },
    {
     "name": "stderr",
     "output_type": "stream",
     "text": [
      " 45%|████▍     | 546/1220 [02:28<03:07,  3.59it/s]"
     ]
    },
    {
     "name": "stdout",
     "output_type": "stream",
     "text": [
      "[DEBUG] Procesando audio del índice 180, ruta(s): ['/mnt/c/users/evacantin/desktop/MASTER/HAIA/Trabajo/MMUSED-fallacy/audio_clips/22_1996/185.wav'] - longitud tras concat: 189664\n"
     ]
    },
    {
     "name": "stderr",
     "output_type": "stream",
     "text": [
      " 45%|████▍     | 547/1220 [02:29<03:01,  3.71it/s]"
     ]
    },
    {
     "name": "stdout",
     "output_type": "stream",
     "text": [
      "[DEBUG] Procesando audio del índice 373, ruta(s): ['/mnt/c/users/evacantin/desktop/MASTER/HAIA/Trabajo/MMUSED-fallacy/audio_clips/28_2000/928.wav'] - longitud tras concat: 73616\n"
     ]
    },
    {
     "name": "stderr",
     "output_type": "stream",
     "text": [
      " 45%|████▍     | 548/1220 [02:29<03:02,  3.69it/s]"
     ]
    },
    {
     "name": "stdout",
     "output_type": "stream",
     "text": [
      "[DEBUG] Procesando audio del índice 398, ruta(s): ['/mnt/c/users/evacantin/desktop/MASTER/HAIA/Trabajo/MMUSED-fallacy/audio_clips/29_2004/196.wav'] - longitud tras concat: 65008\n"
     ]
    },
    {
     "name": "stderr",
     "output_type": "stream",
     "text": [
      " 45%|████▌     | 549/1220 [02:29<02:59,  3.75it/s]"
     ]
    },
    {
     "name": "stdout",
     "output_type": "stream",
     "text": [
      "[DEBUG] Procesando audio del índice 940, ruta(s): ['/mnt/c/users/evacantin/desktop/MASTER/HAIA/Trabajo/MMUSED-fallacy/audio_clips/13_1988/493.wav'] - longitud tras concat: 201344\n"
     ]
    },
    {
     "name": "stderr",
     "output_type": "stream",
     "text": [
      " 45%|████▌     | 550/1220 [02:29<02:53,  3.87it/s]"
     ]
    },
    {
     "name": "stdout",
     "output_type": "stream",
     "text": [
      "[DEBUG] Procesando audio del índice 439, ruta(s): ['/mnt/c/users/evacantin/desktop/MASTER/HAIA/Trabajo/MMUSED-fallacy/audio_clips/29_2004/856.wav'] - longitud tras concat: 30432\n"
     ]
    },
    {
     "name": "stderr",
     "output_type": "stream",
     "text": [
      " 45%|████▌     | 551/1220 [02:30<02:56,  3.78it/s]"
     ]
    },
    {
     "name": "stdout",
     "output_type": "stream",
     "text": [
      "[DEBUG] Procesando audio del índice 39, ruta(s): ['/mnt/c/users/evacantin/desktop/MASTER/HAIA/Trabajo/MMUSED-fallacy/audio_clips/12_1984/491.wav'] - longitud tras concat: 91232\n"
     ]
    },
    {
     "name": "stderr",
     "output_type": "stream",
     "text": [
      " 45%|████▌     | 552/1220 [02:30<02:57,  3.76it/s]"
     ]
    },
    {
     "name": "stdout",
     "output_type": "stream",
     "text": [
      "[DEBUG] Procesando audio del índice 500, ruta(s): ['/mnt/c/users/evacantin/desktop/MASTER/HAIA/Trabajo/MMUSED-fallacy/audio_clips/30_2004/238.wav'] - longitud tras concat: 140848\n"
     ]
    },
    {
     "name": "stderr",
     "output_type": "stream",
     "text": [
      " 45%|████▌     | 553/1220 [02:30<02:56,  3.79it/s]"
     ]
    },
    {
     "name": "stdout",
     "output_type": "stream",
     "text": [
      "[DEBUG] Procesando audio del índice 634, ruta(s): ['/mnt/c/users/evacantin/desktop/MASTER/HAIA/Trabajo/MMUSED-fallacy/audio_clips/33_2008/611.wav'] - longitud tras concat: 375296\n"
     ]
    },
    {
     "name": "stderr",
     "output_type": "stream",
     "text": [
      " 45%|████▌     | 554/1220 [02:30<02:55,  3.79it/s]"
     ]
    },
    {
     "name": "stdout",
     "output_type": "stream",
     "text": [
      "[DEBUG] Procesando audio del índice 54, ruta(s): ['/mnt/c/users/evacantin/desktop/MASTER/HAIA/Trabajo/MMUSED-fallacy/audio_clips/18_1992/211.wav'] - longitud tras concat: 57344\n"
     ]
    },
    {
     "name": "stderr",
     "output_type": "stream",
     "text": [
      " 45%|████▌     | 555/1220 [02:31<02:50,  3.89it/s]"
     ]
    },
    {
     "name": "stdout",
     "output_type": "stream",
     "text": [
      "[DEBUG] Procesando audio del índice 827, ruta(s): ['/mnt/c/users/evacantin/desktop/MASTER/HAIA/Trabajo/MMUSED-fallacy/audio_clips/8_1980/172.wav'] - longitud tras concat: 256752\n"
     ]
    },
    {
     "name": "stderr",
     "output_type": "stream",
     "text": [
      " 46%|████▌     | 556/1220 [02:31<02:48,  3.94it/s]"
     ]
    },
    {
     "name": "stdout",
     "output_type": "stream",
     "text": [
      "[DEBUG] Procesando audio del índice 447, ruta(s): ['/mnt/c/users/evacantin/desktop/MASTER/HAIA/Trabajo/MMUSED-fallacy/audio_clips/29_2004/994.wav', '/mnt/c/users/evacantin/desktop/MASTER/HAIA/Trabajo/MMUSED-fallacy/audio_clips/29_2004/995.wav'] - longitud tras concat: 141184\n"
     ]
    },
    {
     "name": "stderr",
     "output_type": "stream",
     "text": [
      " 46%|████▌     | 557/1220 [02:31<02:49,  3.91it/s]"
     ]
    },
    {
     "name": "stdout",
     "output_type": "stream",
     "text": [
      "[DEBUG] Procesando audio del índice 358, ruta(s): ['/mnt/c/users/evacantin/desktop/MASTER/HAIA/Trabajo/MMUSED-fallacy/audio_clips/27_2000/935.wav'] - longitud tras concat: 124864\n"
     ]
    },
    {
     "name": "stderr",
     "output_type": "stream",
     "text": [
      " 46%|████▌     | 558/1220 [02:32<02:56,  3.75it/s]"
     ]
    },
    {
     "name": "stdout",
     "output_type": "stream",
     "text": [
      "[DEBUG] Procesando audio del índice 28, ruta(s): ['/mnt/c/users/evacantin/desktop/MASTER/HAIA/Trabajo/MMUSED-fallacy/audio_clips/12_1984/231.wav'] - longitud tras concat: 136096\n"
     ]
    },
    {
     "name": "stderr",
     "output_type": "stream",
     "text": [
      " 46%|████▌     | 559/1220 [02:32<02:52,  3.83it/s]"
     ]
    },
    {
     "name": "stdout",
     "output_type": "stream",
     "text": [
      "[DEBUG] Procesando audio del índice 1191, ruta(s): ['/mnt/c/users/evacantin/desktop/MASTER/HAIA/Trabajo/MMUSED-fallacy/audio_clips/46_2020/263.wav'] - longitud tras concat: 78144\n"
     ]
    },
    {
     "name": "stderr",
     "output_type": "stream",
     "text": [
      " 46%|████▌     | 560/1220 [02:32<02:51,  3.85it/s]"
     ]
    },
    {
     "name": "stdout",
     "output_type": "stream",
     "text": [
      "[DEBUG] Procesando audio del índice 235, ruta(s): ['/mnt/c/users/evacantin/desktop/MASTER/HAIA/Trabajo/MMUSED-fallacy/audio_clips/23_1996/131.wav'] - longitud tras concat: 155952\n"
     ]
    },
    {
     "name": "stderr",
     "output_type": "stream",
     "text": [
      " 46%|████▌     | 561/1220 [02:32<02:49,  3.89it/s]"
     ]
    },
    {
     "name": "stdout",
     "output_type": "stream",
     "text": [
      "[DEBUG] Procesando audio del índice 685, ruta(s): ['/mnt/c/users/evacantin/desktop/MASTER/HAIA/Trabajo/MMUSED-fallacy/audio_clips/36_2008/747.wav', '/mnt/c/users/evacantin/desktop/MASTER/HAIA/Trabajo/MMUSED-fallacy/audio_clips/36_2008/748.wav', '/mnt/c/users/evacantin/desktop/MASTER/HAIA/Trabajo/MMUSED-fallacy/audio_clips/36_2008/749.wav', '/mnt/c/users/evacantin/desktop/MASTER/HAIA/Trabajo/MMUSED-fallacy/audio_clips/36_2008/750.wav', '/mnt/c/users/evacantin/desktop/MASTER/HAIA/Trabajo/MMUSED-fallacy/audio_clips/36_2008/751.wav'] - longitud tras concat: 628912\n"
     ]
    },
    {
     "name": "stderr",
     "output_type": "stream",
     "text": [
      " 46%|████▌     | 562/1220 [02:33<02:49,  3.88it/s]"
     ]
    },
    {
     "name": "stdout",
     "output_type": "stream",
     "text": [
      "[DEBUG] Procesando audio del índice 670, ruta(s): ['/mnt/c/users/evacantin/desktop/MASTER/HAIA/Trabajo/MMUSED-fallacy/audio_clips/36_2008/423.wav'] - longitud tras concat: 125904\n"
     ]
    },
    {
     "name": "stderr",
     "output_type": "stream",
     "text": [
      " 46%|████▌     | 563/1220 [02:33<02:50,  3.86it/s]"
     ]
    },
    {
     "name": "stdout",
     "output_type": "stream",
     "text": [
      "[DEBUG] Procesando audio del índice 1129, ruta(s): ['/mnt/c/users/evacantin/desktop/MASTER/HAIA/Trabajo/MMUSED-fallacy/audio_clips/45_2020/744.wav'] - longitud tras concat: 334032\n"
     ]
    },
    {
     "name": "stderr",
     "output_type": "stream",
     "text": [
      " 46%|████▌     | 564/1220 [02:33<02:48,  3.90it/s]"
     ]
    },
    {
     "name": "stdout",
     "output_type": "stream",
     "text": [
      "[DEBUG] Procesando audio del índice 560, ruta(s): ['/mnt/c/users/evacantin/desktop/MASTER/HAIA/Trabajo/MMUSED-fallacy/audio_clips/32_2004/755.wav'] - longitud tras concat: 168576\n"
     ]
    },
    {
     "name": "stderr",
     "output_type": "stream",
     "text": [
      " 46%|████▋     | 565/1220 [02:33<02:48,  3.88it/s]"
     ]
    },
    {
     "name": "stdout",
     "output_type": "stream",
     "text": [
      "[DEBUG] Procesando audio del índice 798, ruta(s): ['/mnt/c/users/evacantin/desktop/MASTER/HAIA/Trabajo/MMUSED-fallacy/audio_clips/7_1976/436.wav'] - longitud tras concat: 71696\n"
     ]
    },
    {
     "name": "stderr",
     "output_type": "stream",
     "text": [
      " 46%|████▋     | 566/1220 [02:34<03:07,  3.48it/s]"
     ]
    },
    {
     "name": "stdout",
     "output_type": "stream",
     "text": [
      "[DEBUG] Procesando audio del índice 723, ruta(s): ['/mnt/c/users/evacantin/desktop/MASTER/HAIA/Trabajo/MMUSED-fallacy/audio_clips/3_1960/164.wav'] - longitud tras concat: 172272\n"
     ]
    },
    {
     "name": "stderr",
     "output_type": "stream",
     "text": [
      " 46%|████▋     | 567/1220 [02:34<03:00,  3.61it/s]"
     ]
    },
    {
     "name": "stdout",
     "output_type": "stream",
     "text": [
      "[DEBUG] Procesando audio del índice 906, ruta(s): ['/mnt/c/users/evacantin/desktop/MASTER/HAIA/Trabajo/MMUSED-fallacy/audio_clips/13_1988/727.wav'] - longitud tras concat: 129056\n"
     ]
    },
    {
     "name": "stderr",
     "output_type": "stream",
     "text": [
      " 47%|████▋     | 568/1220 [02:34<02:58,  3.66it/s]"
     ]
    },
    {
     "name": "stdout",
     "output_type": "stream",
     "text": [
      "[DEBUG] Procesando audio del índice 974, ruta(s): ['/mnt/c/users/evacantin/desktop/MASTER/HAIA/Trabajo/MMUSED-fallacy/audio_clips/41_2016/101.wav', '/mnt/c/users/evacantin/desktop/MASTER/HAIA/Trabajo/MMUSED-fallacy/audio_clips/41_2016/102.wav'] - longitud tras concat: 192064\n"
     ]
    },
    {
     "name": "stderr",
     "output_type": "stream",
     "text": [
      " 47%|████▋     | 569/1220 [02:34<02:57,  3.67it/s]"
     ]
    },
    {
     "name": "stdout",
     "output_type": "stream",
     "text": [
      "[DEBUG] Procesando audio del índice 491, ruta(s): ['/mnt/c/users/evacantin/desktop/MASTER/HAIA/Trabajo/MMUSED-fallacy/audio_clips/30_2004/105.wav', '/mnt/c/users/evacantin/desktop/MASTER/HAIA/Trabajo/MMUSED-fallacy/audio_clips/30_2004/106.wav', '/mnt/c/users/evacantin/desktop/MASTER/HAIA/Trabajo/MMUSED-fallacy/audio_clips/30_2004/107.wav', '/mnt/c/users/evacantin/desktop/MASTER/HAIA/Trabajo/MMUSED-fallacy/audio_clips/30_2004/108.wav', '/mnt/c/users/evacantin/desktop/MASTER/HAIA/Trabajo/MMUSED-fallacy/audio_clips/30_2004/109.wav'] - longitud tras concat: 451232\n"
     ]
    },
    {
     "name": "stderr",
     "output_type": "stream",
     "text": [
      " 47%|████▋     | 570/1220 [02:35<02:56,  3.68it/s]"
     ]
    },
    {
     "name": "stdout",
     "output_type": "stream",
     "text": [
      "[DEBUG] Procesando audio del índice 213, ruta(s): ['/mnt/c/users/evacantin/desktop/MASTER/HAIA/Trabajo/MMUSED-fallacy/audio_clips/22_1996/842.wav', '/mnt/c/users/evacantin/desktop/MASTER/HAIA/Trabajo/MMUSED-fallacy/audio_clips/22_1996/843.wav'] - longitud tras concat: 97360\n"
     ]
    },
    {
     "name": "stderr",
     "output_type": "stream",
     "text": [
      " 47%|████▋     | 571/1220 [02:35<02:51,  3.78it/s]"
     ]
    },
    {
     "name": "stdout",
     "output_type": "stream",
     "text": [
      "[DEBUG] Procesando audio del índice 1093, ruta(s): ['/mnt/c/users/evacantin/desktop/MASTER/HAIA/Trabajo/MMUSED-fallacy/audio_clips/44_2020/401.wav'] - longitud tras concat: 116272\n"
     ]
    },
    {
     "name": "stderr",
     "output_type": "stream",
     "text": [
      " 47%|████▋     | 572/1220 [02:37<07:09,  1.51it/s]"
     ]
    },
    {
     "name": "stdout",
     "output_type": "stream",
     "text": [
      "[DEBUG] Procesando audio del índice 244, ruta(s): ['/mnt/c/users/evacantin/desktop/MASTER/HAIA/Trabajo/MMUSED-fallacy/audio_clips/25_2000/900.wav'] - longitud tras concat: 30752\n"
     ]
    },
    {
     "name": "stderr",
     "output_type": "stream",
     "text": [
      " 47%|████▋     | 573/1220 [02:37<05:49,  1.85it/s]"
     ]
    },
    {
     "name": "stdout",
     "output_type": "stream",
     "text": [
      "[DEBUG] Procesando audio del índice 973, ruta(s): ['/mnt/c/users/evacantin/desktop/MASTER/HAIA/Trabajo/MMUSED-fallacy/audio_clips/41_2016/195.wav', '/mnt/c/users/evacantin/desktop/MASTER/HAIA/Trabajo/MMUSED-fallacy/audio_clips/41_2016/196.wav', '/mnt/c/users/evacantin/desktop/MASTER/HAIA/Trabajo/MMUSED-fallacy/audio_clips/41_2016/197.wav', '/mnt/c/users/evacantin/desktop/MASTER/HAIA/Trabajo/MMUSED-fallacy/audio_clips/41_2016/198.wav'] - longitud tras concat: 264768\n"
     ]
    },
    {
     "name": "stderr",
     "output_type": "stream",
     "text": [
      " 47%|████▋     | 574/1220 [02:37<04:59,  2.15it/s]"
     ]
    },
    {
     "name": "stdout",
     "output_type": "stream",
     "text": [
      "[DEBUG] Procesando audio del índice 840, ruta(s): ['/mnt/c/users/evacantin/desktop/MASTER/HAIA/Trabajo/MMUSED-fallacy/audio_clips/8_1980/411.wav'] - longitud tras concat: 53168\n"
     ]
    },
    {
     "name": "stderr",
     "output_type": "stream",
     "text": [
      " 47%|████▋     | 575/1220 [02:37<04:20,  2.47it/s]"
     ]
    },
    {
     "name": "stdout",
     "output_type": "stream",
     "text": [
      "[DEBUG] Procesando audio del índice 705, ruta(s): ['/mnt/c/users/evacantin/desktop/MASTER/HAIA/Trabajo/MMUSED-fallacy/audio_clips/39_2012/681.wav', '/mnt/c/users/evacantin/desktop/MASTER/HAIA/Trabajo/MMUSED-fallacy/audio_clips/39_2012/682.wav', '/mnt/c/users/evacantin/desktop/MASTER/HAIA/Trabajo/MMUSED-fallacy/audio_clips/39_2012/683.wav'] - longitud tras concat: 194640\n"
     ]
    },
    {
     "name": "stderr",
     "output_type": "stream",
     "text": [
      " 47%|████▋     | 576/1220 [02:38<03:50,  2.80it/s]"
     ]
    },
    {
     "name": "stdout",
     "output_type": "stream",
     "text": [
      "[DEBUG] Procesando audio del índice 662, ruta(s): ['/mnt/c/users/evacantin/desktop/MASTER/HAIA/Trabajo/MMUSED-fallacy/audio_clips/36_2008/229.wav'] - longitud tras concat: 102160\n"
     ]
    },
    {
     "name": "stderr",
     "output_type": "stream",
     "text": [
      " 47%|████▋     | 577/1220 [02:38<03:26,  3.12it/s]"
     ]
    },
    {
     "name": "stdout",
     "output_type": "stream",
     "text": [
      "[DEBUG] Procesando audio del índice 144, ruta(s): ['/mnt/c/users/evacantin/desktop/MASTER/HAIA/Trabajo/MMUSED-fallacy/audio_clips/20_1992/473.wav', '/mnt/c/users/evacantin/desktop/MASTER/HAIA/Trabajo/MMUSED-fallacy/audio_clips/20_1992/474.wav'] - longitud tras concat: 78128\n"
     ]
    },
    {
     "name": "stderr",
     "output_type": "stream",
     "text": [
      " 47%|████▋     | 578/1220 [02:38<03:15,  3.28it/s]"
     ]
    },
    {
     "name": "stdout",
     "output_type": "stream",
     "text": [
      "[DEBUG] Procesando audio del índice 792, ruta(s): ['/mnt/c/users/evacantin/desktop/MASTER/HAIA/Trabajo/MMUSED-fallacy/audio_clips/6_1976/387.wav', '/mnt/c/users/evacantin/desktop/MASTER/HAIA/Trabajo/MMUSED-fallacy/audio_clips/6_1976/388.wav', '/mnt/c/users/evacantin/desktop/MASTER/HAIA/Trabajo/MMUSED-fallacy/audio_clips/6_1976/389.wav'] - longitud tras concat: 218896\n"
     ]
    },
    {
     "name": "stderr",
     "output_type": "stream",
     "text": [
      " 47%|████▋     | 579/1220 [02:38<03:04,  3.48it/s]"
     ]
    },
    {
     "name": "stdout",
     "output_type": "stream",
     "text": [
      "[DEBUG] Procesando audio del índice 98, ruta(s): ['/mnt/c/users/evacantin/desktop/MASTER/HAIA/Trabajo/MMUSED-fallacy/audio_clips/1_1960/105.wav'] - longitud tras concat: 127456\n"
     ]
    },
    {
     "name": "stderr",
     "output_type": "stream",
     "text": [
      " 48%|████▊     | 580/1220 [02:39<02:57,  3.61it/s]"
     ]
    },
    {
     "name": "stdout",
     "output_type": "stream",
     "text": [
      "[DEBUG] Procesando audio del índice 415, ruta(s): ['/mnt/c/users/evacantin/desktop/MASTER/HAIA/Trabajo/MMUSED-fallacy/audio_clips/29_2004/344.wav'] - longitud tras concat: 175744\n"
     ]
    },
    {
     "name": "stderr",
     "output_type": "stream",
     "text": [
      " 48%|████▊     | 581/1220 [02:39<02:56,  3.61it/s]"
     ]
    },
    {
     "name": "stdout",
     "output_type": "stream",
     "text": [
      "[DEBUG] Procesando audio del índice 226, ruta(s): ['/mnt/c/users/evacantin/desktop/MASTER/HAIA/Trabajo/MMUSED-fallacy/audio_clips/22_1996/1044.wav', '/mnt/c/users/evacantin/desktop/MASTER/HAIA/Trabajo/MMUSED-fallacy/audio_clips/22_1996/1045.wav', '/mnt/c/users/evacantin/desktop/MASTER/HAIA/Trabajo/MMUSED-fallacy/audio_clips/22_1996/1046.wav', '/mnt/c/users/evacantin/desktop/MASTER/HAIA/Trabajo/MMUSED-fallacy/audio_clips/22_1996/1047.wav'] - longitud tras concat: 159120\n"
     ]
    },
    {
     "name": "stderr",
     "output_type": "stream",
     "text": [
      " 48%|████▊     | 582/1220 [02:39<02:48,  3.78it/s]"
     ]
    },
    {
     "name": "stdout",
     "output_type": "stream",
     "text": [
      "[DEBUG] Procesando audio del índice 932, ruta(s): ['/mnt/c/users/evacantin/desktop/MASTER/HAIA/Trabajo/MMUSED-fallacy/audio_clips/13_1988/375.wav'] - longitud tras concat: 123248\n"
     ]
    },
    {
     "name": "stderr",
     "output_type": "stream",
     "text": [
      " 48%|████▊     | 583/1220 [02:39<02:45,  3.86it/s]"
     ]
    },
    {
     "name": "stdout",
     "output_type": "stream",
     "text": [
      "[DEBUG] Procesando audio del índice 355, ruta(s): ['/mnt/c/users/evacantin/desktop/MASTER/HAIA/Trabajo/MMUSED-fallacy/audio_clips/27_2000/783.wav'] - longitud tras concat: 222528\n"
     ]
    },
    {
     "name": "stderr",
     "output_type": "stream",
     "text": [
      " 48%|████▊     | 584/1220 [02:40<02:44,  3.86it/s]"
     ]
    },
    {
     "name": "stdout",
     "output_type": "stream",
     "text": [
      "[DEBUG] Procesando audio del índice 721, ruta(s): ['/mnt/c/users/evacantin/desktop/MASTER/HAIA/Trabajo/MMUSED-fallacy/audio_clips/3_1960/129.wav', '/mnt/c/users/evacantin/desktop/MASTER/HAIA/Trabajo/MMUSED-fallacy/audio_clips/3_1960/130.wav'] - longitud tras concat: 277840\n"
     ]
    },
    {
     "name": "stderr",
     "output_type": "stream",
     "text": [
      " 48%|████▊     | 585/1220 [02:40<02:43,  3.87it/s]"
     ]
    },
    {
     "name": "stdout",
     "output_type": "stream",
     "text": [
      "[DEBUG] Procesando audio del índice 15, ruta(s): ['/mnt/c/users/evacantin/desktop/MASTER/HAIA/Trabajo/MMUSED-fallacy/audio_clips/10_1984/686.wav'] - longitud tras concat: 34256\n"
     ]
    },
    {
     "name": "stderr",
     "output_type": "stream",
     "text": [
      " 48%|████▊     | 586/1220 [02:40<02:41,  3.93it/s]"
     ]
    },
    {
     "name": "stdout",
     "output_type": "stream",
     "text": [
      "[DEBUG] Procesando audio del índice 691, ruta(s): ['/mnt/c/users/evacantin/desktop/MASTER/HAIA/Trabajo/MMUSED-fallacy/audio_clips/36_2008/908.wav'] - longitud tras concat: 323536\n"
     ]
    },
    {
     "name": "stderr",
     "output_type": "stream",
     "text": [
      " 48%|████▊     | 587/1220 [02:40<02:43,  3.87it/s]"
     ]
    },
    {
     "name": "stdout",
     "output_type": "stream",
     "text": [
      "[DEBUG] Procesando audio del índice 633, ruta(s): ['/mnt/c/users/evacantin/desktop/MASTER/HAIA/Trabajo/MMUSED-fallacy/audio_clips/33_2008/606.wav'] - longitud tras concat: 76832\n"
     ]
    },
    {
     "name": "stderr",
     "output_type": "stream",
     "text": [
      " 48%|████▊     | 588/1220 [02:41<02:43,  3.88it/s]"
     ]
    },
    {
     "name": "stdout",
     "output_type": "stream",
     "text": [
      "[DEBUG] Procesando audio del índice 410, ruta(s): ['/mnt/c/users/evacantin/desktop/MASTER/HAIA/Trabajo/MMUSED-fallacy/audio_clips/29_2004/433.wav'] - longitud tras concat: 81680\n"
     ]
    },
    {
     "name": "stderr",
     "output_type": "stream",
     "text": [
      " 48%|████▊     | 589/1220 [02:41<02:42,  3.89it/s]"
     ]
    },
    {
     "name": "stdout",
     "output_type": "stream",
     "text": [
      "[DEBUG] Procesando audio del índice 958, ruta(s): ['/mnt/c/users/evacantin/desktop/MASTER/HAIA/Trabajo/MMUSED-fallacy/audio_clips/41_2016/301.wav'] - longitud tras concat: 47072\n"
     ]
    },
    {
     "name": "stderr",
     "output_type": "stream",
     "text": [
      " 48%|████▊     | 590/1220 [02:41<02:42,  3.87it/s]"
     ]
    },
    {
     "name": "stdout",
     "output_type": "stream",
     "text": [
      "[DEBUG] Procesando audio del índice 1115, ruta(s): ['/mnt/c/users/evacantin/desktop/MASTER/HAIA/Trabajo/MMUSED-fallacy/audio_clips/44_2020/1458.wav'] - longitud tras concat: 27888\n"
     ]
    },
    {
     "name": "stderr",
     "output_type": "stream",
     "text": [
      " 48%|████▊     | 591/1220 [02:41<02:43,  3.84it/s]"
     ]
    },
    {
     "name": "stdout",
     "output_type": "stream",
     "text": [
      "[DEBUG] Procesando audio del índice 922, ruta(s): ['/mnt/c/users/evacantin/desktop/MASTER/HAIA/Trabajo/MMUSED-fallacy/audio_clips/13_1988/117.wav'] - longitud tras concat: 64976\n"
     ]
    },
    {
     "name": "stderr",
     "output_type": "stream",
     "text": [
      " 49%|████▊     | 592/1220 [02:42<02:42,  3.87it/s]"
     ]
    },
    {
     "name": "stdout",
     "output_type": "stream",
     "text": [
      "[DEBUG] Procesando audio del índice 850, ruta(s): ['/mnt/c/users/evacantin/desktop/MASTER/HAIA/Trabajo/MMUSED-fallacy/audio_clips/9_1980/177.wav'] - longitud tras concat: 137392\n"
     ]
    },
    {
     "name": "stderr",
     "output_type": "stream",
     "text": [
      " 49%|████▊     | 593/1220 [02:42<02:43,  3.82it/s]"
     ]
    },
    {
     "name": "stdout",
     "output_type": "stream",
     "text": [
      "[DEBUG] Procesando audio del índice 138, ruta(s): ['/mnt/c/users/evacantin/desktop/MASTER/HAIA/Trabajo/MMUSED-fallacy/audio_clips/20_1992/426.wav'] - longitud tras concat: 153648\n"
     ]
    },
    {
     "name": "stderr",
     "output_type": "stream",
     "text": [
      " 49%|████▊     | 594/1220 [02:42<02:40,  3.90it/s]"
     ]
    },
    {
     "name": "stdout",
     "output_type": "stream",
     "text": [
      "[DEBUG] Procesando audio del índice 487, ruta(s): ['/mnt/c/users/evacantin/desktop/MASTER/HAIA/Trabajo/MMUSED-fallacy/audio_clips/30_2004/24.wav'] - longitud tras concat: 134848\n"
     ]
    },
    {
     "name": "stderr",
     "output_type": "stream",
     "text": [
      " 49%|████▉     | 595/1220 [02:42<02:37,  3.96it/s]"
     ]
    },
    {
     "name": "stdout",
     "output_type": "stream",
     "text": [
      "[DEBUG] Procesando audio del índice 1180, ruta(s): ['/mnt/c/users/evacantin/desktop/MASTER/HAIA/Trabajo/MMUSED-fallacy/audio_clips/46_2020/433.wav'] - longitud tras concat: 79392\n"
     ]
    },
    {
     "name": "stderr",
     "output_type": "stream",
     "text": [
      " 49%|████▉     | 596/1220 [02:43<02:40,  3.89it/s]"
     ]
    },
    {
     "name": "stdout",
     "output_type": "stream",
     "text": [
      "[DEBUG] Procesando audio del índice 1131, ruta(s): ['/mnt/c/users/evacantin/desktop/MASTER/HAIA/Trabajo/MMUSED-fallacy/audio_clips/45_2020/33.wav'] - longitud tras concat: 135712\n"
     ]
    },
    {
     "name": "stderr",
     "output_type": "stream",
     "text": [
      " 49%|████▉     | 597/1220 [02:43<02:40,  3.88it/s]"
     ]
    },
    {
     "name": "stdout",
     "output_type": "stream",
     "text": [
      "[DEBUG] Procesando audio del índice 414, ruta(s): ['/mnt/c/users/evacantin/desktop/MASTER/HAIA/Trabajo/MMUSED-fallacy/audio_clips/29_2004/340.wav'] - longitud tras concat: 167744\n"
     ]
    },
    {
     "name": "stderr",
     "output_type": "stream",
     "text": [
      " 49%|████▉     | 598/1220 [02:43<02:40,  3.88it/s]"
     ]
    },
    {
     "name": "stdout",
     "output_type": "stream",
     "text": [
      "[DEBUG] Procesando audio del índice 748, ruta(s): ['/mnt/c/users/evacantin/desktop/MASTER/HAIA/Trabajo/MMUSED-fallacy/audio_clips/4_1960/91.wav', '/mnt/c/users/evacantin/desktop/MASTER/HAIA/Trabajo/MMUSED-fallacy/audio_clips/4_1960/92.wav', '/mnt/c/users/evacantin/desktop/MASTER/HAIA/Trabajo/MMUSED-fallacy/audio_clips/4_1960/93.wav'] - longitud tras concat: 165200\n"
     ]
    },
    {
     "name": "stderr",
     "output_type": "stream",
     "text": [
      " 49%|████▉     | 599/1220 [02:44<02:41,  3.85it/s]"
     ]
    },
    {
     "name": "stdout",
     "output_type": "stream",
     "text": [
      "[DEBUG] Procesando audio del índice 896, ruta(s): ['/mnt/c/users/evacantin/desktop/MASTER/HAIA/Trabajo/MMUSED-fallacy/audio_clips/9_1980/684.wav'] - longitud tras concat: 204448\n"
     ]
    },
    {
     "name": "stderr",
     "output_type": "stream",
     "text": [
      " 49%|████▉     | 600/1220 [02:44<02:37,  3.93it/s]"
     ]
    },
    {
     "name": "stdout",
     "output_type": "stream",
     "text": [
      "[DEBUG] Procesando audio del índice 689, ruta(s): ['/mnt/c/users/evacantin/desktop/MASTER/HAIA/Trabajo/MMUSED-fallacy/audio_clips/36_2008/917.wav'] - longitud tras concat: 160112\n"
     ]
    },
    {
     "name": "stderr",
     "output_type": "stream",
     "text": [
      " 49%|████▉     | 601/1220 [02:44<02:38,  3.91it/s]"
     ]
    },
    {
     "name": "stdout",
     "output_type": "stream",
     "text": [
      "[DEBUG] Procesando audio del índice 1212, ruta(s): ['/mnt/c/users/evacantin/desktop/MASTER/HAIA/Trabajo/MMUSED-fallacy/audio_clips/46_2020/1094.wav'] - longitud tras concat: 50912\n"
     ]
    },
    {
     "name": "stderr",
     "output_type": "stream",
     "text": [
      " 49%|████▉     | 602/1220 [02:44<02:43,  3.78it/s]"
     ]
    },
    {
     "name": "stdout",
     "output_type": "stream",
     "text": [
      "[DEBUG] Procesando audio del índice 605, ruta(s): ['/mnt/c/users/evacantin/desktop/MASTER/HAIA/Trabajo/MMUSED-fallacy/audio_clips/32_2004/468.wav', '/mnt/c/users/evacantin/desktop/MASTER/HAIA/Trabajo/MMUSED-fallacy/audio_clips/32_2004/469.wav', '/mnt/c/users/evacantin/desktop/MASTER/HAIA/Trabajo/MMUSED-fallacy/audio_clips/32_2004/470.wav'] - longitud tras concat: 146272\n"
     ]
    },
    {
     "name": "stderr",
     "output_type": "stream",
     "text": [
      " 49%|████▉     | 603/1220 [02:45<02:42,  3.81it/s]"
     ]
    },
    {
     "name": "stdout",
     "output_type": "stream",
     "text": [
      "[DEBUG] Procesando audio del índice 550, ruta(s): ['/mnt/c/users/evacantin/desktop/MASTER/HAIA/Trabajo/MMUSED-fallacy/audio_clips/31_2004/487.wav', '/mnt/c/users/evacantin/desktop/MASTER/HAIA/Trabajo/MMUSED-fallacy/audio_clips/31_2004/488.wav', '/mnt/c/users/evacantin/desktop/MASTER/HAIA/Trabajo/MMUSED-fallacy/audio_clips/31_2004/489.wav'] - longitud tras concat: 42896\n"
     ]
    },
    {
     "name": "stderr",
     "output_type": "stream",
     "text": [
      " 50%|████▉     | 604/1220 [02:45<02:41,  3.82it/s]"
     ]
    },
    {
     "name": "stdout",
     "output_type": "stream",
     "text": [
      "[DEBUG] Procesando audio del índice 1138, ruta(s): ['/mnt/c/users/evacantin/desktop/MASTER/HAIA/Trabajo/MMUSED-fallacy/audio_clips/45_2020/188.wav'] - longitud tras concat: 90624\n"
     ]
    },
    {
     "name": "stderr",
     "output_type": "stream",
     "text": [
      " 50%|████▉     | 605/1220 [02:45<02:41,  3.81it/s]"
     ]
    },
    {
     "name": "stdout",
     "output_type": "stream",
     "text": [
      "[DEBUG] Procesando audio del índice 1067, ruta(s): ['/mnt/c/users/evacantin/desktop/MASTER/HAIA/Trabajo/MMUSED-fallacy/audio_clips/42_2016/600.wav'] - longitud tras concat: 20160\n"
     ]
    },
    {
     "name": "stderr",
     "output_type": "stream",
     "text": [
      " 50%|████▉     | 606/1220 [02:45<02:33,  3.99it/s]"
     ]
    },
    {
     "name": "stdout",
     "output_type": "stream",
     "text": [
      "[DEBUG] Procesando audio del índice 91, ruta(s): ['/mnt/c/users/evacantin/desktop/MASTER/HAIA/Trabajo/MMUSED-fallacy/audio_clips/1_1960/86.wav'] - longitud tras concat: 196304\n"
     ]
    },
    {
     "name": "stderr",
     "output_type": "stream",
     "text": [
      " 50%|████▉     | 607/1220 [02:46<02:36,  3.92it/s]"
     ]
    },
    {
     "name": "stdout",
     "output_type": "stream",
     "text": [
      "[DEBUG] Procesando audio del índice 340, ruta(s): ['/mnt/c/users/evacantin/desktop/MASTER/HAIA/Trabajo/MMUSED-fallacy/audio_clips/27_2000/492.wav', '/mnt/c/users/evacantin/desktop/MASTER/HAIA/Trabajo/MMUSED-fallacy/audio_clips/27_2000/493.wav'] - longitud tras concat: 135792\n"
     ]
    },
    {
     "name": "stderr",
     "output_type": "stream",
     "text": [
      " 50%|████▉     | 608/1220 [02:46<02:34,  3.96it/s]"
     ]
    },
    {
     "name": "stdout",
     "output_type": "stream",
     "text": [
      "[DEBUG] Procesando audio del índice 553, ruta(s): ['/mnt/c/users/evacantin/desktop/MASTER/HAIA/Trabajo/MMUSED-fallacy/audio_clips/31_2004/766.wav'] - longitud tras concat: 28176\n"
     ]
    },
    {
     "name": "stderr",
     "output_type": "stream",
     "text": [
      " 50%|████▉     | 609/1220 [02:46<02:31,  4.03it/s]"
     ]
    },
    {
     "name": "stdout",
     "output_type": "stream",
     "text": [
      "[DEBUG] Procesando audio del índice 211, ruta(s): ['/mnt/c/users/evacantin/desktop/MASTER/HAIA/Trabajo/MMUSED-fallacy/audio_clips/22_1996/756.wav'] - longitud tras concat: 38736\n"
     ]
    },
    {
     "name": "stderr",
     "output_type": "stream",
     "text": [
      " 50%|█████     | 610/1220 [02:46<02:28,  4.11it/s]"
     ]
    },
    {
     "name": "stdout",
     "output_type": "stream",
     "text": [
      "[DEBUG] Procesando audio del índice 693, ruta(s): ['/mnt/c/users/evacantin/desktop/MASTER/HAIA/Trabajo/MMUSED-fallacy/audio_clips/39_2012/78.wav', '/mnt/c/users/evacantin/desktop/MASTER/HAIA/Trabajo/MMUSED-fallacy/audio_clips/39_2012/79.wav'] - longitud tras concat: 174896\n"
     ]
    },
    {
     "name": "stderr",
     "output_type": "stream",
     "text": [
      " 50%|█████     | 611/1220 [02:47<02:33,  3.96it/s]"
     ]
    },
    {
     "name": "stdout",
     "output_type": "stream",
     "text": [
      "[DEBUG] Procesando audio del índice 656, ruta(s): ['/mnt/c/users/evacantin/desktop/MASTER/HAIA/Trabajo/MMUSED-fallacy/audio_clips/35_2008/49.wav'] - longitud tras concat: 66624\n"
     ]
    },
    {
     "name": "stderr",
     "output_type": "stream",
     "text": [
      " 50%|█████     | 612/1220 [02:47<02:33,  3.96it/s]"
     ]
    },
    {
     "name": "stdout",
     "output_type": "stream",
     "text": [
      "[DEBUG] Procesando audio del índice 479, ruta(s): ['/mnt/c/users/evacantin/desktop/MASTER/HAIA/Trabajo/MMUSED-fallacy/audio_clips/30_2004/26.wav'] - longitud tras concat: 144400\n"
     ]
    },
    {
     "name": "stderr",
     "output_type": "stream",
     "text": [
      " 50%|█████     | 613/1220 [02:47<02:30,  4.03it/s]"
     ]
    },
    {
     "name": "stdout",
     "output_type": "stream",
     "text": [
      "[DEBUG] Procesando audio del índice 478, ruta(s): ['/mnt/c/users/evacantin/desktop/MASTER/HAIA/Trabajo/MMUSED-fallacy/audio_clips/2_1960/358.wav'] - longitud tras concat: 368112\n"
     ]
    },
    {
     "name": "stderr",
     "output_type": "stream",
     "text": [
      " 50%|█████     | 614/1220 [02:47<02:36,  3.88it/s]"
     ]
    },
    {
     "name": "stdout",
     "output_type": "stream",
     "text": [
      "[DEBUG] Procesando audio del índice 1156, ruta(s): ['/mnt/c/users/evacantin/desktop/MASTER/HAIA/Trabajo/MMUSED-fallacy/audio_clips/45_2020/117.wav'] - longitud tras concat: 196896\n"
     ]
    },
    {
     "name": "stderr",
     "output_type": "stream",
     "text": [
      " 50%|█████     | 615/1220 [02:48<02:35,  3.90it/s]"
     ]
    },
    {
     "name": "stdout",
     "output_type": "stream",
     "text": [
      "[DEBUG] Procesando audio del índice 300, ruta(s): ['/mnt/c/users/evacantin/desktop/MASTER/HAIA/Trabajo/MMUSED-fallacy/audio_clips/26_2000/278.wav'] - longitud tras concat: 70752\n"
     ]
    },
    {
     "name": "stderr",
     "output_type": "stream",
     "text": [
      " 50%|█████     | 616/1220 [02:48<02:39,  3.79it/s]"
     ]
    },
    {
     "name": "stdout",
     "output_type": "stream",
     "text": [
      "[DEBUG] Procesando audio del índice 1091, ruta(s): ['/mnt/c/users/evacantin/desktop/MASTER/HAIA/Trabajo/MMUSED-fallacy/audio_clips/44_2020/1641.wav', '/mnt/c/users/evacantin/desktop/MASTER/HAIA/Trabajo/MMUSED-fallacy/audio_clips/44_2020/1642.wav'] - longitud tras concat: 31680\n"
     ]
    },
    {
     "name": "stderr",
     "output_type": "stream",
     "text": [
      " 51%|█████     | 617/1220 [02:48<02:34,  3.91it/s]"
     ]
    },
    {
     "name": "stdout",
     "output_type": "stream",
     "text": [
      "[DEBUG] Procesando audio del índice 773, ruta(s): ['/mnt/c/users/evacantin/desktop/MASTER/HAIA/Trabajo/MMUSED-fallacy/audio_clips/6_1976/433.wav'] - longitud tras concat: 188192\n"
     ]
    },
    {
     "name": "stderr",
     "output_type": "stream",
     "text": [
      " 51%|█████     | 618/1220 [02:48<02:36,  3.84it/s]"
     ]
    },
    {
     "name": "stdout",
     "output_type": "stream",
     "text": [
      "[DEBUG] Procesando audio del índice 1076, ruta(s): ['/mnt/c/users/evacantin/desktop/MASTER/HAIA/Trabajo/MMUSED-fallacy/audio_clips/44_2020/1791.wav'] - longitud tras concat: 24976\n"
     ]
    },
    {
     "name": "stderr",
     "output_type": "stream",
     "text": [
      " 51%|█████     | 619/1220 [02:49<02:36,  3.84it/s]"
     ]
    },
    {
     "name": "stdout",
     "output_type": "stream",
     "text": [
      "[DEBUG] Procesando audio del índice 1214, ruta(s): ['/mnt/c/users/evacantin/desktop/MASTER/HAIA/Trabajo/MMUSED-fallacy/audio_clips/46_2020/1268.wav'] - longitud tras concat: 104672\n"
     ]
    },
    {
     "name": "stderr",
     "output_type": "stream",
     "text": [
      " 51%|█████     | 620/1220 [02:49<02:34,  3.89it/s]"
     ]
    },
    {
     "name": "stdout",
     "output_type": "stream",
     "text": [
      "[DEBUG] Procesando audio del índice 246, ruta(s): ['/mnt/c/users/evacantin/desktop/MASTER/HAIA/Trabajo/MMUSED-fallacy/audio_clips/25_2000/899.wav'] - longitud tras concat: 66624\n"
     ]
    },
    {
     "name": "stderr",
     "output_type": "stream",
     "text": [
      " 51%|█████     | 621/1220 [02:49<02:33,  3.90it/s]"
     ]
    },
    {
     "name": "stdout",
     "output_type": "stream",
     "text": [
      "[DEBUG] Procesando audio del índice 676, ruta(s): ['/mnt/c/users/evacantin/desktop/MASTER/HAIA/Trabajo/MMUSED-fallacy/audio_clips/36_2008/633.wav'] - longitud tras concat: 309312\n"
     ]
    },
    {
     "name": "stderr",
     "output_type": "stream",
     "text": [
      " 51%|█████     | 622/1220 [02:49<02:36,  3.81it/s]"
     ]
    },
    {
     "name": "stdout",
     "output_type": "stream",
     "text": [
      "[DEBUG] Procesando audio del índice 1058, ruta(s): ['/mnt/c/users/evacantin/desktop/MASTER/HAIA/Trabajo/MMUSED-fallacy/audio_clips/42_2016/428.wav', '/mnt/c/users/evacantin/desktop/MASTER/HAIA/Trabajo/MMUSED-fallacy/audio_clips/42_2016/429.wav'] - longitud tras concat: 169696\n"
     ]
    },
    {
     "name": "stderr",
     "output_type": "stream",
     "text": [
      " 51%|█████     | 623/1220 [02:50<02:31,  3.95it/s]"
     ]
    },
    {
     "name": "stdout",
     "output_type": "stream",
     "text": [
      "[DEBUG] Procesando audio del índice 998, ruta(s): ['/mnt/c/users/evacantin/desktop/MASTER/HAIA/Trabajo/MMUSED-fallacy/audio_clips/41_2016/575.wav'] - longitud tras concat: 122256\n"
     ]
    },
    {
     "name": "stderr",
     "output_type": "stream",
     "text": [
      " 51%|█████     | 624/1220 [02:50<02:30,  3.95it/s]"
     ]
    },
    {
     "name": "stdout",
     "output_type": "stream",
     "text": [
      "[DEBUG] Procesando audio del índice 572, ruta(s): ['/mnt/c/users/evacantin/desktop/MASTER/HAIA/Trabajo/MMUSED-fallacy/audio_clips/32_2004/997.wav'] - longitud tras concat: 151440\n"
     ]
    },
    {
     "name": "stderr",
     "output_type": "stream",
     "text": [
      " 51%|█████     | 625/1220 [02:50<02:31,  3.93it/s]"
     ]
    },
    {
     "name": "stdout",
     "output_type": "stream",
     "text": [
      "[DEBUG] Procesando audio del índice 933, ruta(s): ['/mnt/c/users/evacantin/desktop/MASTER/HAIA/Trabajo/MMUSED-fallacy/audio_clips/13_1988/348.wav', '/mnt/c/users/evacantin/desktop/MASTER/HAIA/Trabajo/MMUSED-fallacy/audio_clips/13_1988/349.wav'] - longitud tras concat: 142144\n"
     ]
    },
    {
     "name": "stderr",
     "output_type": "stream",
     "text": [
      " 51%|█████▏    | 626/1220 [02:50<02:34,  3.85it/s]"
     ]
    },
    {
     "name": "stdout",
     "output_type": "stream",
     "text": [
      "[DEBUG] Procesando audio del índice 1069, ruta(s): ['/mnt/c/users/evacantin/desktop/MASTER/HAIA/Trabajo/MMUSED-fallacy/audio_clips/44_2020/236.wav'] - longitud tras concat: 16976\n"
     ]
    },
    {
     "name": "stderr",
     "output_type": "stream",
     "text": [
      " 51%|█████▏    | 627/1220 [02:51<02:33,  3.85it/s]"
     ]
    },
    {
     "name": "stdout",
     "output_type": "stream",
     "text": [
      "[DEBUG] Procesando audio del índice 710, ruta(s): ['/mnt/c/users/evacantin/desktop/MASTER/HAIA/Trabajo/MMUSED-fallacy/audio_clips/3_1960/35.wav'] - longitud tras concat: 16960\n"
     ]
    },
    {
     "name": "stderr",
     "output_type": "stream",
     "text": [
      " 51%|█████▏    | 628/1220 [02:51<02:33,  3.85it/s]"
     ]
    },
    {
     "name": "stdout",
     "output_type": "stream",
     "text": [
      "[DEBUG] Procesando audio del índice 1049, ruta(s): ['/mnt/c/users/evacantin/desktop/MASTER/HAIA/Trabajo/MMUSED-fallacy/audio_clips/42_2016/302.wav'] - longitud tras concat: 18576\n"
     ]
    },
    {
     "name": "stderr",
     "output_type": "stream",
     "text": [
      " 52%|█████▏    | 629/1220 [02:51<02:32,  3.87it/s]"
     ]
    },
    {
     "name": "stdout",
     "output_type": "stream",
     "text": [
      "[DEBUG] Procesando audio del índice 1084, ruta(s): ['/mnt/c/users/evacantin/desktop/MASTER/HAIA/Trabajo/MMUSED-fallacy/audio_clips/44_2020/987.wav'] - longitud tras concat: 49648\n"
     ]
    },
    {
     "name": "stderr",
     "output_type": "stream",
     "text": [
      " 52%|█████▏    | 630/1220 [02:51<02:29,  3.93it/s]"
     ]
    },
    {
     "name": "stdout",
     "output_type": "stream",
     "text": [
      "[DEBUG] Procesando audio del índice 60, ruta(s): ['/mnt/c/users/evacantin/desktop/MASTER/HAIA/Trabajo/MMUSED-fallacy/audio_clips/18_1992/231.wav'] - longitud tras concat: 91312\n"
     ]
    },
    {
     "name": "stderr",
     "output_type": "stream",
     "text": [
      " 52%|█████▏    | 631/1220 [02:52<02:30,  3.91it/s]"
     ]
    },
    {
     "name": "stdout",
     "output_type": "stream",
     "text": [
      "[DEBUG] Procesando audio del índice 29, ruta(s): ['/mnt/c/users/evacantin/desktop/MASTER/HAIA/Trabajo/MMUSED-fallacy/audio_clips/12_1984/278.wav'] - longitud tras concat: 149472\n"
     ]
    },
    {
     "name": "stderr",
     "output_type": "stream",
     "text": [
      " 52%|█████▏    | 632/1220 [02:52<02:27,  3.98it/s]"
     ]
    },
    {
     "name": "stdout",
     "output_type": "stream",
     "text": [
      "[DEBUG] Procesando audio del índice 801, ruta(s): ['/mnt/c/users/evacantin/desktop/MASTER/HAIA/Trabajo/MMUSED-fallacy/audio_clips/7_1976/490.wav'] - longitud tras concat: 69456\n"
     ]
    },
    {
     "name": "stderr",
     "output_type": "stream",
     "text": [
      " 52%|█████▏    | 633/1220 [02:52<02:25,  4.03it/s]"
     ]
    },
    {
     "name": "stdout",
     "output_type": "stream",
     "text": [
      "[DEBUG] Procesando audio del índice 803, ruta(s): ['/mnt/c/users/evacantin/desktop/MASTER/HAIA/Trabajo/MMUSED-fallacy/audio_clips/7_1976/483.wav', '/mnt/c/users/evacantin/desktop/MASTER/HAIA/Trabajo/MMUSED-fallacy/audio_clips/7_1976/484.wav'] - longitud tras concat: 253680\n"
     ]
    },
    {
     "name": "stderr",
     "output_type": "stream",
     "text": [
      " 52%|█████▏    | 634/1220 [02:52<02:27,  3.96it/s]"
     ]
    },
    {
     "name": "stdout",
     "output_type": "stream",
     "text": [
      "[DEBUG] Procesando audio del índice 539, ruta(s): ['/mnt/c/users/evacantin/desktop/MASTER/HAIA/Trabajo/MMUSED-fallacy/audio_clips/31_2004/1253.wav', '/mnt/c/users/evacantin/desktop/MASTER/HAIA/Trabajo/MMUSED-fallacy/audio_clips/31_2004/1254.wav'] - longitud tras concat: 109488\n"
     ]
    },
    {
     "name": "stderr",
     "output_type": "stream",
     "text": [
      " 52%|█████▏    | 635/1220 [02:53<02:28,  3.94it/s]"
     ]
    },
    {
     "name": "stdout",
     "output_type": "stream",
     "text": [
      "[DEBUG] Procesando audio del índice 135, ruta(s): ['/mnt/c/users/evacantin/desktop/MASTER/HAIA/Trabajo/MMUSED-fallacy/audio_clips/20_1992/407.wav'] - longitud tras concat: 22416\n"
     ]
    },
    {
     "name": "stderr",
     "output_type": "stream",
     "text": [
      " 52%|█████▏    | 636/1220 [02:53<02:30,  3.87it/s]"
     ]
    },
    {
     "name": "stdout",
     "output_type": "stream",
     "text": [
      "[DEBUG] Procesando audio del índice 956, ruta(s): ['/mnt/c/users/evacantin/desktop/MASTER/HAIA/Trabajo/MMUSED-fallacy/audio_clips/41_2016/81.wav'] - longitud tras concat: 30416\n"
     ]
    },
    {
     "name": "stderr",
     "output_type": "stream",
     "text": [
      " 52%|█████▏    | 637/1220 [02:53<02:29,  3.91it/s]"
     ]
    },
    {
     "name": "stdout",
     "output_type": "stream",
     "text": [
      "[DEBUG] Procesando audio del índice 694, ruta(s): ['/mnt/c/users/evacantin/desktop/MASTER/HAIA/Trabajo/MMUSED-fallacy/audio_clips/39_2012/1044.wav'] - longitud tras concat: 57312\n"
     ]
    },
    {
     "name": "stderr",
     "output_type": "stream",
     "text": [
      " 52%|█████▏    | 638/1220 [02:53<02:31,  3.85it/s]"
     ]
    },
    {
     "name": "stdout",
     "output_type": "stream",
     "text": [
      "[DEBUG] Procesando audio del índice 680, ruta(s): ['/mnt/c/users/evacantin/desktop/MASTER/HAIA/Trabajo/MMUSED-fallacy/audio_clips/36_2008/655.wav'] - longitud tras concat: 16976\n"
     ]
    },
    {
     "name": "stderr",
     "output_type": "stream",
     "text": [
      " 52%|█████▏    | 639/1220 [02:54<02:34,  3.77it/s]"
     ]
    },
    {
     "name": "stdout",
     "output_type": "stream",
     "text": [
      "[DEBUG] Procesando audio del índice 193, ruta(s): ['/mnt/c/users/evacantin/desktop/MASTER/HAIA/Trabajo/MMUSED-fallacy/audio_clips/22_1996/372.wav', '/mnt/c/users/evacantin/desktop/MASTER/HAIA/Trabajo/MMUSED-fallacy/audio_clips/22_1996/373.wav', '/mnt/c/users/evacantin/desktop/MASTER/HAIA/Trabajo/MMUSED-fallacy/audio_clips/22_1996/374.wav'] - longitud tras concat: 158816\n"
     ]
    },
    {
     "name": "stderr",
     "output_type": "stream",
     "text": [
      " 52%|█████▏    | 640/1220 [02:54<02:31,  3.82it/s]"
     ]
    },
    {
     "name": "stdout",
     "output_type": "stream",
     "text": [
      "[DEBUG] Procesando audio del índice 347, ruta(s): ['/mnt/c/users/evacantin/desktop/MASTER/HAIA/Trabajo/MMUSED-fallacy/audio_clips/27_2000/658.wav'] - longitud tras concat: 274704\n"
     ]
    },
    {
     "name": "stderr",
     "output_type": "stream",
     "text": [
      " 53%|█████▎    | 641/1220 [02:54<02:31,  3.83it/s]"
     ]
    },
    {
     "name": "stdout",
     "output_type": "stream",
     "text": [
      "[DEBUG] Procesando audio del índice 472, ruta(s): ['/mnt/c/users/evacantin/desktop/MASTER/HAIA/Trabajo/MMUSED-fallacy/audio_clips/2_1960/238.wav'] - longitud tras concat: 190240\n"
     ]
    },
    {
     "name": "stderr",
     "output_type": "stream",
     "text": [
      " 53%|█████▎    | 642/1220 [02:55<02:32,  3.79it/s]"
     ]
    },
    {
     "name": "stdout",
     "output_type": "stream",
     "text": [
      "[DEBUG] Procesando audio del índice 142, ruta(s): ['/mnt/c/users/evacantin/desktop/MASTER/HAIA/Trabajo/MMUSED-fallacy/audio_clips/20_1992/469.wav'] - longitud tras concat: 59552\n"
     ]
    },
    {
     "name": "stderr",
     "output_type": "stream",
     "text": [
      " 53%|█████▎    | 643/1220 [02:55<02:27,  3.92it/s]"
     ]
    },
    {
     "name": "stdout",
     "output_type": "stream",
     "text": [
      "[DEBUG] Procesando audio del índice 1179, ruta(s): ['/mnt/c/users/evacantin/desktop/MASTER/HAIA/Trabajo/MMUSED-fallacy/audio_clips/46_2020/180.wav'] - longitud tras concat: 66624\n"
     ]
    },
    {
     "name": "stderr",
     "output_type": "stream",
     "text": [
      " 53%|█████▎    | 644/1220 [02:55<02:31,  3.80it/s]"
     ]
    },
    {
     "name": "stdout",
     "output_type": "stream",
     "text": [
      "[DEBUG] Procesando audio del índice 873, ruta(s): ['/mnt/c/users/evacantin/desktop/MASTER/HAIA/Trabajo/MMUSED-fallacy/audio_clips/9_1980/388.wav'] - longitud tras concat: 145360\n"
     ]
    },
    {
     "name": "stderr",
     "output_type": "stream",
     "text": [
      " 53%|█████▎    | 645/1220 [02:55<02:31,  3.79it/s]"
     ]
    },
    {
     "name": "stdout",
     "output_type": "stream",
     "text": [
      "[DEBUG] Procesando audio del índice 965, ruta(s): ['/mnt/c/users/evacantin/desktop/MASTER/HAIA/Trabajo/MMUSED-fallacy/audio_clips/41_2016/32.wav'] - longitud tras concat: 28192\n"
     ]
    },
    {
     "name": "stderr",
     "output_type": "stream",
     "text": [
      " 53%|█████▎    | 646/1220 [02:56<02:29,  3.85it/s]"
     ]
    },
    {
     "name": "stdout",
     "output_type": "stream",
     "text": [
      "[DEBUG] Procesando audio del índice 8, ruta(s): ['/mnt/c/users/evacantin/desktop/MASTER/HAIA/Trabajo/MMUSED-fallacy/audio_clips/10_1984/341.wav', '/mnt/c/users/evacantin/desktop/MASTER/HAIA/Trabajo/MMUSED-fallacy/audio_clips/10_1984/342.wav'] - longitud tras concat: 275728\n"
     ]
    },
    {
     "name": "stderr",
     "output_type": "stream",
     "text": [
      " 53%|█████▎    | 647/1220 [02:56<02:30,  3.82it/s]"
     ]
    },
    {
     "name": "stdout",
     "output_type": "stream",
     "text": [
      "[DEBUG] Procesando audio del índice 745, ruta(s): ['/mnt/c/users/evacantin/desktop/MASTER/HAIA/Trabajo/MMUSED-fallacy/audio_clips/4_1960/66.wav'] - longitud tras concat: 124064\n"
     ]
    },
    {
     "name": "stderr",
     "output_type": "stream",
     "text": [
      " 53%|█████▎    | 648/1220 [02:56<02:28,  3.85it/s]"
     ]
    },
    {
     "name": "stdout",
     "output_type": "stream",
     "text": [
      "[DEBUG] Procesando audio del índice 377, ruta(s): ['/mnt/c/users/evacantin/desktop/MASTER/HAIA/Trabajo/MMUSED-fallacy/audio_clips/28_2000/1018.wav'] - longitud tras concat: 215392\n"
     ]
    },
    {
     "name": "stderr",
     "output_type": "stream",
     "text": [
      " 53%|█████▎    | 649/1220 [02:56<02:26,  3.89it/s]"
     ]
    },
    {
     "name": "stdout",
     "output_type": "stream",
     "text": [
      "[DEBUG] Procesando audio del índice 310, ruta(s): ['/mnt/c/users/evacantin/desktop/MASTER/HAIA/Trabajo/MMUSED-fallacy/audio_clips/26_2000/401.wav'] - longitud tras concat: 156912\n"
     ]
    },
    {
     "name": "stderr",
     "output_type": "stream",
     "text": [
      " 53%|█████▎    | 650/1220 [02:57<02:27,  3.86it/s]"
     ]
    },
    {
     "name": "stdout",
     "output_type": "stream",
     "text": [
      "[DEBUG] Procesando audio del índice 1064, ruta(s): ['/mnt/c/users/evacantin/desktop/MASTER/HAIA/Trabajo/MMUSED-fallacy/audio_clips/42_2016/302.wav', '/mnt/c/users/evacantin/desktop/MASTER/HAIA/Trabajo/MMUSED-fallacy/audio_clips/42_2016/483.wav'] - longitud tras concat: 100544\n"
     ]
    },
    {
     "name": "stderr",
     "output_type": "stream",
     "text": [
      " 53%|█████▎    | 651/1220 [02:57<02:26,  3.87it/s]"
     ]
    },
    {
     "name": "stdout",
     "output_type": "stream",
     "text": [
      "[DEBUG] Procesando audio del índice 79, ruta(s): ['/mnt/c/users/evacantin/desktop/MASTER/HAIA/Trabajo/MMUSED-fallacy/audio_clips/18_1992/955.wav'] - longitud tras concat: 152464\n"
     ]
    },
    {
     "name": "stderr",
     "output_type": "stream",
     "text": [
      " 53%|█████▎    | 652/1220 [02:57<02:23,  3.95it/s]"
     ]
    },
    {
     "name": "stdout",
     "output_type": "stream",
     "text": [
      "[DEBUG] Procesando audio del índice 1152, ruta(s): ['/mnt/c/users/evacantin/desktop/MASTER/HAIA/Trabajo/MMUSED-fallacy/audio_clips/45_2020/33.wav'] - longitud tras concat: 135712\n"
     ]
    },
    {
     "name": "stderr",
     "output_type": "stream",
     "text": [
      " 54%|█████▎    | 653/1220 [02:57<02:26,  3.86it/s]"
     ]
    },
    {
     "name": "stdout",
     "output_type": "stream",
     "text": [
      "[DEBUG] Procesando audio del índice 292, ruta(s): ['/mnt/c/users/evacantin/desktop/MASTER/HAIA/Trabajo/MMUSED-fallacy/audio_clips/26_2000/764.wav'] - longitud tras concat: 43568\n"
     ]
    },
    {
     "name": "stderr",
     "output_type": "stream",
     "text": [
      " 54%|█████▎    | 654/1220 [02:58<02:23,  3.94it/s]"
     ]
    },
    {
     "name": "stdout",
     "output_type": "stream",
     "text": [
      "[DEBUG] Procesando audio del índice 962, ruta(s): ['/mnt/c/users/evacantin/desktop/MASTER/HAIA/Trabajo/MMUSED-fallacy/audio_clips/41_2016/117.wav', '/mnt/c/users/evacantin/desktop/MASTER/HAIA/Trabajo/MMUSED-fallacy/audio_clips/41_2016/118.wav'] - longitud tras concat: 73648\n"
     ]
    },
    {
     "name": "stderr",
     "output_type": "stream",
     "text": [
      " 54%|█████▎    | 655/1220 [02:58<02:29,  3.78it/s]"
     ]
    },
    {
     "name": "stdout",
     "output_type": "stream",
     "text": [
      "[DEBUG] Procesando audio del índice 1052, ruta(s): ['/mnt/c/users/evacantin/desktop/MASTER/HAIA/Trabajo/MMUSED-fallacy/audio_clips/42_2016/383.wav', '/mnt/c/users/evacantin/desktop/MASTER/HAIA/Trabajo/MMUSED-fallacy/audio_clips/42_2016/384.wav'] - longitud tras concat: 25280\n"
     ]
    },
    {
     "name": "stderr",
     "output_type": "stream",
     "text": [
      " 54%|█████▍    | 656/1220 [02:58<02:31,  3.73it/s]"
     ]
    },
    {
     "name": "stdout",
     "output_type": "stream",
     "text": [
      "[DEBUG] Procesando audio del índice 600, ruta(s): ['/mnt/c/users/evacantin/desktop/MASTER/HAIA/Trabajo/MMUSED-fallacy/audio_clips/32_2004/444.wav'] - longitud tras concat: 26576\n"
     ]
    },
    {
     "name": "stderr",
     "output_type": "stream",
     "text": [
      " 54%|█████▍    | 657/1220 [02:58<02:25,  3.88it/s]"
     ]
    },
    {
     "name": "stdout",
     "output_type": "stream",
     "text": [
      "[DEBUG] Procesando audio del índice 1006, ruta(s): ['/mnt/c/users/evacantin/desktop/MASTER/HAIA/Trabajo/MMUSED-fallacy/audio_clips/41_2016/794.wav'] - longitud tras concat: 59248\n"
     ]
    },
    {
     "name": "stderr",
     "output_type": "stream",
     "text": [
      " 54%|█████▍    | 658/1220 [02:59<02:27,  3.82it/s]"
     ]
    },
    {
     "name": "stdout",
     "output_type": "stream",
     "text": [
      "[DEBUG] Procesando audio del índice 946, ruta(s): ['/mnt/c/users/evacantin/desktop/MASTER/HAIA/Trabajo/MMUSED-fallacy/audio_clips/13_1988/526.wav'] - longitud tras concat: 52176\n"
     ]
    },
    {
     "name": "stderr",
     "output_type": "stream",
     "text": [
      " 54%|█████▍    | 659/1220 [02:59<02:26,  3.82it/s]"
     ]
    },
    {
     "name": "stdout",
     "output_type": "stream",
     "text": [
      "[DEBUG] Procesando audio del índice 582, ruta(s): ['/mnt/c/users/evacantin/desktop/MASTER/HAIA/Trabajo/MMUSED-fallacy/audio_clips/32_2004/114.wav'] - longitud tras concat: 82288\n"
     ]
    },
    {
     "name": "stderr",
     "output_type": "stream",
     "text": [
      " 54%|█████▍    | 660/1220 [02:59<02:25,  3.84it/s]"
     ]
    },
    {
     "name": "stdout",
     "output_type": "stream",
     "text": [
      "[DEBUG] Procesando audio del índice 671, ruta(s): ['/mnt/c/users/evacantin/desktop/MASTER/HAIA/Trabajo/MMUSED-fallacy/audio_clips/36_2008/395.wav'] - longitud tras concat: 212688\n"
     ]
    },
    {
     "name": "stderr",
     "output_type": "stream",
     "text": [
      " 54%|█████▍    | 661/1220 [02:59<02:26,  3.81it/s]"
     ]
    },
    {
     "name": "stdout",
     "output_type": "stream",
     "text": [
      "[DEBUG] Procesando audio del índice 972, ruta(s): ['/mnt/c/users/evacantin/desktop/MASTER/HAIA/Trabajo/MMUSED-fallacy/audio_clips/41_2016/63.wav', '/mnt/c/users/evacantin/desktop/MASTER/HAIA/Trabajo/MMUSED-fallacy/audio_clips/41_2016/64.wav', '/mnt/c/users/evacantin/desktop/MASTER/HAIA/Trabajo/MMUSED-fallacy/audio_clips/41_2016/65.wav'] - longitud tras concat: 152368\n"
     ]
    },
    {
     "name": "stderr",
     "output_type": "stream",
     "text": [
      " 54%|█████▍    | 662/1220 [03:00<02:26,  3.81it/s]"
     ]
    },
    {
     "name": "stdout",
     "output_type": "stream",
     "text": [
      "[DEBUG] Procesando audio del índice 188, ruta(s): ['/mnt/c/users/evacantin/desktop/MASTER/HAIA/Trabajo/MMUSED-fallacy/audio_clips/22_1996/322.wav', '/mnt/c/users/evacantin/desktop/MASTER/HAIA/Trabajo/MMUSED-fallacy/audio_clips/22_1996/323.wav', '/mnt/c/users/evacantin/desktop/MASTER/HAIA/Trabajo/MMUSED-fallacy/audio_clips/22_1996/324.wav'] - longitud tras concat: 99936\n"
     ]
    },
    {
     "name": "stderr",
     "output_type": "stream",
     "text": [
      " 54%|█████▍    | 663/1220 [03:00<02:26,  3.81it/s]"
     ]
    },
    {
     "name": "stdout",
     "output_type": "stream",
     "text": [
      "[DEBUG] Procesando audio del índice 1158, ruta(s): ['/mnt/c/users/evacantin/desktop/MASTER/HAIA/Trabajo/MMUSED-fallacy/audio_clips/45_2020/163.wav'] - longitud tras concat: 117504\n"
     ]
    },
    {
     "name": "stderr",
     "output_type": "stream",
     "text": [
      " 54%|█████▍    | 664/1220 [03:00<02:29,  3.72it/s]"
     ]
    },
    {
     "name": "stdout",
     "output_type": "stream",
     "text": [
      "[DEBUG] Procesando audio del índice 880, ruta(s): ['/mnt/c/users/evacantin/desktop/MASTER/HAIA/Trabajo/MMUSED-fallacy/audio_clips/9_1980/498.wav'] - longitud tras concat: 157888\n"
     ]
    },
    {
     "name": "stderr",
     "output_type": "stream",
     "text": [
      " 55%|█████▍    | 665/1220 [03:01<02:27,  3.76it/s]"
     ]
    },
    {
     "name": "stdout",
     "output_type": "stream",
     "text": [
      "[DEBUG] Procesando audio del índice 859, ruta(s): ['/mnt/c/users/evacantin/desktop/MASTER/HAIA/Trabajo/MMUSED-fallacy/audio_clips/9_1980/210.wav', '/mnt/c/users/evacantin/desktop/MASTER/HAIA/Trabajo/MMUSED-fallacy/audio_clips/9_1980/211.wav'] - longitud tras concat: 139712\n"
     ]
    },
    {
     "name": "stderr",
     "output_type": "stream",
     "text": [
      " 55%|█████▍    | 666/1220 [03:01<02:22,  3.88it/s]"
     ]
    },
    {
     "name": "stdout",
     "output_type": "stream",
     "text": [
      "[DEBUG] Procesando audio del índice 525, ruta(s): ['/mnt/c/users/evacantin/desktop/MASTER/HAIA/Trabajo/MMUSED-fallacy/audio_clips/31_2004/1077.wav', '/mnt/c/users/evacantin/desktop/MASTER/HAIA/Trabajo/MMUSED-fallacy/audio_clips/31_2004/1078.wav'] - longitud tras concat: 261184\n"
     ]
    },
    {
     "name": "stderr",
     "output_type": "stream",
     "text": [
      " 55%|█████▍    | 667/1220 [03:01<02:29,  3.71it/s]"
     ]
    },
    {
     "name": "stdout",
     "output_type": "stream",
     "text": [
      "[DEBUG] Procesando audio del índice 1119, ruta(s): ['/mnt/c/users/evacantin/desktop/MASTER/HAIA/Trabajo/MMUSED-fallacy/audio_clips/44_2020/1748.wav'] - longitud tras concat: 50576\n"
     ]
    },
    {
     "name": "stderr",
     "output_type": "stream",
     "text": [
      " 55%|█████▍    | 668/1220 [03:01<02:23,  3.85it/s]"
     ]
    },
    {
     "name": "stdout",
     "output_type": "stream",
     "text": [
      "[DEBUG] Procesando audio del índice 823, ruta(s): ['/mnt/c/users/evacantin/desktop/MASTER/HAIA/Trabajo/MMUSED-fallacy/audio_clips/8_1980/107.wav'] - longitud tras concat: 143136\n"
     ]
    },
    {
     "name": "stderr",
     "output_type": "stream",
     "text": [
      " 55%|█████▍    | 669/1220 [03:02<02:24,  3.81it/s]"
     ]
    },
    {
     "name": "stdout",
     "output_type": "stream",
     "text": [
      "[DEBUG] Procesando audio del índice 537, ruta(s): ['/mnt/c/users/evacantin/desktop/MASTER/HAIA/Trabajo/MMUSED-fallacy/audio_clips/31_2004/1249.wav'] - longitud tras concat: 78752\n"
     ]
    },
    {
     "name": "stderr",
     "output_type": "stream",
     "text": [
      " 55%|█████▍    | 670/1220 [03:02<02:25,  3.79it/s]"
     ]
    },
    {
     "name": "stdout",
     "output_type": "stream",
     "text": [
      "[DEBUG] Procesando audio del índice 700, ruta(s): ['/mnt/c/users/evacantin/desktop/MASTER/HAIA/Trabajo/MMUSED-fallacy/audio_clips/39_2012/375.wav'] - longitud tras concat: 32336\n"
     ]
    },
    {
     "name": "stderr",
     "output_type": "stream",
     "text": [
      " 55%|█████▌    | 671/1220 [03:02<02:26,  3.74it/s]"
     ]
    },
    {
     "name": "stdout",
     "output_type": "stream",
     "text": [
      "[DEBUG] Procesando audio del índice 871, ruta(s): ['/mnt/c/users/evacantin/desktop/MASTER/HAIA/Trabajo/MMUSED-fallacy/audio_clips/9_1980/342.wav'] - longitud tras concat: 235024\n"
     ]
    },
    {
     "name": "stderr",
     "output_type": "stream",
     "text": [
      " 55%|█████▌    | 672/1220 [03:02<02:23,  3.82it/s]"
     ]
    },
    {
     "name": "stdout",
     "output_type": "stream",
     "text": [
      "[DEBUG] Procesando audio del índice 1147, ruta(s): ['/mnt/c/users/evacantin/desktop/MASTER/HAIA/Trabajo/MMUSED-fallacy/audio_clips/45_2020/118.wav'] - longitud tras concat: 61152\n"
     ]
    },
    {
     "name": "stderr",
     "output_type": "stream",
     "text": [
      " 55%|█████▌    | 673/1220 [03:03<02:24,  3.78it/s]"
     ]
    },
    {
     "name": "stdout",
     "output_type": "stream",
     "text": [
      "[DEBUG] Procesando audio del índice 584, ruta(s): ['/mnt/c/users/evacantin/desktop/MASTER/HAIA/Trabajo/MMUSED-fallacy/audio_clips/32_2004/112.wav'] - longitud tras concat: 181552\n"
     ]
    },
    {
     "name": "stderr",
     "output_type": "stream",
     "text": [
      " 55%|█████▌    | 674/1220 [03:03<02:25,  3.75it/s]"
     ]
    },
    {
     "name": "stdout",
     "output_type": "stream",
     "text": [
      "[DEBUG] Procesando audio del índice 1160, ruta(s): ['/mnt/c/users/evacantin/desktop/MASTER/HAIA/Trabajo/MMUSED-fallacy/audio_clips/45_2020/312.wav'] - longitud tras concat: 85184\n"
     ]
    },
    {
     "name": "stderr",
     "output_type": "stream",
     "text": [
      " 55%|█████▌    | 675/1220 [03:03<02:22,  3.83it/s]"
     ]
    },
    {
     "name": "stdout",
     "output_type": "stream",
     "text": [
      "[DEBUG] Procesando audio del índice 117, ruta(s): ['/mnt/c/users/evacantin/desktop/MASTER/HAIA/Trabajo/MMUSED-fallacy/audio_clips/20_1992/163.wav'] - longitud tras concat: 157248\n"
     ]
    },
    {
     "name": "stderr",
     "output_type": "stream",
     "text": [
      " 55%|█████▌    | 676/1220 [03:03<02:24,  3.76it/s]"
     ]
    },
    {
     "name": "stdout",
     "output_type": "stream",
     "text": [
      "[DEBUG] Procesando audio del índice 1090, ruta(s): ['/mnt/c/users/evacantin/desktop/MASTER/HAIA/Trabajo/MMUSED-fallacy/audio_clips/44_2020/663.wav'] - longitud tras concat: 21456\n"
     ]
    },
    {
     "name": "stderr",
     "output_type": "stream",
     "text": [
      " 55%|█████▌    | 677/1220 [03:04<02:23,  3.77it/s]"
     ]
    },
    {
     "name": "stdout",
     "output_type": "stream",
     "text": [
      "[DEBUG] Procesando audio del índice 1201, ruta(s): ['/mnt/c/users/evacantin/desktop/MASTER/HAIA/Trabajo/MMUSED-fallacy/audio_clips/46_2020/653.wav'] - longitud tras concat: 2880\n"
     ]
    },
    {
     "name": "stderr",
     "output_type": "stream",
     "text": [
      " 56%|█████▌    | 678/1220 [03:04<02:21,  3.84it/s]"
     ]
    },
    {
     "name": "stdout",
     "output_type": "stream",
     "text": [
      "[DEBUG] Procesando audio del índice 220, ruta(s): ['/mnt/c/users/evacantin/desktop/MASTER/HAIA/Trabajo/MMUSED-fallacy/audio_clips/22_1996/1017.wav'] - longitud tras concat: 88080\n"
     ]
    },
    {
     "name": "stderr",
     "output_type": "stream",
     "text": [
      " 56%|█████▌    | 679/1220 [03:04<02:22,  3.79it/s]"
     ]
    },
    {
     "name": "stdout",
     "output_type": "stream",
     "text": [
      "[DEBUG] Procesando audio del índice 766, ruta(s): ['/mnt/c/users/evacantin/desktop/MASTER/HAIA/Trabajo/MMUSED-fallacy/audio_clips/5_1976/85.wav'] - longitud tras concat: 81648\n"
     ]
    },
    {
     "name": "stderr",
     "output_type": "stream",
     "text": [
      " 56%|█████▌    | 680/1220 [03:04<02:19,  3.88it/s]"
     ]
    },
    {
     "name": "stdout",
     "output_type": "stream",
     "text": [
      "[DEBUG] Procesando audio del índice 84, ruta(s): ['/mnt/c/users/evacantin/desktop/MASTER/HAIA/Trabajo/MMUSED-fallacy/audio_clips/1_1960/22.wav'] - longitud tras concat: 40336\n"
     ]
    },
    {
     "name": "stderr",
     "output_type": "stream",
     "text": [
      " 56%|█████▌    | 681/1220 [03:05<02:18,  3.90it/s]"
     ]
    },
    {
     "name": "stdout",
     "output_type": "stream",
     "text": [
      "[DEBUG] Procesando audio del índice 1126, ruta(s): ['/mnt/c/users/evacantin/desktop/MASTER/HAIA/Trabajo/MMUSED-fallacy/audio_clips/45_2020/423.wav'] - longitud tras concat: 70784\n"
     ]
    },
    {
     "name": "stderr",
     "output_type": "stream",
     "text": [
      " 56%|█████▌    | 681/1220 [03:05<02:26,  3.68it/s]\n"
     ]
    },
    {
     "ename": "ValueError",
     "evalue": "`mask_length` has to be smaller than `sequence_length`, but got `mask_length`: 10 and `sequence_length`: 8`",
     "output_type": "error",
     "traceback": [
      "\u001b[0;31m---------------------------------------------------------------------------\u001b[0m",
      "\u001b[0;31mValueError\u001b[0m                                Traceback (most recent call last)",
      "Cell \u001b[0;32mIn[4], line 31\u001b[0m\n\u001b[1;32m     29\u001b[0m \u001b[38;5;28;01mfor\u001b[39;00m epoch \u001b[38;5;129;01min\u001b[39;00m \u001b[38;5;28mrange\u001b[39m(\u001b[38;5;241m3\u001b[39m):\n\u001b[1;32m     30\u001b[0m     \u001b[38;5;28mprint\u001b[39m(\u001b[38;5;124mf\u001b[39m\u001b[38;5;124m\"\u001b[39m\u001b[38;5;124mEpoch \u001b[39m\u001b[38;5;132;01m{\u001b[39;00mepoch\u001b[38;5;241m+\u001b[39m\u001b[38;5;241m1\u001b[39m\u001b[38;5;132;01m}\u001b[39;00m\u001b[38;5;124m\"\u001b[39m)\n\u001b[0;32m---> 31\u001b[0m     train_loss \u001b[38;5;241m=\u001b[39m \u001b[43mtrain_model\u001b[49m\u001b[43m(\u001b[49m\u001b[43mmodel\u001b[49m\u001b[43m,\u001b[49m\u001b[43m \u001b[49m\u001b[43mtrain_loader\u001b[49m\u001b[43m,\u001b[49m\u001b[43m \u001b[49m\u001b[43moptimizer\u001b[49m\u001b[43m,\u001b[49m\u001b[43m \u001b[49m\u001b[43mloss_fn\u001b[49m\u001b[43m,\u001b[49m\u001b[43m \u001b[49m\u001b[43mdevice\u001b[49m\u001b[43m)\u001b[49m\n\u001b[1;32m     32\u001b[0m     \u001b[38;5;28mprint\u001b[39m(\u001b[38;5;124mf\u001b[39m\u001b[38;5;124m\"\u001b[39m\u001b[38;5;124mTrain loss: \u001b[39m\u001b[38;5;132;01m{\u001b[39;00mtrain_loss\u001b[38;5;132;01m:\u001b[39;00m\u001b[38;5;124m.4f\u001b[39m\u001b[38;5;132;01m}\u001b[39;00m\u001b[38;5;124m\"\u001b[39m)\n\u001b[1;32m     33\u001b[0m     evaluate_model(model, test_loader, device, label_encoder)\n",
      "Cell \u001b[0;32mIn[2], line 167\u001b[0m, in \u001b[0;36mtrain_model\u001b[0;34m(model, dataloader, optimizer, loss_fn, device)\u001b[0m\n\u001b[1;32m    164\u001b[0m         loss \u001b[38;5;241m=\u001b[39m loss_fn(outputs, labels)\n\u001b[1;32m    166\u001b[0m \u001b[38;5;28;01mexcept\u001b[39;00m \u001b[38;5;167;01mException\u001b[39;00m \u001b[38;5;28;01mas\u001b[39;00m e:\n\u001b[0;32m--> 167\u001b[0m     \u001b[38;5;28;01mraise\u001b[39;00m e  \u001b[38;5;66;03m# para seguir viendo el traceback\u001b[39;00m\n\u001b[1;32m    169\u001b[0m scaler\u001b[38;5;241m.\u001b[39mscale(loss)\u001b[38;5;241m.\u001b[39mbackward()\n\u001b[1;32m    170\u001b[0m scaler\u001b[38;5;241m.\u001b[39mstep(optimizer)\n",
      "Cell \u001b[0;32mIn[2], line 163\u001b[0m, in \u001b[0;36mtrain_model\u001b[0;34m(model, dataloader, optimizer, loss_fn, device)\u001b[0m\n\u001b[1;32m    161\u001b[0m \u001b[38;5;28;01mtry\u001b[39;00m:\n\u001b[1;32m    162\u001b[0m     \u001b[38;5;28;01mwith\u001b[39;00m autocast():\n\u001b[0;32m--> 163\u001b[0m         outputs \u001b[38;5;241m=\u001b[39m \u001b[43mmodel\u001b[49m\u001b[43m(\u001b[49m\u001b[43minput_ids\u001b[49m\u001b[43m,\u001b[49m\u001b[43m \u001b[49m\u001b[43mattention_mask\u001b[49m\u001b[43m,\u001b[49m\u001b[43m \u001b[49m\u001b[43minput_values\u001b[49m\u001b[43m)\u001b[49m\n\u001b[1;32m    164\u001b[0m         loss \u001b[38;5;241m=\u001b[39m loss_fn(outputs, labels)\n\u001b[1;32m    166\u001b[0m \u001b[38;5;28;01mexcept\u001b[39;00m \u001b[38;5;167;01mException\u001b[39;00m \u001b[38;5;28;01mas\u001b[39;00m e:\n",
      "File \u001b[0;32m~/miniconda3/envs/haia/lib/python3.10/site-packages/torch/nn/modules/module.py:1736\u001b[0m, in \u001b[0;36mModule._wrapped_call_impl\u001b[0;34m(self, *args, **kwargs)\u001b[0m\n\u001b[1;32m   1734\u001b[0m     \u001b[38;5;28;01mreturn\u001b[39;00m \u001b[38;5;28mself\u001b[39m\u001b[38;5;241m.\u001b[39m_compiled_call_impl(\u001b[38;5;241m*\u001b[39margs, \u001b[38;5;241m*\u001b[39m\u001b[38;5;241m*\u001b[39mkwargs)  \u001b[38;5;66;03m# type: ignore[misc]\u001b[39;00m\n\u001b[1;32m   1735\u001b[0m \u001b[38;5;28;01melse\u001b[39;00m:\n\u001b[0;32m-> 1736\u001b[0m     \u001b[38;5;28;01mreturn\u001b[39;00m \u001b[38;5;28;43mself\u001b[39;49m\u001b[38;5;241;43m.\u001b[39;49m\u001b[43m_call_impl\u001b[49m\u001b[43m(\u001b[49m\u001b[38;5;241;43m*\u001b[39;49m\u001b[43margs\u001b[49m\u001b[43m,\u001b[49m\u001b[43m \u001b[49m\u001b[38;5;241;43m*\u001b[39;49m\u001b[38;5;241;43m*\u001b[39;49m\u001b[43mkwargs\u001b[49m\u001b[43m)\u001b[49m\n",
      "File \u001b[0;32m~/miniconda3/envs/haia/lib/python3.10/site-packages/torch/nn/modules/module.py:1747\u001b[0m, in \u001b[0;36mModule._call_impl\u001b[0;34m(self, *args, **kwargs)\u001b[0m\n\u001b[1;32m   1742\u001b[0m \u001b[38;5;66;03m# If we don't have any hooks, we want to skip the rest of the logic in\u001b[39;00m\n\u001b[1;32m   1743\u001b[0m \u001b[38;5;66;03m# this function, and just call forward.\u001b[39;00m\n\u001b[1;32m   1744\u001b[0m \u001b[38;5;28;01mif\u001b[39;00m \u001b[38;5;129;01mnot\u001b[39;00m (\u001b[38;5;28mself\u001b[39m\u001b[38;5;241m.\u001b[39m_backward_hooks \u001b[38;5;129;01mor\u001b[39;00m \u001b[38;5;28mself\u001b[39m\u001b[38;5;241m.\u001b[39m_backward_pre_hooks \u001b[38;5;129;01mor\u001b[39;00m \u001b[38;5;28mself\u001b[39m\u001b[38;5;241m.\u001b[39m_forward_hooks \u001b[38;5;129;01mor\u001b[39;00m \u001b[38;5;28mself\u001b[39m\u001b[38;5;241m.\u001b[39m_forward_pre_hooks\n\u001b[1;32m   1745\u001b[0m         \u001b[38;5;129;01mor\u001b[39;00m _global_backward_pre_hooks \u001b[38;5;129;01mor\u001b[39;00m _global_backward_hooks\n\u001b[1;32m   1746\u001b[0m         \u001b[38;5;129;01mor\u001b[39;00m _global_forward_hooks \u001b[38;5;129;01mor\u001b[39;00m _global_forward_pre_hooks):\n\u001b[0;32m-> 1747\u001b[0m     \u001b[38;5;28;01mreturn\u001b[39;00m \u001b[43mforward_call\u001b[49m\u001b[43m(\u001b[49m\u001b[38;5;241;43m*\u001b[39;49m\u001b[43margs\u001b[49m\u001b[43m,\u001b[49m\u001b[43m \u001b[49m\u001b[38;5;241;43m*\u001b[39;49m\u001b[38;5;241;43m*\u001b[39;49m\u001b[43mkwargs\u001b[49m\u001b[43m)\u001b[49m\n\u001b[1;32m   1749\u001b[0m result \u001b[38;5;241m=\u001b[39m \u001b[38;5;28;01mNone\u001b[39;00m\n\u001b[1;32m   1750\u001b[0m called_always_called_hooks \u001b[38;5;241m=\u001b[39m \u001b[38;5;28mset\u001b[39m()\n",
      "Cell \u001b[0;32mIn[2], line 135\u001b[0m, in \u001b[0;36mMultimodalClassifier.forward\u001b[0;34m(self, input_ids, attention_mask, input_values)\u001b[0m\n\u001b[1;32m    133\u001b[0m \u001b[38;5;28;01mdef\u001b[39;00m\u001b[38;5;250m \u001b[39m\u001b[38;5;21mforward\u001b[39m(\u001b[38;5;28mself\u001b[39m, input_ids, attention_mask, input_values):\n\u001b[1;32m    134\u001b[0m     text_output \u001b[38;5;241m=\u001b[39m \u001b[38;5;28mself\u001b[39m\u001b[38;5;241m.\u001b[39mtext_encoder(input_ids\u001b[38;5;241m=\u001b[39minput_ids, attention_mask\u001b[38;5;241m=\u001b[39mattention_mask)\n\u001b[0;32m--> 135\u001b[0m     audio_output \u001b[38;5;241m=\u001b[39m \u001b[38;5;28;43mself\u001b[39;49m\u001b[38;5;241;43m.\u001b[39;49m\u001b[43maudio_encoder\u001b[49m\u001b[43m(\u001b[49m\u001b[43minput_values\u001b[49m\u001b[38;5;241;43m=\u001b[39;49m\u001b[43minput_values\u001b[49m\u001b[43m)\u001b[49m\n\u001b[1;32m    137\u001b[0m     text_feat \u001b[38;5;241m=\u001b[39m text_output\u001b[38;5;241m.\u001b[39mlast_hidden_state[:, \u001b[38;5;241m0\u001b[39m]  \u001b[38;5;66;03m# [CLS]\u001b[39;00m\n\u001b[1;32m    138\u001b[0m     audio_feat \u001b[38;5;241m=\u001b[39m audio_output\u001b[38;5;241m.\u001b[39mlast_hidden_state\u001b[38;5;241m.\u001b[39mmean(dim\u001b[38;5;241m=\u001b[39m\u001b[38;5;241m1\u001b[39m)\n",
      "File \u001b[0;32m~/miniconda3/envs/haia/lib/python3.10/site-packages/torch/nn/modules/module.py:1736\u001b[0m, in \u001b[0;36mModule._wrapped_call_impl\u001b[0;34m(self, *args, **kwargs)\u001b[0m\n\u001b[1;32m   1734\u001b[0m     \u001b[38;5;28;01mreturn\u001b[39;00m \u001b[38;5;28mself\u001b[39m\u001b[38;5;241m.\u001b[39m_compiled_call_impl(\u001b[38;5;241m*\u001b[39margs, \u001b[38;5;241m*\u001b[39m\u001b[38;5;241m*\u001b[39mkwargs)  \u001b[38;5;66;03m# type: ignore[misc]\u001b[39;00m\n\u001b[1;32m   1735\u001b[0m \u001b[38;5;28;01melse\u001b[39;00m:\n\u001b[0;32m-> 1736\u001b[0m     \u001b[38;5;28;01mreturn\u001b[39;00m \u001b[38;5;28;43mself\u001b[39;49m\u001b[38;5;241;43m.\u001b[39;49m\u001b[43m_call_impl\u001b[49m\u001b[43m(\u001b[49m\u001b[38;5;241;43m*\u001b[39;49m\u001b[43margs\u001b[49m\u001b[43m,\u001b[49m\u001b[43m \u001b[49m\u001b[38;5;241;43m*\u001b[39;49m\u001b[38;5;241;43m*\u001b[39;49m\u001b[43mkwargs\u001b[49m\u001b[43m)\u001b[49m\n",
      "File \u001b[0;32m~/miniconda3/envs/haia/lib/python3.10/site-packages/torch/nn/modules/module.py:1747\u001b[0m, in \u001b[0;36mModule._call_impl\u001b[0;34m(self, *args, **kwargs)\u001b[0m\n\u001b[1;32m   1742\u001b[0m \u001b[38;5;66;03m# If we don't have any hooks, we want to skip the rest of the logic in\u001b[39;00m\n\u001b[1;32m   1743\u001b[0m \u001b[38;5;66;03m# this function, and just call forward.\u001b[39;00m\n\u001b[1;32m   1744\u001b[0m \u001b[38;5;28;01mif\u001b[39;00m \u001b[38;5;129;01mnot\u001b[39;00m (\u001b[38;5;28mself\u001b[39m\u001b[38;5;241m.\u001b[39m_backward_hooks \u001b[38;5;129;01mor\u001b[39;00m \u001b[38;5;28mself\u001b[39m\u001b[38;5;241m.\u001b[39m_backward_pre_hooks \u001b[38;5;129;01mor\u001b[39;00m \u001b[38;5;28mself\u001b[39m\u001b[38;5;241m.\u001b[39m_forward_hooks \u001b[38;5;129;01mor\u001b[39;00m \u001b[38;5;28mself\u001b[39m\u001b[38;5;241m.\u001b[39m_forward_pre_hooks\n\u001b[1;32m   1745\u001b[0m         \u001b[38;5;129;01mor\u001b[39;00m _global_backward_pre_hooks \u001b[38;5;129;01mor\u001b[39;00m _global_backward_hooks\n\u001b[1;32m   1746\u001b[0m         \u001b[38;5;129;01mor\u001b[39;00m _global_forward_hooks \u001b[38;5;129;01mor\u001b[39;00m _global_forward_pre_hooks):\n\u001b[0;32m-> 1747\u001b[0m     \u001b[38;5;28;01mreturn\u001b[39;00m \u001b[43mforward_call\u001b[49m\u001b[43m(\u001b[49m\u001b[38;5;241;43m*\u001b[39;49m\u001b[43margs\u001b[49m\u001b[43m,\u001b[49m\u001b[43m \u001b[49m\u001b[38;5;241;43m*\u001b[39;49m\u001b[38;5;241;43m*\u001b[39;49m\u001b[43mkwargs\u001b[49m\u001b[43m)\u001b[49m\n\u001b[1;32m   1749\u001b[0m result \u001b[38;5;241m=\u001b[39m \u001b[38;5;28;01mNone\u001b[39;00m\n\u001b[1;32m   1750\u001b[0m called_always_called_hooks \u001b[38;5;241m=\u001b[39m \u001b[38;5;28mset\u001b[39m()\n",
      "File \u001b[0;32m~/miniconda3/envs/haia/lib/python3.10/site-packages/transformers/models/wav2vec2/modeling_wav2vec2.py:1817\u001b[0m, in \u001b[0;36mWav2Vec2Model.forward\u001b[0;34m(self, input_values, attention_mask, mask_time_indices, output_attentions, output_hidden_states, return_dict)\u001b[0m\n\u001b[1;32m   1812\u001b[0m     attention_mask \u001b[38;5;241m=\u001b[39m \u001b[38;5;28mself\u001b[39m\u001b[38;5;241m.\u001b[39m_get_feature_vector_attention_mask(\n\u001b[1;32m   1813\u001b[0m         extract_features\u001b[38;5;241m.\u001b[39mshape[\u001b[38;5;241m1\u001b[39m], attention_mask, add_adapter\u001b[38;5;241m=\u001b[39m\u001b[38;5;28;01mFalse\u001b[39;00m\n\u001b[1;32m   1814\u001b[0m     )\n\u001b[1;32m   1816\u001b[0m hidden_states, extract_features \u001b[38;5;241m=\u001b[39m \u001b[38;5;28mself\u001b[39m\u001b[38;5;241m.\u001b[39mfeature_projection(extract_features)\n\u001b[0;32m-> 1817\u001b[0m hidden_states \u001b[38;5;241m=\u001b[39m \u001b[38;5;28;43mself\u001b[39;49m\u001b[38;5;241;43m.\u001b[39;49m\u001b[43m_mask_hidden_states\u001b[49m\u001b[43m(\u001b[49m\n\u001b[1;32m   1818\u001b[0m \u001b[43m    \u001b[49m\u001b[43mhidden_states\u001b[49m\u001b[43m,\u001b[49m\u001b[43m \u001b[49m\u001b[43mmask_time_indices\u001b[49m\u001b[38;5;241;43m=\u001b[39;49m\u001b[43mmask_time_indices\u001b[49m\u001b[43m,\u001b[49m\u001b[43m \u001b[49m\u001b[43mattention_mask\u001b[49m\u001b[38;5;241;43m=\u001b[39;49m\u001b[43mattention_mask\u001b[49m\n\u001b[1;32m   1819\u001b[0m \u001b[43m\u001b[49m\u001b[43m)\u001b[49m\n\u001b[1;32m   1821\u001b[0m encoder_outputs \u001b[38;5;241m=\u001b[39m \u001b[38;5;28mself\u001b[39m\u001b[38;5;241m.\u001b[39mencoder(\n\u001b[1;32m   1822\u001b[0m     hidden_states,\n\u001b[1;32m   1823\u001b[0m     attention_mask\u001b[38;5;241m=\u001b[39mattention_mask,\n\u001b[0;32m   (...)\u001b[0m\n\u001b[1;32m   1826\u001b[0m     return_dict\u001b[38;5;241m=\u001b[39mreturn_dict,\n\u001b[1;32m   1827\u001b[0m )\n\u001b[1;32m   1829\u001b[0m hidden_states \u001b[38;5;241m=\u001b[39m encoder_outputs[\u001b[38;5;241m0\u001b[39m]\n",
      "File \u001b[0;32m~/miniconda3/envs/haia/lib/python3.10/site-packages/transformers/models/wav2vec2/modeling_wav2vec2.py:1760\u001b[0m, in \u001b[0;36mWav2Vec2Model._mask_hidden_states\u001b[0;34m(self, hidden_states, mask_time_indices, attention_mask)\u001b[0m\n\u001b[1;32m   1758\u001b[0m     hidden_states[mask_time_indices] \u001b[38;5;241m=\u001b[39m \u001b[38;5;28mself\u001b[39m\u001b[38;5;241m.\u001b[39mmasked_spec_embed\u001b[38;5;241m.\u001b[39mto(hidden_states\u001b[38;5;241m.\u001b[39mdtype)\n\u001b[1;32m   1759\u001b[0m \u001b[38;5;28;01melif\u001b[39;00m \u001b[38;5;28mself\u001b[39m\u001b[38;5;241m.\u001b[39mconfig\u001b[38;5;241m.\u001b[39mmask_time_prob \u001b[38;5;241m>\u001b[39m \u001b[38;5;241m0\u001b[39m \u001b[38;5;129;01mand\u001b[39;00m \u001b[38;5;28mself\u001b[39m\u001b[38;5;241m.\u001b[39mtraining:\n\u001b[0;32m-> 1760\u001b[0m     mask_time_indices \u001b[38;5;241m=\u001b[39m \u001b[43m_compute_mask_indices\u001b[49m\u001b[43m(\u001b[49m\n\u001b[1;32m   1761\u001b[0m \u001b[43m        \u001b[49m\u001b[43m(\u001b[49m\u001b[43mbatch_size\u001b[49m\u001b[43m,\u001b[49m\u001b[43m \u001b[49m\u001b[43msequence_length\u001b[49m\u001b[43m)\u001b[49m\u001b[43m,\u001b[49m\n\u001b[1;32m   1762\u001b[0m \u001b[43m        \u001b[49m\u001b[43mmask_prob\u001b[49m\u001b[38;5;241;43m=\u001b[39;49m\u001b[38;5;28;43mself\u001b[39;49m\u001b[38;5;241;43m.\u001b[39;49m\u001b[43mconfig\u001b[49m\u001b[38;5;241;43m.\u001b[39;49m\u001b[43mmask_time_prob\u001b[49m\u001b[43m,\u001b[49m\n\u001b[1;32m   1763\u001b[0m \u001b[43m        \u001b[49m\u001b[43mmask_length\u001b[49m\u001b[38;5;241;43m=\u001b[39;49m\u001b[38;5;28;43mself\u001b[39;49m\u001b[38;5;241;43m.\u001b[39;49m\u001b[43mconfig\u001b[49m\u001b[38;5;241;43m.\u001b[39;49m\u001b[43mmask_time_length\u001b[49m\u001b[43m,\u001b[49m\n\u001b[1;32m   1764\u001b[0m \u001b[43m        \u001b[49m\u001b[43mattention_mask\u001b[49m\u001b[38;5;241;43m=\u001b[39;49m\u001b[43mattention_mask\u001b[49m\u001b[43m,\u001b[49m\n\u001b[1;32m   1765\u001b[0m \u001b[43m        \u001b[49m\u001b[43mmin_masks\u001b[49m\u001b[38;5;241;43m=\u001b[39;49m\u001b[38;5;28;43mself\u001b[39;49m\u001b[38;5;241;43m.\u001b[39;49m\u001b[43mconfig\u001b[49m\u001b[38;5;241;43m.\u001b[39;49m\u001b[43mmask_time_min_masks\u001b[49m\u001b[43m,\u001b[49m\n\u001b[1;32m   1766\u001b[0m \u001b[43m    \u001b[49m\u001b[43m)\u001b[49m\n\u001b[1;32m   1767\u001b[0m     mask_time_indices \u001b[38;5;241m=\u001b[39m torch\u001b[38;5;241m.\u001b[39mtensor(mask_time_indices, device\u001b[38;5;241m=\u001b[39mhidden_states\u001b[38;5;241m.\u001b[39mdevice, dtype\u001b[38;5;241m=\u001b[39mtorch\u001b[38;5;241m.\u001b[39mbool)\n\u001b[1;32m   1768\u001b[0m     hidden_states[mask_time_indices] \u001b[38;5;241m=\u001b[39m \u001b[38;5;28mself\u001b[39m\u001b[38;5;241m.\u001b[39mmasked_spec_embed\u001b[38;5;241m.\u001b[39mto(hidden_states\u001b[38;5;241m.\u001b[39mdtype)\n",
      "File \u001b[0;32m~/miniconda3/envs/haia/lib/python3.10/site-packages/transformers/models/wav2vec2/modeling_wav2vec2.py:169\u001b[0m, in \u001b[0;36m_compute_mask_indices\u001b[0;34m(shape, mask_prob, mask_length, attention_mask, min_masks)\u001b[0m\n\u001b[1;32m    166\u001b[0m     \u001b[38;5;28;01mraise\u001b[39;00m \u001b[38;5;167;01mValueError\u001b[39;00m(\u001b[38;5;124m\"\u001b[39m\u001b[38;5;124m`mask_length` has to be bigger than 0.\u001b[39m\u001b[38;5;124m\"\u001b[39m)\n\u001b[1;32m    168\u001b[0m \u001b[38;5;28;01mif\u001b[39;00m mask_length \u001b[38;5;241m>\u001b[39m sequence_length:\n\u001b[0;32m--> 169\u001b[0m     \u001b[38;5;28;01mraise\u001b[39;00m \u001b[38;5;167;01mValueError\u001b[39;00m(\n\u001b[1;32m    170\u001b[0m         \u001b[38;5;124mf\u001b[39m\u001b[38;5;124m\"\u001b[39m\u001b[38;5;124m`mask_length` has to be smaller than `sequence_length`, but got `mask_length`: \u001b[39m\u001b[38;5;132;01m{\u001b[39;00mmask_length\u001b[38;5;132;01m}\u001b[39;00m\u001b[38;5;124m\"\u001b[39m\n\u001b[1;32m    171\u001b[0m         \u001b[38;5;124mf\u001b[39m\u001b[38;5;124m\"\u001b[39m\u001b[38;5;124m and `sequence_length`: \u001b[39m\u001b[38;5;132;01m{\u001b[39;00msequence_length\u001b[38;5;132;01m}\u001b[39;00m\u001b[38;5;124m`\u001b[39m\u001b[38;5;124m\"\u001b[39m\n\u001b[1;32m    172\u001b[0m     )\n\u001b[1;32m    174\u001b[0m \u001b[38;5;66;03m# epsilon is used for probabilistic rounding\u001b[39;00m\n\u001b[1;32m    175\u001b[0m epsilon \u001b[38;5;241m=\u001b[39m np\u001b[38;5;241m.\u001b[39mrandom\u001b[38;5;241m.\u001b[39mrand(\u001b[38;5;241m1\u001b[39m)\u001b[38;5;241m.\u001b[39mitem()\n",
      "\u001b[0;31mValueError\u001b[0m: `mask_length` has to be smaller than `sequence_length`, but got `mask_length`: 10 and `sequence_length`: 8`"
     ]
    }
   ],
   "source": [
    "import ast\n",
    "if __name__ == '__main__':\n",
    "    device = torch.device(\"cuda\" if torch.cuda.is_available() else \"cpu\")\n",
    "\n",
    "    train_df = pd.read_csv(\"/mnt/c/Users/EvaCantin/Desktop/MASTER/HAIA/data_text_audio/MMUSED-fallacy/afc_text_audio_train.csv\")\n",
    "    test_df = pd.read_csv(\"/mnt/c/Users/EvaCantin/Desktop/MASTER/HAIA/data_text_audio/MMUSED-fallacy/afc_text_audio_test.csv\")\n",
    "    train_df['Ruta'] = train_df['Ruta'].apply(clean_path_list)\n",
    "    test_df['Ruta'] = test_df['Ruta'].apply(clean_path_list)\n",
    "    \n",
    "    train_df['Ruta'] = train_df['Ruta'].apply(lambda x: ast.literal_eval(x) if isinstance(x, str) else x)\n",
    "    mask = ~train_df['Ruta'].apply(lambda paths: any(\"36_2008/933\" in path or \"36_2008/934\" in path or \"6_1976/543\" in path or \"36_2008/44\" in path or \"30_2004/456\" in path or \"30_2004/230\" in path or \"33_2008/949\" in path for path in paths))\n",
    "    train_df = train_df[mask].reset_index(drop=True)\n",
    "    label_encoder = LabelEncoder().fit(train_df['Etiqueta'])\n",
    "\n",
    "    tokenizer = RobertaTokenizer.from_pretrained('roberta-base')\n",
    "    processor = Wav2Vec2Processor.from_pretrained('facebook/wav2vec2-base')\n",
    "    \n",
    "    #processor.feature_extractor.mask_time_length = 2\n",
    "    train_dataset = MultimodalFallacyDataset(train_df, tokenizer, processor, \"/mnt/c/Users/EvaCantin/Desktop/MASTER/HAIA/Trabajo/MMUSED-fallacy/audio_clips\", label_encoder)\n",
    "    test_dataset = MultimodalFallacyDataset(test_df.dropna(subset=['Etiqueta']), tokenizer, processor, \"/mnt/c/Users/EvaCantin/Desktop/MASTER/HAIA/Trabajo/MMUSED-fallacy/audio_clips\", label_encoder)\n",
    "\n",
    "    train_loader = DataLoader(train_dataset, batch_size=1, shuffle=True, collate_fn=custom_collate_fn, num_workers=2)\n",
    "    test_loader = DataLoader(test_dataset, batch_size=1, collate_fn=custom_collate_fn, num_workers=2)\n",
    "\n",
    "    model = MultimodalClassifier().to(device)\n",
    "    optimizer = torch.optim.AdamW(model.parameters(), lr=2e-5)\n",
    "    loss_fn = nn.CrossEntropyLoss()\n",
    "\n",
    "    for epoch in range(3):\n",
    "        print(f\"Epoch {epoch+1}\")\n",
    "        train_loss = train_model(model, train_loader, optimizer, loss_fn, device)\n",
    "        print(f\"Train loss: {train_loss:.4f}\")\n",
    "        evaluate_model(model, test_loader, device, label_encoder)\n",
    "        torch.cuda.empty_cache()"
   ]
  },
  {
   "cell_type": "code",
   "execution_count": null,
   "id": "47275519",
   "metadata": {},
   "outputs": [],
   "source": []
  },
  {
   "cell_type": "code",
   "execution_count": null,
   "id": "805703b0",
   "metadata": {},
   "outputs": [],
   "source": []
  }
 ],
 "metadata": {
  "kernelspec": {
   "display_name": "haia",
   "language": "python",
   "name": "python3"
  },
  "language_info": {
   "codemirror_mode": {
    "name": "ipython",
    "version": 3
   },
   "file_extension": ".py",
   "mimetype": "text/x-python",
   "name": "python",
   "nbconvert_exporter": "python",
   "pygments_lexer": "ipython3",
   "version": "3.10.13"
  }
 },
 "nbformat": 4,
 "nbformat_minor": 5
}
