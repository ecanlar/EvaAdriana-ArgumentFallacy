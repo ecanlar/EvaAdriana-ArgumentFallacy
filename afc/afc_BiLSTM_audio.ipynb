{
 "cells": [
  {
   "cell_type": "code",
   "execution_count": 1,
   "id": "713123e1",
   "metadata": {},
   "outputs": [],
   "source": [
    "import torch as th\n",
    "from mamkit.models.audio import BiLSTM  # Asegurate que este sea el path correcto\n",
    "from mamkit.configs.audio import BiLSTMMFCCsConfig\n",
    "from mamkit.configs.base import ConfigKey\n",
    "from mamkit.data.datasets import InputMode\n",
    "\n",
    "# Definir la clave de configuración\n",
    "config_key = ConfigKey(\n",
    "    dataset='mmused-fallacy',\n",
    "    task_name='afc',\n",
    "    input_mode=InputMode.AUDIO_ONLY,\n",
    "    tags={'anonymous'}\n",
    ")\n",
    "\n",
    "# Cargar la configuración usando el mapeo que ya está definido en BiLSTMMFCCsConfig\n",
    "config = BiLSTMMFCCsConfig.from_config(key=config_key)\n",
    "\n",
    "# Crear el modelo\n",
    "model = BiLSTM(\n",
    "    embedding_dim=config.embedding_dim,\n",
    "    lstm_weights=config.lstm_weights,\n",
    "    head=config.head,\n",
    "    dropout_rate=config.dropout_rate\n",
    ")\n",
    "\n",
    "# Mover a GPU si está disponible\n",
    "device = th.device(\"cuda\" if th.cuda.is_available() else \"cpu\")\n",
    "model = model.to(device)"
   ]
  },
  {
   "cell_type": "code",
   "execution_count": 2,
   "id": "0b1b340a",
   "metadata": {},
   "outputs": [
    {
     "name": "stdout",
     "output_type": "stream",
     "text": [
      "                                                Ruta  Etiqueta\n",
      "0  [WindowsPath('C:/Users/Usuario/MMUSED-fallacy/...         0\n",
      "1  [WindowsPath('C:/Users/Usuario/MMUSED-fallacy/...         0\n",
      "2  [WindowsPath('C:/Users/Usuario/MMUSED-fallacy/...         1\n",
      "3  [WindowsPath('C:/Users/Usuario/MMUSED-fallacy/...         0\n",
      "4  [WindowsPath('C:/Users/Usuario/MMUSED-fallacy/...         0\n"
     ]
    }
   ],
   "source": [
    "import pandas as pd\n",
    "\n",
    "train_df = pd.read_csv(\"train_afc_audio.csv\")\n",
    "\n",
    "\n",
    "\n",
    "print(train_df.head())"
   ]
  },
  {
   "cell_type": "code",
   "execution_count": null,
   "id": "e37862ae",
   "metadata": {},
   "outputs": [],
   "source": [
    "import torch\n",
    "from torch.utils.data import Dataset\n",
    "import torchaudio\n",
    "import re  # Para usar expresiones regulares\n",
    "\n",
    "class AudioDataset(Dataset):\n",
    "    def __init__(self, dataframe, mfcc_transform):\n",
    "        self.df = dataframe\n",
    "        self.transform = mfcc_transform\n",
    "\n",
    "    def __len__(self):\n",
    "        return len(self.df)\n",
    "\n",
    "    def __getitem__(self, idx):\n",
    "        path_str = self.df.iloc[idx]['Ruta']\n",
    "\n",
    "        try:\n",
    "            \n",
    "            paths = []\n",
    "            if isinstance(path_str, str):\n",
    "                # Extrae todas las rutas de dentro del WindowsPath('...')\n",
    "                paths = re.findall(r\"WindowsPath\\(['\\\"](.*?)['\\\"]\\)\", path_str)\n",
    "            elif isinstance(path_str, list):\n",
    "                # Si es una lista (ya en formato correcto)\n",
    "                paths = [str(p) for p in path_str]\n",
    "\n",
    "            # Cargar y procesar los archivos de audio\n",
    "            waveforms = []\n",
    "            for path in paths:\n",
    "                waveform, sample_rate = torchaudio.load(path)\n",
    "                waveforms.append(waveform)\n",
    "\n",
    "            waveform = torch.mean(torch.stack(waveforms), dim=0)\n",
    "            mfcc = self.transform(waveform)\n",
    "            mfcc = mfcc.squeeze(0).transpose(0, 1)\n",
    "\n",
    "            label = self.df.iloc[idx]['Etiqueta']\n",
    "\n",
    "        except Exception as e:\n",
    "            return None\n",
    "\n",
    "        return {\n",
    "            'inputs': mfcc,\n",
    "            'label': torch.tensor(label, dtype=torch.long)\n",
    "        }\n"
   ]
  },
  {
   "cell_type": "code",
   "execution_count": 4,
   "id": "e60a5fcb",
   "metadata": {},
   "outputs": [],
   "source": [
    "import torchaudio.transforms as T\n",
    "\n",
    "mfcc_transform = T.MFCC(\n",
    "    sample_rate=16000,         # según tu config\n",
    "    n_mfcc=44,                 # según tu config\n",
    "    melkwargs={\n",
    "        'n_fft': 400,\n",
    "        'hop_length': 160,\n",
    "        'n_mels': 50\n",
    "    }\n",
    ")\n"
   ]
  },
  {
   "cell_type": "code",
   "execution_count": 5,
   "id": "d614b7d3",
   "metadata": {},
   "outputs": [],
   "source": [
    "from torch.utils.data import DataLoader\n",
    "\n",
    "train_dataset = AudioDataset(train_df, mfcc_transform)\n"
   ]
  },
  {
   "cell_type": "code",
   "execution_count": 6,
   "id": "e0af16c6",
   "metadata": {},
   "outputs": [
    {
     "data": {
      "text/plain": [
       "1228"
      ]
     },
     "execution_count": 6,
     "metadata": {},
     "output_type": "execute_result"
    }
   ],
   "source": [
    "len(train_dataset)"
   ]
  },
  {
   "cell_type": "code",
   "execution_count": 7,
   "id": "ba8c0da5",
   "metadata": {},
   "outputs": [
    {
     "name": "stdout",
     "output_type": "stream",
     "text": [
      "dict_keys(['inputs', 'label'])\n",
      "torch.Size([903, 44])\n",
      "tensor(0)\n"
     ]
    }
   ],
   "source": [
    "sample = train_dataset[1]\n",
    "print(sample.keys())         # ['inputs', 'label']\n",
    "print(sample['inputs'].shape)  # Ej: torch.Size([seq_len, features])\n",
    "print(sample['label'])         # Ej: tensor(1)"
   ]
  },
  {
   "cell_type": "code",
   "execution_count": 8,
   "id": "dcade2ba",
   "metadata": {},
   "outputs": [
    {
     "data": {
      "text/plain": [
       "tensor([[-4.1874e+01,  6.6053e+01, -5.7372e+00,  ..., -2.6842e+00,\n",
       "          4.6257e-01,  2.1650e+00],\n",
       "        [-3.2432e+01,  6.1307e+01, -1.1382e+01,  ..., -2.3972e+00,\n",
       "         -6.1616e-01, -2.0341e+00],\n",
       "        [-2.7905e+01,  5.8165e+01, -1.4745e+01,  ..., -2.1649e+00,\n",
       "         -9.0274e-01, -3.3208e+00],\n",
       "        ...,\n",
       "        [-3.0122e+02,  7.3270e+01,  2.4528e+01,  ...,  3.1236e+00,\n",
       "         -3.3085e-01,  1.3937e+00],\n",
       "        [-3.1627e+02,  7.5886e+01,  3.5093e+01,  ...,  4.0349e+00,\n",
       "         -4.0798e+00,  2.1878e-01],\n",
       "        [-3.2676e+02,  7.1769e+01,  4.1932e+01,  ...,  1.5136e-01,\n",
       "         -3.6074e-02,  1.8607e-01]])"
      ]
     },
     "execution_count": 8,
     "metadata": {},
     "output_type": "execute_result"
    }
   ],
   "source": [
    "sample['inputs']"
   ]
  },
  {
   "cell_type": "code",
   "execution_count": 9,
   "id": "5a9ba0c5",
   "metadata": {},
   "outputs": [],
   "source": [
    "def collate_fn_pad(batch):\n",
    "    import torch.nn.functional as F\n",
    "\n",
    "    # Filtrar elementos inválidos\n",
    "    batch = [x for x in batch if x is not None and x['inputs'].ndim == 2 and x['inputs'].shape[1] == 44]\n",
    "    \n",
    "    if len(batch) == 0:\n",
    "        print(\"[SKIP] Batch vacío tras filtrar entradas inválidas.\")\n",
    "        return None\n",
    "\n",
    "    inputs = []\n",
    "    labels = []\n",
    "    for item in batch:\n",
    "        x = item['inputs']\n",
    "        y = item['label']\n",
    "        inputs.append(x)\n",
    "        labels.append(y)\n",
    "\n",
    "    # Padding en la dimensión 0 (timesteps)\n",
    "    max_len = max(input.shape[0] for input in inputs)\n",
    "    padded_inputs = [F.pad(input, (0, 0, 0, max_len - input.shape[0])) for input in inputs]\n",
    "\n",
    "    try:\n",
    "        inputs_tensor = torch.stack(padded_inputs)\n",
    "        labels_tensor = torch.tensor(labels)\n",
    "        return {'inputs': inputs_tensor, 'label': labels_tensor}\n",
    "    except Exception as e:\n",
    "        print(\"Error al hacer el stack:\", e)\n",
    "        return None\n"
   ]
  },
  {
   "cell_type": "code",
   "execution_count": 10,
   "id": "4806e4df",
   "metadata": {},
   "outputs": [
    {
     "name": "stdout",
     "output_type": "stream",
     "text": [
      "Train dataset size: 982\n",
      "Validation dataset size: 246\n"
     ]
    }
   ],
   "source": [
    "from torch.utils.data import random_split\n",
    "\n",
    "# Supongamos que tienes el dataset original como `train_dataset`\n",
    "train_size = int(0.8 * len(train_dataset))  # 80% para entrenamiento\n",
    "val_size = len(train_dataset) - train_size  # 20% para validación\n",
    "\n",
    "# Dividimos el dataset\n",
    "train_dataset, val_dataset = random_split(train_dataset, [train_size, val_size])\n",
    "\n",
    "print(f\"Train dataset size: {len(train_dataset)}\")\n",
    "print(f\"Validation dataset size: {len(val_dataset)}\")"
   ]
  },
  {
   "cell_type": "code",
   "execution_count": 11,
   "id": "e3a3f1b2",
   "metadata": {},
   "outputs": [],
   "source": [
    "train_dataset[0]"
   ]
  },
  {
   "cell_type": "code",
   "execution_count": 12,
   "id": "74142101",
   "metadata": {},
   "outputs": [
    {
     "name": "stderr",
     "output_type": "stream",
     "text": [
      "c:\\Users\\Usuario\\OneDrive - UPV\\Master\\HAIA\\Trabajo\\venv\\lib\\site-packages\\tqdm\\auto.py:21: TqdmWarning: IProgress not found. Please update jupyter and ipywidgets. See https://ipywidgets.readthedocs.io/en/stable/user_install.html\n",
      "  from .autonotebook import tqdm as notebook_tqdm\n",
      "Epoch 1 - Training: 100%|██████████| 31/31 [03:07<00:00,  6.04s/it, train_batch=796]\n",
      "Epoch 1 - Validation: 100%|██████████| 8/8 [00:03<00:00,  2.27it/s, val_batch=202]\n"
     ]
    },
    {
     "name": "stdout",
     "output_type": "stream",
     "text": [
      "Epoch 1 completed\n",
      "Validation Accuracy: 0.6782\n",
      "Validation F1: 0.5482\n",
      "Validation Macro F1: 0.1347\n"
     ]
    },
    {
     "name": "stderr",
     "output_type": "stream",
     "text": [
      "Epoch 2 - Training: 100%|██████████| 31/31 [03:01<00:00,  5.84s/it, train_batch=796]\n",
      "Epoch 2 - Validation: 100%|██████████| 8/8 [00:03<00:00,  2.08it/s, val_batch=202]\n"
     ]
    },
    {
     "name": "stdout",
     "output_type": "stream",
     "text": [
      "Epoch 2 completed\n",
      "Validation Accuracy: 0.6782\n",
      "Validation F1: 0.5482\n",
      "Validation Macro F1: 0.1347\n"
     ]
    },
    {
     "name": "stderr",
     "output_type": "stream",
     "text": [
      "Epoch 3 - Training: 100%|██████████| 31/31 [03:03<00:00,  5.91s/it, train_batch=796]\n",
      "Epoch 3 - Validation: 100%|██████████| 8/8 [00:04<00:00,  1.89it/s, val_batch=202]\n"
     ]
    },
    {
     "name": "stdout",
     "output_type": "stream",
     "text": [
      "Epoch 3 completed\n",
      "Validation Accuracy: 0.6782\n",
      "Validation F1: 0.5482\n",
      "Validation Macro F1: 0.1347\n"
     ]
    },
    {
     "name": "stderr",
     "output_type": "stream",
     "text": [
      "Epoch 4 - Training: 100%|██████████| 31/31 [02:58<00:00,  5.77s/it, train_batch=796]\n",
      "Epoch 4 - Validation: 100%|██████████| 8/8 [00:03<00:00,  2.22it/s, val_batch=202]\n"
     ]
    },
    {
     "name": "stdout",
     "output_type": "stream",
     "text": [
      "Epoch 4 completed\n",
      "Validation Accuracy: 0.6782\n",
      "Validation F1: 0.5482\n",
      "Validation Macro F1: 0.1347\n"
     ]
    },
    {
     "name": "stderr",
     "output_type": "stream",
     "text": [
      "Epoch 5 - Training: 100%|██████████| 31/31 [03:02<00:00,  5.89s/it, train_batch=796]\n",
      "Epoch 5 - Validation: 100%|██████████| 8/8 [00:03<00:00,  2.05it/s, val_batch=202]\n"
     ]
    },
    {
     "name": "stdout",
     "output_type": "stream",
     "text": [
      "Epoch 5 completed\n",
      "Validation Accuracy: 0.6782\n",
      "Validation F1: 0.5482\n",
      "Validation Macro F1: 0.1347\n"
     ]
    },
    {
     "name": "stderr",
     "output_type": "stream",
     "text": [
      "Epoch 6 - Training: 100%|██████████| 31/31 [02:59<00:00,  5.77s/it, train_batch=796]\n",
      "Epoch 6 - Validation: 100%|██████████| 8/8 [00:04<00:00,  1.81it/s, val_batch=202]\n"
     ]
    },
    {
     "name": "stdout",
     "output_type": "stream",
     "text": [
      "Epoch 6 completed\n",
      "Validation Accuracy: 0.6782\n",
      "Validation F1: 0.5498\n",
      "Validation Macro F1: 0.1351\n"
     ]
    },
    {
     "name": "stderr",
     "output_type": "stream",
     "text": [
      "Epoch 7 - Training: 100%|██████████| 31/31 [03:05<00:00,  5.97s/it, train_batch=796]\n",
      "Epoch 7 - Validation: 100%|██████████| 8/8 [00:05<00:00,  1.58it/s, val_batch=202]\n"
     ]
    },
    {
     "name": "stdout",
     "output_type": "stream",
     "text": [
      "Epoch 7 completed\n",
      "Validation Accuracy: 0.6584\n",
      "Validation F1: 0.5695\n",
      "Validation Macro F1: 0.1915\n"
     ]
    },
    {
     "name": "stderr",
     "output_type": "stream",
     "text": [
      "Epoch 8 - Training: 100%|██████████| 31/31 [02:51<00:00,  5.52s/it, train_batch=796]\n",
      "Epoch 8 - Validation: 100%|██████████| 8/8 [00:03<00:00,  2.20it/s, val_batch=202]\n"
     ]
    },
    {
     "name": "stdout",
     "output_type": "stream",
     "text": [
      "Epoch 8 completed\n",
      "Validation Accuracy: 0.6485\n",
      "Validation F1: 0.5685\n",
      "Validation Macro F1: 0.1886\n"
     ]
    },
    {
     "name": "stderr",
     "output_type": "stream",
     "text": [
      "Epoch 9 - Training: 100%|██████████| 31/31 [02:43<00:00,  5.27s/it, train_batch=796]\n",
      "Epoch 9 - Validation: 100%|██████████| 8/8 [00:03<00:00,  2.29it/s, val_batch=202]\n"
     ]
    },
    {
     "name": "stdout",
     "output_type": "stream",
     "text": [
      "Epoch 9 completed\n",
      "Validation Accuracy: 0.6584\n",
      "Validation F1: 0.5541\n",
      "Validation Macro F1: 0.1601\n"
     ]
    },
    {
     "name": "stderr",
     "output_type": "stream",
     "text": [
      "Epoch 10 - Training: 100%|██████████| 31/31 [02:51<00:00,  5.54s/it, train_batch=796]\n",
      "Epoch 10 - Validation: 100%|██████████| 8/8 [00:04<00:00,  1.89it/s, val_batch=202]"
     ]
    },
    {
     "name": "stdout",
     "output_type": "stream",
     "text": [
      "Epoch 10 completed\n",
      "Validation Accuracy: 0.5891\n",
      "Validation F1: 0.5312\n",
      "Validation Macro F1: 0.1612\n"
     ]
    },
    {
     "name": "stderr",
     "output_type": "stream",
     "text": [
      "\n"
     ]
    }
   ],
   "source": [
    "import torch as th\n",
    "from torch.utils.data import DataLoader\n",
    "from tqdm import tqdm  # Importar tqdm para la barra de progreso\n",
    "from sklearn.metrics import accuracy_score, f1_score  # Para calcular métricas\n",
    "\n",
    "# Asegúrate de que el modelo esté en modo de evaluación\n",
    "# No lo pongas en eval hasta la parte de validación\n",
    "\n",
    "# Crear un DataLoader para iterar sobre el dataset de entrenamiento y validación\n",
    "train_loader = DataLoader(train_dataset, batch_size=32, shuffle=True, collate_fn=collate_fn_pad)\n",
    "val_loader = DataLoader(val_dataset, batch_size=32, shuffle=False, collate_fn=collate_fn_pad)\n",
    "\n",
    "# Definir un optimizador y una función de pérdida\n",
    "optimizer = th.optim.Adam(model.parameters(), lr=0.001)  # Optimización\n",
    "criterion = th.nn.CrossEntropyLoss()  # Función de pérdida para clasificación multiclase\n",
    "\n",
    "# Medir el tiempo de cada época\n",
    "for epoch in range(10):\n",
    "    \n",
    "    # Inicializar las listas para las predicciones de esta época\n",
    "    train_predictions = []\n",
    "    train_true_labels = []\n",
    "    val_predictions = []\n",
    "    val_true_labels = []\n",
    "    \n",
    "    # ----- Entrenamiento -----\n",
    "    model.train()\n",
    "    train_loader_tqdm = tqdm(train_loader, desc=f\"Epoch {epoch+1} - Training\", leave=True)\n",
    "    for batch in train_loader_tqdm:\n",
    "        if batch is None:\n",
    "            continue\n",
    "        inputs = batch['inputs'].to(device)  # Asegúrate de que los datos están en el mismo dispositivo que el modelo\n",
    "        labels = batch['label'].to(device)   # Para poder comparar después con las etiquetas reales\n",
    "\n",
    "        # Pasa los datos por el modelo\n",
    "        outputs = model({'inputs': inputs})\n",
    "\n",
    "        # Obtener la pérdida\n",
    "        loss = criterion(outputs, labels)\n",
    "\n",
    "        # Backpropagation y optimización\n",
    "        optimizer.zero_grad()  # Resetear los gradientes\n",
    "        loss.backward()  # Calcular los gradientes\n",
    "        optimizer.step()  # Actualizar los pesos del modelo\n",
    "\n",
    "        # Obtener las predicciones (puedes aplicar softmax si deseas probabilidades)\n",
    "        _, preds = th.max(outputs, 1)  # Si la salida del modelo es logits\n",
    "\n",
    "        # Almacenar las predicciones y las etiquetas reales\n",
    "        train_predictions.extend(preds.cpu().numpy())\n",
    "        train_true_labels.extend(labels.cpu().numpy())\n",
    "        \n",
    "        # Actualizar la barra de progreso de entrenamiento\n",
    "        train_loader_tqdm.set_postfix({'train_batch': len(train_predictions)})\n",
    "\n",
    "    # ----- Validación -----\n",
    "    model.eval()\n",
    "    val_loader_tqdm = tqdm(val_loader, desc=f\"Epoch {epoch+1} - Validation\", leave=True)\n",
    "    with th.no_grad():  # No calculamos gradientes para la inferencia\n",
    "        for batch in val_loader_tqdm:\n",
    "            if batch is None:\n",
    "                continue\n",
    "            inputs = batch['inputs'].to(device)  # Asegúrate de que los datos están en el mismo dispositivo que el modelo\n",
    "            labels = batch['label'].to(device)   # Para poder comparar después con las etiquetas reales\n",
    "\n",
    "            # Pasa los datos por el modelo\n",
    "            outputs = model({'inputs': inputs})\n",
    "\n",
    "            # Obtener las predicciones (puedes aplicar softmax si deseas probabilidades)\n",
    "            _, preds = th.max(outputs, 1)  # Si la salida del modelo es logits\n",
    "\n",
    "            # Almacenar las predicciones y las etiquetas reales\n",
    "            val_predictions.extend(preds.cpu().numpy())\n",
    "            val_true_labels.extend(labels.cpu().numpy())\n",
    "            \n",
    "            # Actualizar la barra de progreso de validación\n",
    "            val_loader_tqdm.set_postfix({'val_batch': len(val_predictions)})\n",
    "\n",
    "    # Calcular y mostrar las métricas después de cada época\n",
    "    accuracy = accuracy_score(val_true_labels, val_predictions)\n",
    "    f1 = f1_score(val_true_labels, val_predictions, average='weighted')\n",
    "    macro_f1 = f1_score(val_true_labels, val_predictions, average='macro')\n",
    "\n",
    "    print(f\"Epoch {epoch+1} completed\")\n",
    "    print(f\"Validation Accuracy: {accuracy:.4f}\")\n",
    "    print(f\"Validation F1: {f1:.4f}\")\n",
    "    print(f\"Validation Macro F1: {macro_f1:.4f}\")\n"
   ]
  },
  {
   "cell_type": "code",
   "execution_count": 14,
   "id": "0d0dad4e",
   "metadata": {},
   "outputs": [
    {
     "name": "stdout",
     "output_type": "stream",
     "text": [
      "[0, 0, 2, 0, 1, 1, 0, 0, 0, 0, 0, 0, 0, 0, 1, 0, 0, 0, 1, 0]\n",
      "[2, 0, 0, 0, 0, 1, 1, 2, 0, 5, 1, 1, 0, 0, 0, 0, 0, 1, 0, 2]\n"
     ]
    }
   ],
   "source": [
    "# Imprimir las primeras predicciones\n",
    "print(val_predictions[:20])\n",
    "print(val_true_labels[:20])"
   ]
  },
  {
   "cell_type": "code",
   "execution_count": 24,
   "id": "175fe45d",
   "metadata": {},
   "outputs": [],
   "source": [
    "import torch\n",
    "from torch.utils.data import Dataset\n",
    "import torchaudio\n",
    "import re  # Para usar expresiones regulares\n",
    "\n",
    "class AudioTestDataset(Dataset):\n",
    "    def __init__(self, dataframe, mfcc_transform):\n",
    "        self.df = dataframe\n",
    "        self.transform = mfcc_transform\n",
    "\n",
    "    def __len__(self):\n",
    "        return len(self.df)\n",
    "\n",
    "    def __getitem__(self, idx):\n",
    "        path_str = self.df.iloc[idx]['Ruta']\n",
    "\n",
    "        try:\n",
    "            paths = []\n",
    "            if isinstance(path_str, str):\n",
    "                # Extrae todas las rutas de dentro del WindowsPath('...')\n",
    "                paths = re.findall(r\"WindowsPath\\(['\\\"](.*?)['\\\"]\\)\", path_str)\n",
    "            elif isinstance(path_str, list):\n",
    "                # Si es una lista (ya en formato correcto)\n",
    "                paths = [str(p) for p in path_str]\n",
    "\n",
    "            # Cargar y procesar los archivos de audio\n",
    "            waveforms = []\n",
    "            for path in paths:\n",
    "                waveform, sample_rate = torchaudio.load(path)\n",
    "                waveforms.append(waveform)\n",
    "\n",
    "            waveform = torch.mean(torch.stack(waveforms), dim=0)\n",
    "            mfcc = self.transform(waveform)\n",
    "            mfcc = mfcc.squeeze(0).transpose(0, 1)\n",
    "\n",
    "        except Exception as e:\n",
    "            return None\n",
    "\n",
    "        # Solo devolvemos los 'inputs' para el conjunto de test\n",
    "        return {\n",
    "            'inputs': mfcc\n",
    "        }\n"
   ]
  },
  {
   "cell_type": "code",
   "execution_count": 27,
   "id": "7d575d76",
   "metadata": {},
   "outputs": [],
   "source": [
    "def collate_fn_pad_test(batch):\n",
    "    import torch.nn.functional as F\n",
    "\n",
    "    # Filtrar elementos inválidos\n",
    "    batch = [x for x in batch if x is not None and x['inputs'].ndim == 2 and x['inputs'].shape[1] == 44]\n",
    "    \n",
    "    if len(batch) == 0:\n",
    "        print(\"[SKIP] Batch vacío tras filtrar entradas inválidas.\")\n",
    "        return None\n",
    "\n",
    "    inputs = []\n",
    "    for item in batch:\n",
    "        x = item['inputs']  # Solo necesitamos las entradas para el test\n",
    "        inputs.append(x)\n",
    "\n",
    "    # Padding en la dimensión 0 (timesteps)\n",
    "    max_len = max(input.shape[0] for input in inputs)\n",
    "    padded_inputs = [F.pad(input, (0, 0, 0, max_len - input.shape[0])) for input in inputs]\n",
    "\n",
    "    try:\n",
    "        inputs_tensor = torch.stack(padded_inputs)  # Apilamos las entradas con padding\n",
    "        return {'inputs': inputs_tensor}  # Devolvemos solo las entradas\n",
    "    except Exception as e:\n",
    "        print(\"Error al hacer el stack:\", e)\n",
    "        return None\n"
   ]
  },
  {
   "cell_type": "code",
   "execution_count": 45,
   "id": "5348767c",
   "metadata": {},
   "outputs": [],
   "source": [
    "# Crear el dataset para test (usando la misma transformación)\n",
    "\n",
    "test_df = pd.read_csv(\"test_afc_audio.csv\")\n",
    "test_dataset = AudioTestDataset(test_df, mfcc_transform)\n",
    "\n",
    "# Crear el DataLoader para el conjunto de test\n",
    "test_loader = DataLoader(test_dataset, batch_size=1, shuffle=False, collate_fn=collate_fn_pad_test)\n",
    "\n",
    "# Ahora puedes realizar la evaluación sobre el conjunto de test"
   ]
  },
  {
   "cell_type": "code",
   "execution_count": 46,
   "id": "41cf9af2",
   "metadata": {},
   "outputs": [
    {
     "data": {
      "text/plain": [
       "2160"
      ]
     },
     "execution_count": 46,
     "metadata": {},
     "output_type": "execute_result"
    }
   ],
   "source": [
    "len(test_df)"
   ]
  },
  {
   "cell_type": "code",
   "execution_count": 48,
   "id": "f31f2610",
   "metadata": {},
   "outputs": [
    {
     "name": "stderr",
     "output_type": "stream",
     "text": [
      "Test Evaluation:  46%|████▌     | 991/2160 [00:15<00:04, 249.11it/s]"
     ]
    },
    {
     "name": "stdout",
     "output_type": "stream",
     "text": [
      "[SKIP] Batch vacío tras filtrar entradas inválidas.\n",
      "[SKIP] Batch vacío tras filtrar entradas inválidas.\n",
      "[SKIP] Batch vacío tras filtrar entradas inválidas.\n",
      "[SKIP] Batch vacío tras filtrar entradas inválidas.\n",
      "[SKIP] Batch vacío tras filtrar entradas inválidas.\n",
      "[SKIP] Batch vacío tras filtrar entradas inválidas.\n",
      "[SKIP] Batch vacío tras filtrar entradas inválidas.\n",
      "[SKIP] Batch vacío tras filtrar entradas inválidas.\n",
      "[SKIP] Batch vacío tras filtrar entradas inválidas.\n",
      "[SKIP] Batch vacío tras filtrar entradas inválidas.\n",
      "[SKIP] Batch vacío tras filtrar entradas inválidas.\n",
      "[SKIP] Batch vacío tras filtrar entradas inválidas.\n",
      "[SKIP] Batch vacío tras filtrar entradas inválidas.\n",
      "[SKIP] Batch vacío tras filtrar entradas inválidas.\n",
      "[SKIP] Batch vacío tras filtrar entradas inválidas.\n",
      "[SKIP] Batch vacío tras filtrar entradas inválidas.\n",
      "[SKIP] Batch vacío tras filtrar entradas inválidas.\n",
      "[SKIP] Batch vacío tras filtrar entradas inválidas.\n",
      "[SKIP] Batch vacío tras filtrar entradas inválidas.\n",
      "[SKIP] Batch vacío tras filtrar entradas inválidas.\n",
      "[SKIP] Batch vacío tras filtrar entradas inválidas.\n",
      "[SKIP] Batch vacío tras filtrar entradas inválidas.\n",
      "[SKIP] Batch vacío tras filtrar entradas inválidas.\n",
      "[SKIP] Batch vacío tras filtrar entradas inválidas.\n",
      "[SKIP] Batch vacío tras filtrar entradas inválidas.\n",
      "[SKIP] Batch vacío tras filtrar entradas inválidas.\n",
      "[SKIP] Batch vacío tras filtrar entradas inválidas.\n",
      "[SKIP] Batch vacío tras filtrar entradas inválidas.\n",
      "[SKIP] Batch vacío tras filtrar entradas inválidas.\n",
      "[SKIP] Batch vacío tras filtrar entradas inválidas.\n",
      "[SKIP] Batch vacío tras filtrar entradas inválidas.\n",
      "[SKIP] Batch vacío tras filtrar entradas inválidas.\n",
      "[SKIP] Batch vacío tras filtrar entradas inválidas.\n",
      "[SKIP] Batch vacío tras filtrar entradas inválidas.\n",
      "[SKIP] Batch vacío tras filtrar entradas inválidas.\n",
      "[SKIP] Batch vacío tras filtrar entradas inválidas.\n",
      "[SKIP] Batch vacío tras filtrar entradas inválidas.\n",
      "[SKIP] Batch vacío tras filtrar entradas inválidas.\n",
      "[SKIP] Batch vacío tras filtrar entradas inválidas.\n",
      "[SKIP] Batch vacío tras filtrar entradas inválidas.\n",
      "[SKIP] Batch vacío tras filtrar entradas inválidas.\n",
      "[SKIP] Batch vacío tras filtrar entradas inválidas.\n",
      "[SKIP] Batch vacío tras filtrar entradas inválidas.\n",
      "[SKIP] Batch vacío tras filtrar entradas inválidas.\n",
      "[SKIP] Batch vacío tras filtrar entradas inválidas.\n",
      "[SKIP] Batch vacío tras filtrar entradas inválidas.\n",
      "[SKIP] Batch vacío tras filtrar entradas inválidas.\n",
      "[SKIP] Batch vacío tras filtrar entradas inválidas.\n",
      "[SKIP] Batch vacío tras filtrar entradas inválidas.\n",
      "[SKIP] Batch vacío tras filtrar entradas inválidas.\n",
      "[SKIP] Batch vacío tras filtrar entradas inválidas.\n",
      "[SKIP] Batch vacío tras filtrar entradas inválidas.\n",
      "[SKIP] Batch vacío tras filtrar entradas inválidas.\n",
      "[SKIP] Batch vacío tras filtrar entradas inválidas.\n",
      "[SKIP] Batch vacío tras filtrar entradas inválidas.\n",
      "[SKIP] Batch vacío tras filtrar entradas inválidas.\n",
      "[SKIP] Batch vacío tras filtrar entradas inválidas.\n",
      "[SKIP] Batch vacío tras filtrar entradas inválidas.\n",
      "[SKIP] Batch vacío tras filtrar entradas inválidas.\n",
      "[SKIP] Batch vacío tras filtrar entradas inválidas.\n",
      "[SKIP] Batch vacío tras filtrar entradas inválidas.\n",
      "[SKIP] Batch vacío tras filtrar entradas inválidas.\n",
      "[SKIP] Batch vacío tras filtrar entradas inválidas.\n",
      "[SKIP] Batch vacío tras filtrar entradas inválidas.\n",
      "[SKIP] Batch vacío tras filtrar entradas inválidas.\n",
      "[SKIP] Batch vacío tras filtrar entradas inválidas.\n",
      "[SKIP] Batch vacío tras filtrar entradas inválidas.\n",
      "[SKIP] Batch vacío tras filtrar entradas inválidas.\n",
      "[SKIP] Batch vacío tras filtrar entradas inválidas.\n",
      "[SKIP] Batch vacío tras filtrar entradas inválidas.\n",
      "[SKIP] Batch vacío tras filtrar entradas inválidas.\n",
      "[SKIP] Batch vacío tras filtrar entradas inválidas.\n",
      "[SKIP] Batch vacío tras filtrar entradas inválidas.\n",
      "[SKIP] Batch vacío tras filtrar entradas inválidas.\n",
      "[SKIP] Batch vacío tras filtrar entradas inválidas.\n",
      "[SKIP] Batch vacío tras filtrar entradas inválidas.\n",
      "[SKIP] Batch vacío tras filtrar entradas inválidas.\n",
      "[SKIP] Batch vacío tras filtrar entradas inválidas.\n",
      "[SKIP] Batch vacío tras filtrar entradas inválidas.\n",
      "[SKIP] Batch vacío tras filtrar entradas inválidas.\n",
      "[SKIP] Batch vacío tras filtrar entradas inválidas.\n",
      "[SKIP] Batch vacío tras filtrar entradas inválidas.\n",
      "[SKIP] Batch vacío tras filtrar entradas inválidas.\n",
      "[SKIP] Batch vacío tras filtrar entradas inválidas.\n",
      "[SKIP] Batch vacío tras filtrar entradas inválidas.\n",
      "[SKIP] Batch vacío tras filtrar entradas inválidas.\n",
      "[SKIP] Batch vacío tras filtrar entradas inválidas.\n",
      "[SKIP] Batch vacío tras filtrar entradas inválidas.\n",
      "[SKIP] Batch vacío tras filtrar entradas inválidas.\n",
      "[SKIP] Batch vacío tras filtrar entradas inválidas.\n",
      "[SKIP] Batch vacío tras filtrar entradas inválidas.\n",
      "[SKIP] Batch vacío tras filtrar entradas inválidas.\n",
      "[SKIP] Batch vacío tras filtrar entradas inválidas.\n",
      "[SKIP] Batch vacío tras filtrar entradas inválidas.\n",
      "[SKIP] Batch vacío tras filtrar entradas inválidas.\n",
      "[SKIP] Batch vacío tras filtrar entradas inválidas.\n",
      "[SKIP] Batch vacío tras filtrar entradas inválidas.\n",
      "[SKIP] Batch vacío tras filtrar entradas inválidas.\n",
      "[SKIP] Batch vacío tras filtrar entradas inválidas.\n",
      "[SKIP] Batch vacío tras filtrar entradas inválidas.\n",
      "[SKIP] Batch vacío tras filtrar entradas inválidas.\n",
      "[SKIP] Batch vacío tras filtrar entradas inválidas.\n",
      "[SKIP] Batch vacío tras filtrar entradas inválidas.\n",
      "[SKIP] Batch vacío tras filtrar entradas inválidas.\n",
      "[SKIP] Batch vacío tras filtrar entradas inválidas.\n",
      "[SKIP] Batch vacío tras filtrar entradas inválidas.\n",
      "[SKIP] Batch vacío tras filtrar entradas inválidas.\n",
      "[SKIP] Batch vacío tras filtrar entradas inválidas.\n",
      "[SKIP] Batch vacío tras filtrar entradas inválidas.\n",
      "[SKIP] Batch vacío tras filtrar entradas inválidas.\n",
      "[SKIP] Batch vacío tras filtrar entradas inválidas.\n",
      "[SKIP] Batch vacío tras filtrar entradas inválidas.\n",
      "[SKIP] Batch vacío tras filtrar entradas inválidas.\n",
      "[SKIP] Batch vacío tras filtrar entradas inválidas.\n",
      "[SKIP] Batch vacío tras filtrar entradas inválidas.\n",
      "[SKIP] Batch vacío tras filtrar entradas inválidas.\n",
      "[SKIP] Batch vacío tras filtrar entradas inválidas.\n",
      "[SKIP] Batch vacío tras filtrar entradas inválidas.\n",
      "[SKIP] Batch vacío tras filtrar entradas inválidas.\n",
      "[SKIP] Batch vacío tras filtrar entradas inválidas.\n",
      "[SKIP] Batch vacío tras filtrar entradas inválidas.\n",
      "[SKIP] Batch vacío tras filtrar entradas inválidas.\n",
      "[SKIP] Batch vacío tras filtrar entradas inválidas.\n",
      "[SKIP] Batch vacío tras filtrar entradas inválidas.\n",
      "[SKIP] Batch vacío tras filtrar entradas inválidas.\n",
      "[SKIP] Batch vacío tras filtrar entradas inválidas.\n",
      "[SKIP] Batch vacío tras filtrar entradas inválidas.\n",
      "[SKIP] Batch vacío tras filtrar entradas inválidas.\n",
      "[SKIP] Batch vacío tras filtrar entradas inválidas.\n",
      "[SKIP] Batch vacío tras filtrar entradas inválidas.\n",
      "[SKIP] Batch vacío tras filtrar entradas inválidas.\n",
      "[SKIP] Batch vacío tras filtrar entradas inválidas.\n",
      "[SKIP] Batch vacío tras filtrar entradas inválidas.\n",
      "[SKIP] Batch vacío tras filtrar entradas inválidas.\n",
      "[SKIP] Batch vacío tras filtrar entradas inválidas.\n",
      "[SKIP] Batch vacío tras filtrar entradas inválidas.\n",
      "[SKIP] Batch vacío tras filtrar entradas inválidas.\n",
      "[SKIP] Batch vacío tras filtrar entradas inválidas.\n",
      "[SKIP] Batch vacío tras filtrar entradas inválidas.\n",
      "[SKIP] Batch vacío tras filtrar entradas inválidas.\n",
      "[SKIP] Batch vacío tras filtrar entradas inválidas.\n",
      "[SKIP] Batch vacío tras filtrar entradas inválidas.\n",
      "[SKIP] Batch vacío tras filtrar entradas inválidas.\n",
      "[SKIP] Batch vacío tras filtrar entradas inválidas.\n",
      "[SKIP] Batch vacío tras filtrar entradas inválidas.\n",
      "[SKIP] Batch vacío tras filtrar entradas inválidas.\n",
      "[SKIP] Batch vacío tras filtrar entradas inválidas.\n",
      "[SKIP] Batch vacío tras filtrar entradas inválidas.\n",
      "[SKIP] Batch vacío tras filtrar entradas inválidas.\n",
      "[SKIP] Batch vacío tras filtrar entradas inválidas.\n",
      "[SKIP] Batch vacío tras filtrar entradas inválidas.\n",
      "[SKIP] Batch vacío tras filtrar entradas inválidas.\n",
      "[SKIP] Batch vacío tras filtrar entradas inválidas.\n",
      "[SKIP] Batch vacío tras filtrar entradas inválidas.\n",
      "[SKIP] Batch vacío tras filtrar entradas inválidas.\n",
      "[SKIP] Batch vacío tras filtrar entradas inválidas.\n",
      "[SKIP] Batch vacío tras filtrar entradas inválidas.\n"
     ]
    },
    {
     "name": "stderr",
     "output_type": "stream",
     "text": [
      "Test Evaluation:  50%|█████     | 1081/2160 [00:15<00:02, 416.56it/s]"
     ]
    },
    {
     "name": "stdout",
     "output_type": "stream",
     "text": [
      "[SKIP] Batch vacío tras filtrar entradas inválidas.\n",
      "[SKIP] Batch vacío tras filtrar entradas inválidas.\n",
      "[SKIP] Batch vacío tras filtrar entradas inválidas.\n",
      "[SKIP] Batch vacío tras filtrar entradas inválidas.\n",
      "[SKIP] Batch vacío tras filtrar entradas inválidas.\n",
      "[SKIP] Batch vacío tras filtrar entradas inválidas.\n",
      "[SKIP] Batch vacío tras filtrar entradas inválidas.\n",
      "[SKIP] Batch vacío tras filtrar entradas inválidas.\n",
      "[SKIP] Batch vacío tras filtrar entradas inválidas.\n",
      "[SKIP] Batch vacío tras filtrar entradas inválidas.\n",
      "[SKIP] Batch vacío tras filtrar entradas inválidas.\n",
      "[SKIP] Batch vacío tras filtrar entradas inválidas.\n",
      "[SKIP] Batch vacío tras filtrar entradas inválidas.\n",
      "[SKIP] Batch vacío tras filtrar entradas inválidas.\n",
      "[SKIP] Batch vacío tras filtrar entradas inválidas.\n",
      "[SKIP] Batch vacío tras filtrar entradas inválidas.\n",
      "[SKIP] Batch vacío tras filtrar entradas inválidas.\n",
      "[SKIP] Batch vacío tras filtrar entradas inválidas.\n",
      "[SKIP] Batch vacío tras filtrar entradas inválidas.\n",
      "[SKIP] Batch vacío tras filtrar entradas inválidas.\n",
      "[SKIP] Batch vacío tras filtrar entradas inválidas.\n",
      "[SKIP] Batch vacío tras filtrar entradas inválidas.\n",
      "[SKIP] Batch vacío tras filtrar entradas inválidas.\n",
      "[SKIP] Batch vacío tras filtrar entradas inválidas.\n",
      "[SKIP] Batch vacío tras filtrar entradas inválidas.\n",
      "[SKIP] Batch vacío tras filtrar entradas inválidas.\n",
      "[SKIP] Batch vacío tras filtrar entradas inválidas.\n",
      "[SKIP] Batch vacío tras filtrar entradas inválidas.\n",
      "[SKIP] Batch vacío tras filtrar entradas inválidas.\n",
      "[SKIP] Batch vacío tras filtrar entradas inválidas.\n",
      "[SKIP] Batch vacío tras filtrar entradas inválidas.\n",
      "[SKIP] Batch vacío tras filtrar entradas inválidas.\n",
      "[SKIP] Batch vacío tras filtrar entradas inválidas.\n",
      "[SKIP] Batch vacío tras filtrar entradas inválidas.\n",
      "[SKIP] Batch vacío tras filtrar entradas inválidas.\n"
     ]
    },
    {
     "name": "stderr",
     "output_type": "stream",
     "text": [
      "Test Evaluation:  95%|█████████▍| 2049/2160 [00:29<00:00, 305.14it/s]"
     ]
    },
    {
     "name": "stdout",
     "output_type": "stream",
     "text": [
      "[SKIP] Batch vacío tras filtrar entradas inválidas.\n",
      "[SKIP] Batch vacío tras filtrar entradas inválidas.\n",
      "[SKIP] Batch vacío tras filtrar entradas inválidas.\n",
      "[SKIP] Batch vacío tras filtrar entradas inválidas.\n",
      "[SKIP] Batch vacío tras filtrar entradas inválidas.\n",
      "[SKIP] Batch vacío tras filtrar entradas inválidas.\n",
      "[SKIP] Batch vacío tras filtrar entradas inválidas.\n",
      "[SKIP] Batch vacío tras filtrar entradas inválidas.\n",
      "[SKIP] Batch vacío tras filtrar entradas inválidas.\n",
      "[SKIP] Batch vacío tras filtrar entradas inválidas.\n",
      "[SKIP] Batch vacío tras filtrar entradas inválidas.\n",
      "[SKIP] Batch vacío tras filtrar entradas inválidas.\n",
      "[SKIP] Batch vacío tras filtrar entradas inválidas.\n",
      "[SKIP] Batch vacío tras filtrar entradas inválidas.\n",
      "[SKIP] Batch vacío tras filtrar entradas inválidas.\n",
      "[SKIP] Batch vacío tras filtrar entradas inválidas.\n",
      "[SKIP] Batch vacío tras filtrar entradas inválidas.\n",
      "[SKIP] Batch vacío tras filtrar entradas inválidas.\n",
      "[SKIP] Batch vacío tras filtrar entradas inválidas.\n",
      "[SKIP] Batch vacío tras filtrar entradas inválidas.\n",
      "[SKIP] Batch vacío tras filtrar entradas inválidas.\n",
      "[SKIP] Batch vacío tras filtrar entradas inválidas.\n",
      "[SKIP] Batch vacío tras filtrar entradas inválidas.\n",
      "[SKIP] Batch vacío tras filtrar entradas inválidas.\n",
      "[SKIP] Batch vacío tras filtrar entradas inválidas.\n",
      "[SKIP] Batch vacío tras filtrar entradas inválidas.\n",
      "[SKIP] Batch vacío tras filtrar entradas inválidas.\n",
      "[SKIP] Batch vacío tras filtrar entradas inválidas.\n",
      "[SKIP] Batch vacío tras filtrar entradas inválidas.\n",
      "[SKIP] Batch vacío tras filtrar entradas inválidas.\n",
      "[SKIP] Batch vacío tras filtrar entradas inválidas.\n",
      "[SKIP] Batch vacío tras filtrar entradas inválidas.\n",
      "[SKIP] Batch vacío tras filtrar entradas inválidas.\n",
      "[SKIP] Batch vacío tras filtrar entradas inválidas.\n",
      "[SKIP] Batch vacío tras filtrar entradas inválidas.\n",
      "[SKIP] Batch vacío tras filtrar entradas inválidas.\n",
      "[SKIP] Batch vacío tras filtrar entradas inválidas.\n",
      "[SKIP] Batch vacío tras filtrar entradas inválidas.\n",
      "[SKIP] Batch vacío tras filtrar entradas inválidas.\n",
      "[SKIP] Batch vacío tras filtrar entradas inválidas.\n",
      "[SKIP] Batch vacío tras filtrar entradas inválidas.\n",
      "[SKIP] Batch vacío tras filtrar entradas inválidas.\n",
      "[SKIP] Batch vacío tras filtrar entradas inválidas.\n",
      "[SKIP] Batch vacío tras filtrar entradas inválidas.\n",
      "[SKIP] Batch vacío tras filtrar entradas inválidas.\n",
      "[SKIP] Batch vacío tras filtrar entradas inválidas.\n",
      "[SKIP] Batch vacío tras filtrar entradas inválidas.\n",
      "[SKIP] Batch vacío tras filtrar entradas inválidas.\n",
      "[SKIP] Batch vacío tras filtrar entradas inválidas.\n",
      "[SKIP] Batch vacío tras filtrar entradas inválidas.\n",
      "[SKIP] Batch vacío tras filtrar entradas inválidas.\n",
      "[SKIP] Batch vacío tras filtrar entradas inválidas.\n",
      "[SKIP] Batch vacío tras filtrar entradas inválidas.\n",
      "[SKIP] Batch vacío tras filtrar entradas inválidas.\n",
      "[SKIP] Batch vacío tras filtrar entradas inválidas.\n",
      "[SKIP] Batch vacío tras filtrar entradas inválidas.\n",
      "[SKIP] Batch vacío tras filtrar entradas inválidas.\n",
      "[SKIP] Batch vacío tras filtrar entradas inválidas.\n",
      "[SKIP] Batch vacío tras filtrar entradas inválidas.\n",
      "[SKIP] Batch vacío tras filtrar entradas inválidas.\n",
      "[SKIP] Batch vacío tras filtrar entradas inválidas.\n",
      "[SKIP] Batch vacío tras filtrar entradas inválidas.\n",
      "[SKIP] Batch vacío tras filtrar entradas inválidas.\n",
      "[SKIP] Batch vacío tras filtrar entradas inválidas.\n",
      "[SKIP] Batch vacío tras filtrar entradas inválidas.\n",
      "[SKIP] Batch vacío tras filtrar entradas inválidas.\n",
      "[SKIP] Batch vacío tras filtrar entradas inválidas.\n",
      "[SKIP] Batch vacío tras filtrar entradas inválidas.\n",
      "[SKIP] Batch vacío tras filtrar entradas inválidas.\n",
      "[SKIP] Batch vacío tras filtrar entradas inválidas.\n",
      "[SKIP] Batch vacío tras filtrar entradas inválidas.\n",
      "[SKIP] Batch vacío tras filtrar entradas inválidas.\n",
      "[SKIP] Batch vacío tras filtrar entradas inválidas.\n",
      "[SKIP] Batch vacío tras filtrar entradas inválidas.\n",
      "[SKIP] Batch vacío tras filtrar entradas inválidas.\n",
      "[SKIP] Batch vacío tras filtrar entradas inválidas.\n",
      "[SKIP] Batch vacío tras filtrar entradas inválidas.\n",
      "[SKIP] Batch vacío tras filtrar entradas inválidas.\n",
      "[SKIP] Batch vacío tras filtrar entradas inválidas.\n",
      "[SKIP] Batch vacío tras filtrar entradas inválidas.\n",
      "[SKIP] Batch vacío tras filtrar entradas inválidas.\n",
      "[SKIP] Batch vacío tras filtrar entradas inválidas.\n",
      "[SKIP] Batch vacío tras filtrar entradas inválidas.\n",
      "[SKIP] Batch vacío tras filtrar entradas inválidas.\n",
      "[SKIP] Batch vacío tras filtrar entradas inválidas.\n",
      "[SKIP] Batch vacío tras filtrar entradas inválidas.\n",
      "[SKIP] Batch vacío tras filtrar entradas inválidas.\n",
      "[SKIP] Batch vacío tras filtrar entradas inválidas.\n",
      "[SKIP] Batch vacío tras filtrar entradas inválidas.\n",
      "[SKIP] Batch vacío tras filtrar entradas inválidas.\n",
      "[SKIP] Batch vacío tras filtrar entradas inválidas.\n",
      "[SKIP] Batch vacío tras filtrar entradas inválidas.\n",
      "[SKIP] Batch vacío tras filtrar entradas inválidas.\n",
      "[SKIP] Batch vacío tras filtrar entradas inválidas.\n",
      "[SKIP] Batch vacío tras filtrar entradas inválidas.\n",
      "[SKIP] Batch vacío tras filtrar entradas inválidas.\n",
      "[SKIP] Batch vacío tras filtrar entradas inválidas.\n",
      "[SKIP] Batch vacío tras filtrar entradas inválidas.\n",
      "[SKIP] Batch vacío tras filtrar entradas inválidas.\n",
      "[SKIP] Batch vacío tras filtrar entradas inválidas.\n",
      "[SKIP] Batch vacío tras filtrar entradas inválidas.\n",
      "[SKIP] Batch vacío tras filtrar entradas inválidas.\n",
      "[SKIP] Batch vacío tras filtrar entradas inválidas.\n",
      "[SKIP] Batch vacío tras filtrar entradas inválidas.\n",
      "[SKIP] Batch vacío tras filtrar entradas inválidas.\n",
      "[SKIP] Batch vacío tras filtrar entradas inválidas.\n",
      "[SKIP] Batch vacío tras filtrar entradas inválidas.\n",
      "[SKIP] Batch vacío tras filtrar entradas inválidas.\n",
      "[SKIP] Batch vacío tras filtrar entradas inválidas.\n",
      "[SKIP] Batch vacío tras filtrar entradas inválidas.\n",
      "[SKIP] Batch vacío tras filtrar entradas inválidas.\n",
      "[SKIP] Batch vacío tras filtrar entradas inválidas.\n",
      "[SKIP] Batch vacío tras filtrar entradas inválidas.\n",
      "[SKIP] Batch vacío tras filtrar entradas inválidas.\n",
      "[SKIP] Batch vacío tras filtrar entradas inválidas.\n",
      "[SKIP] Batch vacío tras filtrar entradas inválidas.\n",
      "[SKIP] Batch vacío tras filtrar entradas inválidas.\n",
      "[SKIP] Batch vacío tras filtrar entradas inválidas.\n",
      "[SKIP] Batch vacío tras filtrar entradas inválidas.\n",
      "[SKIP] Batch vacío tras filtrar entradas inválidas.\n",
      "[SKIP] Batch vacío tras filtrar entradas inválidas.\n",
      "[SKIP] Batch vacío tras filtrar entradas inválidas.\n",
      "[SKIP] Batch vacío tras filtrar entradas inválidas.\n",
      "[SKIP] Batch vacío tras filtrar entradas inválidas.\n",
      "[SKIP] Batch vacío tras filtrar entradas inválidas.\n",
      "[SKIP] Batch vacío tras filtrar entradas inválidas.\n",
      "[SKIP] Batch vacío tras filtrar entradas inválidas.\n",
      "[SKIP] Batch vacío tras filtrar entradas inválidas.\n",
      "[SKIP] Batch vacío tras filtrar entradas inválidas.\n",
      "[SKIP] Batch vacío tras filtrar entradas inválidas.\n",
      "[SKIP] Batch vacío tras filtrar entradas inválidas.\n",
      "[SKIP] Batch vacío tras filtrar entradas inválidas.\n",
      "[SKIP] Batch vacío tras filtrar entradas inválidas.\n",
      "[SKIP] Batch vacío tras filtrar entradas inválidas.\n",
      "[SKIP] Batch vacío tras filtrar entradas inválidas.\n",
      "[SKIP] Batch vacío tras filtrar entradas inválidas.\n",
      "[SKIP] Batch vacío tras filtrar entradas inválidas.\n",
      "[SKIP] Batch vacío tras filtrar entradas inválidas.\n",
      "[SKIP] Batch vacío tras filtrar entradas inválidas.\n",
      "[SKIP] Batch vacío tras filtrar entradas inválidas.\n",
      "[SKIP] Batch vacío tras filtrar entradas inválidas.\n",
      "[SKIP] Batch vacío tras filtrar entradas inválidas.\n",
      "[SKIP] Batch vacío tras filtrar entradas inválidas.\n",
      "[SKIP] Batch vacío tras filtrar entradas inválidas.\n",
      "[SKIP] Batch vacío tras filtrar entradas inválidas.\n",
      "[SKIP] Batch vacío tras filtrar entradas inválidas.\n",
      "[SKIP] Batch vacío tras filtrar entradas inválidas.\n",
      "[SKIP] Batch vacío tras filtrar entradas inválidas.\n",
      "[SKIP] Batch vacío tras filtrar entradas inválidas.\n",
      "[SKIP] Batch vacío tras filtrar entradas inválidas.\n",
      "[SKIP] Batch vacío tras filtrar entradas inválidas.\n",
      "[SKIP] Batch vacío tras filtrar entradas inválidas.\n",
      "[SKIP] Batch vacío tras filtrar entradas inválidas.\n",
      "[SKIP] Batch vacío tras filtrar entradas inválidas.\n",
      "[SKIP] Batch vacío tras filtrar entradas inválidas.\n",
      "[SKIP] Batch vacío tras filtrar entradas inválidas.\n",
      "[SKIP] Batch vacío tras filtrar entradas inválidas.\n",
      "[SKIP] Batch vacío tras filtrar entradas inválidas.\n",
      "[SKIP] Batch vacío tras filtrar entradas inválidas.\n",
      "[SKIP] Batch vacío tras filtrar entradas inválidas.\n",
      "[SKIP] Batch vacío tras filtrar entradas inválidas.\n",
      "[SKIP] Batch vacío tras filtrar entradas inválidas.\n",
      "[SKIP] Batch vacío tras filtrar entradas inválidas.\n",
      "[SKIP] Batch vacío tras filtrar entradas inválidas.\n",
      "[SKIP] Batch vacío tras filtrar entradas inválidas.\n"
     ]
    },
    {
     "name": "stderr",
     "output_type": "stream",
     "text": [
      "Test Evaluation: 100%|██████████| 2160/2160 [00:29<00:00, 72.47it/s] "
     ]
    },
    {
     "name": "stdout",
     "output_type": "stream",
     "text": [
      "[SKIP] Batch vacío tras filtrar entradas inválidas.\n",
      "[SKIP] Batch vacío tras filtrar entradas inválidas.\n",
      "[SKIP] Batch vacío tras filtrar entradas inválidas.\n",
      "[SKIP] Batch vacío tras filtrar entradas inválidas.\n",
      "[SKIP] Batch vacío tras filtrar entradas inválidas.\n",
      "[SKIP] Batch vacío tras filtrar entradas inválidas.\n",
      "[SKIP] Batch vacío tras filtrar entradas inválidas.\n",
      "[SKIP] Batch vacío tras filtrar entradas inválidas.\n",
      "[SKIP] Batch vacío tras filtrar entradas inválidas.\n",
      "[SKIP] Batch vacío tras filtrar entradas inválidas.\n",
      "[SKIP] Batch vacío tras filtrar entradas inválidas.\n",
      "[SKIP] Batch vacío tras filtrar entradas inválidas.\n",
      "[SKIP] Batch vacío tras filtrar entradas inválidas.\n",
      "[SKIP] Batch vacío tras filtrar entradas inválidas.\n",
      "[SKIP] Batch vacío tras filtrar entradas inválidas.\n",
      "[SKIP] Batch vacío tras filtrar entradas inválidas.\n",
      "[SKIP] Batch vacío tras filtrar entradas inválidas.\n",
      "[SKIP] Batch vacío tras filtrar entradas inválidas.\n",
      "[SKIP] Batch vacío tras filtrar entradas inválidas.\n",
      "[SKIP] Batch vacío tras filtrar entradas inválidas.\n",
      "[SKIP] Batch vacío tras filtrar entradas inválidas.\n",
      "[SKIP] Batch vacío tras filtrar entradas inválidas.\n",
      "[SKIP] Batch vacío tras filtrar entradas inválidas.\n",
      "[SKIP] Batch vacío tras filtrar entradas inválidas.\n",
      "[SKIP] Batch vacío tras filtrar entradas inválidas.\n",
      "[SKIP] Batch vacío tras filtrar entradas inválidas.\n",
      "[SKIP] Batch vacío tras filtrar entradas inválidas.\n",
      "[SKIP] Batch vacío tras filtrar entradas inválidas.\n",
      "[SKIP] Batch vacío tras filtrar entradas inválidas.\n",
      "[SKIP] Batch vacío tras filtrar entradas inválidas.\n",
      "[SKIP] Batch vacío tras filtrar entradas inválidas.\n",
      "[SKIP] Batch vacío tras filtrar entradas inválidas.\n",
      "[SKIP] Batch vacío tras filtrar entradas inválidas.\n",
      "[SKIP] Batch vacío tras filtrar entradas inválidas.\n",
      "[SKIP] Batch vacío tras filtrar entradas inválidas.\n",
      "[SKIP] Batch vacío tras filtrar entradas inválidas.\n",
      "[SKIP] Batch vacío tras filtrar entradas inválidas.\n",
      "[SKIP] Batch vacío tras filtrar entradas inválidas.\n",
      "[SKIP] Batch vacío tras filtrar entradas inválidas.\n",
      "[SKIP] Batch vacío tras filtrar entradas inválidas.\n",
      "[SKIP] Batch vacío tras filtrar entradas inválidas.\n",
      "[SKIP] Batch vacío tras filtrar entradas inválidas.\n",
      "[SKIP] Batch vacío tras filtrar entradas inválidas.\n",
      "[SKIP] Batch vacío tras filtrar entradas inválidas.\n",
      "[SKIP] Batch vacío tras filtrar entradas inválidas.\n",
      "[SKIP] Batch vacío tras filtrar entradas inválidas.\n",
      "[SKIP] Batch vacío tras filtrar entradas inválidas.\n",
      "[SKIP] Batch vacío tras filtrar entradas inválidas.\n",
      "[SKIP] Batch vacío tras filtrar entradas inválidas.\n",
      "[SKIP] Batch vacío tras filtrar entradas inválidas.\n",
      "[SKIP] Batch vacío tras filtrar entradas inválidas.\n",
      "[SKIP] Batch vacío tras filtrar entradas inválidas.\n",
      "[SKIP] Batch vacío tras filtrar entradas inválidas.\n",
      "[SKIP] Batch vacío tras filtrar entradas inválidas.\n",
      "[SKIP] Batch vacío tras filtrar entradas inválidas.\n",
      "[SKIP] Batch vacío tras filtrar entradas inválidas.\n",
      "[SKIP] Batch vacío tras filtrar entradas inválidas.\n",
      "[SKIP] Batch vacío tras filtrar entradas inválidas.\n",
      "[SKIP] Batch vacío tras filtrar entradas inválidas.\n",
      "[SKIP] Batch vacío tras filtrar entradas inválidas.\n",
      "[SKIP] Batch vacío tras filtrar entradas inválidas.\n",
      "[SKIP] Batch vacío tras filtrar entradas inválidas.\n",
      "[SKIP] Batch vacío tras filtrar entradas inválidas.\n",
      "[SKIP] Batch vacío tras filtrar entradas inválidas.\n",
      "[SKIP] Batch vacío tras filtrar entradas inválidas.\n",
      "[SKIP] Batch vacío tras filtrar entradas inválidas.\n",
      "[SKIP] Batch vacío tras filtrar entradas inválidas.\n",
      "[SKIP] Batch vacío tras filtrar entradas inválidas.\n",
      "[SKIP] Batch vacío tras filtrar entradas inválidas.\n",
      "[SKIP] Batch vacío tras filtrar entradas inválidas.\n",
      "[SKIP] Batch vacío tras filtrar entradas inválidas.\n",
      "[SKIP] Batch vacío tras filtrar entradas inválidas.\n",
      "[SKIP] Batch vacío tras filtrar entradas inválidas.\n",
      "[SKIP] Batch vacío tras filtrar entradas inválidas.\n",
      "[SKIP] Batch vacío tras filtrar entradas inválidas.\n"
     ]
    },
    {
     "name": "stderr",
     "output_type": "stream",
     "text": [
      "\n"
     ]
    }
   ],
   "source": [
    "import numpy as np\n",
    "\n",
    "model.eval()\n",
    "test_predictions = []\n",
    "\n",
    "# Usamos tqdm para mostrar el progreso\n",
    "test_loader_tqdm = tqdm(test_loader, desc=\"Test Evaluation\", leave=True)\n",
    "\n",
    "with th.no_grad():\n",
    "    for batch in test_loader_tqdm:\n",
    "        if batch is None or 'inputs' not in batch or len(batch['inputs']) == 0:  # Verifica si el batch está vacío o no tiene 'inputs'\n",
    "            test_predictions.append(0)  # Usamos append para agregar un único valor\n",
    "\n",
    "        else:\n",
    "            inputs = batch['inputs'].to(device)\n",
    "            outputs = model({'inputs': inputs})\n",
    "            \n",
    "            _, preds = torch.max(outputs, 1)\n",
    "            test_predictions.extend(preds.cpu().numpy())  # extend para agregar múltiples predicciones\n",
    "\n",
    "# Reemplazamos los NaN con 0 (o con la clase mayoritaria que prefieras)\n",
    "test_predictions = [0 if np.isnan(pred) else pred for pred in test_predictions]\n",
    "\n",
    "# Ahora `test_predictions` tiene las predicciones con NaN reemplazados por 0\n"
   ]
  },
  {
   "cell_type": "code",
   "execution_count": 49,
   "id": "c4c5d4e5",
   "metadata": {},
   "outputs": [
    {
     "name": "stdout",
     "output_type": "stream",
     "text": [
      "Test Predictions: [0, 0, 0, 0, 0, 0, 0, 0, 0, 0, 0, 0, 0, 0, 0, 0, 0, 0, 0, 0, 1, 0, 0, 0, 0, 0, 0, 2, 0, 0, 0, 0, 0, 0, 0, 0, 2, 0, 0, 0, 0, 0, 2, 0, 0, 2, 0, 0, 1, 2, 0, 0, 0, 0, 0, 1, 0, 0, 0, 0, 0, 0, 0, 0, 0, 0, 0, 1, 0, 0, 0, 0, 0, 0, 0, 0, 0, 0, 0, 0, 0, 0, 0, 0, 0, 0, 0, 2, 0, 0, 0, 0, 0, 2, 0, 0, 0, 0, 1, 0, 0, 0, 0, 0, 0, 1, 2, 0, 0, 1, 0, 0, 0, 0, 0, 0, 0, 0, 0, 0, 0, 0, 0, 1, 0, 0, 0, 0, 0, 0, 0, 0, 0, 0, 0, 0, 0, 0, 2, 0, 2, 0, 0, 0, 2, 0, 0, 0, 0, 0, 0, 0, 0, 1, 0, 0, 2, 0, 0, 0, 0, 0, 0, 0, 0, 0, 0, 0, 1, 0, 0, 0, 0, 0, 0, 0, 0, 1, 2, 0, 0, 0, 0, 0, 0, 0, 0, 0, 2, 0, 0, 0, 0, 2, 0, 0, 2, 0, 0, 0, 1, 0, 0, 0, 1, 0, 0, 0, 0, 0, 0, 0, 1, 1, 0, 0, 0, 1, 0, 0, 0, 0, 0, 0, 0, 0, 0, 0, 0, 0, 0, 0, 0, 0, 0, 0, 0, 0, 0, 2, 0, 0, 1, 0, 0, 0, 0, 0, 0, 0, 0, 0, 0, 2, 0, 0, 0, 2, 0, 2, 0, 0, 1, 0, 2, 0, 0, 0, 0, 0, 0, 0, 0, 0, 0, 2, 0, 0, 0, 0, 0, 0, 0, 0, 0, 0, 0, 0, 0, 0, 2, 0, 0, 0, 2, 0, 0, 0, 0, 0, 2, 1, 0, 0, 0, 2, 1, 0, 0, 0, 0, 0, 0, 1, 0, 0, 0, 0, 0, 0, 0, 0, 0, 0, 0, 2, 0, 0, 0, 0, 2, 0, 0, 2, 0, 0, 0, 1, 1, 0, 0, 0, 0, 1, 0, 2, 1, 0, 0, 0, 2, 0, 0, 0, 0, 0, 0, 0, 0, 0, 2, 0, 0, 0, 0, 0, 0, 0, 0, 0, 0, 2, 0, 0, 2, 2, 1, 0, 0, 0, 0, 0, 0, 0, 0, 0, 0, 0, 1, 0, 0, 0, 0, 0, 0, 0, 0, 0, 0, 2, 2, 2, 0, 0, 0, 0, 0, 0, 2, 0, 0, 0, 2, 0, 0, 0, 0, 0, 0, 0, 0, 0, 0, 0, 2, 0, 0, 0, 0, 0, 0, 0, 2, 2, 0, 0, 0, 0, 0, 0, 0, 0, 0, 1, 0, 0, 0, 0, 0, 0, 0, 0, 0, 0, 0, 0, 0, 0, 0, 0, 0, 0, 0, 0, 0, 0, 0, 0, 0, 0, 0, 0, 0, 0, 0, 0, 0, 0, 0, 0, 0, 0, 0, 0, 0, 0, 0, 0, 0, 0, 0, 2, 0, 0, 0, 2, 0, 0, 0, 0, 0, 0, 0, 0, 0, 2, 2, 2, 0, 2, 2, 0, 0, 0, 0, 2, 2, 0, 0, 0, 0, 0, 1, 0, 2, 0, 0, 0, 0, 0, 0, 0, 0, 0, 0, 0, 0, 0, 0, 0, 0, 0, 0, 0, 0, 0, 0, 0, 0, 0, 0, 0, 0, 0, 0, 0, 0, 0, 0, 1, 0, 0, 0, 2, 0, 0, 2, 0, 2, 0, 0, 0, 2, 0, 0, 0, 2, 0, 0, 0, 2, 0, 0, 0, 0, 0, 0, 0, 0, 0, 0, 0, 0, 0, 0, 0, 0, 0, 0, 0, 1, 0, 0, 0, 0, 2, 0, 0, 0, 0, 1, 0, 0, 0, 0, 0, 2, 0, 0, 0, 1, 0, 0, 2, 0, 0, 0, 0, 2, 0, 0, 0, 0, 0, 0, 0, 0, 0, 0, 0, 0, 2, 0, 1, 0, 0, 0, 0, 0, 2, 0, 0, 2, 0, 0, 0, 0, 0, 0, 0, 0, 0, 0, 2, 0, 0, 2, 0, 0, 0, 0, 0, 0, 0, 1, 0, 0, 0, 0, 0, 0, 0, 0, 0, 0, 0, 0, 0, 1, 0, 0, 0, 0, 0, 0, 0, 2, 1, 0, 0, 0, 0, 0, 0, 0, 0, 0, 0, 0, 0, 0, 0, 0, 2, 0, 0, 2, 0, 0, 0, 2, 0, 0, 0, 2, 0, 0, 0, 0, 0, 0, 0, 0, 0, 0, 0, 2, 0, 0, 0, 0, 0, 0, 0, 0, 0, 0, 2, 0, 0, 0, 0, 0, 0, 0, 2, 0, 0, 0, 0, 0, 0, 2, 0, 1, 0, 0, 0, 0, 2, 2, 0, 2, 2, 0, 0, 0, 0, 0, 0, 0, 0, 0, 0, 0, 0, 0, 2, 0, 0, 0, 0, 1, 2, 2, 0, 0, 2, 0, 0, 0, 0, 0, 0, 0, 0, 2, 1, 0, 0, 0, 0, 0, 0, 0, 0, 0, 0, 0, 0, 0, 0, 0, 0, 0, 0, 0, 0, 0, 0, 0, 0, 0, 0, 0, 0, 0, 1, 2, 1, 0, 0, 2, 0, 1, 0, 0, 1, 0, 0, 0, 0, 0, 0, 0, 0, 0, 0, 0, 0, 0, 0, 0, 0, 0, 1, 0, 0, 1, 0, 0, 1, 0, 0, 0, 0, 2, 0, 0, 2, 0, 0, 0, 1, 0, 0, 1, 0, 0, 0, 0, 0, 0, 0, 0, 0, 0, 0, 1, 0, 0, 0, 0, 0, 0, 0, 0, 0, 0, 0, 0, 0, 0, 0, 0, 0, 0, 0, 0, 0, 0, 0, 0, 0, 0, 0, 0, 0, 0, 0, 0, 0, 0, 0, 0, 0, 0, 0, 0, 0, 0, 0, 0, 0, 0, 0, 0, 0, 0, 0, 0, 0, 0, 0, 0, 0, 0, 0, 0, 0, 0, 0, 0, 0, 0, 0, 0, 0, 0, 0, 0, 0, 0, 0, 0, 0, 0, 0, 0, 0, 0, 0, 0, 0, 0, 0, 0, 0, 0, 0, 0, 0, 0, 0, 0, 0, 0, 0, 0, 0, 0, 0, 0, 0, 0, 0, 0, 0, 0, 0, 0, 0, 0, 0, 0, 0, 0, 0, 0, 0, 0, 0, 0, 0, 0, 0, 0, 0, 0, 0, 0, 0, 0, 0, 0, 0, 0, 0, 0, 0, 0, 0, 0, 0, 0, 0, 0, 0, 0, 0, 0, 0, 0, 0, 0, 0, 0, 0, 0, 0, 0, 0, 0, 0, 0, 0, 0, 0, 0, 0, 0, 0, 0, 0, 0, 0, 0, 0, 0, 0, 0, 0, 0, 0, 0, 0, 0, 0, 0, 0, 0, 0, 0, 0, 0, 0, 0, 0, 0, 1, 1, 1, 0, 0, 0, 0, 0, 0, 0, 0, 2, 0, 0, 0, 0, 0, 1, 0, 0, 2, 0, 0, 0, 1, 0, 0, 0, 1, 0, 0, 2, 1, 0, 1, 0, 0, 0, 0, 1, 0, 0, 0, 0, 0, 0, 0, 0, 0, 0, 0, 0, 2, 0, 0, 0, 0, 0, 0, 0, 0, 0, 2, 0, 0, 0, 0, 0, 0, 1, 1, 0, 0, 0, 0, 0, 0, 0, 0, 0, 0, 0, 0, 0, 0, 0, 0, 0, 0, 0, 2, 0, 0, 1, 0, 1, 2, 0, 0, 0, 0, 0, 1, 0, 0, 2, 0, 0, 0, 0, 1, 0, 0, 1, 0, 1, 0, 0, 0, 0, 0, 0, 0, 0, 0, 0, 1, 0, 0, 1, 1, 0, 1, 2, 1, 1, 0, 0, 1, 1, 0, 0, 0, 0, 0, 0, 0, 2, 2, 0, 1, 0, 0, 0, 1, 2, 0, 2, 2, 1, 0, 0, 0, 0, 0, 0, 2, 1, 0, 0, 0, 0, 0, 0, 0, 0, 2, 0, 0, 0, 1, 0, 0, 2, 0, 0, 1, 0, 1, 0, 0, 0, 2, 0, 0, 0, 0, 0, 0, 0, 0, 1, 1, 0, 0, 2, 0, 0, 2, 0, 1, 1, 1, 0, 0, 0, 2, 2, 0, 0, 0, 1, 2, 0, 2, 0, 0, 0, 2, 0, 0, 0, 2, 0, 0, 0, 0, 2, 2, 0, 2, 0, 0, 2, 2, 0, 0, 0, 0, 1, 0, 0, 1, 0, 0, 0, 2, 0, 1, 0, 1, 0, 0, 0, 1, 0, 0, 0, 0, 0, 1, 0, 0, 0, 0, 0, 0, 0, 1, 0, 0, 0, 0, 0, 0, 0, 0, 0, 0, 0, 0, 1, 0, 0, 1, 1, 1, 0, 0, 0, 0, 0, 0, 0, 2, 0, 0, 0, 0, 0, 0, 0, 0, 0, 0, 1, 0, 0, 0, 1, 0, 0, 2, 0, 0, 0, 0, 0, 0, 0, 0, 0, 0, 0, 2, 0, 0, 0, 0, 0, 0, 0, 0, 0, 0, 0, 0, 0, 0, 1, 0, 0, 0, 0, 0, 0, 1, 0, 1, 2, 1, 0, 2, 1, 0, 1, 0, 0, 1, 0, 1, 0, 1, 0, 0, 0, 0, 0, 2, 0, 0, 0, 0, 1, 0, 2, 0, 0, 0, 0, 0, 1, 2, 0, 0, 0, 0, 0, 0, 0, 0, 0, 0, 0, 0, 0, 1, 1, 0, 1, 0, 0, 0, 0, 0, 0, 1, 1, 1, 0, 0, 0, 2, 1, 0, 0, 0, 0, 0, 1, 0, 0, 2, 0, 0, 0, 1, 0, 0, 1, 0, 0, 1, 1, 0, 0, 2, 0, 0, 0, 2, 0, 0, 2, 0, 0, 1, 0, 0, 0, 0, 0, 0, 2, 0, 0, 0, 0, 0, 2, 0, 0, 0, 0, 0, 1, 0, 0, 0, 0, 0, 0, 0, 0, 0, 0, 0, 0, 0, 0, 0, 0, 0, 2, 0, 0, 0, 0, 1, 0, 0, 0, 0, 1, 2, 1, 0, 0, 0, 0, 1, 0, 0, 0, 0, 0, 0, 0, 0, 0, 1, 0, 0, 0, 0, 0, 0, 1, 1, 0, 0, 0, 0, 2, 1, 2, 1, 1, 0, 0, 1, 2, 1, 1, 1, 0, 0, 1, 0, 0, 2, 0, 0, 0, 0, 0, 0, 1, 0, 0, 0, 0, 0, 0, 0, 0, 0, 0, 0, 0, 0, 0, 1, 0, 0, 2, 2, 0, 1, 1, 0, 1, 0, 0, 0, 0, 0, 0, 0, 0, 0, 0, 0, 0, 0, 0, 0, 2, 0, 0, 0, 0, 0, 0, 1, 0, 0, 1, 2, 2, 0, 2, 0, 0, 0, 1, 0, 2, 1, 0, 0, 0, 1, 0, 0, 0, 0, 0, 0, 0, 0, 0, 0, 0, 1, 0, 0, 0, 0, 0, 0, 0, 0, 0, 0, 2, 2, 0, 0, 1, 2, 1, 1, 0, 0, 0, 1, 0, 0, 1, 0, 0, 0, 0, 0, 0, 0, 0, 0, 0, 2, 0, 1, 0, 0, 1, 2, 0, 0, 0, 0, 0, 1, 0, 0, 0, 0, 0, 0, 0, 0, 0, 0, 0, 0, 0, 0, 0, 2, 1, 0, 0, 0, 0, 0, 0, 0, 1, 0, 2, 0, 0, 0, 0, 0, 0, 1, 2, 0, 0, 0, 0, 0, 0, 0, 0, 0, 0, 0, 1, 0, 0, 0, 0, 1, 0, 0, 1, 0, 0, 0, 0, 1, 2, 0, 1, 0, 0, 2, 2, 0, 0, 0, 0, 0, 0, 0, 0, 2, 0, 0, 1, 0, 0, 0, 1, 0, 0, 0, 0, 0, 0, 1, 0, 1, 0, 0, 1, 0, 0, 0, 0, 0, 0, 0, 0, 0, 0, 1, 0, 0, 0, 0, 0, 0, 1, 0, 0, 0, 0, 0, 0, 0, 0, 1, 0, 0, 0, 0, 1, 0, 1, 0, 0, 0, 0, 0, 0, 1, 0, 0, 0, 0, 0, 0, 0, 0, 0, 0, 0, 0, 0, 0, 0, 0, 0, 0, 0, 0, 0, 0, 0, 0, 0, 0, 0, 0, 0, 0, 0, 0, 0, 0, 0, 0, 0, 0, 0, 0, 0, 0, 0, 0, 0, 0, 0, 0, 0, 0, 0, 0, 0, 0, 0, 0, 0, 0, 0, 0, 0, 0, 0, 0, 0, 0, 0, 0, 0, 0, 0, 0, 0, 0, 0, 0, 0, 0, 0, 0, 0, 0, 0, 0, 0, 0, 0, 0, 0, 0, 0, 0, 0, 0, 0, 0, 0, 0, 0, 0, 0, 0, 0, 0, 0, 0, 0, 0, 0, 0, 0, 0, 0, 0, 0, 0, 0, 0, 0, 0, 0, 0, 0, 0, 0, 0, 0, 0, 0, 0, 0, 0, 0, 0, 0, 0, 0, 0, 0, 0, 0, 0, 0, 0, 0, 0, 0, 0, 0, 0, 0, 0, 0, 0, 0, 0, 0, 0, 0, 0, 0, 0, 0, 0, 0, 0, 0, 0, 0, 0, 0, 0, 0, 0, 0, 0, 0, 0, 0, 0, 0, 0, 0, 0, 0, 0, 0, 0, 0, 0, 0, 0, 0, 0, 0, 0, 0, 0, 0, 0, 0, 0, 0, 0, 0, 0, 0, 0, 0, 0, 0, 0, 0, 0, 0, 0, 0, 0, 0, 0, 0, 0, 0, 0, 0, 0, 0, 0, 0, 0, 0, 0, 0, 0, 0, 0, 0, 0, 0, 0, 0, 0]\n"
     ]
    }
   ],
   "source": [
    "# Ahora, puedes guardar las predicciones de test o visualizarlas\n",
    "print(\"Test Predictions:\", test_predictions)"
   ]
  },
  {
   "cell_type": "code",
   "execution_count": 50,
   "id": "84aa88e4",
   "metadata": {},
   "outputs": [
    {
     "data": {
      "text/plain": [
       "2160"
      ]
     },
     "execution_count": 50,
     "metadata": {},
     "output_type": "execute_result"
    }
   ],
   "source": [
    "len(test_predictions)"
   ]
  },
  {
   "cell_type": "code",
   "execution_count": 51,
   "id": "18a9f709",
   "metadata": {},
   "outputs": [
    {
     "name": "stdout",
     "output_type": "stream",
     "text": [
      "Las predicciones han sido guardadas en 'test_predictions.csv'.\n"
     ]
    }
   ],
   "source": [
    "df_predictions = pd.DataFrame(test_predictions, columns=[\"Prediction\"])\n",
    "\n",
    "# Guardar el DataFrame en un archivo CSV\n",
    "df_predictions.to_csv('BILSTM_audio.csv', index=False)\n",
    "\n",
    "print(\"Las predicciones han sido guardadas en 'test_predictions.csv'.\")"
   ]
  },
  {
   "cell_type": "code",
   "execution_count": 52,
   "id": "5af5875f",
   "metadata": {},
   "outputs": [
    {
     "data": {
      "text/plain": [
       "Prediction\n",
       "0    1819\n",
       "1     179\n",
       "2     162\n",
       "Name: count, dtype: int64"
      ]
     },
     "execution_count": 52,
     "metadata": {},
     "output_type": "execute_result"
    }
   ],
   "source": [
    "df_predictions[\"Prediction\"].value_counts()"
   ]
  },
  {
   "cell_type": "code",
   "execution_count": null,
   "id": "52f6fc5e",
   "metadata": {},
   "outputs": [],
   "source": []
  }
 ],
 "metadata": {
  "kernelspec": {
   "display_name": "venv",
   "language": "python",
   "name": "python3"
  },
  "language_info": {
   "codemirror_mode": {
    "name": "ipython",
    "version": 3
   },
   "file_extension": ".py",
   "mimetype": "text/x-python",
   "name": "python",
   "nbconvert_exporter": "python",
   "pygments_lexer": "ipython3",
   "version": "3.10.0"
  }
 },
 "nbformat": 4,
 "nbformat_minor": 5
}
