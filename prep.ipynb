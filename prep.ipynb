{
 "cells": [
  {
   "cell_type": "code",
   "execution_count": 1,
   "id": "f32f0a34",
   "metadata": {},
   "outputs": [],
   "source": [
    "import mamkit"
   ]
  },
  {
   "cell_type": "markdown",
   "id": "0257a8af",
   "metadata": {},
   "source": [
    "### Test classification"
   ]
  },
  {
   "cell_type": "code",
   "execution_count": 47,
   "id": "00d653bf",
   "metadata": {},
   "outputs": [],
   "source": [
    "from mamkit.data.datasets import MMUSEDFallacy, InputMode\n",
    "from pathlib import Path\n",
    "\n",
    "def loading_data_example():\n",
    "    base_data_path = Path(\"C:/Users/Usuario\")\n",
    "    loader = MMUSEDFallacy(\n",
    "        task_name='afc',\n",
    "        input_mode=InputMode.TEXT_ONLY,  # or TEXT_AUDIO or AUDIO_ONLY\n",
    "        base_data_path=base_data_path\n",
    "    )\n",
    "    split_info = loader.get_splits('mm-argfallacy-2025')\n",
    "\n",
    "    # Imprimir el contenido de split_info para verificar qué contiene\n",
    "    print(\"Split info: \", split_info)\n",
    "\n",
    "    if split_info:  # Verificar si split_info tiene datos válidos\n",
    "        return split_info[0].train, split_info[0].val, split_info[0].test\n",
    "    else:\n",
    "        print(\"Error: No se encontraron splits.\")\n",
    "        return None, None, None  # Retornar valores nulos si no hay datos"
   ]
  },
  {
   "cell_type": "code",
   "execution_count": 48,
   "id": "8e894daf",
   "metadata": {},
   "outputs": [
    {
     "name": "stderr",
     "output_type": "stream",
     "text": [
      "Mapping audio data...: 100%|██████████| 3388/3388 [00:02<00:00, 1526.80it/s]\n",
      "Building AFC Context: 100%|██████████| 3388/3388 [00:00<00:00, 9032.12it/s]\n"
     ]
    },
    {
     "name": "stdout",
     "output_type": "stream",
     "text": [
      "Split info:  [SplitInfo(train=<mamkit.data.datasets.UnimodalDataset object at 0x000002D881EC77C0>, val=<mamkit.data.datasets.UnimodalDataset object at 0x000002D881EC5E40>, test=<mamkit.data.datasets.UnimodalDataset object at 0x000002D881EC76D0>)]\n",
      "Los datasets fueron cargados correctamente.\n"
     ]
    }
   ],
   "source": [
    "train, val, test = loading_data_example()\n",
    "\n",
    "if train is not None and val is not None and test is not None:\n",
    "    print(\"Los datasets fueron cargados correctamente.\")\n",
    "    # Ahora puedes trabajar con los datasets\n",
    "else:\n",
    "    print(\"Hubo un problema al cargar los datasets.\")\n"
   ]
  },
  {
   "cell_type": "code",
   "execution_count": 49,
   "id": "99fa39cb",
   "metadata": {},
   "outputs": [],
   "source": [
    "import pandas as pd\n",
    "\n",
    "def create_dataframe_from_dataset(dataset):\n",
    "    \"\"\"\n",
    "    Convierte un dataset de mamkit en un DataFrame de pandas.\n",
    "    \n",
    "    Parameters:\n",
    "    - dataset: Un conjunto de datos de mamkit (por ejemplo, train, val, test)\n",
    "    \n",
    "    Returns:\n",
    "    - df: DataFrame con las columnas 'Texto', 'Etiqueta', 'Prueba'\n",
    "    \"\"\"\n",
    "    # Extraer el texto, la etiqueta y la prueba de todas las muestras\n",
    "    data = [(sample[0], sample[1]) for sample in dataset]\n",
    "    \n",
    "    # Crear un DataFrame con las columnas 'Texto', 'Etiqueta' y 'Prueba'\n",
    "    df = pd.DataFrame(data, columns=[\"Texto\", \"Etiqueta\"])\n",
    "    \n",
    "    return df"
   ]
  },
  {
   "cell_type": "code",
   "execution_count": 50,
   "id": "64d93492",
   "metadata": {},
   "outputs": [],
   "source": [
    "# Convertir train, val y test en DataFrames\n",
    "df_train = create_dataframe_from_dataset(train)\n",
    "df_val = create_dataframe_from_dataset(val)\n",
    "df_test = create_dataframe_from_dataset(test)"
   ]
  },
  {
   "cell_type": "code",
   "execution_count": 51,
   "id": "edb38494",
   "metadata": {},
   "outputs": [
    {
     "name": "stdout",
     "output_type": "stream",
     "text": [
      "   Etiqueta  Cantidad\n",
      "0         0       757\n",
      "1         1       190\n",
      "2         2       145\n",
      "3         3        56\n",
      "4         4        46\n",
      "5         5        34\n"
     ]
    }
   ],
   "source": [
    "\n",
    "# Agrupar por la columna 'Etiqueta' y contar el número de muestras en cada grupo\n",
    "grouped_by_label = df_train.groupby(\"Etiqueta\").size().reset_index(name='Cantidad')\n",
    "\n",
    "# Mostrar el resultado\n",
    "print(grouped_by_label)"
   ]
  },
  {
   "cell_type": "code",
   "execution_count": 52,
   "id": "f74ef62c",
   "metadata": {},
   "outputs": [
    {
     "name": "stdout",
     "output_type": "stream",
     "text": [
      "Empty DataFrame\n",
      "Columns: [Etiqueta, Cantidad]\n",
      "Index: []\n"
     ]
    }
   ],
   "source": [
    "\n",
    "# Agrupar por la columna 'Etiqueta' y contar el número de muestras en cada grupo\n",
    "grouped_by_label = df_val.groupby(\"Etiqueta\").size().reset_index(name='Cantidad')\n",
    "\n",
    "# Mostrar el resultado\n",
    "print(grouped_by_label)\n"
   ]
  },
  {
   "cell_type": "code",
   "execution_count": 53,
   "id": "4ac64d46",
   "metadata": {},
   "outputs": [
    {
     "data": {
      "text/html": [
       "<div>\n",
       "<style scoped>\n",
       "    .dataframe tbody tr th:only-of-type {\n",
       "        vertical-align: middle;\n",
       "    }\n",
       "\n",
       "    .dataframe tbody tr th {\n",
       "        vertical-align: top;\n",
       "    }\n",
       "\n",
       "    .dataframe thead th {\n",
       "        text-align: right;\n",
       "    }\n",
       "</style>\n",
       "<table border=\"1\" class=\"dataframe\">\n",
       "  <thead>\n",
       "    <tr style=\"text-align: right;\">\n",
       "      <th></th>\n",
       "      <th>Texto</th>\n",
       "      <th>Etiqueta</th>\n",
       "    </tr>\n",
       "  </thead>\n",
       "  <tbody>\n",
       "    <tr>\n",
       "      <th>0</th>\n",
       "      <td>We got to take a look at what I was left when ...</td>\n",
       "      <td>None</td>\n",
       "    </tr>\n",
       "    <tr>\n",
       "      <th>1</th>\n",
       "      <td>We had an economy that was in free fall.</td>\n",
       "      <td>None</td>\n",
       "    </tr>\n",
       "    <tr>\n",
       "      <th>2</th>\n",
       "      <td>The pandemic was so badly handled.</td>\n",
       "      <td>None</td>\n",
       "    </tr>\n",
       "    <tr>\n",
       "      <th>3</th>\n",
       "      <td>Many people were dying.</td>\n",
       "      <td>None</td>\n",
       "    </tr>\n",
       "    <tr>\n",
       "      <th>4</th>\n",
       "      <td>All he said was, it's not that serious.</td>\n",
       "      <td>None</td>\n",
       "    </tr>\n",
       "    <tr>\n",
       "      <th>...</th>\n",
       "      <td>...</td>\n",
       "      <td>...</td>\n",
       "    </tr>\n",
       "    <tr>\n",
       "      <th>2155</th>\n",
       "      <td>She gave a lot of it away to the Taliban.</td>\n",
       "      <td>None</td>\n",
       "    </tr>\n",
       "    <tr>\n",
       "      <th>2156</th>\n",
       "      <td>She gave it to Afghanistan.</td>\n",
       "      <td>None</td>\n",
       "    </tr>\n",
       "    <tr>\n",
       "      <th>2157</th>\n",
       "      <td>What these people have done to our country and...</td>\n",
       "      <td>None</td>\n",
       "    </tr>\n",
       "    <tr>\n",
       "      <th>2158</th>\n",
       "      <td>Many of them are criminals and they're destroy...</td>\n",
       "      <td>None</td>\n",
       "    </tr>\n",
       "    <tr>\n",
       "      <th>2159</th>\n",
       "      <td>The worst president, the worst vice president ...</td>\n",
       "      <td>None</td>\n",
       "    </tr>\n",
       "  </tbody>\n",
       "</table>\n",
       "<p>2160 rows × 2 columns</p>\n",
       "</div>"
      ],
      "text/plain": [
       "                                                  Texto Etiqueta\n",
       "0     We got to take a look at what I was left when ...     None\n",
       "1              We had an economy that was in free fall.     None\n",
       "2                    The pandemic was so badly handled.     None\n",
       "3                               Many people were dying.     None\n",
       "4               All he said was, it's not that serious.     None\n",
       "...                                                 ...      ...\n",
       "2155          She gave a lot of it away to the Taliban.     None\n",
       "2156                        She gave it to Afghanistan.     None\n",
       "2157  What these people have done to our country and...     None\n",
       "2158  Many of them are criminals and they're destroy...     None\n",
       "2159  The worst president, the worst vice president ...     None\n",
       "\n",
       "[2160 rows x 2 columns]"
      ]
     },
     "execution_count": 53,
     "metadata": {},
     "output_type": "execute_result"
    }
   ],
   "source": [
    "df_test"
   ]
  },
  {
   "cell_type": "code",
   "execution_count": 54,
   "id": "eb32379c",
   "metadata": {},
   "outputs": [
    {
     "name": "stdout",
     "output_type": "stream",
     "text": [
      "Archivos CSV guardados: 'test_afc.csv' y 'train_afc.csv'\n"
     ]
    }
   ],
   "source": [
    "df_test.to_csv('test_afc.csv', index=False)\n",
    "df_train.to_csv('train_afc.csv', index=False)\n",
    "\n",
    "print(\"Archivos CSV guardados: 'test_afc.csv' y 'train_afc.csv'\")"
   ]
  },
  {
   "cell_type": "markdown",
   "id": "24a59911",
   "metadata": {},
   "source": [
    "## Test detection"
   ]
  },
  {
   "cell_type": "code",
   "execution_count": 19,
   "id": "0655b6b1",
   "metadata": {},
   "outputs": [],
   "source": [
    "def loading_data_example_afd():\n",
    "    base_data_path = Path(\"C:/Users/Usuario/OneDrive - UPV\")  # o tu ruta correcta\n",
    "    loader = MMUSEDFallacy(\n",
    "        task_name='afd',\n",
    "        input_mode=InputMode.TEXT_ONLY,\n",
    "        base_data_path=base_data_path\n",
    "    )\n",
    "\n",
    "    split_info = loader.get_splits('mm-argfallacy-2025')\n",
    "\n",
    "    # Imprimir el contenido de split_info para verificar qué contiene\n",
    "    print(\"Split info: \", split_info)\n",
    "\n",
    "    if split_info:  # Verificar si split_info tiene datos válidos\n",
    "        return split_info[0].train, split_info[0].val, split_info[0].test\n",
    "    else:\n",
    "        print(\"Error: No se encontraron splits.\")\n",
    "        return None, None, None  # Retornar valores nulos si no hay datos"
   ]
  },
  {
   "cell_type": "code",
   "execution_count": 20,
   "id": "494e0a56",
   "metadata": {},
   "outputs": [
    {
     "name": "stderr",
     "output_type": "stream",
     "text": [
      "Mapping audio data...: 100%|██████████| 3388/3388 [00:02<00:00, 1272.17it/s]\n",
      "Building AFD data...: 100%|██████████| 37/37 [00:09<00:00,  3.73it/s]"
     ]
    },
    {
     "name": "stdout",
     "output_type": "stream",
     "text": [
      "Split info:  [SplitInfo(train=<mamkit.data.datasets.UnimodalDataset object at 0x000002D87D470C10>, val=<mamkit.data.datasets.UnimodalDataset object at 0x000002D87D47F8E0>, test=<mamkit.data.datasets.UnimodalDataset object at 0x000002D87D47E8F0>)]\n",
      "Los datasets fueron cargados correctamente.\n"
     ]
    },
    {
     "name": "stderr",
     "output_type": "stream",
     "text": [
      "\n"
     ]
    }
   ],
   "source": [
    "train, val, test = loading_data_example_afd()\n",
    "\n",
    "if train is not None and val is not None and test is not None:\n",
    "    print(\"Los datasets fueron cargados correctamente.\")\n",
    "    # Ahora puedes trabajar con los datasets\n",
    "else:\n",
    "    print(\"Hubo un problema al cargar los datasets.\")\n"
   ]
  },
  {
   "cell_type": "code",
   "execution_count": 39,
   "id": "907474c6",
   "metadata": {},
   "outputs": [],
   "source": [
    "import pandas as pd\n",
    "\n",
    "def create_dataframe_from_dataset(dataset):\n",
    "    \"\"\"\n",
    "    Convierte un dataset de mamkit en un DataFrame de pandas.\n",
    "    \n",
    "    Parameters:\n",
    "    - dataset: Un conjunto de datos de mamkit (por ejemplo, train, val, test)\n",
    "    \n",
    "    Returns:\n",
    "    - df: DataFrame con las columnas 'Texto', 'Etiqueta', 'Prueba'\n",
    "    \"\"\"\n",
    "    # Extraer el texto, la etiqueta y la prueba de todas las muestras\n",
    "    data = [(sample[0], sample[1]) for sample in dataset]\n",
    "    \n",
    "    # Crear un DataFrame con las columnas 'Texto', 'Etiqueta' y 'Prueba'\n",
    "    df = pd.DataFrame(data, columns=[\"Texto\", \"Etiqueta\"])\n",
    "    \n",
    "    return df\n"
   ]
  },
  {
   "cell_type": "code",
   "execution_count": 40,
   "id": "12b82a28",
   "metadata": {},
   "outputs": [],
   "source": [
    "# Convertir train, val y test en DataFrames\n",
    "df_train = create_dataframe_from_dataset(train)\n",
    "df_val = create_dataframe_from_dataset(val)\n",
    "df_test = create_dataframe_from_dataset(test)"
   ]
  },
  {
   "cell_type": "code",
   "execution_count": 41,
   "id": "ba713269",
   "metadata": {},
   "outputs": [
    {
     "name": "stdout",
     "output_type": "stream",
     "text": [
      "   Etiqueta  Cantidad\n",
      "0       0.0     15550\n",
      "1       1.0      1568\n"
     ]
    }
   ],
   "source": [
    "# Agrupar por la columna 'Etiqueta' y contar el número de muestras en cada grupo\n",
    "grouped_by_label = df_train.groupby(\"Etiqueta\").size().reset_index(name='Cantidad')\n",
    "\n",
    "# Mostrar el resultado\n",
    "print(grouped_by_label)\n"
   ]
  },
  {
   "cell_type": "code",
   "execution_count": 42,
   "id": "f7f9154b",
   "metadata": {},
   "outputs": [
    {
     "name": "stdout",
     "output_type": "stream",
     "text": [
      "Empty DataFrame\n",
      "Columns: [Etiqueta, Cantidad]\n",
      "Index: []\n"
     ]
    }
   ],
   "source": [
    "# Agrupar por la columna 'Etiqueta' y contar el número de muestras en cada grupo\n",
    "grouped_by_label = df_val.groupby(\"Etiqueta\").size().reset_index(name='Cantidad')\n",
    "\n",
    "# Mostrar el resultado\n",
    "print(grouped_by_label)"
   ]
  },
  {
   "cell_type": "code",
   "execution_count": 43,
   "id": "19e5d148",
   "metadata": {},
   "outputs": [
    {
     "data": {
      "text/html": [
       "<div>\n",
       "<style scoped>\n",
       "    .dataframe tbody tr th:only-of-type {\n",
       "        vertical-align: middle;\n",
       "    }\n",
       "\n",
       "    .dataframe tbody tr th {\n",
       "        vertical-align: top;\n",
       "    }\n",
       "\n",
       "    .dataframe thead th {\n",
       "        text-align: right;\n",
       "    }\n",
       "</style>\n",
       "<table border=\"1\" class=\"dataframe\">\n",
       "  <thead>\n",
       "    <tr style=\"text-align: right;\">\n",
       "      <th></th>\n",
       "      <th>Texto</th>\n",
       "      <th>Etiqueta</th>\n",
       "    </tr>\n",
       "  </thead>\n",
       "  <tbody>\n",
       "    <tr>\n",
       "      <th>0</th>\n",
       "      <td>We got to take a look at what I was left when ...</td>\n",
       "      <td>NaN</td>\n",
       "    </tr>\n",
       "    <tr>\n",
       "      <th>1</th>\n",
       "      <td>We had an economy that was in free fall.</td>\n",
       "      <td>NaN</td>\n",
       "    </tr>\n",
       "    <tr>\n",
       "      <th>2</th>\n",
       "      <td>The pandemic was so badly handled.</td>\n",
       "      <td>NaN</td>\n",
       "    </tr>\n",
       "    <tr>\n",
       "      <th>3</th>\n",
       "      <td>Many people were dying.</td>\n",
       "      <td>NaN</td>\n",
       "    </tr>\n",
       "    <tr>\n",
       "      <th>4</th>\n",
       "      <td>All he said was, it's not that serious.</td>\n",
       "      <td>NaN</td>\n",
       "    </tr>\n",
       "    <tr>\n",
       "      <th>...</th>\n",
       "      <td>...</td>\n",
       "      <td>...</td>\n",
       "    </tr>\n",
       "    <tr>\n",
       "      <th>2170</th>\n",
       "      <td>She gave a lot of it away to the Taliban.</td>\n",
       "      <td>NaN</td>\n",
       "    </tr>\n",
       "    <tr>\n",
       "      <th>2171</th>\n",
       "      <td>She gave it to Afghanistan.</td>\n",
       "      <td>NaN</td>\n",
       "    </tr>\n",
       "    <tr>\n",
       "      <th>2172</th>\n",
       "      <td>What these people have done to our country and...</td>\n",
       "      <td>NaN</td>\n",
       "    </tr>\n",
       "    <tr>\n",
       "      <th>2173</th>\n",
       "      <td>Many of them are criminals and they're destroy...</td>\n",
       "      <td>NaN</td>\n",
       "    </tr>\n",
       "    <tr>\n",
       "      <th>2174</th>\n",
       "      <td>The worst president, the worst vice president ...</td>\n",
       "      <td>NaN</td>\n",
       "    </tr>\n",
       "  </tbody>\n",
       "</table>\n",
       "<p>2175 rows × 2 columns</p>\n",
       "</div>"
      ],
      "text/plain": [
       "                                                  Texto  Etiqueta\n",
       "0     We got to take a look at what I was left when ...       NaN\n",
       "1              We had an economy that was in free fall.       NaN\n",
       "2                    The pandemic was so badly handled.       NaN\n",
       "3                               Many people were dying.       NaN\n",
       "4               All he said was, it's not that serious.       NaN\n",
       "...                                                 ...       ...\n",
       "2170          She gave a lot of it away to the Taliban.       NaN\n",
       "2171                        She gave it to Afghanistan.       NaN\n",
       "2172  What these people have done to our country and...       NaN\n",
       "2173  Many of them are criminals and they're destroy...       NaN\n",
       "2174  The worst president, the worst vice president ...       NaN\n",
       "\n",
       "[2175 rows x 2 columns]"
      ]
     },
     "execution_count": 43,
     "metadata": {},
     "output_type": "execute_result"
    }
   ],
   "source": [
    "df_test"
   ]
  },
  {
   "cell_type": "code",
   "execution_count": 44,
   "id": "6c59b2fe",
   "metadata": {},
   "outputs": [
    {
     "name": "stdout",
     "output_type": "stream",
     "text": [
      "Archivos CSV guardados: 'test_afd.csv' y 'train_afd.csv'\n"
     ]
    }
   ],
   "source": [
    "df_test.to_csv('test_afd.csv', index=False)\n",
    "df_train.to_csv('train_afd.csv', index=False)\n",
    "\n",
    "print(\"Archivos CSV guardados: 'test_afd.csv' y 'train_afd.csv'\")"
   ]
  },
  {
   "cell_type": "code",
   "execution_count": null,
   "id": "575b705e",
   "metadata": {},
   "outputs": [],
   "source": []
  }
 ],
 "metadata": {
  "kernelspec": {
   "display_name": "venv2",
   "language": "python",
   "name": "python3"
  },
  "language_info": {
   "codemirror_mode": {
    "name": "ipython",
    "version": 3
   },
   "file_extension": ".py",
   "mimetype": "text/x-python",
   "name": "python",
   "nbconvert_exporter": "python",
   "pygments_lexer": "ipython3",
   "version": "3.10.0"
  }
 },
 "nbformat": 4,
 "nbformat_minor": 5
}
