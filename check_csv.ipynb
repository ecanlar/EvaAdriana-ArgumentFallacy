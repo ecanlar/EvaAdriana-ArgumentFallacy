{
 "cells": [
  {
   "cell_type": "code",
   "execution_count": 1,
   "id": "2e821199",
   "metadata": {},
   "outputs": [],
   "source": [
    "import pandas as pd"
   ]
  },
  {
   "cell_type": "markdown",
   "id": "5213ccd1",
   "metadata": {},
   "source": [
    "### AFD TEXT ONLY"
   ]
  },
  {
   "cell_type": "code",
   "execution_count": 19,
   "id": "141c6446",
   "metadata": {},
   "outputs": [
    {
     "name": "stdout",
     "output_type": "stream",
     "text": [
      "Antes:                                                Texto  labels  predicted_label\n",
      "0  We got to take a look at what I was left when ...     NaN                0\n",
      "1           We had an economy that was in free fall.     NaN                0\n",
      "2                 The pandemic was so badly handled.     NaN                0\n",
      "3                            Many people were dying.     NaN                1\n",
      "4            All he said was, it's not that serious.     NaN                0\n",
      "Después:    label\n",
      "0      0\n",
      "1      0\n",
      "2      0\n",
      "3      1\n",
      "4      0\n"
     ]
    }
   ],
   "source": [
    "df = pd.read_csv('afd_roberta-large_text.csv')\n",
    "\n",
    "print('Antes:', df.head())\n",
    "\n",
    "# Renombrar la columna\n",
    "df.rename(columns={\"predicted_label\": \"label\"}, inplace=True)\n",
    "\n",
    "# Eliminar las columnas \"Ruta\" y \"Etiqueta\"\n",
    "df.drop(columns=[\"Texto\", \"labels\"], inplace=True)\n",
    "\n",
    "print('Después:', df.head())\n",
    "\n",
    "df.to_csv('final/AFD_text-only.csv', index=False)"
   ]
  },
  {
   "cell_type": "markdown",
   "id": "6233da12",
   "metadata": {},
   "source": [
    "### AFC TEXT ONLY"
   ]
  },
  {
   "cell_type": "code",
   "execution_count": 16,
   "id": "8d6ceb4f",
   "metadata": {},
   "outputs": [
    {
     "name": "stdout",
     "output_type": "stream",
     "text": [
      "Antes:                                                Texto  labels  predicted_label\n",
      "0  We got to take a look at what I was left when ...     NaN                0\n",
      "1           We had an economy that was in free fall.     NaN                0\n",
      "2                 The pandemic was so badly handled.     NaN                0\n",
      "3                            Many people were dying.     NaN                0\n",
      "4            All he said was, it's not that serious.     NaN                2\n",
      "Después:    label\n",
      "0      0\n",
      "1      0\n",
      "2      0\n",
      "3      0\n",
      "4      2\n"
     ]
    }
   ],
   "source": [
    "df = pd.read_csv('afc_roberta.csv')\n",
    "\n",
    "print('Antes:', df.head())\n",
    "\n",
    "# Renombrar la columna\n",
    "df.rename(columns={\"predicted_label\": \"label\"}, inplace=True)\n",
    "\n",
    "# Eliminar las columnas \"Ruta\" y \"Etiqueta\"\n",
    "df.drop(columns=[\"Texto\", \"labels\"], inplace=True)\n",
    "\n",
    "print('Después:', df.head())\n",
    "\n",
    "df.to_csv('final/AFC_text-only.csv', index=False)"
   ]
  },
  {
   "cell_type": "markdown",
   "id": "49a81284",
   "metadata": {},
   "source": [
    "### AFD AUDIO ONLY"
   ]
  },
  {
   "cell_type": "code",
   "execution_count": 12,
   "id": "3c04a7e7",
   "metadata": {},
   "outputs": [
    {
     "name": "stdout",
     "output_type": "stream",
     "text": [
      "Antes:                                                 Ruta  Etiqueta  predictions\n",
      "0  /kaggle/input/datosss/MMUSED-fallacy/audio_cli...       NaN            1\n",
      "1  /kaggle/input/datosss/MMUSED-fallacy/audio_cli...       NaN            1\n",
      "2  /kaggle/input/datosss/MMUSED-fallacy/audio_cli...       NaN            1\n",
      "3  /kaggle/input/datosss/MMUSED-fallacy/audio_cli...       NaN            1\n",
      "4  /kaggle/input/datosss/MMUSED-fallacy/audio_cli...       NaN            1\n",
      "Después:    label\n",
      "0      1\n",
      "1      1\n",
      "2      1\n",
      "3      1\n",
      "4      1\n"
     ]
    }
   ],
   "source": [
    "df = pd.read_csv('afd_wav2vec_audio.csv')\n",
    "\n",
    "print('Antes:', df.head())\n",
    "\n",
    "# Renombrar la columna\n",
    "df.rename(columns={\"predictions\": \"label\"}, inplace=True)\n",
    "\n",
    "# Eliminar las columnas \"Ruta\" y \"Etiqueta\"\n",
    "df.drop(columns=[\"Ruta\", \"Etiqueta\"], inplace=True)\n",
    "\n",
    "print('Después:', df.head())\n",
    "\n",
    "df.to_csv('final/AFD_audio-only.csv', index=False)"
   ]
  },
  {
   "cell_type": "markdown",
   "id": "222bc185",
   "metadata": {},
   "source": [
    "### AFC AUDIO ONLY"
   ]
  },
  {
   "cell_type": "code",
   "execution_count": 9,
   "id": "ee1b9828",
   "metadata": {},
   "outputs": [
    {
     "name": "stdout",
     "output_type": "stream",
     "text": [
      "Antes:    Prediction\n",
      "0           0\n",
      "1           0\n",
      "2           0\n",
      "3           0\n",
      "4           0\n",
      "Después:    label\n",
      "0      0\n",
      "1      0\n",
      "2      0\n",
      "3      0\n",
      "4      0\n"
     ]
    }
   ],
   "source": [
    "\n",
    "df = pd.read_csv('afc_BILSTM_audio.csv')\n",
    "\n",
    "print('Antes:', df.head())\n",
    "\n",
    "df.rename(columns={\"Prediction\": \"label\"}, inplace=True)\n",
    "\n",
    "print('Después:', df.head())\n",
    "\n",
    "df.to_csv('final/AFC_audio-only.csv', index=False)\n"
   ]
  },
  {
   "cell_type": "markdown",
   "id": "5d15e4e9",
   "metadata": {},
   "source": [
    "### AFD TEXT AUDIO"
   ]
  },
  {
   "cell_type": "markdown",
   "id": "5cceb4ce",
   "metadata": {},
   "source": [
    "### AFC TEXT AUDIO"
   ]
  },
  {
   "cell_type": "markdown",
   "id": "01c8322e",
   "metadata": {},
   "source": []
  }
 ],
 "metadata": {
  "kernelspec": {
   "display_name": "base",
   "language": "python",
   "name": "python3"
  },
  "language_info": {
   "codemirror_mode": {
    "name": "ipython",
    "version": 3
   },
   "file_extension": ".py",
   "mimetype": "text/x-python",
   "name": "python",
   "nbconvert_exporter": "python",
   "pygments_lexer": "ipython3",
   "version": "3.12.7"
  }
 },
 "nbformat": 4,
 "nbformat_minor": 5
}
